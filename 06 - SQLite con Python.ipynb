{
 "cells": [
  {
   "cell_type": "markdown",
   "metadata": {},
   "source": [
    "# SQLite3 con Python\n",
    "![](https://encrypted-tbn0.gstatic.com/images?q=tbn:ANd9GcReg69x-3oq5mXsx8JiUtq27ycIVHu32EaId2saTrschQ&s)\n",
    "\n",
    "SQLite es una librería escrita en C, que implementa un motor de base de datos SQL completo, pequeño, rápido, autocontenido y de alta confiabilidad. SQLite es el motor de base de datos más utilizado a nivel mundial. SQLite esta disponible en todos los teléfonos móviles del mundo y muchas computadoras y se encuentra embebido en incontables aplicaciones de uso frecuente.\n",
    "\n",
    "---"
   ]
  },
  {
   "cell_type": "markdown",
   "metadata": {},
   "source": [
    "## Pasos para trabajar con una base de datos\n",
    "1. Conectarse a una base de datos\n",
    "2. Crear un cursor\n",
    "3. Realizar alguna acción sobre la base de datos\n",
    "   1. Crear una tabla (CREATE)\n",
    "   1. Borrar una tabla (DROP)\n",
    "   1. Insertar un registro (INSERT)\n",
    "   1. Consultar información (SELECT, FROM, WHERE, *)\n",
    "   1. Modificar información (UPDATE)\n",
    "   1. Eliminar un registro (DELETE)\n",
    "   1. Conformar la acción anterior (COMMIT)\n",
    "   1. Deshacer las operaciones (ROLLBACK)\n",
    "4. Cerrar la conexión con la base datos (CLOSE)\n",
    "\n",
    "El motor de dabe de datos de SQLite3 esta incluído en todas las distribuciones de Python. La ventaja de SQLite3 es que es una base de datos basada en archivos, por lo que no existe un servidor de base de datos, sino solo un archivo que contiene toda la dB (sigla estándar de *database*). Se puede acceder también a realizar operaciones en la base de datos desde la consola de comandos con la instrucción:\n",
    "\n",
    "    sqlite3\n",
    "    \n",
    "Esto retornará el prompt `sqlite>` donde se podrán introducír instrucciones SQL (solo hay que recordar colocar `;` al final de cada instrucción). Para conectarse a un archivo de base de datos en este modo, hay que ejecutar:\n",
    "\n",
    "    sqlite> .open FILENAME\n",
    "    \n",
    "Para salir:\n",
    "\n",
    "    sqlite> .quit"
   ]
  },
  {
   "cell_type": "code",
   "execution_count": 6,
   "metadata": {},
   "outputs": [],
   "source": [
    "import sqlite3"
   ]
  },
  {
   "cell_type": "markdown",
   "metadata": {},
   "source": [
    "### Crear una tabla\n",
    "Para crear una tabla en un archivo de base de datos SQLite3, es necesario declarar el archivo y especificar el *esquema* de la tabla con la instrucción SQL `CREATE`; es decir, los nombres de las columnas de la tabla, así como los tipos de datos que contendrán. Estos tipos pueden ser:\n",
    "\n",
    "* Enteros (INTEGER)\n",
    "* Reales (REAL)\n",
    "* Textos (TEXT)\n",
    "* Vacio (NULL)\n",
    "* Datos binarios grandes (BLOB)\n",
    "\n",
    "El tipo de datos BOOLEAN no existe, y se almacena como INTEGER, ya sea 0 o 1.\n",
    "\n",
    "Tampoco existe un tipo de datos para almacenar información de tiempo, por lo que se requerirá TEXT o INTEGER (para almacenar UNIX time)."
   ]
  },
  {
   "cell_type": "code",
   "execution_count": 24,
   "metadata": {},
   "outputs": [],
   "source": [
    "# Se abre el archivo database.db que contiene la base datos\n",
    "# Si el archivo no existe se creara un archivo nuevo\n",
    "conn = sqlite3.connect(\"database.db\")\n",
    "\n",
    "# Se crea un cursor para poder acceder a la informacion\n",
    "cur = conn.cursor()\n",
    "\n",
    "# Se ejecuta una accion sobre la base de datos (opcional IF NOT EXISTS)\n",
    "cur.execute(\"\"\"CREATE TABLE IF NOT EXISTS pacientes (id INTEGER PRIMARY KEY,\n",
    "                                                    nombre TEXT NOT NULL, \n",
    "                                                    peso INTEGER NOT NULL,\n",
    "                                                    altura REAL NOT NULL)\"\"\")\n",
    "\n",
    "# Se confirma la accion anterior\n",
    "conn.commit()\n",
    "\n",
    "# Se cierra la conexion con la base de datos\n",
    "conn.close()"
   ]
  },
  {
   "cell_type": "markdown",
   "metadata": {},
   "source": [
    "Si se quiere crear una tabla en la memoria de trabajo se puede utilizar la instrucción:\n",
    "\n",
    "    conn = sqlite3.connect(\":memory:\")\n",
    "    \n",
    "Si se quiere trabajar con esta tabla volatil, recuerde no ejecutar `conn.close()` ya que estará cerrando la tabla y esto la eliminará de la memoria RAM."
   ]
  },
  {
   "cell_type": "markdown",
   "metadata": {},
   "source": [
    "### Eliminar una tabla\n",
    "Para eliminar una tabla es necesario conectarse al archivo de base de datos y eliminar la tabla con la instrucción SQL `DROP`:"
   ]
  },
  {
   "cell_type": "code",
   "execution_count": 23,
   "metadata": {},
   "outputs": [],
   "source": [
    "# Se abre el archivo database.db que contiene la base datos\n",
    "# Si el archivo no existe se creara un archivo nuevo\n",
    "conn = sqlite3.connect(\"database.db\")\n",
    "\n",
    "# Se crea un cursor para poder acceder a la informacion\n",
    "cur = conn.cursor()\n",
    "\n",
    "# Se ejecuta una accion sobre la base de datos\n",
    "# Un bloque try captura la excepcion en caso la tabla no exista\n",
    "try:\n",
    "    cur.execute(\"DROP TABLE pacientes\")\n",
    "except:\n",
    "    print(\"ERROR: La tabla no existe\")\n",
    "\n",
    "# Se cierra la conexion con la base de datos\n",
    "conn.close()"
   ]
  },
  {
   "cell_type": "markdown",
   "metadata": {},
   "source": [
    "### Insertar informacion en una tabla\n",
    "Para insertar información en una tabla se requiere llamar a la instrucción SQL `INSERT` con los datos organizados según la estructura de la tabla. Si se ha definido un `PRIMARY KEY`, este puede obviarse y el motor de la base de datos creará un valor para este campo único y consecutivo (incremental)"
   ]
  },
  {
   "cell_type": "code",
   "execution_count": 25,
   "metadata": {},
   "outputs": [],
   "source": [
    "# Se inserta un valor a la tabla\n",
    "conn = sqlite3.connect(\"database.db\")\n",
    "\n",
    "# Se crea un cursor para poder acceder a la informacion\n",
    "cur = conn.cursor()\n",
    "\n",
    "# Se ejecuta una accion sobre la base de datos\n",
    "cur.execute(\"INSERT INTO pacientes (nombre, peso, altura) VALUES (?, ?, ?)\", (\"Elvio Lado\", 80, 1.72))\n",
    "\n",
    "# Se confirma la accion anterior\n",
    "conn.commit()\n",
    "\n",
    "# Se cierra la conexion con la base de datos\n",
    "conn.close()"
   ]
  },
  {
   "cell_type": "code",
   "execution_count": 29,
   "metadata": {},
   "outputs": [],
   "source": [
    "# Se insertan multiples valores en una tabla segun los datos contenidos en una lista de tuplas.\n",
    "conn = sqlite3.connect(\"database.db\")\n",
    "\n",
    "# Se crea un cursor para poder acceder a la informacion\n",
    "cur = conn.cursor()\n",
    "\n",
    "personas = [(\"Elsa Payo\", 54, 1.65),\n",
    "            (\"Armando Paredes\", 88, 1.75),\n",
    "            (\"Susana Oria\", 48, 1.60),\n",
    "            (\"Esteban Dido\", 110, 1.68),\n",
    "           ]\n",
    "\n",
    "cur.executemany(\"INSERT INTO pacientes (nombre, peso, altura) VALUES (?, ?, ?)\", personas)\n",
    "\n",
    "# Se confirma la accion anterior\n",
    "conn.commit()\n",
    "\n",
    "# Se cierra la conexion con la base de datos\n",
    "conn.close()"
   ]
  },
  {
   "cell_type": "markdown",
   "metadata": {},
   "source": [
    "### Consultar una tabla\n",
    "Para consultar una tabla, es necesario crear una consulta SQL con la instrucción `SELECT`:"
   ]
  },
  {
   "cell_type": "code",
   "execution_count": 46,
   "metadata": {},
   "outputs": [
    {
     "name": "stdout",
     "output_type": "stream",
     "text": [
      "<class 'tuple'>\n",
      "(1, 'Elvio Lado', 80, 1.72)\n"
     ]
    }
   ],
   "source": [
    "conn = sqlite3.connect(\"database.db\")\n",
    "\n",
    "# Se crea un cursor para poder acceder a la informacion\n",
    "cur = conn.cursor()\n",
    "\n",
    "# Se ejecuta una accion la base de datos\n",
    "# SELECT y fetchone() sobre el cursor\n",
    "cur.execute(\"SELECT * FROM pacientes\")\n",
    "data = cur.fetchone()\n",
    "\n",
    "# Se imprime el tipo de datos retornado y el valor\n",
    "print(type(data))\n",
    "print(data)"
   ]
  },
  {
   "cell_type": "code",
   "execution_count": 47,
   "metadata": {},
   "outputs": [
    {
     "name": "stdout",
     "output_type": "stream",
     "text": [
      "<class 'list'>\n",
      "[(1, 'Elvio Lado', 80, 1.72), (2, 'Elsa Payo', 54, 1.65), (3, 'Armando Paredes', 88, 1.75), (4, 'Susana Oria', 48, 1.6), (5, 'Estaban Dido', 110, 1.68)]\n"
     ]
    }
   ],
   "source": [
    "# Se ejecuta ua acción sobre la base de datos\n",
    "# SELECT y fetchall() sobre el cursor\n",
    "cur.execute(\"SELECT * FROM pacientes\")\n",
    "data = cur.fetchall()\n",
    "\n",
    "# Se imprime el tipo de datos retornado y el valor\n",
    "print(type(data))\n",
    "print(data)"
   ]
  },
  {
   "cell_type": "code",
   "execution_count": 48,
   "metadata": {},
   "outputs": [
    {
     "name": "stdout",
     "output_type": "stream",
     "text": [
      "ID: 1   Nombre: Elvio Lado       Peso:  80 kg      Altura:1.72 m\n",
      "ID: 2   Nombre: Elsa Payo        Peso:  54 kg      Altura:1.65 m\n",
      "ID: 3   Nombre: Armando Paredes  Peso:  88 kg      Altura:1.75 m\n",
      "ID: 4   Nombre: Susana Oria      Peso:  48 kg      Altura:1.60 m\n",
      "ID: 5   Nombre: Estaban Dido     Peso: 110 kg      Altura:1.68 m\n"
     ]
    }
   ],
   "source": [
    "# SELECT y cursor como iterable\n",
    "cur.execute(\"SELECT * FROM pacientes\")\n",
    "for data in cur:\n",
    "    print(\"ID: {:<3} Nombre: {:16} Peso: {:3} kg      Altura:{:.2f} m\".format(*data))\n",
    "\n",
    "# Se cierra la conexion con la base de datos\n",
    "conn.close()"
   ]
  },
  {
   "cell_type": "markdown",
   "metadata": {},
   "source": [
    "### Consultar una tabla con parametros de consulta\n",
    "La instrucción SQL `SELECT` se puede combinar con otras instrucción SQL para obtener consultas complejas:"
   ]
  },
  {
   "cell_type": "code",
   "execution_count": 49,
   "metadata": {},
   "outputs": [
    {
     "name": "stdout",
     "output_type": "stream",
     "text": [
      "[(2, 'Elsa Payo', 54, 1.65)]\n",
      "[('Elvio Lado', 80, 1.72), ('Elsa Payo', 54, 1.65)]\n",
      "[(1, 'Elvio Lado', 80, 1.72), (3, 'Armando Paredes', 88, 1.75)]\n"
     ]
    }
   ],
   "source": [
    "conn = sqlite3.connect(\"database.db\")\n",
    "\n",
    "# Se crea un cursor para poder acceder a la informacion\n",
    "cur = conn.cursor()\n",
    "\n",
    "# Se ejecuta una accion sobre la base de datos\n",
    "# Consulta con condiciones\n",
    "cur.execute(\"SELECT * FROM pacientes WHERE peso < 60 AND altura > 1.60\")\n",
    "data = cur.fetchall()\n",
    "print(data)\n",
    "\n",
    "# Uso de LIKE para encontrar conicidencias\n",
    "cur.execute(\"SELECT nombre, peso, altura FROM pacientes WHERE nombre LIKE '%el%'\")\n",
    "data = cur.fetchall()\n",
    "print(data)\n",
    "\n",
    "# Uso del comodin \"?\" para incluir campos externos\n",
    "cur.execute(\"SELECT * FROM pacientes WHERE altura > ?\", (1.70,))\n",
    "data = cur.fetchall()\n",
    "print(data)\n",
    "\n",
    "# Se cierra la conexion con la base de datos\n",
    "conn.close()"
   ]
  },
  {
   "cell_type": "markdown",
   "metadata": {},
   "source": [
    "### Actualización de un registro\n",
    "Se puede actualizar los valor de un registro en la base de datos con la instrucción SQL `UPDATE`. Note que la instrucción `conn.commit()` es importante ya que de no estar presente, al cerrar la base de datos, la actualización no quedará registrada en el archivo de datos."
   ]
  },
  {
   "cell_type": "code",
   "execution_count": 52,
   "metadata": {},
   "outputs": [
    {
     "name": "stdout",
     "output_type": "stream",
     "text": [
      "ID: 1   Nombre: Elvio Lado         Peso:  88kg      Altura:1.72m\n",
      "ID: 2   Nombre: Elsa Payo          Peso:  54kg      Altura:1.65m\n",
      "ID: 3   Nombre: Armando Paredes    Peso:  88kg      Altura:1.75m\n",
      "ID: 4   Nombre: Susana Oria        Peso:  48kg      Altura:1.60m\n",
      "ID: 5   Nombre: Estaban Dido       Peso: 110kg      Altura:1.68m\n"
     ]
    }
   ],
   "source": [
    "conn = sqlite3.connect(\"database.db\")\n",
    "\n",
    "# Se crea un cursor para poder acceder a la informacion\n",
    "cur = conn.cursor()\n",
    "\n",
    "# Se ejecuta una accion sobre la base de datos\n",
    "cur.execute(\"UPDATE pacientes SET peso = ? WHERE id = ?\", (88, 1))\n",
    "\n",
    "# Se confirma la accion anterior\n",
    "conn.commit()\n",
    "\n",
    "# Consulta\n",
    "cur.execute(\"SELECT * FROM pacientes\")\n",
    "for data in cur:\n",
    "    print(\"ID: {:<3} Nombre: {:16}   Peso: {:3}kg      Altura:{:.2f}m\".format(*data))\n",
    "\n",
    "# Se cierra la conexion con la base de datos\n",
    "conn.close()"
   ]
  },
  {
   "cell_type": "markdown",
   "metadata": {},
   "source": [
    "### Eliminar un registro\n",
    "Para eliminar un registro de la base da datos, se utiliza la instrucción SQL `DELETE`. Al igual que en el caso anterior, se debe de confirmar la operación para que se haga efectiva en el archivo de datos."
   ]
  },
  {
   "cell_type": "code",
   "execution_count": 53,
   "metadata": {},
   "outputs": [
    {
     "name": "stdout",
     "output_type": "stream",
     "text": [
      "ID: 1    Nombre: Elvio Lado       Peso:  88kg      Altura:1.72m\n",
      "ID: 2    Nombre: Elsa Payo        Peso:  54kg      Altura:1.65m\n",
      "ID: 3    Nombre: Armando Paredes  Peso:  88kg      Altura:1.75m\n",
      "ID: 4    Nombre: Susana Oria      Peso:  48kg      Altura:1.60m\n"
     ]
    }
   ],
   "source": [
    "conn = sqlite3.connect(\"database.db\")\n",
    "\n",
    "# Se crea un cursor para poder acceder a la informacion\n",
    "cur = conn.cursor()\n",
    "\n",
    "# Se ejecuta una accion sobre la base de datos\n",
    "cur.execute(\"DELETE FROM pacientes WHERE id = ?\", (5,))\n",
    "\n",
    "# Se confirma la accion anterior\n",
    "conn.commit()\n",
    "\n",
    "# Consulta\n",
    "cur.execute(\"SELECT * FROM pacientes\")\n",
    "for data in cur:\n",
    "    print(\"ID: {:<3} Nombre: {:16} Peso: {:3}kg      Altura:{:.2f}m\".format(data[0], data[1], data[2], data[3]))\n",
    "\n",
    "# Se cierra la conexion con la base de datos\n",
    "conn.close()"
   ]
  },
  {
   "cell_type": "markdown",
   "metadata": {},
   "source": [
    "### Rollback\n",
    "Las operaciones de base de datos pueden retroceder hasta un punto de inicio, deshaciendo todo lo hecho. A este proceso se le conoce como *rollback*. Este proceso deshace todas las operaciones hechas hasta el inicio de la conexión o hasta el último `commit`."
   ]
  },
  {
   "cell_type": "code",
   "execution_count": 58,
   "metadata": {},
   "outputs": [
    {
     "name": "stdout",
     "output_type": "stream",
     "text": [
      "------- SE ELIMINA REGISTRO ID 4 --------\n",
      "\n",
      "ID: 1    Nombre: Elvio Lado       Peso:   0kg      Altura:1.72m\n",
      "ID: 2    Nombre: Elsa Payo        Peso:  54kg      Altura:1.65m\n",
      "ID: 3    Nombre: Armando Paredes  Peso:  88kg      Altura:1.75m\n",
      "\n",
      "------- ROLLBACK --------\n",
      "\n",
      "ID: 1    Nombre: Elvio Lado       Peso:  88kg      Altura:1.72m\n",
      "ID: 2    Nombre: Elsa Payo        Peso:  54kg      Altura:1.65m\n",
      "ID: 3    Nombre: Armando Paredes  Peso:  88kg      Altura:1.75m\n",
      "ID: 4    Nombre: Susana Oria      Peso:  48kg      Altura:1.60m\n"
     ]
    }
   ],
   "source": [
    "conn = sqlite3.connect(\"database.db\")\n",
    "\n",
    "# Se crea un cursor para poder acceder a la informacion\n",
    "cur = conn.cursor()\n",
    "\n",
    "# Se ejecuta una accion sobre la base de datos\n",
    "print(\"------- SE ELIMINA REGISTRO ID 4 --------\\n\")\n",
    "cur.execute(\"DELETE FROM pacientes WHERE id = ?\", (4,))\n",
    "cur.execute(\"UPDATE pacientes SET peso = ? WHERE id = ?\", (0, 1))\n",
    "\n",
    "# Consulta\n",
    "cur.execute(\"SELECT * FROM pacientes\")\n",
    "for data in cur:\n",
    "    print(\"ID: {:<3} Nombre: {:16} Peso: {:3}kg      Altura:{:.2f}m\".format(*data))\n",
    "\n",
    "print()\n",
    "    \n",
    "# Se deshace la ultima transaccion\n",
    "conn.rollback()\n",
    "print(\"------- ROLLBACK --------\\n\")\n",
    "\n",
    "# Consulta\n",
    "cur.execute(\"SELECT * FROM pacientes\")\n",
    "for data in cur:\n",
    "    print(\"ID: {:<3} Nombre: {:16} Peso: {:3}kg      Altura:{:.2f}m\".format(*data))\n",
    "\n",
    "# Se cierra la conexion con la base de datos\n",
    "conn.close()"
   ]
  },
  {
   "cell_type": "markdown",
   "metadata": {},
   "source": [
    "### Bloque try... except... finally\n",
    "Se puede utilizar un bloque `try` para poder controlar el `rollback` en caso de error, pero debe de considerarse que la base de datos debe de cerrarse se haya generado o no una excepción. Para estos casos, el bloque `try` puede contener la intrucción `finally` que contiene un bloque de instrucciones que se ejecutan se haya generado una excepción o no."
   ]
  },
  {
   "cell_type": "code",
   "execution_count": 59,
   "metadata": {},
   "outputs": [
    {
     "name": "stdout",
     "output_type": "stream",
     "text": [
      "ERROR: El 'id' ya existe en el registro. Los cambios no se guardan\n"
     ]
    }
   ],
   "source": [
    "try:\n",
    "    # Conectar a la base de datos\n",
    "    conn = sqlite3.connect(\"database.db\")\n",
    "    cur = conn.cursor()\n",
    "    \n",
    "    # Ejecutar la accion sobre la base de datos\n",
    "    # Esta inserción repite un PRIMARY KEY por lo que generará una excepción de Integridad en la base de datos\n",
    "    cur.execute(\"INSERT INTO pacientes (id, nombre, peso, altura) VALUES (?, ?, ?, ?)\", (1, \"Dina Mita\", 120, 1.55))\n",
    "    \n",
    "    # Confirmar la consulta (este commit no se ejecutará)\n",
    "    conn.commit()\n",
    "    \n",
    "except sqlite3.IntegrityError:\n",
    "    conn.rollback()\n",
    "    print(\"ERROR: El 'id' ya existe en el registro. Los cambios no se guardan\")\n",
    "    \n",
    "finally:\n",
    "    # Cerrar la conexion incondicionalmente\n",
    "    conn.close()"
   ]
  },
  {
   "cell_type": "markdown",
   "metadata": {},
   "source": [
    "### Gestión de conexiones con un bloque `with` (Context Manager)\n",
    "Las conexiones a una base de datos se pueden gestionar con la instrucción `with`, que controlará la confirmación de los cambios en el archivo de datos en caso sea necesario. Con la inclusión de un bloque `with` ya no será necesario ejecutar `conn.commit()`, **pero si de cerrar la conexión con `conn.close()`**."
   ]
  },
  {
   "cell_type": "code",
   "execution_count": 60,
   "metadata": {},
   "outputs": [
    {
     "name": "stdout",
     "output_type": "stream",
     "text": [
      "(1, 'Elvio Lado', 88, 1.72)\n",
      "(3, 'Armando Paredes', 88, 1.75)\n"
     ]
    }
   ],
   "source": [
    "conn = sqlite3.connect(\"database.db\")\n",
    "\n",
    "with conn:\n",
    "    cur = conn.cursor()\n",
    "    query = cur.execute(\"SELECT * FROM pacientes WHERE altura > 1.70\")\n",
    "    rows = query.fetchall()\n",
    "    \n",
    "    for data in rows:\n",
    "        print(data)\n",
    "    \n",
    "conn.close()"
   ]
  },
  {
   "cell_type": "markdown",
   "metadata": {},
   "source": [
    "## Clases para la gestion de una base de datos\n",
    "Lo deseable es tener los diferentes aspectos de una aplicación en espacios separados y eso involucra a los detalles en la gestión de una base datos y la aplicación que utiliza la información. Esto obliga a que parte de una aplicación este escrita en un lenguaje de programación (en este caso, Python) y otra que contenga instrucciones en SQL. Lo ideal es que estos elementos se encuentren separados de forma tal que en el script principal se tenga uniformidad en el código. Esto se puede lograr construyendo una clase para la base de datos, para luego utilizarla en la aplicación."
   ]
  },
  {
   "cell_type": "code",
   "execution_count": 105,
   "metadata": {},
   "outputs": [],
   "source": [
    "class Database:\n",
    "    datafile = \"database.db\"\n",
    "    def __init__(self):\n",
    "        self.conn = sqlite3.connect(Database.datafile)\n",
    "        self.cur = self.conn.cursor()\n",
    "        \n",
    "    def __del__(self):\n",
    "        self.conn.close()\n",
    "        \n",
    "    def nombres_pacientes(self):\n",
    "        return self.cur.execute(\"SELECT nombre FROM pacientes ORDER BY nombre\").fetchall()\n",
    "    \n",
    "    def pesos_pacientes(self, order='asc'):\n",
    "        if order == 'asc':\n",
    "            return self.cur.execute(\"SELECT nombre, peso FROM pacientes ORDER BY peso\").fetchall()\n",
    "        elif order == 'desc':\n",
    "            return self.cur.execute(\"SELECT nombre, peso FROM pacientes ORDER BY peso DESC\").fetchall()\n",
    "        else:\n",
    "            return [()]\n",
    "        \n",
    "    def pacientes_altura_promedio(self):\n",
    "        return self.cur.execute(\"SELECT AVG(altura) FROM pacientes\").fetchone()[0] "
   ]
  },
  {
   "cell_type": "markdown",
   "metadata": {},
   "source": [
    "Una vez construida la clase, el script de la aplicación contiene solamente código Python, lo que hace el código más légible y fácil de mantener."
   ]
  },
  {
   "cell_type": "code",
   "execution_count": 112,
   "metadata": {},
   "outputs": [
    {
     "name": "stdout",
     "output_type": "stream",
     "text": [
      "\n",
      "1 - Armando Paredes\n",
      "2 - Elsa Payo\n",
      "3 - Elvio Lado\n",
      "4 - Susana Oria\n",
      "\n",
      "1 - Susana Oria          48 kg\n",
      "2 - Elsa Payo            54 kg\n",
      "3 - Elvio Lado           88 kg\n",
      "4 - Armando Paredes      88 kg\n",
      "\n",
      "Altura promedio:\n",
      "1.6800000000000002 m\n"
     ]
    }
   ],
   "source": [
    "db = Database()\n",
    "\n",
    "print()\n",
    "for idx, item in enumerate(db.nombres_pacientes(), start=1):\n",
    "    print(f\"{idx} - {item[0]}\")\n",
    "\n",
    "print()\n",
    "for idx, item in enumerate(db.pesos_pacientes(), start=1):\n",
    "    print(f\"{idx} - {item[0]:20} {item[1]} kg\")\n",
    "\n",
    "print(\"\\nAltura promedio:\")\n",
    "print(db.pacientes_altura_promedio(), \"m\")\n",
    "    \n",
    "del db"
   ]
  },
  {
   "cell_type": "markdown",
   "metadata": {},
   "source": [
    "## Programación por modelo de capas\n",
    "En una programación por capas, cada clase conforma una \"capa de abstracción\" que modela un ambiente diferente. De esta forma, cada entorno tiene una clase diferentes que interactua con las demás.\n",
    "\n",
    "Un ejemplo de esto es la interacción entre la clase Database y la clase App, de tal forma que una aplicación GUI en tkinter, pueda utilizar los recursos de una base de datos por medio de la clase Database."
   ]
  },
  {
   "cell_type": "code",
   "execution_count": 17,
   "metadata": {},
   "outputs": [],
   "source": [
    "import sqlite3\n",
    "import tkinter as tk\n",
    "import tkinter.ttk as ttk\n",
    "\n",
    "class Database:\n",
    "    datafile = \"database.db\"\n",
    "    def __init__(self):\n",
    "        self.conn = sqlite3.connect(Database.datafile)\n",
    "        self.cur = self.conn.cursor()\n",
    "        \n",
    "    def __del__(self):\n",
    "        self.conn.close()\n",
    "        \n",
    "    def nombres_pacientes(self):\n",
    "        # Retorna una lista con los nombres de los pacientes (en orden alfabetico)\n",
    "        data = self.cur.execute(\"SELECT nombre FROM pacientes ORDER BY nombre\")\n",
    "        return [item[0] for item in data]\n",
    "    \n",
    "    def data_pacientes(self, nombre):\n",
    "        # Retorna una lista con la info de un paciente segun id: (peso, altura)\n",
    "        return self.cur.execute(\"SELECT peso, altura FROM pacientes WHERE nombre = ?\", (nombre,)).fetchone()\n",
    "        "
   ]
  },
  {
   "cell_type": "code",
   "execution_count": 19,
   "metadata": {},
   "outputs": [],
   "source": [
    "class App(tk.Tk):\n",
    "    def __init__(self):\n",
    "        super().__init__()\n",
    "        self.title(\"App dB\")\n",
    "        self.resizable(0, 0)\n",
    "        \n",
    "        self.dB = Database()\n",
    "        \n",
    "        self.var_nombre = tk.StringVar()\n",
    "        self.var_peso = tk.StringVar()\n",
    "        self.var_altura = tk.StringVar()\n",
    "        \n",
    "        frm = tk.Frame(self)\n",
    "        frm1 = tk.Frame(frm)\n",
    "        frm2 = tk.Frame(frm)\n",
    "        \n",
    "        frm.pack(padx=10, pady=10)\n",
    "        frm1.pack(side=tk.LEFT, padx=10, pady=10, anchor=tk.N)\n",
    "        frm2.pack(side=tk.LEFT, padx=10, pady=10)\n",
    "        \n",
    "        self.cboNombres = ttk.Combobox(frm1, value=self.dB.nombres_pacientes())\n",
    "        self.cboNombres.pack(padx=5, pady=5)\n",
    "        \n",
    "        self.lblNombre = tk.Label(frm2, text=\"Nombre:\")\n",
    "        self.lblPeso = tk.Label(frm2, text=\"Peso:\")\n",
    "        self.lblAltura = tk.Label(frm2, text=\"Altura:\")\n",
    "        self.entNombre = tk.Entry(frm2, textvariable=self.var_nombre)\n",
    "        self.entPeso = tk.Entry(frm2, textvariable=self.var_peso)\n",
    "        self.entAltura = tk.Entry(frm2, textvariable=self.var_altura)\n",
    "        \n",
    "        self.lblNombre.grid(row=0, column=0, padx=5, pady=5, sticky=tk.E)\n",
    "        self.lblPeso.grid(row=1, column=0, padx=5, pady=5, sticky=tk.E)\n",
    "        self.lblAltura.grid(row=2, column=0, padx=5, pady=5, sticky=tk.E)\n",
    "        self.entNombre.grid(row=0, column=1, padx=5, pady=5, sticky=tk.W)\n",
    "        self.entPeso.grid(row=1, column=1, padx=5, pady=5, sticky=tk.W)\n",
    "        self.entAltura.grid(row=2, column=1, padx=5, pady=5, sticky=tk.W)\n",
    "        \n",
    "        self.cboNombres.bind(\"<<ComboboxSelected>>\", self.name_selected)\n",
    "        \n",
    "        \n",
    "    def name_selected(self, event):\n",
    "        name = self.cboNombres.get()\n",
    "        peso, altura = self.dB.data_pacientes(name)\n",
    "                \n",
    "        self.var_nombre.set(name)\n",
    "        self.var_peso.set(peso)\n",
    "        self.var_altura.set(altura)\n",
    "        \n",
    "        \n",
    "app = App().mainloop()"
   ]
  }
 ],
 "metadata": {
  "kernelspec": {
   "display_name": "Python 3 (ipykernel)",
   "language": "python",
   "name": "python3"
  },
  "language_info": {
   "codemirror_mode": {
    "name": "ipython",
    "version": 3
   },
   "file_extension": ".py",
   "mimetype": "text/x-python",
   "name": "python",
   "nbconvert_exporter": "python",
   "pygments_lexer": "ipython3",
   "version": "3.11.7"
  }
 },
 "nbformat": 4,
 "nbformat_minor": 4
}
