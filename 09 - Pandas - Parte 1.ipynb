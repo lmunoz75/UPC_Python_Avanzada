{
 "cells": [
  {
   "cell_type": "markdown",
   "id": "d942d355-fd7b-4936-b292-f56646b91e9e",
   "metadata": {
    "tags": []
   },
   "source": [
    "# Pandas"
   ]
  },
  {
   "cell_type": "code",
   "execution_count": 2,
   "id": "c43f1c44-c3f4-4349-a17b-8a412435bc49",
   "metadata": {
    "tags": []
   },
   "outputs": [],
   "source": [
    "import pandas as pd"
   ]
  },
  {
   "cell_type": "markdown",
   "id": "7ca347cc-9942-4ac3-82fa-c5176e48e093",
   "metadata": {},
   "source": [
    "## Series"
   ]
  },
  {
   "cell_type": "code",
   "execution_count": 2,
   "id": "2e0627bc-c883-465b-9871-2ad4d55f91b8",
   "metadata": {
    "tags": []
   },
   "outputs": [
    {
     "name": "stdout",
     "output_type": "stream",
     "text": [
      "<class 'pandas.core.series.Series'>\n",
      "0    Data1\n",
      "1    Data2\n",
      "2    Data3\n",
      "dtype: object\n"
     ]
    }
   ],
   "source": [
    "data = pd.Series(['Data1', 'Data2', 'Data3'])\n",
    "print(type(data))\n",
    "print(data)"
   ]
  },
  {
   "cell_type": "code",
   "execution_count": 3,
   "id": "185b17b5-a7e7-4ae9-bcc4-e4d3b8aa5d86",
   "metadata": {
    "tags": []
   },
   "outputs": [
    {
     "data": {
      "text/plain": [
       "RangeIndex(start=0, stop=3, step=1)"
      ]
     },
     "execution_count": 3,
     "metadata": {},
     "output_type": "execute_result"
    }
   ],
   "source": [
    "data.index"
   ]
  },
  {
   "cell_type": "code",
   "execution_count": 4,
   "id": "193a92b6-24d1-4374-ac72-4471d16903ca",
   "metadata": {
    "tags": []
   },
   "outputs": [],
   "source": [
    "data.index = ['A', 'B', 'C']"
   ]
  },
  {
   "cell_type": "code",
   "execution_count": 7,
   "id": "56cef855-e9d7-4dbd-8551-b4d9610aeb71",
   "metadata": {
    "tags": []
   },
   "outputs": [
    {
     "data": {
      "text/plain": [
       "A    Data1\n",
       "B    Data2\n",
       "C    Data3\n",
       "dtype: object"
      ]
     },
     "execution_count": 7,
     "metadata": {},
     "output_type": "execute_result"
    }
   ],
   "source": [
    "data"
   ]
  },
  {
   "cell_type": "code",
   "execution_count": 6,
   "id": "4e327b39-049f-4786-b024-98d339d57e70",
   "metadata": {
    "tags": []
   },
   "outputs": [
    {
     "name": "stdout",
     "output_type": "stream",
     "text": [
      "Data1\n",
      "Data1\n",
      "Data1\n"
     ]
    },
    {
     "name": "stderr",
     "output_type": "stream",
     "text": [
      "C:\\Users\\Asus\\AppData\\Local\\Temp\\ipykernel_3480\\2566075894.py:1: FutureWarning: Series.__getitem__ treating keys as positions is deprecated. In a future version, integer keys will always be treated as labels (consistent with DataFrame behavior). To access a value by position, use `ser.iloc[pos]`\n",
      "  print(data[0])\n"
     ]
    }
   ],
   "source": [
    "print(data[0])\n",
    "print(data['A'])\n",
    "print(data.at['A'])"
   ]
  },
  {
   "cell_type": "code",
   "execution_count": 8,
   "id": "039e1691-b9f7-4989-b31b-4300f87ef7ba",
   "metadata": {
    "tags": []
   },
   "outputs": [
    {
     "name": "stdout",
     "output_type": "stream",
     "text": [
      "A    Data1\n",
      "B    Data2\n",
      "dtype: object\n",
      "A    Data1\n",
      "B    Data2\n",
      "dtype: object\n"
     ]
    }
   ],
   "source": [
    "print(data[:2])\n",
    "print(data[:'B'])"
   ]
  },
  {
   "cell_type": "code",
   "execution_count": 9,
   "id": "60615cd1-2b57-45ba-a3a0-7058b3adcd00",
   "metadata": {
    "tags": []
   },
   "outputs": [
    {
     "name": "stdout",
     "output_type": "stream",
     "text": [
      "C1       Audi\n",
      "C2    Porsche\n",
      "C3    Bugatti\n",
      "C4      Lotus\n",
      "Name: Autos, dtype: object\n"
     ]
    }
   ],
   "source": [
    "data = pd.Series(data=['Audi', 'Porsche', 'Bugatti', 'Lotus'], \n",
    "                 index=['C1', 'C2', 'C3', 'C4'], \n",
    "                 name='Autos')\n",
    "print(data)"
   ]
  },
  {
   "cell_type": "code",
   "execution_count": 10,
   "id": "2393a556-c4df-417b-88c1-025bb2d1f643",
   "metadata": {
    "tags": []
   },
   "outputs": [
    {
     "name": "stdout",
     "output_type": "stream",
     "text": [
      "Index(['C1', 'C2', 'C3', 'C4'], dtype='object')\n",
      "Autos\n",
      "['Audi' 'Porsche' 'Bugatti' 'Lotus']\n"
     ]
    }
   ],
   "source": [
    "print(data.index)\n",
    "print(data.name)\n",
    "print(data.values)"
   ]
  },
  {
   "cell_type": "code",
   "execution_count": 11,
   "id": "f504d9dc-42ec-4be5-adcf-40b497f77dae",
   "metadata": {
    "tags": []
   },
   "outputs": [
    {
     "data": {
      "text/plain": [
       "C1       Audi\n",
       "C3    Bugatti\n",
       "C4      Lotus\n",
       "C2    Porsche\n",
       "Name: Autos, dtype: object"
      ]
     },
     "execution_count": 11,
     "metadata": {},
     "output_type": "execute_result"
    }
   ],
   "source": [
    "data.sort_values()"
   ]
  },
  {
   "cell_type": "code",
   "execution_count": 12,
   "id": "67caeec2-6d27-4abd-9ed6-77aec925bbeb",
   "metadata": {
    "tags": []
   },
   "outputs": [
    {
     "name": "stdout",
     "output_type": "stream",
     "text": [
      "Audi\n",
      "Porsche\n",
      "Bugatti\n",
      "Lotus\n"
     ]
    }
   ],
   "source": [
    "for item in data:\n",
    "    print(item)"
   ]
  },
  {
   "cell_type": "code",
   "execution_count": 13,
   "id": "049aa4c6-01db-4f78-ac83-62dfad28cf52",
   "metadata": {
    "tags": []
   },
   "outputs": [],
   "source": [
    "data.sort_values(inplace=True)"
   ]
  },
  {
   "cell_type": "code",
   "execution_count": 14,
   "id": "bfc25cd8-1c10-492a-9943-cc40f00f5a48",
   "metadata": {
    "tags": []
   },
   "outputs": [
    {
     "name": "stdout",
     "output_type": "stream",
     "text": [
      "Audi\n",
      "Bugatti\n",
      "Lotus\n",
      "Porsche\n"
     ]
    }
   ],
   "source": [
    "for item in data:\n",
    "    print(item)"
   ]
  },
  {
   "cell_type": "code",
   "execution_count": 15,
   "id": "75d2874a-eb78-41af-a496-bb796560a25f",
   "metadata": {
    "tags": []
   },
   "outputs": [
    {
     "data": {
      "text/plain": [
       "C1       Audi\n",
       "C3    Bugatti\n",
       "C4      Lotus\n",
       "C2    Porsche\n",
       "Name: Autos, dtype: object"
      ]
     },
     "execution_count": 15,
     "metadata": {},
     "output_type": "execute_result"
    }
   ],
   "source": [
    "data"
   ]
  },
  {
   "cell_type": "code",
   "execution_count": 16,
   "id": "f85b1d7f-1d5b-48fa-aec2-0e59eb3cfa40",
   "metadata": {
    "tags": []
   },
   "outputs": [
    {
     "data": {
      "text/plain": [
       "'Porsche'"
      ]
     },
     "execution_count": 16,
     "metadata": {},
     "output_type": "execute_result"
    }
   ],
   "source": [
    "# LOC (localizacion por etiqueta), ILOC (localizacion por indice entero <int>)\n",
    "data.loc['C2']"
   ]
  },
  {
   "cell_type": "code",
   "execution_count": 17,
   "id": "bba5a3de-5092-4b0d-a48f-9aec59d5345b",
   "metadata": {
    "tags": []
   },
   "outputs": [
    {
     "data": {
      "text/plain": [
       "'Lotus'"
      ]
     },
     "execution_count": 17,
     "metadata": {},
     "output_type": "execute_result"
    }
   ],
   "source": [
    "data.iloc[2]"
   ]
  },
  {
   "cell_type": "code",
   "execution_count": 18,
   "id": "fa6113ab-549e-4683-823b-ea8159bf5911",
   "metadata": {
    "tags": []
   },
   "outputs": [
    {
     "data": {
      "text/plain": [
       "C2    Porsche\n",
       "C4      Lotus\n",
       "C3    Bugatti\n",
       "C1       Audi\n",
       "Name: Autos, dtype: object"
      ]
     },
     "execution_count": 18,
     "metadata": {},
     "output_type": "execute_result"
    }
   ],
   "source": [
    "data.iloc[::-1]"
   ]
  },
  {
   "cell_type": "code",
   "execution_count": 19,
   "id": "1815dd5a-7842-466a-8450-764134adce0a",
   "metadata": {
    "tags": []
   },
   "outputs": [
    {
     "data": {
      "text/plain": [
       "C1       Audi\n",
       "C3    Bugatti\n",
       "C4      Lotus\n",
       "Name: Autos, dtype: object"
      ]
     },
     "execution_count": 19,
     "metadata": {},
     "output_type": "execute_result"
    }
   ],
   "source": [
    "data.loc['C1': 'C4']"
   ]
  },
  {
   "cell_type": "code",
   "execution_count": 20,
   "id": "5c20619d-18f7-4e8b-bb3c-409d37f2ad4a",
   "metadata": {
    "tags": []
   },
   "outputs": [
    {
     "data": {
      "text/plain": [
       "C1       Audi\n",
       "C2    Porsche\n",
       "Name: Autos, dtype: object"
      ]
     },
     "execution_count": 20,
     "metadata": {},
     "output_type": "execute_result"
    }
   ],
   "source": [
    "data.loc[['C1', 'C2']]"
   ]
  },
  {
   "cell_type": "code",
   "execution_count": 21,
   "id": "df0d278d-a4bf-4292-a4c4-11fe34342fbe",
   "metadata": {
    "tags": []
   },
   "outputs": [
    {
     "data": {
      "text/plain": [
       "0    10\n",
       "1    20\n",
       "2    30\n",
       "dtype: int64"
      ]
     },
     "execution_count": 21,
     "metadata": {},
     "output_type": "execute_result"
    }
   ],
   "source": [
    "data = pd.Series([10, 20, 30])\n",
    "data"
   ]
  },
  {
   "cell_type": "code",
   "execution_count": 22,
   "id": "71773be0-c36d-4781-90a7-58c112b17c01",
   "metadata": {
    "tags": []
   },
   "outputs": [
    {
     "data": {
      "text/plain": [
       "0    20\n",
       "1    40\n",
       "2    60\n",
       "dtype: int64"
      ]
     },
     "execution_count": 22,
     "metadata": {},
     "output_type": "execute_result"
    }
   ],
   "source": [
    "data * 2"
   ]
  },
  {
   "cell_type": "code",
   "execution_count": 23,
   "id": "285043da-b796-4d33-9f21-6528dfe08c04",
   "metadata": {
    "tags": []
   },
   "outputs": [
    {
     "data": {
      "text/plain": [
       "0    20\n",
       "1    40\n",
       "2    60\n",
       "dtype: int64"
      ]
     },
     "execution_count": 23,
     "metadata": {},
     "output_type": "execute_result"
    }
   ],
   "source": [
    "data + data"
   ]
  },
  {
   "cell_type": "code",
   "execution_count": 24,
   "id": "af826a04-0d19-4940-a7ef-5d60714d7e9d",
   "metadata": {
    "tags": []
   },
   "outputs": [
    {
     "data": {
      "text/plain": [
       "0    A\n",
       "1    B\n",
       "2    C\n",
       "dtype: object"
      ]
     },
     "execution_count": 24,
     "metadata": {},
     "output_type": "execute_result"
    }
   ],
   "source": [
    "data = pd.Series(['A', 'B', 'C'])\n",
    "data"
   ]
  },
  {
   "cell_type": "code",
   "execution_count": 25,
   "id": "657c93dd-1cd3-400c-be0e-4566bfae4c26",
   "metadata": {
    "tags": []
   },
   "outputs": [
    {
     "data": {
      "text/plain": [
       "0    AA\n",
       "1    BB\n",
       "2    CC\n",
       "dtype: object"
      ]
     },
     "execution_count": 25,
     "metadata": {},
     "output_type": "execute_result"
    }
   ],
   "source": [
    "data + data"
   ]
  },
  {
   "cell_type": "code",
   "execution_count": 26,
   "id": "6c2fb884-35ab-44fc-bd58-a468bded890d",
   "metadata": {
    "tags": []
   },
   "outputs": [
    {
     "data": {
      "text/plain": [
       "0     24\n",
       "1     89\n",
       "2     61\n",
       "3     65\n",
       "4     61\n",
       "5      8\n",
       "6     82\n",
       "7     89\n",
       "8     12\n",
       "9     49\n",
       "10    52\n",
       "11    65\n",
       "12    72\n",
       "13     1\n",
       "14    58\n",
       "15    48\n",
       "16    26\n",
       "17    82\n",
       "18    72\n",
       "19    88\n",
       "20    58\n",
       "21    72\n",
       "22    55\n",
       "23    32\n",
       "24    33\n",
       "dtype: int64"
      ]
     },
     "execution_count": 26,
     "metadata": {},
     "output_type": "execute_result"
    }
   ],
   "source": [
    "from random import randint\n",
    "\n",
    "numbers = [randint(1, 100) for _ in range(25)]\n",
    "data = pd.Series(numbers)\n",
    "data"
   ]
  },
  {
   "cell_type": "code",
   "execution_count": 27,
   "id": "aa909f91-a655-45ce-a2f0-4dedcecf47e5",
   "metadata": {
    "tags": []
   },
   "outputs": [
    {
     "data": {
      "text/plain": [
       "0      True\n",
       "1     False\n",
       "2     False\n",
       "3     False\n",
       "4     False\n",
       "5     False\n",
       "6     False\n",
       "7     False\n",
       "8      True\n",
       "9     False\n",
       "10    False\n",
       "11    False\n",
       "12     True\n",
       "13    False\n",
       "14    False\n",
       "15     True\n",
       "16    False\n",
       "17    False\n",
       "18     True\n",
       "19    False\n",
       "20    False\n",
       "21     True\n",
       "22    False\n",
       "23    False\n",
       "24     True\n",
       "dtype: bool"
      ]
     },
     "execution_count": 27,
     "metadata": {},
     "output_type": "execute_result"
    }
   ],
   "source": [
    "data % 3 == 0"
   ]
  },
  {
   "cell_type": "code",
   "execution_count": 29,
   "id": "510e6b86-fc5c-41b6-b72d-e09885df7a13",
   "metadata": {
    "tags": []
   },
   "outputs": [
    {
     "data": {
      "text/plain": [
       "0     24\n",
       "8     12\n",
       "12    72\n",
       "15    48\n",
       "18    72\n",
       "21    72\n",
       "24    33\n",
       "dtype: int64"
      ]
     },
     "execution_count": 29,
     "metadata": {},
     "output_type": "execute_result"
    }
   ],
   "source": [
    "idx_bool = (data % 3 == 0)\n",
    "data[idx_bool]"
   ]
  },
  {
   "cell_type": "code",
   "execution_count": 30,
   "id": "0ee956be-4da1-48bf-8a07-b6184eee1501",
   "metadata": {
    "tags": []
   },
   "outputs": [
    {
     "data": {
      "text/plain": [
       "Elvio    80\n",
       "Dina     76\n",
       "Elmer    66\n",
       "dtype: int64"
      ]
     },
     "execution_count": 30,
     "metadata": {},
     "output_type": "execute_result"
    }
   ],
   "source": [
    "data = pd.Series([80, 76, 66])\n",
    "data.index = ['Elvio', 'Dina', 'Elmer']\n",
    "data"
   ]
  },
  {
   "cell_type": "code",
   "execution_count": 31,
   "id": "eff88e52-cc1d-454e-9049-52684d702127",
   "metadata": {
    "tags": []
   },
   "outputs": [
    {
     "data": {
      "text/plain": [
       "Elvio Lado     80\n",
       "Dina Mita      76\n",
       "Elmer Curio    66\n",
       "dtype: int64"
      ]
     },
     "execution_count": 31,
     "metadata": {},
     "output_type": "execute_result"
    }
   ],
   "source": [
    "data.rename({'Dina': 'Dina Mita', 'Elmer': 'Elmer Curio', 'Elvio': 'Elvio Lado'})"
   ]
  },
  {
   "cell_type": "code",
   "execution_count": 32,
   "id": "a6fecfb7-7d24-48b3-8a0e-b9cba9ef84f3",
   "metadata": {
    "tags": []
   },
   "outputs": [
    {
     "data": {
      "text/plain": [
       "Dr. Elvio    80\n",
       "Dr. Dina     76\n",
       "Dr. Elmer    66\n",
       "dtype: int64"
      ]
     },
     "execution_count": 32,
     "metadata": {},
     "output_type": "execute_result"
    }
   ],
   "source": [
    "data.rename(lambda x: \"Dr. \" + x)"
   ]
  },
  {
   "cell_type": "code",
   "execution_count": null,
   "id": "4f5059d3-8060-4d53-abfc-1626ddea74e8",
   "metadata": {
    "tags": []
   },
   "outputs": [],
   "source": [
    "data.drop(index=['Dina'])"
   ]
  },
  {
   "cell_type": "code",
   "execution_count": 33,
   "id": "c98eec09-d093-4c83-a1c6-1fabaee8a5a6",
   "metadata": {
    "tags": []
   },
   "outputs": [
    {
     "data": {
      "text/plain": [
       "0     1.0\n",
       "1    10.0\n",
       "2     NaN\n",
       "3    12.0\n",
       "4    22.0\n",
       "5     NaN\n",
       "dtype: float64"
      ]
     },
     "execution_count": 33,
     "metadata": {},
     "output_type": "execute_result"
    }
   ],
   "source": [
    "import numpy as np\n",
    "\n",
    "data = pd.Series([1, 10, np.nan, 12, 22, np.nan])\n",
    "data"
   ]
  },
  {
   "cell_type": "code",
   "execution_count": 34,
   "id": "b272eb64-c534-4206-aab4-152a7680e656",
   "metadata": {
    "tags": []
   },
   "outputs": [
    {
     "data": {
      "text/plain": [
       "0    False\n",
       "1    False\n",
       "2     True\n",
       "3    False\n",
       "4    False\n",
       "5     True\n",
       "dtype: bool"
      ]
     },
     "execution_count": 34,
     "metadata": {},
     "output_type": "execute_result"
    }
   ],
   "source": [
    "data.isna()"
   ]
  },
  {
   "cell_type": "code",
   "execution_count": 35,
   "id": "b2472231-0330-4fd2-9b31-4e7fad28daee",
   "metadata": {
    "tags": []
   },
   "outputs": [
    {
     "data": {
      "text/plain": [
       "0     1.0\n",
       "1    10.0\n",
       "3    12.0\n",
       "4    22.0\n",
       "dtype: float64"
      ]
     },
     "execution_count": 35,
     "metadata": {},
     "output_type": "execute_result"
    }
   ],
   "source": [
    "data.dropna()"
   ]
  },
  {
   "cell_type": "code",
   "execution_count": 36,
   "id": "790e7886-9cc1-46e7-b093-04d3db6b6b47",
   "metadata": {
    "tags": []
   },
   "outputs": [
    {
     "data": {
      "text/plain": [
       "0     1.0\n",
       "1    10.0\n",
       "2     0.0\n",
       "3    12.0\n",
       "4    22.0\n",
       "5     0.0\n",
       "dtype: float64"
      ]
     },
     "execution_count": 36,
     "metadata": {},
     "output_type": "execute_result"
    }
   ],
   "source": [
    "data.fillna(0)"
   ]
  },
  {
   "cell_type": "code",
   "execution_count": null,
   "id": "5aea7950-4280-40ca-8713-f00e27bda1e5",
   "metadata": {
    "tags": []
   },
   "outputs": [],
   "source": [
    "data"
   ]
  },
  {
   "cell_type": "code",
   "execution_count": 37,
   "id": "8d8ab8ca-3382-44f0-b3b3-efce91c76496",
   "metadata": {
    "tags": []
   },
   "outputs": [
    {
     "name": "stdout",
     "output_type": "stream",
     "text": [
      "6\n",
      "6\n"
     ]
    }
   ],
   "source": [
    "print(len(data))\n",
    "print(data.size)"
   ]
  },
  {
   "cell_type": "code",
   "execution_count": 38,
   "id": "409742df-a721-4b1b-b90f-4080bfc8dcd9",
   "metadata": {
    "tags": []
   },
   "outputs": [
    {
     "name": "stdout",
     "output_type": "stream",
     "text": [
      "nan\n",
      "45.0\n"
     ]
    }
   ],
   "source": [
    "print(sum(data))\n",
    "print(data.sum())"
   ]
  },
  {
   "cell_type": "code",
   "execution_count": null,
   "id": "ccedecc0-1a88-40bd-ae9c-bc56a42596c9",
   "metadata": {
    "tags": []
   },
   "outputs": [],
   "source": [
    "data"
   ]
  },
  {
   "cell_type": "code",
   "execution_count": 39,
   "id": "a9e74f4e-43f4-4890-aae3-4da5484ac45c",
   "metadata": {
    "tags": []
   },
   "outputs": [
    {
     "name": "stdout",
     "output_type": "stream",
     "text": [
      "4\n",
      "45.0\n",
      "11.25\n",
      "11.0\n",
      "22.0\n",
      "1.0\n",
      "4\n",
      "0\n"
     ]
    }
   ],
   "source": [
    "print(data.count())\n",
    "print(data.sum())\n",
    "print(data.mean())\n",
    "print(data.median())\n",
    "print(data.max())\n",
    "print(data.min())\n",
    "print(data.argmax())\n",
    "print(data.argmin())"
   ]
  },
  {
   "cell_type": "code",
   "execution_count": 40,
   "id": "1c4fe285-a0e0-401e-97f2-c008dd8ceb8e",
   "metadata": {
    "tags": []
   },
   "outputs": [],
   "source": [
    "data.dropna(inplace=True)"
   ]
  },
  {
   "cell_type": "code",
   "execution_count": 41,
   "id": "8fa0ae82-4bb9-491f-ba54-f54976911937",
   "metadata": {
    "tags": []
   },
   "outputs": [
    {
     "data": {
      "text/plain": [
       "0     1.0\n",
       "1    10.0\n",
       "3    12.0\n",
       "4    22.0\n",
       "dtype: float64"
      ]
     },
     "execution_count": 41,
     "metadata": {},
     "output_type": "execute_result"
    }
   ],
   "source": [
    "data"
   ]
  },
  {
   "cell_type": "code",
   "execution_count": 42,
   "id": "800b865c-6fa9-47de-bc3f-231b97fb228b",
   "metadata": {},
   "outputs": [
    {
     "data": {
      "text/plain": [
       "['T',\n",
       " '_AXIS_LEN',\n",
       " '_AXIS_ORDERS',\n",
       " '_AXIS_TO_AXIS_NUMBER',\n",
       " '_HANDLED_TYPES',\n",
       " '__abs__',\n",
       " '__add__',\n",
       " '__and__',\n",
       " '__annotations__',\n",
       " '__array__',\n",
       " '__array_priority__',\n",
       " '__array_ufunc__',\n",
       " '__bool__',\n",
       " '__class__',\n",
       " '__column_consortium_standard__',\n",
       " '__contains__',\n",
       " '__copy__',\n",
       " '__deepcopy__',\n",
       " '__delattr__',\n",
       " '__delitem__',\n",
       " '__dict__',\n",
       " '__dir__',\n",
       " '__divmod__',\n",
       " '__doc__',\n",
       " '__eq__',\n",
       " '__finalize__',\n",
       " '__float__',\n",
       " '__floordiv__',\n",
       " '__format__',\n",
       " '__ge__',\n",
       " '__getattr__',\n",
       " '__getattribute__',\n",
       " '__getitem__',\n",
       " '__getstate__',\n",
       " '__gt__',\n",
       " '__hash__',\n",
       " '__iadd__',\n",
       " '__iand__',\n",
       " '__ifloordiv__',\n",
       " '__imod__',\n",
       " '__imul__',\n",
       " '__init__',\n",
       " '__init_subclass__',\n",
       " '__int__',\n",
       " '__invert__',\n",
       " '__ior__',\n",
       " '__ipow__',\n",
       " '__isub__',\n",
       " '__iter__',\n",
       " '__itruediv__',\n",
       " '__ixor__',\n",
       " '__le__',\n",
       " '__len__',\n",
       " '__lt__',\n",
       " '__matmul__',\n",
       " '__mod__',\n",
       " '__module__',\n",
       " '__mul__',\n",
       " '__ne__',\n",
       " '__neg__',\n",
       " '__new__',\n",
       " '__nonzero__',\n",
       " '__or__',\n",
       " '__pandas_priority__',\n",
       " '__pos__',\n",
       " '__pow__',\n",
       " '__radd__',\n",
       " '__rand__',\n",
       " '__rdivmod__',\n",
       " '__reduce__',\n",
       " '__reduce_ex__',\n",
       " '__repr__',\n",
       " '__rfloordiv__',\n",
       " '__rmatmul__',\n",
       " '__rmod__',\n",
       " '__rmul__',\n",
       " '__ror__',\n",
       " '__round__',\n",
       " '__rpow__',\n",
       " '__rsub__',\n",
       " '__rtruediv__',\n",
       " '__rxor__',\n",
       " '__setattr__',\n",
       " '__setitem__',\n",
       " '__setstate__',\n",
       " '__sizeof__',\n",
       " '__str__',\n",
       " '__sub__',\n",
       " '__subclasshook__',\n",
       " '__truediv__',\n",
       " '__weakref__',\n",
       " '__xor__',\n",
       " '_accessors',\n",
       " '_accum_func',\n",
       " '_agg_examples_doc',\n",
       " '_agg_see_also_doc',\n",
       " '_align_for_op',\n",
       " '_align_frame',\n",
       " '_align_series',\n",
       " '_append',\n",
       " '_arith_method',\n",
       " '_as_manager',\n",
       " '_attrs',\n",
       " '_binop',\n",
       " '_can_hold_na',\n",
       " '_check_inplace_and_allows_duplicate_labels',\n",
       " '_check_is_chained_assignment_possible',\n",
       " '_check_label_or_level_ambiguity',\n",
       " '_check_setitem_copy',\n",
       " '_clear_item_cache',\n",
       " '_clip_with_one_bound',\n",
       " '_clip_with_scalar',\n",
       " '_cmp_method',\n",
       " '_consolidate',\n",
       " '_consolidate_inplace',\n",
       " '_construct_axes_dict',\n",
       " '_construct_result',\n",
       " '_constructor',\n",
       " '_constructor_expanddim',\n",
       " '_constructor_expanddim_from_mgr',\n",
       " '_constructor_from_mgr',\n",
       " '_convert_dtypes',\n",
       " '_data',\n",
       " '_deprecate_downcast',\n",
       " '_dir_additions',\n",
       " '_dir_deletions',\n",
       " '_drop_axis',\n",
       " '_drop_labels_or_levels',\n",
       " '_duplicated',\n",
       " '_expanddim_from_mgr',\n",
       " '_find_valid_index',\n",
       " '_flags',\n",
       " '_flex_method',\n",
       " '_from_mgr',\n",
       " '_get_axis',\n",
       " '_get_axis_name',\n",
       " '_get_axis_number',\n",
       " '_get_axis_resolvers',\n",
       " '_get_block_manager_axis',\n",
       " '_get_bool_data',\n",
       " '_get_cacher',\n",
       " '_get_cleaned_column_resolvers',\n",
       " '_get_index_resolvers',\n",
       " '_get_label_or_level_values',\n",
       " '_get_numeric_data',\n",
       " '_get_rows_with_mask',\n",
       " '_get_value',\n",
       " '_get_values_tuple',\n",
       " '_get_with',\n",
       " '_getitem_slice',\n",
       " '_gotitem',\n",
       " '_hidden_attrs',\n",
       " '_indexed_same',\n",
       " '_info_axis',\n",
       " '_info_axis_name',\n",
       " '_info_axis_number',\n",
       " '_init_dict',\n",
       " '_init_mgr',\n",
       " '_inplace_method',\n",
       " '_internal_names',\n",
       " '_internal_names_set',\n",
       " '_is_cached',\n",
       " '_is_copy',\n",
       " '_is_label_or_level_reference',\n",
       " '_is_label_reference',\n",
       " '_is_level_reference',\n",
       " '_is_mixed_type',\n",
       " '_is_view',\n",
       " '_item_cache',\n",
       " '_ixs',\n",
       " '_logical_func',\n",
       " '_logical_method',\n",
       " '_map_values',\n",
       " '_maybe_update_cacher',\n",
       " '_memory_usage',\n",
       " '_metadata',\n",
       " '_mgr',\n",
       " '_min_count_stat_function',\n",
       " '_name',\n",
       " '_needs_reindex_multi',\n",
       " '_pad_or_backfill',\n",
       " '_protect_consolidate',\n",
       " '_reduce',\n",
       " '_references',\n",
       " '_reindex_axes',\n",
       " '_reindex_indexer',\n",
       " '_reindex_multi',\n",
       " '_reindex_with_indexers',\n",
       " '_rename',\n",
       " '_replace_single',\n",
       " '_repr_data_resource_',\n",
       " '_repr_latex_',\n",
       " '_reset_cache',\n",
       " '_reset_cacher',\n",
       " '_set_as_cached',\n",
       " '_set_axis',\n",
       " '_set_axis_name',\n",
       " '_set_axis_nocheck',\n",
       " '_set_is_copy',\n",
       " '_set_labels',\n",
       " '_set_name',\n",
       " '_set_value',\n",
       " '_set_values',\n",
       " '_set_with',\n",
       " '_set_with_engine',\n",
       " '_shift_with_freq',\n",
       " '_slice',\n",
       " '_stat_function',\n",
       " '_stat_function_ddof',\n",
       " '_take_with_is_copy',\n",
       " '_to_latex_via_styler',\n",
       " '_typ',\n",
       " '_update_inplace',\n",
       " '_validate_dtype',\n",
       " '_values',\n",
       " '_where',\n",
       " 'abs',\n",
       " 'add',\n",
       " 'add_prefix',\n",
       " 'add_suffix',\n",
       " 'agg',\n",
       " 'aggregate',\n",
       " 'align',\n",
       " 'all',\n",
       " 'any',\n",
       " 'apply',\n",
       " 'argmax',\n",
       " 'argmin',\n",
       " 'argsort',\n",
       " 'array',\n",
       " 'asfreq',\n",
       " 'asof',\n",
       " 'astype',\n",
       " 'at',\n",
       " 'at_time',\n",
       " 'attrs',\n",
       " 'autocorr',\n",
       " 'axes',\n",
       " 'backfill',\n",
       " 'between',\n",
       " 'between_time',\n",
       " 'bfill',\n",
       " 'bool',\n",
       " 'clip',\n",
       " 'combine',\n",
       " 'combine_first',\n",
       " 'compare',\n",
       " 'convert_dtypes',\n",
       " 'copy',\n",
       " 'corr',\n",
       " 'count',\n",
       " 'cov',\n",
       " 'cummax',\n",
       " 'cummin',\n",
       " 'cumprod',\n",
       " 'cumsum',\n",
       " 'describe',\n",
       " 'diff',\n",
       " 'div',\n",
       " 'divide',\n",
       " 'divmod',\n",
       " 'dot',\n",
       " 'drop',\n",
       " 'drop_duplicates',\n",
       " 'droplevel',\n",
       " 'dropna',\n",
       " 'dtype',\n",
       " 'dtypes',\n",
       " 'duplicated',\n",
       " 'empty',\n",
       " 'eq',\n",
       " 'equals',\n",
       " 'ewm',\n",
       " 'expanding',\n",
       " 'explode',\n",
       " 'factorize',\n",
       " 'ffill',\n",
       " 'fillna',\n",
       " 'filter',\n",
       " 'first',\n",
       " 'first_valid_index',\n",
       " 'flags',\n",
       " 'floordiv',\n",
       " 'ge',\n",
       " 'get',\n",
       " 'groupby',\n",
       " 'gt',\n",
       " 'hasnans',\n",
       " 'head',\n",
       " 'hist',\n",
       " 'iat',\n",
       " 'idxmax',\n",
       " 'idxmin',\n",
       " 'iloc',\n",
       " 'index',\n",
       " 'infer_objects',\n",
       " 'info',\n",
       " 'interpolate',\n",
       " 'is_monotonic_decreasing',\n",
       " 'is_monotonic_increasing',\n",
       " 'is_unique',\n",
       " 'isin',\n",
       " 'isna',\n",
       " 'isnull',\n",
       " 'item',\n",
       " 'items',\n",
       " 'keys',\n",
       " 'kurt',\n",
       " 'kurtosis',\n",
       " 'last',\n",
       " 'last_valid_index',\n",
       " 'le',\n",
       " 'loc',\n",
       " 'lt',\n",
       " 'map',\n",
       " 'mask',\n",
       " 'max',\n",
       " 'mean',\n",
       " 'median',\n",
       " 'memory_usage',\n",
       " 'min',\n",
       " 'mod',\n",
       " 'mode',\n",
       " 'mul',\n",
       " 'multiply',\n",
       " 'name',\n",
       " 'nbytes',\n",
       " 'ndim',\n",
       " 'ne',\n",
       " 'nlargest',\n",
       " 'notna',\n",
       " 'notnull',\n",
       " 'nsmallest',\n",
       " 'nunique',\n",
       " 'pad',\n",
       " 'pct_change',\n",
       " 'pipe',\n",
       " 'plot',\n",
       " 'pop',\n",
       " 'pow',\n",
       " 'prod',\n",
       " 'product',\n",
       " 'quantile',\n",
       " 'radd',\n",
       " 'rank',\n",
       " 'ravel',\n",
       " 'rdiv',\n",
       " 'rdivmod',\n",
       " 'reindex',\n",
       " 'reindex_like',\n",
       " 'rename',\n",
       " 'rename_axis',\n",
       " 'reorder_levels',\n",
       " 'repeat',\n",
       " 'replace',\n",
       " 'resample',\n",
       " 'reset_index',\n",
       " 'rfloordiv',\n",
       " 'rmod',\n",
       " 'rmul',\n",
       " 'rolling',\n",
       " 'round',\n",
       " 'rpow',\n",
       " 'rsub',\n",
       " 'rtruediv',\n",
       " 'sample',\n",
       " 'searchsorted',\n",
       " 'sem',\n",
       " 'set_axis',\n",
       " 'set_flags',\n",
       " 'shape',\n",
       " 'shift',\n",
       " 'size',\n",
       " 'skew',\n",
       " 'sort_index',\n",
       " 'sort_values',\n",
       " 'squeeze',\n",
       " 'std',\n",
       " 'sub',\n",
       " 'subtract',\n",
       " 'sum',\n",
       " 'swapaxes',\n",
       " 'swaplevel',\n",
       " 'tail',\n",
       " 'take',\n",
       " 'to_clipboard',\n",
       " 'to_csv',\n",
       " 'to_dict',\n",
       " 'to_excel',\n",
       " 'to_frame',\n",
       " 'to_hdf',\n",
       " 'to_json',\n",
       " 'to_latex',\n",
       " 'to_list',\n",
       " 'to_markdown',\n",
       " 'to_numpy',\n",
       " 'to_period',\n",
       " 'to_pickle',\n",
       " 'to_sql',\n",
       " 'to_string',\n",
       " 'to_timestamp',\n",
       " 'to_xarray',\n",
       " 'transform',\n",
       " 'transpose',\n",
       " 'truediv',\n",
       " 'truncate',\n",
       " 'tz_convert',\n",
       " 'tz_localize',\n",
       " 'unique',\n",
       " 'unstack',\n",
       " 'update',\n",
       " 'value_counts',\n",
       " 'values',\n",
       " 'var',\n",
       " 'view',\n",
       " 'where',\n",
       " 'xs']"
      ]
     },
     "execution_count": 42,
     "metadata": {},
     "output_type": "execute_result"
    }
   ],
   "source": [
    "dir(data)"
   ]
  },
  {
   "cell_type": "code",
   "execution_count": 43,
   "id": "b8509af8-9630-4db0-850f-428b570e8712",
   "metadata": {
    "tags": []
   },
   "outputs": [
    {
     "data": {
      "text/plain": [
       "0     1\n",
       "1    10\n",
       "3    12\n",
       "4    22\n",
       "dtype: int64"
      ]
     },
     "execution_count": 43,
     "metadata": {},
     "output_type": "execute_result"
    }
   ],
   "source": [
    "data.apply(lambda x: int(x))"
   ]
  },
  {
   "cell_type": "code",
   "execution_count": 44,
   "id": "2bb0a49e-4ac6-42cc-8683-7f6f90adc6c3",
   "metadata": {
    "tags": []
   },
   "outputs": [
    {
     "data": {
      "text/plain": [
       "0    0.841471\n",
       "1   -0.544021\n",
       "3   -0.536573\n",
       "4   -0.008851\n",
       "dtype: float64"
      ]
     },
     "execution_count": 44,
     "metadata": {},
     "output_type": "execute_result"
    }
   ],
   "source": [
    "from math import sin\n",
    "\n",
    "data.apply(lambda x: sin(x))"
   ]
  },
  {
   "cell_type": "markdown",
   "id": "0efff731-4ec4-4a3f-8163-61ede5badaff",
   "metadata": {},
   "source": [
    "## Aplicación\n",
    "Se tiene información de los tiempos promedio de un conjunto de 25 nadadores de 100 mt y se quiere seleccionar a los 5 que tengan un mejor tiempo."
   ]
  },
  {
   "cell_type": "code",
   "execution_count": 21,
   "id": "78ecd7c8-e2b1-4e7f-b41c-945fe5fe3522",
   "metadata": {
    "tags": []
   },
   "outputs": [
    {
     "data": {
      "text/plain": [
       "Atleta 1     104.249488\n",
       "Atleta 2     171.597908\n",
       "Atleta 3     128.043406\n",
       "Atleta 4     127.312573\n",
       "Atleta 5     115.714132\n",
       "Atleta 6     107.546422\n",
       "Atleta 7     128.228820\n",
       "Atleta 8     104.004085\n",
       "Atleta 9      93.420187\n",
       "Atleta 10    110.773027\n",
       "Atleta 11    123.658689\n",
       "Atleta 12    173.370834\n",
       "Atleta 13    171.457799\n",
       "Atleta 14    171.891250\n",
       "Atleta 15    166.417704\n",
       "Atleta 16    148.870401\n",
       "Atleta 17    170.974913\n",
       "Atleta 18    143.783741\n",
       "Atleta 19    145.223128\n",
       "Atleta 20    157.865996\n",
       "Atleta 21    107.919602\n",
       "Atleta 22    170.137134\n",
       "Atleta 23    100.216550\n",
       "Atleta 24    154.052401\n",
       "Atleta 25    136.286623\n",
       "dtype: float64"
      ]
     },
     "execution_count": 21,
     "metadata": {},
     "output_type": "execute_result"
    }
   ],
   "source": [
    "import numpy as np\n",
    "import pandas as pd\n",
    "\n",
    "tiempos = pd.Series(data=np.random.uniform(90, 180, 25), \n",
    "                    index=[f\"Atleta {x}\" for x in range(1, 26)])\n",
    "tiempos"
   ]
  },
  {
   "cell_type": "code",
   "execution_count": 53,
   "id": "58557280-f9a2-450e-aea4-4734796613f0",
   "metadata": {},
   "outputs": [
    {
     "data": {
      "text/plain": [
       "Atleta 19     98.34 seg\n",
       "Atleta 14    100.36 seg\n",
       "Atleta 6     106.01 seg\n",
       "Atleta 22    108.46 seg\n",
       "Atleta 8     110.07 seg\n",
       "dtype: object"
      ]
     },
     "execution_count": 53,
     "metadata": {},
     "output_type": "execute_result"
    }
   ],
   "source": [
    "tiempos.sort_values().iloc[:5].apply(lambda x: round(x, 2)).apply(lambda x: f\"{x} seg\")"
   ]
  },
  {
   "cell_type": "code",
   "execution_count": 62,
   "id": "66be58a4-76e5-40ef-9dd6-bf6e504bca7a",
   "metadata": {},
   "outputs": [
    {
     "data": {
      "text/plain": [
       "Atleta 07    152.370429\n",
       "Atleta 21    140.396507\n",
       "dtype: float64"
      ]
     },
     "execution_count": 62,
     "metadata": {},
     "output_type": "execute_result"
    }
   ],
   "source": [
    "tiempos[(tiempos > 135) & (tiempos < 155)].rename(lambda x: f\"Atleta {x.split()[-1]:0>2}\").sort_index()"
   ]
  },
  {
   "cell_type": "markdown",
   "id": "b03bd855-9437-4154-bcb6-3c6e90264b03",
   "metadata": {
    "tags": []
   },
   "source": [
    "## DataFrame"
   ]
  },
  {
   "cell_type": "code",
   "execution_count": 3,
   "id": "07768d7d-7c4d-4c1a-b5a8-11610991e2ee",
   "metadata": {
    "tags": []
   },
   "outputs": [
    {
     "data": {
      "text/html": [
       "<div>\n",
       "<style scoped>\n",
       "    .dataframe tbody tr th:only-of-type {\n",
       "        vertical-align: middle;\n",
       "    }\n",
       "\n",
       "    .dataframe tbody tr th {\n",
       "        vertical-align: top;\n",
       "    }\n",
       "\n",
       "    .dataframe thead th {\n",
       "        text-align: right;\n",
       "    }\n",
       "</style>\n",
       "<table border=\"1\" class=\"dataframe\">\n",
       "  <thead>\n",
       "    <tr style=\"text-align: right;\">\n",
       "      <th></th>\n",
       "      <th>0</th>\n",
       "    </tr>\n",
       "  </thead>\n",
       "  <tbody>\n",
       "    <tr>\n",
       "      <th>0</th>\n",
       "      <td>A</td>\n",
       "    </tr>\n",
       "    <tr>\n",
       "      <th>1</th>\n",
       "      <td>B</td>\n",
       "    </tr>\n",
       "    <tr>\n",
       "      <th>2</th>\n",
       "      <td>C</td>\n",
       "    </tr>\n",
       "  </tbody>\n",
       "</table>\n",
       "</div>"
      ],
      "text/plain": [
       "   0\n",
       "0  A\n",
       "1  B\n",
       "2  C"
      ]
     },
     "execution_count": 3,
     "metadata": {},
     "output_type": "execute_result"
    }
   ],
   "source": [
    "df = pd.DataFrame(['A', 'B', 'C'])\n",
    "df"
   ]
  },
  {
   "cell_type": "code",
   "execution_count": 4,
   "id": "212c5847-a668-4a04-a1a1-69bb28fcc951",
   "metadata": {
    "tags": []
   },
   "outputs": [
    {
     "data": {
      "text/html": [
       "<div>\n",
       "<style scoped>\n",
       "    .dataframe tbody tr th:only-of-type {\n",
       "        vertical-align: middle;\n",
       "    }\n",
       "\n",
       "    .dataframe tbody tr th {\n",
       "        vertical-align: top;\n",
       "    }\n",
       "\n",
       "    .dataframe thead th {\n",
       "        text-align: right;\n",
       "    }\n",
       "</style>\n",
       "<table border=\"1\" class=\"dataframe\">\n",
       "  <thead>\n",
       "    <tr style=\"text-align: right;\">\n",
       "      <th></th>\n",
       "      <th>0</th>\n",
       "      <th>1</th>\n",
       "      <th>2</th>\n",
       "    </tr>\n",
       "  </thead>\n",
       "  <tbody>\n",
       "    <tr>\n",
       "      <th>0</th>\n",
       "      <td>A</td>\n",
       "      <td>B</td>\n",
       "      <td>C</td>\n",
       "    </tr>\n",
       "    <tr>\n",
       "      <th>1</th>\n",
       "      <td>D</td>\n",
       "      <td>E</td>\n",
       "      <td>F</td>\n",
       "    </tr>\n",
       "    <tr>\n",
       "      <th>2</th>\n",
       "      <td>G</td>\n",
       "      <td>H</td>\n",
       "      <td>I</td>\n",
       "    </tr>\n",
       "  </tbody>\n",
       "</table>\n",
       "</div>"
      ],
      "text/plain": [
       "   0  1  2\n",
       "0  A  B  C\n",
       "1  D  E  F\n",
       "2  G  H  I"
      ]
     },
     "execution_count": 4,
     "metadata": {},
     "output_type": "execute_result"
    }
   ],
   "source": [
    "df = pd.DataFrame([['A', 'B', 'C'], ['D', 'E', 'F'], ['G', 'H', 'I']])\n",
    "df"
   ]
  },
  {
   "cell_type": "code",
   "execution_count": 5,
   "id": "9c02d78f-fbe2-46f8-acc4-1e6f0a930b01",
   "metadata": {
    "tags": []
   },
   "outputs": [
    {
     "data": {
      "text/html": [
       "<div>\n",
       "<style scoped>\n",
       "    .dataframe tbody tr th:only-of-type {\n",
       "        vertical-align: middle;\n",
       "    }\n",
       "\n",
       "    .dataframe tbody tr th {\n",
       "        vertical-align: top;\n",
       "    }\n",
       "\n",
       "    .dataframe thead th {\n",
       "        text-align: right;\n",
       "    }\n",
       "</style>\n",
       "<table border=\"1\" class=\"dataframe\">\n",
       "  <thead>\n",
       "    <tr style=\"text-align: right;\">\n",
       "      <th></th>\n",
       "      <th>C1</th>\n",
       "      <th>C2</th>\n",
       "      <th>C3</th>\n",
       "    </tr>\n",
       "  </thead>\n",
       "  <tbody>\n",
       "    <tr>\n",
       "      <th>I1</th>\n",
       "      <td>A</td>\n",
       "      <td>B</td>\n",
       "      <td>C</td>\n",
       "    </tr>\n",
       "    <tr>\n",
       "      <th>I2</th>\n",
       "      <td>D</td>\n",
       "      <td>E</td>\n",
       "      <td>F</td>\n",
       "    </tr>\n",
       "    <tr>\n",
       "      <th>I3</th>\n",
       "      <td>G</td>\n",
       "      <td>H</td>\n",
       "      <td>I</td>\n",
       "    </tr>\n",
       "  </tbody>\n",
       "</table>\n",
       "</div>"
      ],
      "text/plain": [
       "   C1 C2 C3\n",
       "I1  A  B  C\n",
       "I2  D  E  F\n",
       "I3  G  H  I"
      ]
     },
     "execution_count": 5,
     "metadata": {},
     "output_type": "execute_result"
    }
   ],
   "source": [
    "df = pd.DataFrame(data=[['A', 'B', 'C'], ['D', 'E', 'F'], ['G', 'H', 'I']], \n",
    "                  columns=['C1', 'C2', 'C3'], \n",
    "                  index=['I1', 'I2', 'I3'])\n",
    "df"
   ]
  },
  {
   "cell_type": "code",
   "execution_count": 6,
   "id": "3f343db4-af94-4245-b40f-ff43772df030",
   "metadata": {
    "tags": []
   },
   "outputs": [
    {
     "data": {
      "text/html": [
       "<div>\n",
       "<style scoped>\n",
       "    .dataframe tbody tr th:only-of-type {\n",
       "        vertical-align: middle;\n",
       "    }\n",
       "\n",
       "    .dataframe tbody tr th {\n",
       "        vertical-align: top;\n",
       "    }\n",
       "\n",
       "    .dataframe thead th {\n",
       "        text-align: right;\n",
       "    }\n",
       "</style>\n",
       "<table border=\"1\" class=\"dataframe\">\n",
       "  <thead>\n",
       "    <tr style=\"text-align: right;\">\n",
       "      <th></th>\n",
       "      <th>C1</th>\n",
       "      <th>C2</th>\n",
       "      <th>C3</th>\n",
       "    </tr>\n",
       "  </thead>\n",
       "  <tbody>\n",
       "    <tr>\n",
       "      <th>I1</th>\n",
       "      <td>A</td>\n",
       "      <td>D</td>\n",
       "      <td>G</td>\n",
       "    </tr>\n",
       "    <tr>\n",
       "      <th>I2</th>\n",
       "      <td>B</td>\n",
       "      <td>E</td>\n",
       "      <td>H</td>\n",
       "    </tr>\n",
       "    <tr>\n",
       "      <th>I3</th>\n",
       "      <td>C</td>\n",
       "      <td>F</td>\n",
       "      <td>I</td>\n",
       "    </tr>\n",
       "  </tbody>\n",
       "</table>\n",
       "</div>"
      ],
      "text/plain": [
       "   C1 C2 C3\n",
       "I1  A  D  G\n",
       "I2  B  E  H\n",
       "I3  C  F  I"
      ]
     },
     "execution_count": 6,
     "metadata": {},
     "output_type": "execute_result"
    }
   ],
   "source": [
    "df = pd.DataFrame(data={'C1': ['A', 'B', 'C'], 'C2': ['D', 'E', 'F'], 'C3': ['G', 'H', 'I']}, \n",
    "                  index = ['I1', 'I2', 'I3'])\n",
    "df"
   ]
  },
  {
   "cell_type": "code",
   "execution_count": 7,
   "id": "cc812d97-9b69-4634-bec5-f948dae8c596",
   "metadata": {
    "tags": []
   },
   "outputs": [
    {
     "data": {
      "text/plain": [
       "I1    A\n",
       "I2    B\n",
       "I3    C\n",
       "Name: C1, dtype: object"
      ]
     },
     "execution_count": 7,
     "metadata": {},
     "output_type": "execute_result"
    }
   ],
   "source": [
    "df['C1']"
   ]
  },
  {
   "cell_type": "code",
   "execution_count": 8,
   "id": "dbf4489d-e2de-4410-9283-4b3769502313",
   "metadata": {
    "tags": []
   },
   "outputs": [
    {
     "data": {
      "text/plain": [
       "C1    A\n",
       "C2    D\n",
       "C3    G\n",
       "Name: I1, dtype: object"
      ]
     },
     "execution_count": 8,
     "metadata": {},
     "output_type": "execute_result"
    }
   ],
   "source": [
    "df.loc['I1']      # Array[filas, columnas]     # df.loc[filas, columnas]"
   ]
  },
  {
   "cell_type": "code",
   "execution_count": 9,
   "id": "61c36015-6f32-4410-8ba4-53bfca4e1f94",
   "metadata": {
    "tags": []
   },
   "outputs": [
    {
     "data": {
      "text/plain": [
       "C1    A\n",
       "C2    D\n",
       "C3    G\n",
       "Name: I1, dtype: object"
      ]
     },
     "execution_count": 9,
     "metadata": {},
     "output_type": "execute_result"
    }
   ],
   "source": [
    "df.iloc[0]"
   ]
  },
  {
   "cell_type": "code",
   "execution_count": 10,
   "id": "5f70d47a-e93e-4603-98df-b6986934ea60",
   "metadata": {
    "tags": []
   },
   "outputs": [
    {
     "data": {
      "text/plain": [
       "C1    A\n",
       "C2    D\n",
       "C3    G\n",
       "Name: I1, dtype: object"
      ]
     },
     "execution_count": 10,
     "metadata": {},
     "output_type": "execute_result"
    }
   ],
   "source": [
    "df.loc['I1', :]"
   ]
  },
  {
   "cell_type": "code",
   "execution_count": 11,
   "id": "2d828279-5309-48e2-999c-576992c136cc",
   "metadata": {
    "tags": []
   },
   "outputs": [
    {
     "data": {
      "text/plain": [
       "C1    A\n",
       "C2    D\n",
       "C3    G\n",
       "Name: I1, dtype: object"
      ]
     },
     "execution_count": 11,
     "metadata": {},
     "output_type": "execute_result"
    }
   ],
   "source": [
    "df.iloc[0, :]"
   ]
  },
  {
   "cell_type": "code",
   "execution_count": 12,
   "id": "7e103ee0-42ae-402a-ad26-f1221c154207",
   "metadata": {
    "tags": []
   },
   "outputs": [
    {
     "data": {
      "text/plain": [
       "'B'"
      ]
     },
     "execution_count": 12,
     "metadata": {},
     "output_type": "execute_result"
    }
   ],
   "source": [
    "df.loc['I2', 'C1']   # filas, columnas"
   ]
  },
  {
   "cell_type": "code",
   "execution_count": 13,
   "id": "baa0e80c-e5e2-4d09-9635-75fef98c57a1",
   "metadata": {
    "tags": []
   },
   "outputs": [
    {
     "data": {
      "text/plain": [
       "I1    D\n",
       "I2    E\n",
       "I3    F\n",
       "Name: C2, dtype: object"
      ]
     },
     "execution_count": 13,
     "metadata": {},
     "output_type": "execute_result"
    }
   ],
   "source": [
    "df.iloc[:, 1]"
   ]
  },
  {
   "cell_type": "code",
   "execution_count": 14,
   "id": "21c9d455-223e-49c9-a42d-d8a196d933e8",
   "metadata": {
    "tags": []
   },
   "outputs": [
    {
     "data": {
      "text/html": [
       "<div>\n",
       "<style scoped>\n",
       "    .dataframe tbody tr th:only-of-type {\n",
       "        vertical-align: middle;\n",
       "    }\n",
       "\n",
       "    .dataframe tbody tr th {\n",
       "        vertical-align: top;\n",
       "    }\n",
       "\n",
       "    .dataframe thead th {\n",
       "        text-align: right;\n",
       "    }\n",
       "</style>\n",
       "<table border=\"1\" class=\"dataframe\">\n",
       "  <thead>\n",
       "    <tr style=\"text-align: right;\">\n",
       "      <th></th>\n",
       "      <th>C2</th>\n",
       "    </tr>\n",
       "  </thead>\n",
       "  <tbody>\n",
       "    <tr>\n",
       "      <th>I1</th>\n",
       "      <td>D</td>\n",
       "    </tr>\n",
       "    <tr>\n",
       "      <th>I2</th>\n",
       "      <td>E</td>\n",
       "    </tr>\n",
       "    <tr>\n",
       "      <th>I3</th>\n",
       "      <td>F</td>\n",
       "    </tr>\n",
       "  </tbody>\n",
       "</table>\n",
       "</div>"
      ],
      "text/plain": [
       "   C2\n",
       "I1  D\n",
       "I2  E\n",
       "I3  F"
      ]
     },
     "execution_count": 14,
     "metadata": {},
     "output_type": "execute_result"
    }
   ],
   "source": [
    "df.iloc[:, 1:2]"
   ]
  },
  {
   "cell_type": "code",
   "execution_count": 16,
   "id": "4c557c59-0d21-4f16-bbbb-c3a4ec765c32",
   "metadata": {
    "tags": []
   },
   "outputs": [
    {
     "name": "stdout",
     "output_type": "stream",
     "text": [
      "I1    A\n",
      "I2    B\n",
      "I3    C\n",
      "Name: C1, dtype: object\n",
      "I1    D\n",
      "I2    E\n",
      "I3    F\n",
      "Name: C2, dtype: object\n",
      "I1    G\n",
      "I2    H\n",
      "I3    I\n",
      "Name: C3, dtype: object\n"
     ]
    }
   ],
   "source": [
    "for col in df:\n",
    "    #print(col)\n",
    "    print(df.get(col))"
   ]
  },
  {
   "cell_type": "code",
   "execution_count": 17,
   "id": "bd5a7be8-5b1a-48b4-bec6-c5a25170c4cc",
   "metadata": {
    "tags": []
   },
   "outputs": [
    {
     "data": {
      "text/html": [
       "<div>\n",
       "<style scoped>\n",
       "    .dataframe tbody tr th:only-of-type {\n",
       "        vertical-align: middle;\n",
       "    }\n",
       "\n",
       "    .dataframe tbody tr th {\n",
       "        vertical-align: top;\n",
       "    }\n",
       "\n",
       "    .dataframe thead th {\n",
       "        text-align: right;\n",
       "    }\n",
       "</style>\n",
       "<table border=\"1\" class=\"dataframe\">\n",
       "  <thead>\n",
       "    <tr style=\"text-align: right;\">\n",
       "      <th></th>\n",
       "      <th>C1</th>\n",
       "      <th>C2</th>\n",
       "      <th>C3</th>\n",
       "    </tr>\n",
       "  </thead>\n",
       "  <tbody>\n",
       "    <tr>\n",
       "      <th>I1</th>\n",
       "      <td>A</td>\n",
       "      <td>B</td>\n",
       "      <td>C</td>\n",
       "    </tr>\n",
       "    <tr>\n",
       "      <th>I2</th>\n",
       "      <td>D</td>\n",
       "      <td>E</td>\n",
       "      <td>F</td>\n",
       "    </tr>\n",
       "    <tr>\n",
       "      <th>I3</th>\n",
       "      <td>G</td>\n",
       "      <td>H</td>\n",
       "      <td>I</td>\n",
       "    </tr>\n",
       "  </tbody>\n",
       "</table>\n",
       "</div>"
      ],
      "text/plain": [
       "   C1 C2 C3\n",
       "I1  A  B  C\n",
       "I2  D  E  F\n",
       "I3  G  H  I"
      ]
     },
     "execution_count": 17,
     "metadata": {},
     "output_type": "execute_result"
    }
   ],
   "source": [
    "df = pd.DataFrame(data=[['A', 'B', 'C'], ['D', 'E', 'F'], ['G', 'H', 'I']], \n",
    "                  columns=['C1', 'C2', 'C3'], \n",
    "                  index=['I1', 'I2', 'I3'])\n",
    "df"
   ]
  },
  {
   "cell_type": "code",
   "execution_count": 18,
   "id": "46ad468e-c71f-4fee-bbdb-69f1f44316a7",
   "metadata": {
    "tags": []
   },
   "outputs": [
    {
     "data": {
      "text/html": [
       "<div>\n",
       "<style scoped>\n",
       "    .dataframe tbody tr th:only-of-type {\n",
       "        vertical-align: middle;\n",
       "    }\n",
       "\n",
       "    .dataframe tbody tr th {\n",
       "        vertical-align: top;\n",
       "    }\n",
       "\n",
       "    .dataframe thead th {\n",
       "        text-align: right;\n",
       "    }\n",
       "</style>\n",
       "<table border=\"1\" class=\"dataframe\">\n",
       "  <thead>\n",
       "    <tr style=\"text-align: right;\">\n",
       "      <th></th>\n",
       "      <th>C1</th>\n",
       "      <th>C2</th>\n",
       "      <th>C3</th>\n",
       "    </tr>\n",
       "  </thead>\n",
       "  <tbody>\n",
       "    <tr>\n",
       "      <th>I2</th>\n",
       "      <td>D</td>\n",
       "      <td>E</td>\n",
       "      <td>F</td>\n",
       "    </tr>\n",
       "    <tr>\n",
       "      <th>I3</th>\n",
       "      <td>G</td>\n",
       "      <td>H</td>\n",
       "      <td>I</td>\n",
       "    </tr>\n",
       "  </tbody>\n",
       "</table>\n",
       "</div>"
      ],
      "text/plain": [
       "   C1 C2 C3\n",
       "I2  D  E  F\n",
       "I3  G  H  I"
      ]
     },
     "execution_count": 18,
     "metadata": {},
     "output_type": "execute_result"
    }
   ],
   "source": [
    "df.drop(index='I1')"
   ]
  },
  {
   "cell_type": "code",
   "execution_count": null,
   "id": "0679c987-c4f0-4f5d-ab1f-31790a4391e7",
   "metadata": {
    "tags": []
   },
   "outputs": [],
   "source": [
    "df.drop(columns='C2')   # inplace=True"
   ]
  },
  {
   "cell_type": "code",
   "execution_count": 19,
   "id": "f8e4aaf7-ab96-454c-97c2-49e7fd71b5d3",
   "metadata": {
    "tags": []
   },
   "outputs": [
    {
     "name": "stdout",
     "output_type": "stream",
     "text": [
      "I1    B\n",
      "I2    E\n",
      "I3    H\n",
      "Name: C2, dtype: object\n",
      "   C1 C3\n",
      "I1  A  C\n",
      "I2  D  F\n",
      "I3  G  I\n"
     ]
    }
   ],
   "source": [
    "columns = df.pop('C2')\n",
    "print(columns)\n",
    "print(df)"
   ]
  },
  {
   "cell_type": "code",
   "execution_count": 22,
   "id": "01c543ff-e0e4-4d10-80e9-1d2176e1b5ac",
   "metadata": {
    "tags": []
   },
   "outputs": [
    {
     "data": {
      "text/html": [
       "<div>\n",
       "<style scoped>\n",
       "    .dataframe tbody tr th:only-of-type {\n",
       "        vertical-align: middle;\n",
       "    }\n",
       "\n",
       "    .dataframe tbody tr th {\n",
       "        vertical-align: top;\n",
       "    }\n",
       "\n",
       "    .dataframe thead th {\n",
       "        text-align: right;\n",
       "    }\n",
       "</style>\n",
       "<table border=\"1\" class=\"dataframe\">\n",
       "  <thead>\n",
       "    <tr style=\"text-align: right;\">\n",
       "      <th></th>\n",
       "      <th>C1</th>\n",
       "      <th>C2</th>\n",
       "      <th>C3</th>\n",
       "      <th>C4</th>\n",
       "      <th>C5</th>\n",
       "      <th>C6</th>\n",
       "      <th>C7</th>\n",
       "      <th>C8</th>\n",
       "    </tr>\n",
       "  </thead>\n",
       "  <tbody>\n",
       "    <tr>\n",
       "      <th>0</th>\n",
       "      <td>13</td>\n",
       "      <td>44</td>\n",
       "      <td>37</td>\n",
       "      <td>20</td>\n",
       "      <td>27</td>\n",
       "      <td>37</td>\n",
       "      <td>45</td>\n",
       "      <td>30</td>\n",
       "    </tr>\n",
       "    <tr>\n",
       "      <th>1</th>\n",
       "      <td>38</td>\n",
       "      <td>46</td>\n",
       "      <td>38</td>\n",
       "      <td>48</td>\n",
       "      <td>39</td>\n",
       "      <td>10</td>\n",
       "      <td>34</td>\n",
       "      <td>33</td>\n",
       "    </tr>\n",
       "    <tr>\n",
       "      <th>2</th>\n",
       "      <td>35</td>\n",
       "      <td>19</td>\n",
       "      <td>31</td>\n",
       "      <td>30</td>\n",
       "      <td>34</td>\n",
       "      <td>45</td>\n",
       "      <td>14</td>\n",
       "      <td>40</td>\n",
       "    </tr>\n",
       "    <tr>\n",
       "      <th>3</th>\n",
       "      <td>17</td>\n",
       "      <td>48</td>\n",
       "      <td>17</td>\n",
       "      <td>10</td>\n",
       "      <td>45</td>\n",
       "      <td>35</td>\n",
       "      <td>37</td>\n",
       "      <td>41</td>\n",
       "    </tr>\n",
       "    <tr>\n",
       "      <th>4</th>\n",
       "      <td>35</td>\n",
       "      <td>24</td>\n",
       "      <td>33</td>\n",
       "      <td>42</td>\n",
       "      <td>11</td>\n",
       "      <td>38</td>\n",
       "      <td>13</td>\n",
       "      <td>49</td>\n",
       "    </tr>\n",
       "  </tbody>\n",
       "</table>\n",
       "</div>"
      ],
      "text/plain": [
       "   C1  C2  C3  C4  C5  C6  C7  C8\n",
       "0  13  44  37  20  27  37  45  30\n",
       "1  38  46  38  48  39  10  34  33\n",
       "2  35  19  31  30  34  45  14  40\n",
       "3  17  48  17  10  45  35  37  41\n",
       "4  35  24  33  42  11  38  13  49"
      ]
     },
     "execution_count": 22,
     "metadata": {},
     "output_type": "execute_result"
    }
   ],
   "source": [
    "numeros = np.random.randint(10, 50, (5, 8))\n",
    "df = pd.DataFrame(numeros, columns=[f\"C{idx}\" for idx in range(1, 9)])\n",
    "df"
   ]
  },
  {
   "cell_type": "code",
   "execution_count": 23,
   "id": "84316319-01e9-4e28-9f18-18b1381228de",
   "metadata": {
    "tags": []
   },
   "outputs": [
    {
     "data": {
      "text/plain": [
       "C1    27.6\n",
       "C2    36.2\n",
       "C3    31.2\n",
       "C4    30.0\n",
       "C5    31.2\n",
       "C6    33.0\n",
       "C7    28.6\n",
       "C8    38.6\n",
       "dtype: float64"
      ]
     },
     "execution_count": 23,
     "metadata": {},
     "output_type": "execute_result"
    }
   ],
   "source": [
    "df.mean()"
   ]
  },
  {
   "cell_type": "code",
   "execution_count": 24,
   "id": "6f693928-85b8-4217-8338-d693d4824251",
   "metadata": {
    "tags": []
   },
   "outputs": [
    {
     "data": {
      "text/plain": [
       "0    31.625\n",
       "1    35.750\n",
       "2    31.000\n",
       "3    31.250\n",
       "4    30.625\n",
       "dtype: float64"
      ]
     },
     "execution_count": 24,
     "metadata": {},
     "output_type": "execute_result"
    }
   ],
   "source": [
    "df.mean(axis=1)"
   ]
  },
  {
   "cell_type": "code",
   "execution_count": 25,
   "id": "f68027f0-8703-423e-924f-ebc530e8f5db",
   "metadata": {
    "tags": []
   },
   "outputs": [
    {
     "data": {
      "text/plain": [
       "C3    31.2\n",
       "C4    30.0\n",
       "C5    31.2\n",
       "dtype: float64"
      ]
     },
     "execution_count": 25,
     "metadata": {},
     "output_type": "execute_result"
    }
   ],
   "source": [
    "df.iloc[:, 2:5].mean()"
   ]
  },
  {
   "cell_type": "markdown",
   "id": "f5a049fc-12b3-43bd-81a5-853484110e63",
   "metadata": {},
   "source": [
    "## Aplicación\n",
    "Se tiene un registro de 5 notas de 16 estudiantes y se quieren realizar algunas acciones sobre esta información:\n",
    "\n",
    "1. Obtener el promedio por cada evaluacion\n",
    "2. Obtener el promedio por estudiante\n",
    "3. Obtener el listado de los estudiantes que han aprobado el promedio de evaluaciones (>11.5)\n",
    "4. Modificar las notas de la evaluacion 5 de tal forma que los estudiantes que tengan < 8 tengan ayuda de 3 puntos y mostrar los nuevos promedios"
   ]
  },
  {
   "cell_type": "code",
   "execution_count": 48,
   "id": "76547060-1d48-41ca-a4df-e302825b4394",
   "metadata": {
    "tags": []
   },
   "outputs": [
    {
     "data": {
      "text/html": [
       "<div>\n",
       "<style scoped>\n",
       "    .dataframe tbody tr th:only-of-type {\n",
       "        vertical-align: middle;\n",
       "    }\n",
       "\n",
       "    .dataframe tbody tr th {\n",
       "        vertical-align: top;\n",
       "    }\n",
       "\n",
       "    .dataframe thead th {\n",
       "        text-align: right;\n",
       "    }\n",
       "</style>\n",
       "<table border=\"1\" class=\"dataframe\">\n",
       "  <thead>\n",
       "    <tr style=\"text-align: right;\">\n",
       "      <th></th>\n",
       "      <th>N1</th>\n",
       "      <th>N2</th>\n",
       "      <th>N3</th>\n",
       "      <th>N4</th>\n",
       "      <th>N5</th>\n",
       "    </tr>\n",
       "  </thead>\n",
       "  <tbody>\n",
       "    <tr>\n",
       "      <th>Estudiante 1</th>\n",
       "      <td>10</td>\n",
       "      <td>3</td>\n",
       "      <td>7</td>\n",
       "      <td>7</td>\n",
       "      <td>18</td>\n",
       "    </tr>\n",
       "    <tr>\n",
       "      <th>Estudiante 2</th>\n",
       "      <td>6</td>\n",
       "      <td>19</td>\n",
       "      <td>17</td>\n",
       "      <td>11</td>\n",
       "      <td>13</td>\n",
       "    </tr>\n",
       "    <tr>\n",
       "      <th>Estudiante 3</th>\n",
       "      <td>6</td>\n",
       "      <td>3</td>\n",
       "      <td>12</td>\n",
       "      <td>11</td>\n",
       "      <td>15</td>\n",
       "    </tr>\n",
       "    <tr>\n",
       "      <th>Estudiante 4</th>\n",
       "      <td>15</td>\n",
       "      <td>3</td>\n",
       "      <td>8</td>\n",
       "      <td>3</td>\n",
       "      <td>7</td>\n",
       "    </tr>\n",
       "    <tr>\n",
       "      <th>Estudiante 5</th>\n",
       "      <td>18</td>\n",
       "      <td>14</td>\n",
       "      <td>4</td>\n",
       "      <td>10</td>\n",
       "      <td>8</td>\n",
       "    </tr>\n",
       "    <tr>\n",
       "      <th>Estudiante 6</th>\n",
       "      <td>7</td>\n",
       "      <td>17</td>\n",
       "      <td>10</td>\n",
       "      <td>7</td>\n",
       "      <td>19</td>\n",
       "    </tr>\n",
       "    <tr>\n",
       "      <th>Estudiante 7</th>\n",
       "      <td>4</td>\n",
       "      <td>6</td>\n",
       "      <td>6</td>\n",
       "      <td>14</td>\n",
       "      <td>5</td>\n",
       "    </tr>\n",
       "    <tr>\n",
       "      <th>Estudiante 8</th>\n",
       "      <td>15</td>\n",
       "      <td>17</td>\n",
       "      <td>6</td>\n",
       "      <td>8</td>\n",
       "      <td>7</td>\n",
       "    </tr>\n",
       "    <tr>\n",
       "      <th>Estudiante 9</th>\n",
       "      <td>4</td>\n",
       "      <td>18</td>\n",
       "      <td>3</td>\n",
       "      <td>11</td>\n",
       "      <td>11</td>\n",
       "    </tr>\n",
       "    <tr>\n",
       "      <th>Estudiante 10</th>\n",
       "      <td>7</td>\n",
       "      <td>3</td>\n",
       "      <td>7</td>\n",
       "      <td>7</td>\n",
       "      <td>6</td>\n",
       "    </tr>\n",
       "    <tr>\n",
       "      <th>Estudiante 11</th>\n",
       "      <td>17</td>\n",
       "      <td>3</td>\n",
       "      <td>17</td>\n",
       "      <td>9</td>\n",
       "      <td>10</td>\n",
       "    </tr>\n",
       "    <tr>\n",
       "      <th>Estudiante 12</th>\n",
       "      <td>8</td>\n",
       "      <td>11</td>\n",
       "      <td>19</td>\n",
       "      <td>10</td>\n",
       "      <td>12</td>\n",
       "    </tr>\n",
       "    <tr>\n",
       "      <th>Estudiante 13</th>\n",
       "      <td>12</td>\n",
       "      <td>11</td>\n",
       "      <td>7</td>\n",
       "      <td>7</td>\n",
       "      <td>9</td>\n",
       "    </tr>\n",
       "    <tr>\n",
       "      <th>Estudiante 14</th>\n",
       "      <td>13</td>\n",
       "      <td>8</td>\n",
       "      <td>17</td>\n",
       "      <td>11</td>\n",
       "      <td>4</td>\n",
       "    </tr>\n",
       "    <tr>\n",
       "      <th>Estudiante 15</th>\n",
       "      <td>7</td>\n",
       "      <td>15</td>\n",
       "      <td>10</td>\n",
       "      <td>17</td>\n",
       "      <td>13</td>\n",
       "    </tr>\n",
       "    <tr>\n",
       "      <th>Estudiante 16</th>\n",
       "      <td>17</td>\n",
       "      <td>18</td>\n",
       "      <td>13</td>\n",
       "      <td>5</td>\n",
       "      <td>9</td>\n",
       "    </tr>\n",
       "  </tbody>\n",
       "</table>\n",
       "</div>"
      ],
      "text/plain": [
       "               N1  N2  N3  N4  N5\n",
       "Estudiante 1   10   3   7   7  18\n",
       "Estudiante 2    6  19  17  11  13\n",
       "Estudiante 3    6   3  12  11  15\n",
       "Estudiante 4   15   3   8   3   7\n",
       "Estudiante 5   18  14   4  10   8\n",
       "Estudiante 6    7  17  10   7  19\n",
       "Estudiante 7    4   6   6  14   5\n",
       "Estudiante 8   15  17   6   8   7\n",
       "Estudiante 9    4  18   3  11  11\n",
       "Estudiante 10   7   3   7   7   6\n",
       "Estudiante 11  17   3  17   9  10\n",
       "Estudiante 12   8  11  19  10  12\n",
       "Estudiante 13  12  11   7   7   9\n",
       "Estudiante 14  13   8  17  11   4\n",
       "Estudiante 15   7  15  10  17  13\n",
       "Estudiante 16  17  18  13   5   9"
      ]
     },
     "execution_count": 48,
     "metadata": {},
     "output_type": "execute_result"
    }
   ],
   "source": [
    "import pandas as pd\n",
    "import numpy as np\n",
    "\n",
    "notas = pd.DataFrame(data=np.random.randint(3, 20, (16, 5)), \n",
    "                     index=[f\"Estudiante {x}\" for x in range(1, 17)], \n",
    "                     columns=['N1', 'N2', 'N3', 'N4', 'N5'])\n",
    "notas"
   ]
  },
  {
   "cell_type": "code",
   "execution_count": 49,
   "id": "9283dbb2-4353-4170-8e04-23d9e70a456d",
   "metadata": {},
   "outputs": [
    {
     "data": {
      "text/plain": [
       "N1    10.3750\n",
       "N2    10.5625\n",
       "N3    10.1875\n",
       "N4     9.2500\n",
       "N5    10.3750\n",
       "dtype: float64"
      ]
     },
     "execution_count": 49,
     "metadata": {},
     "output_type": "execute_result"
    }
   ],
   "source": [
    "notas.mean(axis=0)"
   ]
  },
  {
   "cell_type": "code",
   "execution_count": 50,
   "id": "e31d158a-ffcc-4907-ab43-04ca8d21beef",
   "metadata": {},
   "outputs": [
    {
     "data": {
      "text/plain": [
       "Estudiante 1      9.0\n",
       "Estudiante 2     13.2\n",
       "Estudiante 3      9.4\n",
       "Estudiante 4      7.2\n",
       "Estudiante 5     10.8\n",
       "Estudiante 6     12.0\n",
       "Estudiante 7      7.0\n",
       "Estudiante 8     10.6\n",
       "Estudiante 9      9.4\n",
       "Estudiante 10     6.0\n",
       "Estudiante 11    11.2\n",
       "Estudiante 12    12.0\n",
       "Estudiante 13     9.2\n",
       "Estudiante 14    10.6\n",
       "Estudiante 15    12.4\n",
       "Estudiante 16    12.4\n",
       "dtype: float64"
      ]
     },
     "execution_count": 50,
     "metadata": {},
     "output_type": "execute_result"
    }
   ],
   "source": [
    "notas.mean(axis=1)"
   ]
  },
  {
   "cell_type": "code",
   "execution_count": 51,
   "id": "0f1e3ee0-0e9d-47e9-8d07-f7d7e30a858d",
   "metadata": {},
   "outputs": [
    {
     "data": {
      "text/plain": [
       "Estudiante 2     13.2\n",
       "Estudiante 15    12.4\n",
       "Estudiante 16    12.4\n",
       "Estudiante 6     12.0\n",
       "Estudiante 12    12.0\n",
       "dtype: float64"
      ]
     },
     "execution_count": 51,
     "metadata": {},
     "output_type": "execute_result"
    }
   ],
   "source": [
    "notas.mean(axis=1)[notas.mean(axis=1) >= 11.5].sort_values(ascending=False)"
   ]
  },
  {
   "cell_type": "code",
   "execution_count": 52,
   "id": "7b5d1277-158f-436c-9103-f47c913b6558",
   "metadata": {},
   "outputs": [],
   "source": [
    "notas['PROM'] = notas.mean(axis=1)"
   ]
  },
  {
   "cell_type": "code",
   "execution_count": 53,
   "id": "d2b5a36e-494c-4272-a9c2-65f99bd6c40b",
   "metadata": {},
   "outputs": [
    {
     "data": {
      "text/html": [
       "<div>\n",
       "<style scoped>\n",
       "    .dataframe tbody tr th:only-of-type {\n",
       "        vertical-align: middle;\n",
       "    }\n",
       "\n",
       "    .dataframe tbody tr th {\n",
       "        vertical-align: top;\n",
       "    }\n",
       "\n",
       "    .dataframe thead th {\n",
       "        text-align: right;\n",
       "    }\n",
       "</style>\n",
       "<table border=\"1\" class=\"dataframe\">\n",
       "  <thead>\n",
       "    <tr style=\"text-align: right;\">\n",
       "      <th></th>\n",
       "      <th>N1</th>\n",
       "      <th>N2</th>\n",
       "      <th>N3</th>\n",
       "      <th>N4</th>\n",
       "      <th>N5</th>\n",
       "      <th>PROM</th>\n",
       "    </tr>\n",
       "  </thead>\n",
       "  <tbody>\n",
       "    <tr>\n",
       "      <th>Estudiante 1</th>\n",
       "      <td>10</td>\n",
       "      <td>3</td>\n",
       "      <td>7</td>\n",
       "      <td>7</td>\n",
       "      <td>18</td>\n",
       "      <td>9.0</td>\n",
       "    </tr>\n",
       "    <tr>\n",
       "      <th>Estudiante 2</th>\n",
       "      <td>6</td>\n",
       "      <td>19</td>\n",
       "      <td>17</td>\n",
       "      <td>11</td>\n",
       "      <td>13</td>\n",
       "      <td>13.2</td>\n",
       "    </tr>\n",
       "    <tr>\n",
       "      <th>Estudiante 3</th>\n",
       "      <td>6</td>\n",
       "      <td>3</td>\n",
       "      <td>12</td>\n",
       "      <td>11</td>\n",
       "      <td>15</td>\n",
       "      <td>9.4</td>\n",
       "    </tr>\n",
       "    <tr>\n",
       "      <th>Estudiante 4</th>\n",
       "      <td>15</td>\n",
       "      <td>3</td>\n",
       "      <td>8</td>\n",
       "      <td>3</td>\n",
       "      <td>7</td>\n",
       "      <td>7.2</td>\n",
       "    </tr>\n",
       "    <tr>\n",
       "      <th>Estudiante 5</th>\n",
       "      <td>18</td>\n",
       "      <td>14</td>\n",
       "      <td>4</td>\n",
       "      <td>10</td>\n",
       "      <td>8</td>\n",
       "      <td>10.8</td>\n",
       "    </tr>\n",
       "    <tr>\n",
       "      <th>Estudiante 6</th>\n",
       "      <td>7</td>\n",
       "      <td>17</td>\n",
       "      <td>10</td>\n",
       "      <td>7</td>\n",
       "      <td>19</td>\n",
       "      <td>12.0</td>\n",
       "    </tr>\n",
       "    <tr>\n",
       "      <th>Estudiante 7</th>\n",
       "      <td>4</td>\n",
       "      <td>6</td>\n",
       "      <td>6</td>\n",
       "      <td>14</td>\n",
       "      <td>5</td>\n",
       "      <td>7.0</td>\n",
       "    </tr>\n",
       "    <tr>\n",
       "      <th>Estudiante 8</th>\n",
       "      <td>15</td>\n",
       "      <td>17</td>\n",
       "      <td>6</td>\n",
       "      <td>8</td>\n",
       "      <td>7</td>\n",
       "      <td>10.6</td>\n",
       "    </tr>\n",
       "    <tr>\n",
       "      <th>Estudiante 9</th>\n",
       "      <td>4</td>\n",
       "      <td>18</td>\n",
       "      <td>3</td>\n",
       "      <td>11</td>\n",
       "      <td>11</td>\n",
       "      <td>9.4</td>\n",
       "    </tr>\n",
       "    <tr>\n",
       "      <th>Estudiante 10</th>\n",
       "      <td>7</td>\n",
       "      <td>3</td>\n",
       "      <td>7</td>\n",
       "      <td>7</td>\n",
       "      <td>6</td>\n",
       "      <td>6.0</td>\n",
       "    </tr>\n",
       "    <tr>\n",
       "      <th>Estudiante 11</th>\n",
       "      <td>17</td>\n",
       "      <td>3</td>\n",
       "      <td>17</td>\n",
       "      <td>9</td>\n",
       "      <td>10</td>\n",
       "      <td>11.2</td>\n",
       "    </tr>\n",
       "    <tr>\n",
       "      <th>Estudiante 12</th>\n",
       "      <td>8</td>\n",
       "      <td>11</td>\n",
       "      <td>19</td>\n",
       "      <td>10</td>\n",
       "      <td>12</td>\n",
       "      <td>12.0</td>\n",
       "    </tr>\n",
       "    <tr>\n",
       "      <th>Estudiante 13</th>\n",
       "      <td>12</td>\n",
       "      <td>11</td>\n",
       "      <td>7</td>\n",
       "      <td>7</td>\n",
       "      <td>9</td>\n",
       "      <td>9.2</td>\n",
       "    </tr>\n",
       "    <tr>\n",
       "      <th>Estudiante 14</th>\n",
       "      <td>13</td>\n",
       "      <td>8</td>\n",
       "      <td>17</td>\n",
       "      <td>11</td>\n",
       "      <td>4</td>\n",
       "      <td>10.6</td>\n",
       "    </tr>\n",
       "    <tr>\n",
       "      <th>Estudiante 15</th>\n",
       "      <td>7</td>\n",
       "      <td>15</td>\n",
       "      <td>10</td>\n",
       "      <td>17</td>\n",
       "      <td>13</td>\n",
       "      <td>12.4</td>\n",
       "    </tr>\n",
       "    <tr>\n",
       "      <th>Estudiante 16</th>\n",
       "      <td>17</td>\n",
       "      <td>18</td>\n",
       "      <td>13</td>\n",
       "      <td>5</td>\n",
       "      <td>9</td>\n",
       "      <td>12.4</td>\n",
       "    </tr>\n",
       "  </tbody>\n",
       "</table>\n",
       "</div>"
      ],
      "text/plain": [
       "               N1  N2  N3  N4  N5  PROM\n",
       "Estudiante 1   10   3   7   7  18   9.0\n",
       "Estudiante 2    6  19  17  11  13  13.2\n",
       "Estudiante 3    6   3  12  11  15   9.4\n",
       "Estudiante 4   15   3   8   3   7   7.2\n",
       "Estudiante 5   18  14   4  10   8  10.8\n",
       "Estudiante 6    7  17  10   7  19  12.0\n",
       "Estudiante 7    4   6   6  14   5   7.0\n",
       "Estudiante 8   15  17   6   8   7  10.6\n",
       "Estudiante 9    4  18   3  11  11   9.4\n",
       "Estudiante 10   7   3   7   7   6   6.0\n",
       "Estudiante 11  17   3  17   9  10  11.2\n",
       "Estudiante 12   8  11  19  10  12  12.0\n",
       "Estudiante 13  12  11   7   7   9   9.2\n",
       "Estudiante 14  13   8  17  11   4  10.6\n",
       "Estudiante 15   7  15  10  17  13  12.4\n",
       "Estudiante 16  17  18  13   5   9  12.4"
      ]
     },
     "execution_count": 53,
     "metadata": {},
     "output_type": "execute_result"
    }
   ],
   "source": [
    "notas"
   ]
  },
  {
   "cell_type": "code",
   "execution_count": 54,
   "id": "4e0c3417-7398-4575-9524-61a103188686",
   "metadata": {},
   "outputs": [
    {
     "data": {
      "text/html": [
       "<div>\n",
       "<style scoped>\n",
       "    .dataframe tbody tr th:only-of-type {\n",
       "        vertical-align: middle;\n",
       "    }\n",
       "\n",
       "    .dataframe tbody tr th {\n",
       "        vertical-align: top;\n",
       "    }\n",
       "\n",
       "    .dataframe thead th {\n",
       "        text-align: right;\n",
       "    }\n",
       "</style>\n",
       "<table border=\"1\" class=\"dataframe\">\n",
       "  <thead>\n",
       "    <tr style=\"text-align: right;\">\n",
       "      <th></th>\n",
       "      <th>N1</th>\n",
       "      <th>N2</th>\n",
       "      <th>N3</th>\n",
       "      <th>N4</th>\n",
       "      <th>N5</th>\n",
       "      <th>PROM</th>\n",
       "    </tr>\n",
       "  </thead>\n",
       "  <tbody>\n",
       "    <tr>\n",
       "      <th>Estudiante 2</th>\n",
       "      <td>6</td>\n",
       "      <td>19</td>\n",
       "      <td>17</td>\n",
       "      <td>11</td>\n",
       "      <td>13</td>\n",
       "      <td>13.2</td>\n",
       "    </tr>\n",
       "    <tr>\n",
       "      <th>Estudiante 15</th>\n",
       "      <td>7</td>\n",
       "      <td>15</td>\n",
       "      <td>10</td>\n",
       "      <td>17</td>\n",
       "      <td>13</td>\n",
       "      <td>12.4</td>\n",
       "    </tr>\n",
       "    <tr>\n",
       "      <th>Estudiante 16</th>\n",
       "      <td>17</td>\n",
       "      <td>18</td>\n",
       "      <td>13</td>\n",
       "      <td>5</td>\n",
       "      <td>9</td>\n",
       "      <td>12.4</td>\n",
       "    </tr>\n",
       "    <tr>\n",
       "      <th>Estudiante 6</th>\n",
       "      <td>7</td>\n",
       "      <td>17</td>\n",
       "      <td>10</td>\n",
       "      <td>7</td>\n",
       "      <td>19</td>\n",
       "      <td>12.0</td>\n",
       "    </tr>\n",
       "    <tr>\n",
       "      <th>Estudiante 12</th>\n",
       "      <td>8</td>\n",
       "      <td>11</td>\n",
       "      <td>19</td>\n",
       "      <td>10</td>\n",
       "      <td>12</td>\n",
       "      <td>12.0</td>\n",
       "    </tr>\n",
       "  </tbody>\n",
       "</table>\n",
       "</div>"
      ],
      "text/plain": [
       "               N1  N2  N3  N4  N5  PROM\n",
       "Estudiante 2    6  19  17  11  13  13.2\n",
       "Estudiante 15   7  15  10  17  13  12.4\n",
       "Estudiante 16  17  18  13   5   9  12.4\n",
       "Estudiante 6    7  17  10   7  19  12.0\n",
       "Estudiante 12   8  11  19  10  12  12.0"
      ]
     },
     "execution_count": 54,
     "metadata": {},
     "output_type": "execute_result"
    }
   ],
   "source": [
    "notas[notas['PROM'] >= 11.5].sort_values(by='PROM', ascending=False)"
   ]
  },
  {
   "cell_type": "code",
   "execution_count": 58,
   "id": "4da38bfc-8ae2-4107-a424-eb1405b284c4",
   "metadata": {},
   "outputs": [],
   "source": [
    "notas['N5'] = notas['N5'].apply(lambda x: x + 3 if x < 12 else x)\n",
    "notas['PROM'] = notas.loc[:, 'N1': 'N5'].mean(axis=1)"
   ]
  },
  {
   "cell_type": "code",
   "execution_count": 59,
   "id": "1f014afe-f569-456f-8a6e-2821f403e51f",
   "metadata": {},
   "outputs": [
    {
     "data": {
      "text/html": [
       "<div>\n",
       "<style scoped>\n",
       "    .dataframe tbody tr th:only-of-type {\n",
       "        vertical-align: middle;\n",
       "    }\n",
       "\n",
       "    .dataframe tbody tr th {\n",
       "        vertical-align: top;\n",
       "    }\n",
       "\n",
       "    .dataframe thead th {\n",
       "        text-align: right;\n",
       "    }\n",
       "</style>\n",
       "<table border=\"1\" class=\"dataframe\">\n",
       "  <thead>\n",
       "    <tr style=\"text-align: right;\">\n",
       "      <th></th>\n",
       "      <th>N1</th>\n",
       "      <th>N2</th>\n",
       "      <th>N3</th>\n",
       "      <th>N4</th>\n",
       "      <th>N5</th>\n",
       "      <th>PROM</th>\n",
       "    </tr>\n",
       "  </thead>\n",
       "  <tbody>\n",
       "    <tr>\n",
       "      <th>Estudiante 2</th>\n",
       "      <td>6</td>\n",
       "      <td>19</td>\n",
       "      <td>17</td>\n",
       "      <td>11</td>\n",
       "      <td>13</td>\n",
       "      <td>13.2</td>\n",
       "    </tr>\n",
       "    <tr>\n",
       "      <th>Estudiante 16</th>\n",
       "      <td>17</td>\n",
       "      <td>18</td>\n",
       "      <td>13</td>\n",
       "      <td>5</td>\n",
       "      <td>12</td>\n",
       "      <td>13.0</td>\n",
       "    </tr>\n",
       "    <tr>\n",
       "      <th>Estudiante 15</th>\n",
       "      <td>7</td>\n",
       "      <td>15</td>\n",
       "      <td>10</td>\n",
       "      <td>17</td>\n",
       "      <td>13</td>\n",
       "      <td>12.4</td>\n",
       "    </tr>\n",
       "    <tr>\n",
       "      <th>Estudiante 6</th>\n",
       "      <td>7</td>\n",
       "      <td>17</td>\n",
       "      <td>10</td>\n",
       "      <td>7</td>\n",
       "      <td>19</td>\n",
       "      <td>12.0</td>\n",
       "    </tr>\n",
       "    <tr>\n",
       "      <th>Estudiante 12</th>\n",
       "      <td>8</td>\n",
       "      <td>11</td>\n",
       "      <td>19</td>\n",
       "      <td>10</td>\n",
       "      <td>12</td>\n",
       "      <td>12.0</td>\n",
       "    </tr>\n",
       "    <tr>\n",
       "      <th>Estudiante 8</th>\n",
       "      <td>15</td>\n",
       "      <td>17</td>\n",
       "      <td>6</td>\n",
       "      <td>8</td>\n",
       "      <td>13</td>\n",
       "      <td>11.8</td>\n",
       "    </tr>\n",
       "    <tr>\n",
       "      <th>Estudiante 11</th>\n",
       "      <td>17</td>\n",
       "      <td>3</td>\n",
       "      <td>17</td>\n",
       "      <td>9</td>\n",
       "      <td>13</td>\n",
       "      <td>11.8</td>\n",
       "    </tr>\n",
       "    <tr>\n",
       "      <th>Estudiante 14</th>\n",
       "      <td>13</td>\n",
       "      <td>8</td>\n",
       "      <td>17</td>\n",
       "      <td>11</td>\n",
       "      <td>10</td>\n",
       "      <td>11.8</td>\n",
       "    </tr>\n",
       "  </tbody>\n",
       "</table>\n",
       "</div>"
      ],
      "text/plain": [
       "               N1  N2  N3  N4  N5  PROM\n",
       "Estudiante 2    6  19  17  11  13  13.2\n",
       "Estudiante 16  17  18  13   5  12  13.0\n",
       "Estudiante 15   7  15  10  17  13  12.4\n",
       "Estudiante 6    7  17  10   7  19  12.0\n",
       "Estudiante 12   8  11  19  10  12  12.0\n",
       "Estudiante 8   15  17   6   8  13  11.8\n",
       "Estudiante 11  17   3  17   9  13  11.8\n",
       "Estudiante 14  13   8  17  11  10  11.8"
      ]
     },
     "execution_count": 59,
     "metadata": {},
     "output_type": "execute_result"
    }
   ],
   "source": [
    "notas[notas['PROM'] >= 11.5].sort_values(by='PROM', ascending=False)"
   ]
  },
  {
   "cell_type": "markdown",
   "id": "932d09b6-6566-48a0-bf4a-9ca49d2f8d63",
   "metadata": {},
   "source": [
    "## Agrupacion de columnas: GroupBy"
   ]
  },
  {
   "cell_type": "code",
   "execution_count": 60,
   "id": "4c19706e-300a-4573-9a66-ac18ec680722",
   "metadata": {},
   "outputs": [
    {
     "data": {
      "text/html": [
       "<div>\n",
       "<style scoped>\n",
       "    .dataframe tbody tr th:only-of-type {\n",
       "        vertical-align: middle;\n",
       "    }\n",
       "\n",
       "    .dataframe tbody tr th {\n",
       "        vertical-align: top;\n",
       "    }\n",
       "\n",
       "    .dataframe thead th {\n",
       "        text-align: right;\n",
       "    }\n",
       "</style>\n",
       "<table border=\"1\" class=\"dataframe\">\n",
       "  <thead>\n",
       "    <tr style=\"text-align: right;\">\n",
       "      <th></th>\n",
       "      <th>Producto</th>\n",
       "      <th>Ciclo</th>\n",
       "      <th>Ventas</th>\n",
       "    </tr>\n",
       "  </thead>\n",
       "  <tbody>\n",
       "    <tr>\n",
       "      <th>0</th>\n",
       "      <td>A</td>\n",
       "      <td>Q1</td>\n",
       "      <td>10122</td>\n",
       "    </tr>\n",
       "    <tr>\n",
       "      <th>1</th>\n",
       "      <td>A</td>\n",
       "      <td>Q2</td>\n",
       "      <td>17276</td>\n",
       "    </tr>\n",
       "    <tr>\n",
       "      <th>2</th>\n",
       "      <td>B</td>\n",
       "      <td>Q1</td>\n",
       "      <td>28373</td>\n",
       "    </tr>\n",
       "    <tr>\n",
       "      <th>3</th>\n",
       "      <td>C</td>\n",
       "      <td>Q3</td>\n",
       "      <td>11822</td>\n",
       "    </tr>\n",
       "    <tr>\n",
       "      <th>4</th>\n",
       "      <td>B</td>\n",
       "      <td>Q2</td>\n",
       "      <td>12323</td>\n",
       "    </tr>\n",
       "    <tr>\n",
       "      <th>5</th>\n",
       "      <td>C</td>\n",
       "      <td>Q3</td>\n",
       "      <td>23422</td>\n",
       "    </tr>\n",
       "    <tr>\n",
       "      <th>6</th>\n",
       "      <td>C</td>\n",
       "      <td>Q1</td>\n",
       "      <td>23412</td>\n",
       "    </tr>\n",
       "    <tr>\n",
       "      <th>7</th>\n",
       "      <td>B</td>\n",
       "      <td>Q2</td>\n",
       "      <td>19292</td>\n",
       "    </tr>\n",
       "    <tr>\n",
       "      <th>8</th>\n",
       "      <td>A</td>\n",
       "      <td>Q2</td>\n",
       "      <td>19238</td>\n",
       "    </tr>\n",
       "    <tr>\n",
       "      <th>9</th>\n",
       "      <td>B</td>\n",
       "      <td>Q3</td>\n",
       "      <td>28282</td>\n",
       "    </tr>\n",
       "  </tbody>\n",
       "</table>\n",
       "</div>"
      ],
      "text/plain": [
       "  Producto Ciclo  Ventas\n",
       "0        A    Q1   10122\n",
       "1        A    Q2   17276\n",
       "2        B    Q1   28373\n",
       "3        C    Q3   11822\n",
       "4        B    Q2   12323\n",
       "5        C    Q3   23422\n",
       "6        C    Q1   23412\n",
       "7        B    Q2   19292\n",
       "8        A    Q2   19238\n",
       "9        B    Q3   28282"
      ]
     },
     "execution_count": 60,
     "metadata": {},
     "output_type": "execute_result"
    }
   ],
   "source": [
    "df = pd.DataFrame(data={'Producto': ['A', 'A', 'B', 'C', 'B', 'C', 'C', 'B', 'A', 'B'], \n",
    "                        'Ciclo': ['Q1', 'Q2', 'Q1', 'Q3', 'Q2', 'Q3', 'Q1', 'Q2', 'Q2', 'Q3'], \n",
    "                        'Ventas': [10122, 17276, 28373, 11822, 12323, 23422, 23412, 19292, 19238, 28282]})\n",
    "df"
   ]
  },
  {
   "cell_type": "code",
   "execution_count": 63,
   "id": "ed7c4432-d50e-417e-9d58-261684480d24",
   "metadata": {},
   "outputs": [
    {
     "data": {
      "text/html": [
       "<div>\n",
       "<style scoped>\n",
       "    .dataframe tbody tr th:only-of-type {\n",
       "        vertical-align: middle;\n",
       "    }\n",
       "\n",
       "    .dataframe tbody tr th {\n",
       "        vertical-align: top;\n",
       "    }\n",
       "\n",
       "    .dataframe thead th {\n",
       "        text-align: right;\n",
       "    }\n",
       "</style>\n",
       "<table border=\"1\" class=\"dataframe\">\n",
       "  <thead>\n",
       "    <tr style=\"text-align: right;\">\n",
       "      <th></th>\n",
       "      <th>Ventas</th>\n",
       "    </tr>\n",
       "    <tr>\n",
       "      <th>Producto</th>\n",
       "      <th></th>\n",
       "    </tr>\n",
       "  </thead>\n",
       "  <tbody>\n",
       "    <tr>\n",
       "      <th>A</th>\n",
       "      <td>46636</td>\n",
       "    </tr>\n",
       "    <tr>\n",
       "      <th>B</th>\n",
       "      <td>88270</td>\n",
       "    </tr>\n",
       "    <tr>\n",
       "      <th>C</th>\n",
       "      <td>58656</td>\n",
       "    </tr>\n",
       "  </tbody>\n",
       "</table>\n",
       "</div>"
      ],
      "text/plain": [
       "          Ventas\n",
       "Producto        \n",
       "A          46636\n",
       "B          88270\n",
       "C          58656"
      ]
     },
     "execution_count": 63,
     "metadata": {},
     "output_type": "execute_result"
    }
   ],
   "source": [
    "df[['Producto', 'Ventas']].groupby(by='Producto').sum()"
   ]
  },
  {
   "cell_type": "code",
   "execution_count": 64,
   "id": "eec9eccb-3d1c-40ab-a162-64637ba1d1b5",
   "metadata": {},
   "outputs": [
    {
     "data": {
      "text/html": [
       "<div>\n",
       "<style scoped>\n",
       "    .dataframe tbody tr th:only-of-type {\n",
       "        vertical-align: middle;\n",
       "    }\n",
       "\n",
       "    .dataframe tbody tr th {\n",
       "        vertical-align: top;\n",
       "    }\n",
       "\n",
       "    .dataframe thead th {\n",
       "        text-align: right;\n",
       "    }\n",
       "</style>\n",
       "<table border=\"1\" class=\"dataframe\">\n",
       "  <thead>\n",
       "    <tr style=\"text-align: right;\">\n",
       "      <th></th>\n",
       "      <th></th>\n",
       "      <th>Ventas</th>\n",
       "    </tr>\n",
       "    <tr>\n",
       "      <th>Producto</th>\n",
       "      <th>Ciclo</th>\n",
       "      <th></th>\n",
       "    </tr>\n",
       "  </thead>\n",
       "  <tbody>\n",
       "    <tr>\n",
       "      <th rowspan=\"2\" valign=\"top\">A</th>\n",
       "      <th>Q1</th>\n",
       "      <td>10122</td>\n",
       "    </tr>\n",
       "    <tr>\n",
       "      <th>Q2</th>\n",
       "      <td>36514</td>\n",
       "    </tr>\n",
       "    <tr>\n",
       "      <th rowspan=\"3\" valign=\"top\">B</th>\n",
       "      <th>Q1</th>\n",
       "      <td>28373</td>\n",
       "    </tr>\n",
       "    <tr>\n",
       "      <th>Q2</th>\n",
       "      <td>31615</td>\n",
       "    </tr>\n",
       "    <tr>\n",
       "      <th>Q3</th>\n",
       "      <td>28282</td>\n",
       "    </tr>\n",
       "    <tr>\n",
       "      <th rowspan=\"2\" valign=\"top\">C</th>\n",
       "      <th>Q1</th>\n",
       "      <td>23412</td>\n",
       "    </tr>\n",
       "    <tr>\n",
       "      <th>Q3</th>\n",
       "      <td>35244</td>\n",
       "    </tr>\n",
       "  </tbody>\n",
       "</table>\n",
       "</div>"
      ],
      "text/plain": [
       "                Ventas\n",
       "Producto Ciclo        \n",
       "A        Q1      10122\n",
       "         Q2      36514\n",
       "B        Q1      28373\n",
       "         Q2      31615\n",
       "         Q3      28282\n",
       "C        Q1      23412\n",
       "         Q3      35244"
      ]
     },
     "execution_count": 64,
     "metadata": {},
     "output_type": "execute_result"
    }
   ],
   "source": [
    "df.groupby(by=['Producto', 'Ciclo']).sum()"
   ]
  },
  {
   "cell_type": "code",
   "execution_count": 65,
   "id": "38fa182b-debd-4c08-a522-91f674de8c5f",
   "metadata": {},
   "outputs": [
    {
     "data": {
      "text/html": [
       "<div>\n",
       "<style scoped>\n",
       "    .dataframe tbody tr th:only-of-type {\n",
       "        vertical-align: middle;\n",
       "    }\n",
       "\n",
       "    .dataframe tbody tr th {\n",
       "        vertical-align: top;\n",
       "    }\n",
       "\n",
       "    .dataframe thead th {\n",
       "        text-align: right;\n",
       "    }\n",
       "</style>\n",
       "<table border=\"1\" class=\"dataframe\">\n",
       "  <thead>\n",
       "    <tr style=\"text-align: right;\">\n",
       "      <th></th>\n",
       "      <th></th>\n",
       "      <th>Ventas</th>\n",
       "    </tr>\n",
       "    <tr>\n",
       "      <th>Ciclo</th>\n",
       "      <th>Producto</th>\n",
       "      <th></th>\n",
       "    </tr>\n",
       "  </thead>\n",
       "  <tbody>\n",
       "    <tr>\n",
       "      <th rowspan=\"3\" valign=\"top\">Q1</th>\n",
       "      <th>A</th>\n",
       "      <td>10122</td>\n",
       "    </tr>\n",
       "    <tr>\n",
       "      <th>B</th>\n",
       "      <td>28373</td>\n",
       "    </tr>\n",
       "    <tr>\n",
       "      <th>C</th>\n",
       "      <td>23412</td>\n",
       "    </tr>\n",
       "    <tr>\n",
       "      <th rowspan=\"2\" valign=\"top\">Q2</th>\n",
       "      <th>A</th>\n",
       "      <td>36514</td>\n",
       "    </tr>\n",
       "    <tr>\n",
       "      <th>B</th>\n",
       "      <td>31615</td>\n",
       "    </tr>\n",
       "    <tr>\n",
       "      <th rowspan=\"2\" valign=\"top\">Q3</th>\n",
       "      <th>B</th>\n",
       "      <td>28282</td>\n",
       "    </tr>\n",
       "    <tr>\n",
       "      <th>C</th>\n",
       "      <td>35244</td>\n",
       "    </tr>\n",
       "  </tbody>\n",
       "</table>\n",
       "</div>"
      ],
      "text/plain": [
       "                Ventas\n",
       "Ciclo Producto        \n",
       "Q1    A          10122\n",
       "      B          28373\n",
       "      C          23412\n",
       "Q2    A          36514\n",
       "      B          31615\n",
       "Q3    B          28282\n",
       "      C          35244"
      ]
     },
     "execution_count": 65,
     "metadata": {},
     "output_type": "execute_result"
    }
   ],
   "source": [
    "df.groupby(by=['Ciclo', 'Producto']).sum()"
   ]
  },
  {
   "cell_type": "code",
   "execution_count": 67,
   "id": "71a5bdf7-8176-46e4-9e53-d865f6a31315",
   "metadata": {},
   "outputs": [
    {
     "data": {
      "text/html": [
       "<div>\n",
       "<style scoped>\n",
       "    .dataframe tbody tr th:only-of-type {\n",
       "        vertical-align: middle;\n",
       "    }\n",
       "\n",
       "    .dataframe tbody tr th {\n",
       "        vertical-align: top;\n",
       "    }\n",
       "\n",
       "    .dataframe thead tr th {\n",
       "        text-align: left;\n",
       "    }\n",
       "\n",
       "    .dataframe thead tr:last-of-type th {\n",
       "        text-align: right;\n",
       "    }\n",
       "</style>\n",
       "<table border=\"1\" class=\"dataframe\">\n",
       "  <thead>\n",
       "    <tr>\n",
       "      <th></th>\n",
       "      <th></th>\n",
       "      <th colspan=\"3\" halign=\"left\">Ventas</th>\n",
       "    </tr>\n",
       "    <tr>\n",
       "      <th></th>\n",
       "      <th></th>\n",
       "      <th>sum</th>\n",
       "      <th>mean</th>\n",
       "      <th>count</th>\n",
       "    </tr>\n",
       "    <tr>\n",
       "      <th>Producto</th>\n",
       "      <th>Ciclo</th>\n",
       "      <th></th>\n",
       "      <th></th>\n",
       "      <th></th>\n",
       "    </tr>\n",
       "  </thead>\n",
       "  <tbody>\n",
       "    <tr>\n",
       "      <th rowspan=\"2\" valign=\"top\">A</th>\n",
       "      <th>Q1</th>\n",
       "      <td>10122</td>\n",
       "      <td>10122.0</td>\n",
       "      <td>1</td>\n",
       "    </tr>\n",
       "    <tr>\n",
       "      <th>Q2</th>\n",
       "      <td>36514</td>\n",
       "      <td>18257.0</td>\n",
       "      <td>2</td>\n",
       "    </tr>\n",
       "    <tr>\n",
       "      <th rowspan=\"3\" valign=\"top\">B</th>\n",
       "      <th>Q1</th>\n",
       "      <td>28373</td>\n",
       "      <td>28373.0</td>\n",
       "      <td>1</td>\n",
       "    </tr>\n",
       "    <tr>\n",
       "      <th>Q2</th>\n",
       "      <td>31615</td>\n",
       "      <td>15807.5</td>\n",
       "      <td>2</td>\n",
       "    </tr>\n",
       "    <tr>\n",
       "      <th>Q3</th>\n",
       "      <td>28282</td>\n",
       "      <td>28282.0</td>\n",
       "      <td>1</td>\n",
       "    </tr>\n",
       "    <tr>\n",
       "      <th rowspan=\"2\" valign=\"top\">C</th>\n",
       "      <th>Q1</th>\n",
       "      <td>23412</td>\n",
       "      <td>23412.0</td>\n",
       "      <td>1</td>\n",
       "    </tr>\n",
       "    <tr>\n",
       "      <th>Q3</th>\n",
       "      <td>35244</td>\n",
       "      <td>17622.0</td>\n",
       "      <td>2</td>\n",
       "    </tr>\n",
       "  </tbody>\n",
       "</table>\n",
       "</div>"
      ],
      "text/plain": [
       "               Ventas               \n",
       "                  sum     mean count\n",
       "Producto Ciclo                      \n",
       "A        Q1     10122  10122.0     1\n",
       "         Q2     36514  18257.0     2\n",
       "B        Q1     28373  28373.0     1\n",
       "         Q2     31615  15807.5     2\n",
       "         Q3     28282  28282.0     1\n",
       "C        Q1     23412  23412.0     1\n",
       "         Q3     35244  17622.0     2"
      ]
     },
     "execution_count": 67,
     "metadata": {},
     "output_type": "execute_result"
    }
   ],
   "source": [
    "df.groupby(by=['Producto', 'Ciclo']).agg(['sum', 'mean', 'count'])    # .agg({'ventas': 'sum', 'cantidad': 'count'})"
   ]
  },
  {
   "cell_type": "markdown",
   "id": "ccb161a8-d918-4504-959f-7ae4e96fc29a",
   "metadata": {
    "tags": []
   },
   "source": [
    "## Importaciones de Fuentes de Datos"
   ]
  },
  {
   "cell_type": "markdown",
   "id": "b18990d0-424e-4725-997a-5ac9e60e9765",
   "metadata": {},
   "source": [
    "### CSV"
   ]
  },
  {
   "cell_type": "code",
   "execution_count": 68,
   "id": "e24472f6-2889-424c-988b-1a4bf755e2af",
   "metadata": {
    "tags": []
   },
   "outputs": [],
   "source": [
    "df = pd.read_csv(\"dataset_la_liga.csv\")"
   ]
  },
  {
   "cell_type": "code",
   "execution_count": 69,
   "id": "af437467-8ccf-4146-a44e-bd393a7ca1bd",
   "metadata": {
    "tags": []
   },
   "outputs": [
    {
     "data": {
      "text/html": [
       "<div>\n",
       "<style scoped>\n",
       "    .dataframe tbody tr th:only-of-type {\n",
       "        vertical-align: middle;\n",
       "    }\n",
       "\n",
       "    .dataframe tbody tr th {\n",
       "        vertical-align: top;\n",
       "    }\n",
       "\n",
       "    .dataframe thead th {\n",
       "        text-align: right;\n",
       "    }\n",
       "</style>\n",
       "<table border=\"1\" class=\"dataframe\">\n",
       "  <thead>\n",
       "    <tr style=\"text-align: right;\">\n",
       "      <th></th>\n",
       "      <th>season</th>\n",
       "      <th>club</th>\n",
       "      <th>home_win</th>\n",
       "      <th>away_win</th>\n",
       "      <th>home_loss</th>\n",
       "      <th>away_loss</th>\n",
       "      <th>matches_won</th>\n",
       "      <th>matches_lost</th>\n",
       "      <th>matches_drawn</th>\n",
       "      <th>total_matches</th>\n",
       "      <th>points</th>\n",
       "      <th>home_goals</th>\n",
       "      <th>away_goals</th>\n",
       "      <th>goals_scored</th>\n",
       "      <th>goals_conceded</th>\n",
       "      <th>goal_difference</th>\n",
       "    </tr>\n",
       "  </thead>\n",
       "  <tbody>\n",
       "    <tr>\n",
       "      <th>0</th>\n",
       "      <td>1970-71</td>\n",
       "      <td>Real Zaragoza</td>\n",
       "      <td>3</td>\n",
       "      <td>0</td>\n",
       "      <td>5</td>\n",
       "      <td>13</td>\n",
       "      <td>3</td>\n",
       "      <td>18</td>\n",
       "      <td>9</td>\n",
       "      <td>30</td>\n",
       "      <td>18</td>\n",
       "      <td>14</td>\n",
       "      <td>8</td>\n",
       "      <td>22</td>\n",
       "      <td>54</td>\n",
       "      <td>-32</td>\n",
       "    </tr>\n",
       "    <tr>\n",
       "      <th>1</th>\n",
       "      <td>1970-71</td>\n",
       "      <td>Elche</td>\n",
       "      <td>4</td>\n",
       "      <td>0</td>\n",
       "      <td>5</td>\n",
       "      <td>11</td>\n",
       "      <td>4</td>\n",
       "      <td>16</td>\n",
       "      <td>10</td>\n",
       "      <td>30</td>\n",
       "      <td>22</td>\n",
       "      <td>17</td>\n",
       "      <td>8</td>\n",
       "      <td>25</td>\n",
       "      <td>46</td>\n",
       "      <td>-21</td>\n",
       "    </tr>\n",
       "    <tr>\n",
       "      <th>2</th>\n",
       "      <td>1970-71</td>\n",
       "      <td>Las Palmas</td>\n",
       "      <td>5</td>\n",
       "      <td>0</td>\n",
       "      <td>3</td>\n",
       "      <td>12</td>\n",
       "      <td>5</td>\n",
       "      <td>15</td>\n",
       "      <td>10</td>\n",
       "      <td>30</td>\n",
       "      <td>25</td>\n",
       "      <td>25</td>\n",
       "      <td>8</td>\n",
       "      <td>33</td>\n",
       "      <td>42</td>\n",
       "      <td>-9</td>\n",
       "    </tr>\n",
       "    <tr>\n",
       "      <th>3</th>\n",
       "      <td>1970-71</td>\n",
       "      <td>Sabadell</td>\n",
       "      <td>8</td>\n",
       "      <td>0</td>\n",
       "      <td>3</td>\n",
       "      <td>14</td>\n",
       "      <td>8</td>\n",
       "      <td>17</td>\n",
       "      <td>5</td>\n",
       "      <td>30</td>\n",
       "      <td>29</td>\n",
       "      <td>19</td>\n",
       "      <td>9</td>\n",
       "      <td>28</td>\n",
       "      <td>49</td>\n",
       "      <td>-21</td>\n",
       "    </tr>\n",
       "    <tr>\n",
       "      <th>4</th>\n",
       "      <td>1970-71</td>\n",
       "      <td>Espanyol</td>\n",
       "      <td>7</td>\n",
       "      <td>1</td>\n",
       "      <td>4</td>\n",
       "      <td>9</td>\n",
       "      <td>8</td>\n",
       "      <td>13</td>\n",
       "      <td>9</td>\n",
       "      <td>30</td>\n",
       "      <td>33</td>\n",
       "      <td>13</td>\n",
       "      <td>5</td>\n",
       "      <td>18</td>\n",
       "      <td>25</td>\n",
       "      <td>-7</td>\n",
       "    </tr>\n",
       "  </tbody>\n",
       "</table>\n",
       "</div>"
      ],
      "text/plain": [
       "    season           club  home_win  away_win  home_loss  away_loss  \\\n",
       "0  1970-71  Real Zaragoza         3         0          5         13   \n",
       "1  1970-71          Elche         4         0          5         11   \n",
       "2  1970-71     Las Palmas         5         0          3         12   \n",
       "3  1970-71       Sabadell         8         0          3         14   \n",
       "4  1970-71       Espanyol         7         1          4          9   \n",
       "\n",
       "   matches_won  matches_lost  matches_drawn  total_matches  points  \\\n",
       "0            3            18              9             30      18   \n",
       "1            4            16             10             30      22   \n",
       "2            5            15             10             30      25   \n",
       "3            8            17              5             30      29   \n",
       "4            8            13              9             30      33   \n",
       "\n",
       "   home_goals  away_goals  goals_scored  goals_conceded  goal_difference  \n",
       "0          14           8            22              54              -32  \n",
       "1          17           8            25              46              -21  \n",
       "2          25           8            33              42               -9  \n",
       "3          19           9            28              49              -21  \n",
       "4          13           5            18              25               -7  "
      ]
     },
     "execution_count": 69,
     "metadata": {},
     "output_type": "execute_result"
    }
   ],
   "source": [
    "df.head()"
   ]
  },
  {
   "cell_type": "code",
   "execution_count": 70,
   "id": "b2d6a45f-ddb1-43e8-be31-dcda8b6c192a",
   "metadata": {
    "tags": []
   },
   "outputs": [
    {
     "data": {
      "text/html": [
       "<div>\n",
       "<style scoped>\n",
       "    .dataframe tbody tr th:only-of-type {\n",
       "        vertical-align: middle;\n",
       "    }\n",
       "\n",
       "    .dataframe tbody tr th {\n",
       "        vertical-align: top;\n",
       "    }\n",
       "\n",
       "    .dataframe thead th {\n",
       "        text-align: right;\n",
       "    }\n",
       "</style>\n",
       "<table border=\"1\" class=\"dataframe\">\n",
       "  <thead>\n",
       "    <tr style=\"text-align: right;\">\n",
       "      <th></th>\n",
       "      <th>home_win</th>\n",
       "      <th>away_win</th>\n",
       "      <th>home_loss</th>\n",
       "      <th>away_loss</th>\n",
       "      <th>matches_won</th>\n",
       "      <th>matches_lost</th>\n",
       "      <th>matches_drawn</th>\n",
       "      <th>total_matches</th>\n",
       "      <th>points</th>\n",
       "      <th>home_goals</th>\n",
       "      <th>away_goals</th>\n",
       "      <th>goals_scored</th>\n",
       "      <th>goals_conceded</th>\n",
       "      <th>goal_difference</th>\n",
       "    </tr>\n",
       "  </thead>\n",
       "  <tbody>\n",
       "    <tr>\n",
       "      <th>count</th>\n",
       "      <td>908.000000</td>\n",
       "      <td>908.000000</td>\n",
       "      <td>908.000000</td>\n",
       "      <td>908.000000</td>\n",
       "      <td>908.000000</td>\n",
       "      <td>908.000000</td>\n",
       "      <td>908.000000</td>\n",
       "      <td>908.000000</td>\n",
       "      <td>908.000000</td>\n",
       "      <td>908.000000</td>\n",
       "      <td>908.000000</td>\n",
       "      <td>908.000000</td>\n",
       "      <td>908.000000</td>\n",
       "      <td>908.000000</td>\n",
       "    </tr>\n",
       "    <tr>\n",
       "      <th>mean</th>\n",
       "      <td>9.582599</td>\n",
       "      <td>4.118943</td>\n",
       "      <td>4.118943</td>\n",
       "      <td>9.582599</td>\n",
       "      <td>13.701542</td>\n",
       "      <td>13.701542</td>\n",
       "      <td>9.577093</td>\n",
       "      <td>36.980176</td>\n",
       "      <td>50.681718</td>\n",
       "      <td>29.508811</td>\n",
       "      <td>18.267621</td>\n",
       "      <td>47.776432</td>\n",
       "      <td>47.776432</td>\n",
       "      <td>0.000000</td>\n",
       "    </tr>\n",
       "    <tr>\n",
       "      <th>std</th>\n",
       "      <td>3.107555</td>\n",
       "      <td>2.776725</td>\n",
       "      <td>2.531206</td>\n",
       "      <td>3.092974</td>\n",
       "      <td>4.966050</td>\n",
       "      <td>4.589442</td>\n",
       "      <td>2.986852</td>\n",
       "      <td>2.522150</td>\n",
       "      <td>14.104626</td>\n",
       "      <td>9.757192</td>\n",
       "      <td>7.569011</td>\n",
       "      <td>15.593429</td>\n",
       "      <td>11.855507</td>\n",
       "      <td>21.680653</td>\n",
       "    </tr>\n",
       "    <tr>\n",
       "      <th>min</th>\n",
       "      <td>1.000000</td>\n",
       "      <td>0.000000</td>\n",
       "      <td>0.000000</td>\n",
       "      <td>1.000000</td>\n",
       "      <td>2.000000</td>\n",
       "      <td>1.000000</td>\n",
       "      <td>1.000000</td>\n",
       "      <td>30.000000</td>\n",
       "      <td>13.000000</td>\n",
       "      <td>11.000000</td>\n",
       "      <td>4.000000</td>\n",
       "      <td>15.000000</td>\n",
       "      <td>18.000000</td>\n",
       "      <td>-64.000000</td>\n",
       "    </tr>\n",
       "    <tr>\n",
       "      <th>25%</th>\n",
       "      <td>7.000000</td>\n",
       "      <td>2.000000</td>\n",
       "      <td>2.000000</td>\n",
       "      <td>8.000000</td>\n",
       "      <td>10.000000</td>\n",
       "      <td>11.000000</td>\n",
       "      <td>7.000000</td>\n",
       "      <td>34.000000</td>\n",
       "      <td>42.000000</td>\n",
       "      <td>23.000000</td>\n",
       "      <td>13.000000</td>\n",
       "      <td>37.000000</td>\n",
       "      <td>39.000000</td>\n",
       "      <td>-14.000000</td>\n",
       "    </tr>\n",
       "    <tr>\n",
       "      <th>50%</th>\n",
       "      <td>9.000000</td>\n",
       "      <td>4.000000</td>\n",
       "      <td>4.000000</td>\n",
       "      <td>10.000000</td>\n",
       "      <td>13.000000</td>\n",
       "      <td>14.000000</td>\n",
       "      <td>9.000000</td>\n",
       "      <td>38.000000</td>\n",
       "      <td>48.000000</td>\n",
       "      <td>28.000000</td>\n",
       "      <td>17.000000</td>\n",
       "      <td>45.000000</td>\n",
       "      <td>47.000000</td>\n",
       "      <td>-3.000000</td>\n",
       "    </tr>\n",
       "    <tr>\n",
       "      <th>75%</th>\n",
       "      <td>12.000000</td>\n",
       "      <td>6.000000</td>\n",
       "      <td>6.000000</td>\n",
       "      <td>12.000000</td>\n",
       "      <td>16.000000</td>\n",
       "      <td>17.000000</td>\n",
       "      <td>12.000000</td>\n",
       "      <td>38.000000</td>\n",
       "      <td>59.000000</td>\n",
       "      <td>34.000000</td>\n",
       "      <td>22.000000</td>\n",
       "      <td>54.000000</td>\n",
       "      <td>56.000000</td>\n",
       "      <td>10.250000</td>\n",
       "    </tr>\n",
       "    <tr>\n",
       "      <th>max</th>\n",
       "      <td>19.000000</td>\n",
       "      <td>16.000000</td>\n",
       "      <td>15.000000</td>\n",
       "      <td>18.000000</td>\n",
       "      <td>32.000000</td>\n",
       "      <td>29.000000</td>\n",
       "      <td>18.000000</td>\n",
       "      <td>44.000000</td>\n",
       "      <td>100.000000</td>\n",
       "      <td>78.000000</td>\n",
       "      <td>58.000000</td>\n",
       "      <td>121.000000</td>\n",
       "      <td>94.000000</td>\n",
       "      <td>89.000000</td>\n",
       "    </tr>\n",
       "  </tbody>\n",
       "</table>\n",
       "</div>"
      ],
      "text/plain": [
       "         home_win    away_win   home_loss   away_loss  matches_won  \\\n",
       "count  908.000000  908.000000  908.000000  908.000000   908.000000   \n",
       "mean     9.582599    4.118943    4.118943    9.582599    13.701542   \n",
       "std      3.107555    2.776725    2.531206    3.092974     4.966050   \n",
       "min      1.000000    0.000000    0.000000    1.000000     2.000000   \n",
       "25%      7.000000    2.000000    2.000000    8.000000    10.000000   \n",
       "50%      9.000000    4.000000    4.000000   10.000000    13.000000   \n",
       "75%     12.000000    6.000000    6.000000   12.000000    16.000000   \n",
       "max     19.000000   16.000000   15.000000   18.000000    32.000000   \n",
       "\n",
       "       matches_lost  matches_drawn  total_matches      points  home_goals  \\\n",
       "count    908.000000     908.000000     908.000000  908.000000  908.000000   \n",
       "mean      13.701542       9.577093      36.980176   50.681718   29.508811   \n",
       "std        4.589442       2.986852       2.522150   14.104626    9.757192   \n",
       "min        1.000000       1.000000      30.000000   13.000000   11.000000   \n",
       "25%       11.000000       7.000000      34.000000   42.000000   23.000000   \n",
       "50%       14.000000       9.000000      38.000000   48.000000   28.000000   \n",
       "75%       17.000000      12.000000      38.000000   59.000000   34.000000   \n",
       "max       29.000000      18.000000      44.000000  100.000000   78.000000   \n",
       "\n",
       "       away_goals  goals_scored  goals_conceded  goal_difference  \n",
       "count  908.000000    908.000000      908.000000       908.000000  \n",
       "mean    18.267621     47.776432       47.776432         0.000000  \n",
       "std      7.569011     15.593429       11.855507        21.680653  \n",
       "min      4.000000     15.000000       18.000000       -64.000000  \n",
       "25%     13.000000     37.000000       39.000000       -14.000000  \n",
       "50%     17.000000     45.000000       47.000000        -3.000000  \n",
       "75%     22.000000     54.000000       56.000000        10.250000  \n",
       "max     58.000000    121.000000       94.000000        89.000000  "
      ]
     },
     "execution_count": 70,
     "metadata": {},
     "output_type": "execute_result"
    }
   ],
   "source": [
    "df.describe()"
   ]
  },
  {
   "cell_type": "code",
   "execution_count": 71,
   "id": "0031cd9b-be4a-4ddf-b883-5c4f4fbb1727",
   "metadata": {
    "tags": []
   },
   "outputs": [
    {
     "name": "stdout",
     "output_type": "stream",
     "text": [
      "<class 'pandas.core.frame.DataFrame'>\n",
      "RangeIndex: 908 entries, 0 to 907\n",
      "Data columns (total 16 columns):\n",
      " #   Column           Non-Null Count  Dtype \n",
      "---  ------           --------------  ----- \n",
      " 0   season           908 non-null    object\n",
      " 1   club             908 non-null    object\n",
      " 2   home_win         908 non-null    int64 \n",
      " 3   away_win         908 non-null    int64 \n",
      " 4   home_loss        908 non-null    int64 \n",
      " 5   away_loss        908 non-null    int64 \n",
      " 6   matches_won      908 non-null    int64 \n",
      " 7   matches_lost     908 non-null    int64 \n",
      " 8   matches_drawn    908 non-null    int64 \n",
      " 9   total_matches    908 non-null    int64 \n",
      " 10  points           908 non-null    int64 \n",
      " 11  home_goals       908 non-null    int64 \n",
      " 12  away_goals       908 non-null    int64 \n",
      " 13  goals_scored     908 non-null    int64 \n",
      " 14  goals_conceded   908 non-null    int64 \n",
      " 15  goal_difference  908 non-null    int64 \n",
      "dtypes: int64(14), object(2)\n",
      "memory usage: 113.6+ KB\n"
     ]
    }
   ],
   "source": [
    "df.info()"
   ]
  },
  {
   "cell_type": "markdown",
   "id": "843f0781-6554-4f6b-84a4-a0a8a109078b",
   "metadata": {},
   "source": [
    "## Excel Files"
   ]
  },
  {
   "cell_type": "code",
   "execution_count": 72,
   "id": "34dc6455-f280-46e9-8d79-624a7673c10d",
   "metadata": {
    "tags": []
   },
   "outputs": [],
   "source": [
    "df = pd.read_excel(\"SampleData.xlsx\", sheet_name='SalesOrders')"
   ]
  },
  {
   "cell_type": "code",
   "execution_count": 73,
   "id": "9c70a80d-753b-4b57-a2b2-afd699cec3be",
   "metadata": {
    "tags": []
   },
   "outputs": [
    {
     "data": {
      "text/html": [
       "<div>\n",
       "<style scoped>\n",
       "    .dataframe tbody tr th:only-of-type {\n",
       "        vertical-align: middle;\n",
       "    }\n",
       "\n",
       "    .dataframe tbody tr th {\n",
       "        vertical-align: top;\n",
       "    }\n",
       "\n",
       "    .dataframe thead th {\n",
       "        text-align: right;\n",
       "    }\n",
       "</style>\n",
       "<table border=\"1\" class=\"dataframe\">\n",
       "  <thead>\n",
       "    <tr style=\"text-align: right;\">\n",
       "      <th></th>\n",
       "      <th>OrderDate</th>\n",
       "      <th>Region</th>\n",
       "      <th>Rep</th>\n",
       "      <th>Item</th>\n",
       "      <th>Units</th>\n",
       "      <th>Unit Cost</th>\n",
       "      <th>Total</th>\n",
       "    </tr>\n",
       "  </thead>\n",
       "  <tbody>\n",
       "    <tr>\n",
       "      <th>0</th>\n",
       "      <td>2019-01-06</td>\n",
       "      <td>East</td>\n",
       "      <td>Jones</td>\n",
       "      <td>Pencil</td>\n",
       "      <td>95</td>\n",
       "      <td>1.99</td>\n",
       "      <td>189.05</td>\n",
       "    </tr>\n",
       "    <tr>\n",
       "      <th>1</th>\n",
       "      <td>2019-01-23</td>\n",
       "      <td>Central</td>\n",
       "      <td>Kivell</td>\n",
       "      <td>Binder</td>\n",
       "      <td>50</td>\n",
       "      <td>19.99</td>\n",
       "      <td>999.50</td>\n",
       "    </tr>\n",
       "    <tr>\n",
       "      <th>2</th>\n",
       "      <td>2019-02-09</td>\n",
       "      <td>Central</td>\n",
       "      <td>Jardine</td>\n",
       "      <td>Pencil</td>\n",
       "      <td>36</td>\n",
       "      <td>4.99</td>\n",
       "      <td>179.64</td>\n",
       "    </tr>\n",
       "    <tr>\n",
       "      <th>3</th>\n",
       "      <td>2019-02-26</td>\n",
       "      <td>Central</td>\n",
       "      <td>Gill</td>\n",
       "      <td>Pen</td>\n",
       "      <td>27</td>\n",
       "      <td>19.99</td>\n",
       "      <td>539.73</td>\n",
       "    </tr>\n",
       "    <tr>\n",
       "      <th>4</th>\n",
       "      <td>2019-03-15</td>\n",
       "      <td>West</td>\n",
       "      <td>Sorvino</td>\n",
       "      <td>Pencil</td>\n",
       "      <td>56</td>\n",
       "      <td>2.99</td>\n",
       "      <td>167.44</td>\n",
       "    </tr>\n",
       "  </tbody>\n",
       "</table>\n",
       "</div>"
      ],
      "text/plain": [
       "   OrderDate   Region      Rep    Item  Units  Unit Cost   Total\n",
       "0 2019-01-06     East    Jones  Pencil     95       1.99  189.05\n",
       "1 2019-01-23  Central   Kivell  Binder     50      19.99  999.50\n",
       "2 2019-02-09  Central  Jardine  Pencil     36       4.99  179.64\n",
       "3 2019-02-26  Central     Gill     Pen     27      19.99  539.73\n",
       "4 2019-03-15     West  Sorvino  Pencil     56       2.99  167.44"
      ]
     },
     "execution_count": 73,
     "metadata": {},
     "output_type": "execute_result"
    }
   ],
   "source": [
    "df.head()   # df.tail(n=5)"
   ]
  },
  {
   "cell_type": "code",
   "execution_count": 74,
   "id": "ba61b424-867b-4436-b7bb-96fbf76488d9",
   "metadata": {
    "tags": []
   },
   "outputs": [
    {
     "name": "stdout",
     "output_type": "stream",
     "text": [
      "<class 'pandas.core.frame.DataFrame'>\n",
      "RangeIndex: 43 entries, 0 to 42\n",
      "Data columns (total 7 columns):\n",
      " #   Column     Non-Null Count  Dtype         \n",
      "---  ------     --------------  -----         \n",
      " 0   OrderDate  43 non-null     datetime64[ns]\n",
      " 1   Region     43 non-null     object        \n",
      " 2   Rep        43 non-null     object        \n",
      " 3   Item       43 non-null     object        \n",
      " 4   Units      43 non-null     int64         \n",
      " 5   Unit Cost  43 non-null     float64       \n",
      " 6   Total      43 non-null     float64       \n",
      "dtypes: datetime64[ns](1), float64(2), int64(1), object(3)\n",
      "memory usage: 2.5+ KB\n"
     ]
    }
   ],
   "source": [
    "df.info()"
   ]
  },
  {
   "cell_type": "markdown",
   "id": "5ad76827-9118-4c18-a2f5-12708a5904ed",
   "metadata": {},
   "source": [
    "### HTML"
   ]
  },
  {
   "cell_type": "code",
   "execution_count": 76,
   "id": "2e12c375-7cb0-4a7c-86de-ad84721e1220",
   "metadata": {
    "tags": []
   },
   "outputs": [
    {
     "data": {
      "text/plain": [
       "<Response [200]>"
      ]
     },
     "execution_count": 76,
     "metadata": {},
     "output_type": "execute_result"
    }
   ],
   "source": [
    "import requests\n",
    "\n",
    "URL = \"https://es.wikipedia.org/wiki/Am%C3%A9rica_del_Sur\"\n",
    "r = requests.get(URL)\n",
    "r"
   ]
  },
  {
   "cell_type": "code",
   "execution_count": 77,
   "id": "54d64c52-1300-4207-b5a3-55f13eaefcfb",
   "metadata": {
    "tags": []
   },
   "outputs": [
    {
     "name": "stdout",
     "output_type": "stream",
     "text": [
      "<class 'list'>\n"
     ]
    },
    {
     "data": {
      "text/plain": [
       "41"
      ]
     },
     "execution_count": 77,
     "metadata": {},
     "output_type": "execute_result"
    }
   ],
   "source": [
    "data = pd.read_html(r.content)\n",
    "print(type(data))\n",
    "len(data)"
   ]
  },
  {
   "cell_type": "code",
   "execution_count": 78,
   "id": "02386a66-bd49-470e-b76e-d1ae153ae1c3",
   "metadata": {
    "tags": []
   },
   "outputs": [
    {
     "data": {
      "text/html": [
       "<div>\n",
       "<style scoped>\n",
       "    .dataframe tbody tr th:only-of-type {\n",
       "        vertical-align: middle;\n",
       "    }\n",
       "\n",
       "    .dataframe tbody tr th {\n",
       "        vertical-align: top;\n",
       "    }\n",
       "\n",
       "    .dataframe thead th {\n",
       "        text-align: right;\n",
       "    }\n",
       "</style>\n",
       "<table border=\"1\" class=\"dataframe\">\n",
       "  <thead>\n",
       "    <tr style=\"text-align: right;\">\n",
       "      <th></th>\n",
       "      <th>Posición</th>\n",
       "      <th>Posición mundial</th>\n",
       "      <th>País</th>\n",
       "      <th>Punto más alto</th>\n",
       "      <th>Altitud</th>\n",
       "      <th>Sistema</th>\n",
       "    </tr>\n",
       "  </thead>\n",
       "  <tbody>\n",
       "    <tr>\n",
       "      <th>0</th>\n",
       "      <td>1</td>\n",
       "      <td>10</td>\n",
       "      <td>Argentina</td>\n",
       "      <td>Cerro Aconcagua</td>\n",
       "      <td>6961 m s. n. m.</td>\n",
       "      <td>Cordillera de los Andes</td>\n",
       "    </tr>\n",
       "    <tr>\n",
       "      <th>1</th>\n",
       "      <td>2</td>\n",
       "      <td>11</td>\n",
       "      <td>Argentina y Chile</td>\n",
       "      <td>Nevado Ojos del Salado</td>\n",
       "      <td>6891 m s. n. m.</td>\n",
       "      <td>Cordillera de los Andes</td>\n",
       "    </tr>\n",
       "    <tr>\n",
       "      <th>2</th>\n",
       "      <td>3</td>\n",
       "      <td>12</td>\n",
       "      <td>Perú</td>\n",
       "      <td>Nevado Huascarán</td>\n",
       "      <td>6768 m s. n. m.</td>\n",
       "      <td>Cordillera de los Andes</td>\n",
       "    </tr>\n",
       "    <tr>\n",
       "      <th>3</th>\n",
       "      <td>4</td>\n",
       "      <td>13</td>\n",
       "      <td>Bolivia</td>\n",
       "      <td>Nevado Sajama</td>\n",
       "      <td>6542 m s. n. m.</td>\n",
       "      <td>Cordillera de los Andes</td>\n",
       "    </tr>\n",
       "    <tr>\n",
       "      <th>4</th>\n",
       "      <td>5</td>\n",
       "      <td>14</td>\n",
       "      <td>Ecuador</td>\n",
       "      <td>Monte Chimborazo</td>\n",
       "      <td>6263 m s. n. m.</td>\n",
       "      <td>Cordillera de los Andes</td>\n",
       "    </tr>\n",
       "  </tbody>\n",
       "</table>\n",
       "</div>"
      ],
      "text/plain": [
       "   Posición  Posición mundial               País          Punto más alto  \\\n",
       "0         1                10          Argentina         Cerro Aconcagua   \n",
       "1         2                11  Argentina y Chile  Nevado Ojos del Salado   \n",
       "2         3                12               Perú        Nevado Huascarán   \n",
       "3         4                13            Bolivia           Nevado Sajama   \n",
       "4         5                14            Ecuador        Monte Chimborazo   \n",
       "\n",
       "           Altitud                  Sistema  \n",
       "0  6961 m s. n. m.  Cordillera de los Andes  \n",
       "1  6891 m s. n. m.  Cordillera de los Andes  \n",
       "2  6768 m s. n. m.  Cordillera de los Andes  \n",
       "3  6542 m s. n. m.  Cordillera de los Andes  \n",
       "4  6263 m s. n. m.  Cordillera de los Andes  "
      ]
     },
     "execution_count": 78,
     "metadata": {},
     "output_type": "execute_result"
    }
   ],
   "source": [
    "df = data[2]\n",
    "df.head()"
   ]
  },
  {
   "cell_type": "code",
   "execution_count": 79,
   "id": "43b2bcdb-2f32-4f85-bc44-7192ec7a315d",
   "metadata": {
    "tags": []
   },
   "outputs": [
    {
     "name": "stdout",
     "output_type": "stream",
     "text": [
      "<class 'pandas.core.frame.DataFrame'>\n",
      "RangeIndex: 14 entries, 0 to 13\n",
      "Data columns (total 6 columns):\n",
      " #   Column            Non-Null Count  Dtype \n",
      "---  ------            --------------  ----- \n",
      " 0   Posición          14 non-null     int64 \n",
      " 1   Posición mundial  14 non-null     int64 \n",
      " 2   País              14 non-null     object\n",
      " 3   Punto más alto    14 non-null     object\n",
      " 4   Altitud           14 non-null     object\n",
      " 5   Sistema           14 non-null     object\n",
      "dtypes: int64(2), object(4)\n",
      "memory usage: 804.0+ bytes\n"
     ]
    }
   ],
   "source": [
    "df.info()"
   ]
  },
  {
   "cell_type": "code",
   "execution_count": 83,
   "id": "7b7d94f4-7f00-4449-9565-3e745d0f6b44",
   "metadata": {},
   "outputs": [],
   "source": [
    "df['Altitud'] = df['Altitud'].apply(lambda x: x.split()[0]).apply(lambda x: int(x))"
   ]
  },
  {
   "cell_type": "code",
   "execution_count": 84,
   "id": "c834664e-d31d-4033-b80f-30685847e363",
   "metadata": {},
   "outputs": [
    {
     "name": "stdout",
     "output_type": "stream",
     "text": [
      "<class 'pandas.core.frame.DataFrame'>\n",
      "RangeIndex: 14 entries, 0 to 13\n",
      "Data columns (total 6 columns):\n",
      " #   Column            Non-Null Count  Dtype \n",
      "---  ------            --------------  ----- \n",
      " 0   Posición          14 non-null     int64 \n",
      " 1   Posición mundial  14 non-null     int64 \n",
      " 2   País              14 non-null     object\n",
      " 3   Punto más alto    14 non-null     object\n",
      " 4   Altitud           14 non-null     int64 \n",
      " 5   Sistema           14 non-null     object\n",
      "dtypes: int64(3), object(3)\n",
      "memory usage: 804.0+ bytes\n"
     ]
    }
   ],
   "source": [
    "df.info()"
   ]
  },
  {
   "cell_type": "code",
   "execution_count": 85,
   "id": "b716f7b9-b4b8-4b22-be53-5aca596bb122",
   "metadata": {},
   "outputs": [
    {
     "data": {
      "text/html": [
       "<div>\n",
       "<style scoped>\n",
       "    .dataframe tbody tr th:only-of-type {\n",
       "        vertical-align: middle;\n",
       "    }\n",
       "\n",
       "    .dataframe tbody tr th {\n",
       "        vertical-align: top;\n",
       "    }\n",
       "\n",
       "    .dataframe thead th {\n",
       "        text-align: right;\n",
       "    }\n",
       "</style>\n",
       "<table border=\"1\" class=\"dataframe\">\n",
       "  <thead>\n",
       "    <tr style=\"text-align: right;\">\n",
       "      <th></th>\n",
       "      <th>Posición</th>\n",
       "      <th>Posición mundial</th>\n",
       "      <th>País</th>\n",
       "      <th>Punto más alto</th>\n",
       "      <th>Altitud</th>\n",
       "      <th>Sistema</th>\n",
       "    </tr>\n",
       "  </thead>\n",
       "  <tbody>\n",
       "    <tr>\n",
       "      <th>0</th>\n",
       "      <td>1</td>\n",
       "      <td>10</td>\n",
       "      <td>Argentina</td>\n",
       "      <td>Cerro Aconcagua</td>\n",
       "      <td>6961</td>\n",
       "      <td>Cordillera de los Andes</td>\n",
       "    </tr>\n",
       "    <tr>\n",
       "      <th>1</th>\n",
       "      <td>2</td>\n",
       "      <td>11</td>\n",
       "      <td>Argentina y Chile</td>\n",
       "      <td>Nevado Ojos del Salado</td>\n",
       "      <td>6891</td>\n",
       "      <td>Cordillera de los Andes</td>\n",
       "    </tr>\n",
       "    <tr>\n",
       "      <th>2</th>\n",
       "      <td>3</td>\n",
       "      <td>12</td>\n",
       "      <td>Perú</td>\n",
       "      <td>Nevado Huascarán</td>\n",
       "      <td>6768</td>\n",
       "      <td>Cordillera de los Andes</td>\n",
       "    </tr>\n",
       "    <tr>\n",
       "      <th>3</th>\n",
       "      <td>4</td>\n",
       "      <td>13</td>\n",
       "      <td>Bolivia</td>\n",
       "      <td>Nevado Sajama</td>\n",
       "      <td>6542</td>\n",
       "      <td>Cordillera de los Andes</td>\n",
       "    </tr>\n",
       "    <tr>\n",
       "      <th>4</th>\n",
       "      <td>5</td>\n",
       "      <td>14</td>\n",
       "      <td>Ecuador</td>\n",
       "      <td>Monte Chimborazo</td>\n",
       "      <td>6263</td>\n",
       "      <td>Cordillera de los Andes</td>\n",
       "    </tr>\n",
       "    <tr>\n",
       "      <th>5</th>\n",
       "      <td>6</td>\n",
       "      <td>19</td>\n",
       "      <td>Colombia</td>\n",
       "      <td>Pico Cristóbal Colón &amp; Simón Bolívar</td>\n",
       "      <td>5775</td>\n",
       "      <td>Sierra Nevada de Santa Marta</td>\n",
       "    </tr>\n",
       "    <tr>\n",
       "      <th>6</th>\n",
       "      <td>7</td>\n",
       "      <td>28</td>\n",
       "      <td>Venezuela</td>\n",
       "      <td>Pico Bolívar</td>\n",
       "      <td>4978</td>\n",
       "      <td>Cordillera de los Andes</td>\n",
       "    </tr>\n",
       "    <tr>\n",
       "      <th>7</th>\n",
       "      <td>8</td>\n",
       "      <td>72</td>\n",
       "      <td>Brasil</td>\n",
       "      <td>Pico da Neblina</td>\n",
       "      <td>2995</td>\n",
       "      <td>Escudo guayanés</td>\n",
       "    </tr>\n",
       "    <tr>\n",
       "      <th>8</th>\n",
       "      <td>9</td>\n",
       "      <td>89</td>\n",
       "      <td>Brasil, Guyana y Venezuela</td>\n",
       "      <td>Tepuy Roraima</td>\n",
       "      <td>2810</td>\n",
       "      <td>Sierra de Pacaraima</td>\n",
       "    </tr>\n",
       "    <tr>\n",
       "      <th>9</th>\n",
       "      <td>10</td>\n",
       "      <td>158</td>\n",
       "      <td>Surinam</td>\n",
       "      <td>Juliana Top</td>\n",
       "      <td>1280</td>\n",
       "      <td>Montañas Wilhelmina</td>\n",
       "    </tr>\n",
       "    <tr>\n",
       "      <th>10</th>\n",
       "      <td>11</td>\n",
       "      <td>175</td>\n",
       "      <td>Trinidad y Tobago</td>\n",
       "      <td>Cerro del Aripo</td>\n",
       "      <td>940</td>\n",
       "      <td>Cordillera del Norte</td>\n",
       "    </tr>\n",
       "    <tr>\n",
       "      <th>11</th>\n",
       "      <td>12</td>\n",
       "      <td>181</td>\n",
       "      <td>Guayana Francesa</td>\n",
       "      <td>Monte Bellevue</td>\n",
       "      <td>851</td>\n",
       "      <td>Escudo Guayanés</td>\n",
       "    </tr>\n",
       "    <tr>\n",
       "      <th>12</th>\n",
       "      <td>13</td>\n",
       "      <td>182</td>\n",
       "      <td>Paraguay</td>\n",
       "      <td>Cerro Tres Kandú</td>\n",
       "      <td>842</td>\n",
       "      <td>Cordillera de Ybytyruzú</td>\n",
       "    </tr>\n",
       "    <tr>\n",
       "      <th>13</th>\n",
       "      <td>14</td>\n",
       "      <td>198</td>\n",
       "      <td>Uruguay</td>\n",
       "      <td>Cerro Catedral</td>\n",
       "      <td>514</td>\n",
       "      <td>Cuchilla Grande</td>\n",
       "    </tr>\n",
       "  </tbody>\n",
       "</table>\n",
       "</div>"
      ],
      "text/plain": [
       "    Posición  Posición mundial                        País  \\\n",
       "0          1                10                   Argentina   \n",
       "1          2                11           Argentina y Chile   \n",
       "2          3                12                        Perú   \n",
       "3          4                13                     Bolivia   \n",
       "4          5                14                     Ecuador   \n",
       "5          6                19                    Colombia   \n",
       "6          7                28                   Venezuela   \n",
       "7          8                72                      Brasil   \n",
       "8          9                89  Brasil, Guyana y Venezuela   \n",
       "9         10               158                     Surinam   \n",
       "10        11               175           Trinidad y Tobago   \n",
       "11        12               181            Guayana Francesa   \n",
       "12        13               182                    Paraguay   \n",
       "13        14               198                     Uruguay   \n",
       "\n",
       "                          Punto más alto  Altitud  \\\n",
       "0                        Cerro Aconcagua     6961   \n",
       "1                 Nevado Ojos del Salado     6891   \n",
       "2                       Nevado Huascarán     6768   \n",
       "3                          Nevado Sajama     6542   \n",
       "4                       Monte Chimborazo     6263   \n",
       "5   Pico Cristóbal Colón & Simón Bolívar     5775   \n",
       "6                           Pico Bolívar     4978   \n",
       "7                        Pico da Neblina     2995   \n",
       "8                          Tepuy Roraima     2810   \n",
       "9                            Juliana Top     1280   \n",
       "10                       Cerro del Aripo      940   \n",
       "11                        Monte Bellevue      851   \n",
       "12                      Cerro Tres Kandú      842   \n",
       "13                        Cerro Catedral      514   \n",
       "\n",
       "                         Sistema  \n",
       "0        Cordillera de los Andes  \n",
       "1        Cordillera de los Andes  \n",
       "2        Cordillera de los Andes  \n",
       "3        Cordillera de los Andes  \n",
       "4        Cordillera de los Andes  \n",
       "5   Sierra Nevada de Santa Marta  \n",
       "6        Cordillera de los Andes  \n",
       "7                Escudo guayanés  \n",
       "8            Sierra de Pacaraima  \n",
       "9            Montañas Wilhelmina  \n",
       "10          Cordillera del Norte  \n",
       "11               Escudo Guayanés  \n",
       "12       Cordillera de Ybytyruzú  \n",
       "13               Cuchilla Grande  "
      ]
     },
     "execution_count": 85,
     "metadata": {},
     "output_type": "execute_result"
    }
   ],
   "source": [
    "df"
   ]
  },
  {
   "cell_type": "code",
   "execution_count": 86,
   "id": "fac906b9-1545-4ee4-8fbd-29f46e230e3a",
   "metadata": {},
   "outputs": [],
   "source": [
    "df.index = df['Posición']"
   ]
  },
  {
   "cell_type": "code",
   "execution_count": 89,
   "id": "a62553c3-c776-4acf-a0de-4d8e4e822301",
   "metadata": {},
   "outputs": [],
   "source": [
    "df.drop(columns=['Posición'], inplace=True)"
   ]
  },
  {
   "cell_type": "code",
   "execution_count": 90,
   "id": "48fb768c-db52-48fc-813e-cc5ab3620921",
   "metadata": {},
   "outputs": [
    {
     "data": {
      "text/html": [
       "<div>\n",
       "<style scoped>\n",
       "    .dataframe tbody tr th:only-of-type {\n",
       "        vertical-align: middle;\n",
       "    }\n",
       "\n",
       "    .dataframe tbody tr th {\n",
       "        vertical-align: top;\n",
       "    }\n",
       "\n",
       "    .dataframe thead th {\n",
       "        text-align: right;\n",
       "    }\n",
       "</style>\n",
       "<table border=\"1\" class=\"dataframe\">\n",
       "  <thead>\n",
       "    <tr style=\"text-align: right;\">\n",
       "      <th></th>\n",
       "      <th>Posición mundial</th>\n",
       "      <th>País</th>\n",
       "      <th>Punto más alto</th>\n",
       "      <th>Altitud</th>\n",
       "      <th>Sistema</th>\n",
       "    </tr>\n",
       "    <tr>\n",
       "      <th>Posición</th>\n",
       "      <th></th>\n",
       "      <th></th>\n",
       "      <th></th>\n",
       "      <th></th>\n",
       "      <th></th>\n",
       "    </tr>\n",
       "  </thead>\n",
       "  <tbody>\n",
       "    <tr>\n",
       "      <th>1</th>\n",
       "      <td>10</td>\n",
       "      <td>Argentina</td>\n",
       "      <td>Cerro Aconcagua</td>\n",
       "      <td>6961</td>\n",
       "      <td>Cordillera de los Andes</td>\n",
       "    </tr>\n",
       "    <tr>\n",
       "      <th>2</th>\n",
       "      <td>11</td>\n",
       "      <td>Argentina y Chile</td>\n",
       "      <td>Nevado Ojos del Salado</td>\n",
       "      <td>6891</td>\n",
       "      <td>Cordillera de los Andes</td>\n",
       "    </tr>\n",
       "    <tr>\n",
       "      <th>3</th>\n",
       "      <td>12</td>\n",
       "      <td>Perú</td>\n",
       "      <td>Nevado Huascarán</td>\n",
       "      <td>6768</td>\n",
       "      <td>Cordillera de los Andes</td>\n",
       "    </tr>\n",
       "    <tr>\n",
       "      <th>4</th>\n",
       "      <td>13</td>\n",
       "      <td>Bolivia</td>\n",
       "      <td>Nevado Sajama</td>\n",
       "      <td>6542</td>\n",
       "      <td>Cordillera de los Andes</td>\n",
       "    </tr>\n",
       "    <tr>\n",
       "      <th>5</th>\n",
       "      <td>14</td>\n",
       "      <td>Ecuador</td>\n",
       "      <td>Monte Chimborazo</td>\n",
       "      <td>6263</td>\n",
       "      <td>Cordillera de los Andes</td>\n",
       "    </tr>\n",
       "    <tr>\n",
       "      <th>6</th>\n",
       "      <td>19</td>\n",
       "      <td>Colombia</td>\n",
       "      <td>Pico Cristóbal Colón &amp; Simón Bolívar</td>\n",
       "      <td>5775</td>\n",
       "      <td>Sierra Nevada de Santa Marta</td>\n",
       "    </tr>\n",
       "    <tr>\n",
       "      <th>7</th>\n",
       "      <td>28</td>\n",
       "      <td>Venezuela</td>\n",
       "      <td>Pico Bolívar</td>\n",
       "      <td>4978</td>\n",
       "      <td>Cordillera de los Andes</td>\n",
       "    </tr>\n",
       "    <tr>\n",
       "      <th>8</th>\n",
       "      <td>72</td>\n",
       "      <td>Brasil</td>\n",
       "      <td>Pico da Neblina</td>\n",
       "      <td>2995</td>\n",
       "      <td>Escudo guayanés</td>\n",
       "    </tr>\n",
       "    <tr>\n",
       "      <th>9</th>\n",
       "      <td>89</td>\n",
       "      <td>Brasil, Guyana y Venezuela</td>\n",
       "      <td>Tepuy Roraima</td>\n",
       "      <td>2810</td>\n",
       "      <td>Sierra de Pacaraima</td>\n",
       "    </tr>\n",
       "    <tr>\n",
       "      <th>10</th>\n",
       "      <td>158</td>\n",
       "      <td>Surinam</td>\n",
       "      <td>Juliana Top</td>\n",
       "      <td>1280</td>\n",
       "      <td>Montañas Wilhelmina</td>\n",
       "    </tr>\n",
       "    <tr>\n",
       "      <th>11</th>\n",
       "      <td>175</td>\n",
       "      <td>Trinidad y Tobago</td>\n",
       "      <td>Cerro del Aripo</td>\n",
       "      <td>940</td>\n",
       "      <td>Cordillera del Norte</td>\n",
       "    </tr>\n",
       "    <tr>\n",
       "      <th>12</th>\n",
       "      <td>181</td>\n",
       "      <td>Guayana Francesa</td>\n",
       "      <td>Monte Bellevue</td>\n",
       "      <td>851</td>\n",
       "      <td>Escudo Guayanés</td>\n",
       "    </tr>\n",
       "    <tr>\n",
       "      <th>13</th>\n",
       "      <td>182</td>\n",
       "      <td>Paraguay</td>\n",
       "      <td>Cerro Tres Kandú</td>\n",
       "      <td>842</td>\n",
       "      <td>Cordillera de Ybytyruzú</td>\n",
       "    </tr>\n",
       "    <tr>\n",
       "      <th>14</th>\n",
       "      <td>198</td>\n",
       "      <td>Uruguay</td>\n",
       "      <td>Cerro Catedral</td>\n",
       "      <td>514</td>\n",
       "      <td>Cuchilla Grande</td>\n",
       "    </tr>\n",
       "  </tbody>\n",
       "</table>\n",
       "</div>"
      ],
      "text/plain": [
       "          Posición mundial                        País  \\\n",
       "Posición                                                 \n",
       "1                       10                   Argentina   \n",
       "2                       11           Argentina y Chile   \n",
       "3                       12                        Perú   \n",
       "4                       13                     Bolivia   \n",
       "5                       14                     Ecuador   \n",
       "6                       19                    Colombia   \n",
       "7                       28                   Venezuela   \n",
       "8                       72                      Brasil   \n",
       "9                       89  Brasil, Guyana y Venezuela   \n",
       "10                     158                     Surinam   \n",
       "11                     175           Trinidad y Tobago   \n",
       "12                     181            Guayana Francesa   \n",
       "13                     182                    Paraguay   \n",
       "14                     198                     Uruguay   \n",
       "\n",
       "                                Punto más alto  Altitud  \\\n",
       "Posición                                                  \n",
       "1                              Cerro Aconcagua     6961   \n",
       "2                       Nevado Ojos del Salado     6891   \n",
       "3                             Nevado Huascarán     6768   \n",
       "4                                Nevado Sajama     6542   \n",
       "5                             Monte Chimborazo     6263   \n",
       "6         Pico Cristóbal Colón & Simón Bolívar     5775   \n",
       "7                                 Pico Bolívar     4978   \n",
       "8                              Pico da Neblina     2995   \n",
       "9                                Tepuy Roraima     2810   \n",
       "10                                 Juliana Top     1280   \n",
       "11                             Cerro del Aripo      940   \n",
       "12                              Monte Bellevue      851   \n",
       "13                            Cerro Tres Kandú      842   \n",
       "14                              Cerro Catedral      514   \n",
       "\n",
       "                               Sistema  \n",
       "Posición                                \n",
       "1              Cordillera de los Andes  \n",
       "2              Cordillera de los Andes  \n",
       "3              Cordillera de los Andes  \n",
       "4              Cordillera de los Andes  \n",
       "5              Cordillera de los Andes  \n",
       "6         Sierra Nevada de Santa Marta  \n",
       "7              Cordillera de los Andes  \n",
       "8                      Escudo guayanés  \n",
       "9                  Sierra de Pacaraima  \n",
       "10                 Montañas Wilhelmina  \n",
       "11                Cordillera del Norte  \n",
       "12                     Escudo Guayanés  \n",
       "13             Cordillera de Ybytyruzú  \n",
       "14                     Cuchilla Grande  "
      ]
     },
     "execution_count": 90,
     "metadata": {},
     "output_type": "execute_result"
    }
   ],
   "source": [
    "df"
   ]
  },
  {
   "cell_type": "code",
   "execution_count": 93,
   "id": "9e08b354-747a-4e14-926a-adbff9cda798",
   "metadata": {
    "tags": []
   },
   "outputs": [
    {
     "data": {
      "text/plain": [
       "<Response [200]>"
      ]
     },
     "execution_count": 93,
     "metadata": {},
     "output_type": "execute_result"
    }
   ],
   "source": [
    "URL = \"https://es-us.finanzas.yahoo.com/quote/BTC-USD/history?p=BTC-USD\"\n",
    "r = requests.get(URL, headers={'User-Agent':'Mozilla/5.0 (Windows NT 10.0; Win64; x64) AppleWebKit/537.36 (KHTML, like Gecko) Chrome/91.0.4472.124 Safari/537.36'})\n",
    "r"
   ]
  },
  {
   "cell_type": "code",
   "execution_count": 94,
   "id": "0f17368c-aaea-40c7-8b46-d356192afb6d",
   "metadata": {
    "tags": []
   },
   "outputs": [
    {
     "data": {
      "text/html": [
       "<div>\n",
       "<style scoped>\n",
       "    .dataframe tbody tr th:only-of-type {\n",
       "        vertical-align: middle;\n",
       "    }\n",
       "\n",
       "    .dataframe tbody tr th {\n",
       "        vertical-align: top;\n",
       "    }\n",
       "\n",
       "    .dataframe thead th {\n",
       "        text-align: right;\n",
       "    }\n",
       "</style>\n",
       "<table border=\"1\" class=\"dataframe\">\n",
       "  <thead>\n",
       "    <tr style=\"text-align: right;\">\n",
       "      <th></th>\n",
       "      <th>Fecha</th>\n",
       "      <th>Abrir</th>\n",
       "      <th>Alto</th>\n",
       "      <th>Bajo</th>\n",
       "      <th>Cierre*</th>\n",
       "      <th>Cierre ajustado**</th>\n",
       "      <th>Volumen</th>\n",
       "    </tr>\n",
       "  </thead>\n",
       "  <tbody>\n",
       "    <tr>\n",
       "      <th>0</th>\n",
       "      <td>17 may 2024</td>\n",
       "      <td>65241.33</td>\n",
       "      <td>66940.84</td>\n",
       "      <td>65179.25</td>\n",
       "      <td>66940.84</td>\n",
       "      <td>66940.84</td>\n",
       "      <td>29180190720</td>\n",
       "    </tr>\n",
       "    <tr>\n",
       "      <th>1</th>\n",
       "      <td>16 may 2024</td>\n",
       "      <td>66256.11</td>\n",
       "      <td>66712.43</td>\n",
       "      <td>64613.05</td>\n",
       "      <td>65231.58</td>\n",
       "      <td>65231.58</td>\n",
       "      <td>31573077994</td>\n",
       "    </tr>\n",
       "    <tr>\n",
       "      <th>2</th>\n",
       "      <td>15 may 2024</td>\n",
       "      <td>61553.99</td>\n",
       "      <td>66454.45</td>\n",
       "      <td>61330.41</td>\n",
       "      <td>66267.49</td>\n",
       "      <td>66267.49</td>\n",
       "      <td>39815167074</td>\n",
       "    </tr>\n",
       "    <tr>\n",
       "      <th>3</th>\n",
       "      <td>14 may 2024</td>\n",
       "      <td>62900.77</td>\n",
       "      <td>63092.13</td>\n",
       "      <td>61123.77</td>\n",
       "      <td>61552.79</td>\n",
       "      <td>61552.79</td>\n",
       "      <td>28186271527</td>\n",
       "    </tr>\n",
       "    <tr>\n",
       "      <th>4</th>\n",
       "      <td>13 may 2024</td>\n",
       "      <td>61451.22</td>\n",
       "      <td>63422.66</td>\n",
       "      <td>60769.84</td>\n",
       "      <td>62901.45</td>\n",
       "      <td>62901.45</td>\n",
       "      <td>27889181179</td>\n",
       "    </tr>\n",
       "  </tbody>\n",
       "</table>\n",
       "</div>"
      ],
      "text/plain": [
       "         Fecha     Abrir      Alto      Bajo   Cierre* Cierre ajustado**  \\\n",
       "0  17 may 2024  65241.33  66940.84  65179.25  66940.84          66940.84   \n",
       "1  16 may 2024  66256.11  66712.43  64613.05  65231.58          65231.58   \n",
       "2  15 may 2024  61553.99  66454.45  61330.41  66267.49          66267.49   \n",
       "3  14 may 2024  62900.77  63092.13  61123.77  61552.79          61552.79   \n",
       "4  13 may 2024  61451.22  63422.66  60769.84  62901.45          62901.45   \n",
       "\n",
       "       Volumen  \n",
       "0  29180190720  \n",
       "1  31573077994  \n",
       "2  39815167074  \n",
       "3  28186271527  \n",
       "4  27889181179  "
      ]
     },
     "execution_count": 94,
     "metadata": {},
     "output_type": "execute_result"
    }
   ],
   "source": [
    "data = pd.read_html(r.content)\n",
    "df = data[0]\n",
    "df.head()"
   ]
  },
  {
   "cell_type": "code",
   "execution_count": 95,
   "id": "df661314-30da-4b7b-9bba-377d30c574be",
   "metadata": {
    "tags": []
   },
   "outputs": [
    {
     "name": "stdout",
     "output_type": "stream",
     "text": [
      "<class 'pandas.core.frame.DataFrame'>\n",
      "RangeIndex: 101 entries, 0 to 100\n",
      "Data columns (total 7 columns):\n",
      " #   Column             Non-Null Count  Dtype \n",
      "---  ------             --------------  ----- \n",
      " 0   Fecha              101 non-null    object\n",
      " 1   Abrir              101 non-null    object\n",
      " 2   Alto               101 non-null    object\n",
      " 3   Bajo               101 non-null    object\n",
      " 4   Cierre*            101 non-null    object\n",
      " 5   Cierre ajustado**  101 non-null    object\n",
      " 6   Volumen            101 non-null    object\n",
      "dtypes: object(7)\n",
      "memory usage: 5.7+ KB\n"
     ]
    }
   ],
   "source": [
    "df.info()"
   ]
  },
  {
   "cell_type": "markdown",
   "id": "4a3ff61c-c1c5-4fdb-b2db-dc389758f513",
   "metadata": {
    "tags": []
   },
   "source": [
    "### DataFrame.to_datetime y DatetimeIndex "
   ]
  },
  {
   "cell_type": "code",
   "execution_count": 96,
   "id": "5111da75-b7e0-4150-a99d-8cd32e4803c9",
   "metadata": {
    "tags": []
   },
   "outputs": [
    {
     "data": {
      "text/html": [
       "<div>\n",
       "<style scoped>\n",
       "    .dataframe tbody tr th:only-of-type {\n",
       "        vertical-align: middle;\n",
       "    }\n",
       "\n",
       "    .dataframe tbody tr th {\n",
       "        vertical-align: top;\n",
       "    }\n",
       "\n",
       "    .dataframe thead th {\n",
       "        text-align: right;\n",
       "    }\n",
       "</style>\n",
       "<table border=\"1\" class=\"dataframe\">\n",
       "  <thead>\n",
       "    <tr style=\"text-align: right;\">\n",
       "      <th></th>\n",
       "      <th>Fecha</th>\n",
       "      <th>Abrir</th>\n",
       "      <th>Alto</th>\n",
       "      <th>Bajo</th>\n",
       "      <th>Cierre*</th>\n",
       "      <th>Cierre ajustado**</th>\n",
       "      <th>Volumen</th>\n",
       "    </tr>\n",
       "  </thead>\n",
       "  <tbody>\n",
       "    <tr>\n",
       "      <th>96</th>\n",
       "      <td>11 feb 2024</td>\n",
       "      <td>47768.97</td>\n",
       "      <td>48535.94</td>\n",
       "      <td>47617.41</td>\n",
       "      <td>48293.92</td>\n",
       "      <td>48293.92</td>\n",
       "      <td>19315867136</td>\n",
       "    </tr>\n",
       "    <tr>\n",
       "      <th>97</th>\n",
       "      <td>10 feb 2024</td>\n",
       "      <td>47153.53</td>\n",
       "      <td>48146.17</td>\n",
       "      <td>46905.32</td>\n",
       "      <td>47771.28</td>\n",
       "      <td>47771.28</td>\n",
       "      <td>16398681570</td>\n",
       "    </tr>\n",
       "    <tr>\n",
       "      <th>98</th>\n",
       "      <td>09 feb 2024</td>\n",
       "      <td>45297.38</td>\n",
       "      <td>48152.50</td>\n",
       "      <td>45260.82</td>\n",
       "      <td>47147.20</td>\n",
       "      <td>47147.20</td>\n",
       "      <td>39316770844</td>\n",
       "    </tr>\n",
       "    <tr>\n",
       "      <th>99</th>\n",
       "      <td>08 feb 2024</td>\n",
       "      <td>44332.13</td>\n",
       "      <td>45575.84</td>\n",
       "      <td>44332.13</td>\n",
       "      <td>45301.57</td>\n",
       "      <td>45301.57</td>\n",
       "      <td>26154524080</td>\n",
       "    </tr>\n",
       "    <tr>\n",
       "      <th>100</th>\n",
       "      <td>*Precio de cierre ajustado para división de ac...</td>\n",
       "      <td>*Precio de cierre ajustado para división de ac...</td>\n",
       "      <td>*Precio de cierre ajustado para división de ac...</td>\n",
       "      <td>*Precio de cierre ajustado para división de ac...</td>\n",
       "      <td>*Precio de cierre ajustado para división de ac...</td>\n",
       "      <td>*Precio de cierre ajustado para división de ac...</td>\n",
       "      <td>*Precio de cierre ajustado para división de ac...</td>\n",
       "    </tr>\n",
       "  </tbody>\n",
       "</table>\n",
       "</div>"
      ],
      "text/plain": [
       "                                                 Fecha  \\\n",
       "96                                         11 feb 2024   \n",
       "97                                         10 feb 2024   \n",
       "98                                         09 feb 2024   \n",
       "99                                         08 feb 2024   \n",
       "100  *Precio de cierre ajustado para división de ac...   \n",
       "\n",
       "                                                 Abrir  \\\n",
       "96                                            47768.97   \n",
       "97                                            47153.53   \n",
       "98                                            45297.38   \n",
       "99                                            44332.13   \n",
       "100  *Precio de cierre ajustado para división de ac...   \n",
       "\n",
       "                                                  Alto  \\\n",
       "96                                            48535.94   \n",
       "97                                            48146.17   \n",
       "98                                            48152.50   \n",
       "99                                            45575.84   \n",
       "100  *Precio de cierre ajustado para división de ac...   \n",
       "\n",
       "                                                  Bajo  \\\n",
       "96                                            47617.41   \n",
       "97                                            46905.32   \n",
       "98                                            45260.82   \n",
       "99                                            44332.13   \n",
       "100  *Precio de cierre ajustado para división de ac...   \n",
       "\n",
       "                                               Cierre*  \\\n",
       "96                                            48293.92   \n",
       "97                                            47771.28   \n",
       "98                                            47147.20   \n",
       "99                                            45301.57   \n",
       "100  *Precio de cierre ajustado para división de ac...   \n",
       "\n",
       "                                     Cierre ajustado**  \\\n",
       "96                                            48293.92   \n",
       "97                                            47771.28   \n",
       "98                                            47147.20   \n",
       "99                                            45301.57   \n",
       "100  *Precio de cierre ajustado para división de ac...   \n",
       "\n",
       "                                               Volumen  \n",
       "96                                         19315867136  \n",
       "97                                         16398681570  \n",
       "98                                         39316770844  \n",
       "99                                         26154524080  \n",
       "100  *Precio de cierre ajustado para división de ac...  "
      ]
     },
     "execution_count": 96,
     "metadata": {},
     "output_type": "execute_result"
    }
   ],
   "source": [
    "df.tail()"
   ]
  },
  {
   "cell_type": "code",
   "execution_count": 97,
   "id": "59882e98-f703-4e2a-9776-7f064f00d73c",
   "metadata": {
    "tags": []
   },
   "outputs": [],
   "source": [
    "df.drop(index=100, inplace=True)"
   ]
  },
  {
   "cell_type": "code",
   "execution_count": 99,
   "id": "61658b7e-be9c-43b4-b76e-234633f2a533",
   "metadata": {
    "tags": []
   },
   "outputs": [],
   "source": [
    "def change_month(texto):\n",
    "    meses = {'ene ': 'jan ', \n",
    "             'feb ': 'feb ', \n",
    "             'mar ': 'mar ', \n",
    "             'abr ': 'apr ', \n",
    "             'may ': 'may ', \n",
    "             'jun ': 'jun ', \n",
    "             'jul ': 'jul ', \n",
    "             'ago ': 'ago ', \n",
    "             'set ': 'sep ',\n",
    "             'sept': 'sep ',\n",
    "             'oct ': 'oct ', \n",
    "             'nov ': 'nov ', \n",
    "             'dic ': 'dec '}\n",
    "    \n",
    "    for k, v in meses.items():\n",
    "        if k in texto:\n",
    "            return texto.replace(k, v)"
   ]
  },
  {
   "cell_type": "code",
   "execution_count": 100,
   "id": "b245ff52-76a2-4738-b76c-d8d5481e3ab5",
   "metadata": {
    "tags": []
   },
   "outputs": [],
   "source": [
    "df['Fecha'] = pd.to_datetime(df['Fecha'].apply(lambda x: change_month(x)), format=\"%d %b %Y\")"
   ]
  },
  {
   "cell_type": "code",
   "execution_count": 101,
   "id": "9c651eae-3aa2-4778-bb4b-001e37de116b",
   "metadata": {
    "tags": []
   },
   "outputs": [
    {
     "data": {
      "text/html": [
       "<div>\n",
       "<style scoped>\n",
       "    .dataframe tbody tr th:only-of-type {\n",
       "        vertical-align: middle;\n",
       "    }\n",
       "\n",
       "    .dataframe tbody tr th {\n",
       "        vertical-align: top;\n",
       "    }\n",
       "\n",
       "    .dataframe thead th {\n",
       "        text-align: right;\n",
       "    }\n",
       "</style>\n",
       "<table border=\"1\" class=\"dataframe\">\n",
       "  <thead>\n",
       "    <tr style=\"text-align: right;\">\n",
       "      <th></th>\n",
       "      <th>Fecha</th>\n",
       "      <th>Abrir</th>\n",
       "      <th>Alto</th>\n",
       "      <th>Bajo</th>\n",
       "      <th>Cierre*</th>\n",
       "      <th>Cierre ajustado**</th>\n",
       "      <th>Volumen</th>\n",
       "    </tr>\n",
       "  </thead>\n",
       "  <tbody>\n",
       "    <tr>\n",
       "      <th>0</th>\n",
       "      <td>2024-05-17</td>\n",
       "      <td>65241.33</td>\n",
       "      <td>66940.84</td>\n",
       "      <td>65179.25</td>\n",
       "      <td>66940.84</td>\n",
       "      <td>66940.84</td>\n",
       "      <td>29180190720</td>\n",
       "    </tr>\n",
       "    <tr>\n",
       "      <th>1</th>\n",
       "      <td>2024-05-16</td>\n",
       "      <td>66256.11</td>\n",
       "      <td>66712.43</td>\n",
       "      <td>64613.05</td>\n",
       "      <td>65231.58</td>\n",
       "      <td>65231.58</td>\n",
       "      <td>31573077994</td>\n",
       "    </tr>\n",
       "    <tr>\n",
       "      <th>2</th>\n",
       "      <td>2024-05-15</td>\n",
       "      <td>61553.99</td>\n",
       "      <td>66454.45</td>\n",
       "      <td>61330.41</td>\n",
       "      <td>66267.49</td>\n",
       "      <td>66267.49</td>\n",
       "      <td>39815167074</td>\n",
       "    </tr>\n",
       "    <tr>\n",
       "      <th>3</th>\n",
       "      <td>2024-05-14</td>\n",
       "      <td>62900.77</td>\n",
       "      <td>63092.13</td>\n",
       "      <td>61123.77</td>\n",
       "      <td>61552.79</td>\n",
       "      <td>61552.79</td>\n",
       "      <td>28186271527</td>\n",
       "    </tr>\n",
       "    <tr>\n",
       "      <th>4</th>\n",
       "      <td>2024-05-13</td>\n",
       "      <td>61451.22</td>\n",
       "      <td>63422.66</td>\n",
       "      <td>60769.84</td>\n",
       "      <td>62901.45</td>\n",
       "      <td>62901.45</td>\n",
       "      <td>27889181179</td>\n",
       "    </tr>\n",
       "  </tbody>\n",
       "</table>\n",
       "</div>"
      ],
      "text/plain": [
       "       Fecha     Abrir      Alto      Bajo   Cierre* Cierre ajustado**  \\\n",
       "0 2024-05-17  65241.33  66940.84  65179.25  66940.84          66940.84   \n",
       "1 2024-05-16  66256.11  66712.43  64613.05  65231.58          65231.58   \n",
       "2 2024-05-15  61553.99  66454.45  61330.41  66267.49          66267.49   \n",
       "3 2024-05-14  62900.77  63092.13  61123.77  61552.79          61552.79   \n",
       "4 2024-05-13  61451.22  63422.66  60769.84  62901.45          62901.45   \n",
       "\n",
       "       Volumen  \n",
       "0  29180190720  \n",
       "1  31573077994  \n",
       "2  39815167074  \n",
       "3  28186271527  \n",
       "4  27889181179  "
      ]
     },
     "execution_count": 101,
     "metadata": {},
     "output_type": "execute_result"
    }
   ],
   "source": [
    "df.head()"
   ]
  },
  {
   "cell_type": "code",
   "execution_count": 102,
   "id": "d651d8d3-1013-4530-aca1-c0119fdc5e44",
   "metadata": {
    "tags": []
   },
   "outputs": [],
   "source": [
    "df.index = pd.DatetimeIndex(df['Fecha'])"
   ]
  },
  {
   "cell_type": "code",
   "execution_count": 103,
   "id": "61114e54-81ab-4c47-97cb-e55d036e1d75",
   "metadata": {
    "tags": []
   },
   "outputs": [],
   "source": [
    "df.drop(columns='Fecha', inplace=True)"
   ]
  },
  {
   "cell_type": "code",
   "execution_count": 104,
   "id": "9c95b96f-9f60-4632-8446-ac105e15b34e",
   "metadata": {
    "tags": []
   },
   "outputs": [
    {
     "data": {
      "text/html": [
       "<div>\n",
       "<style scoped>\n",
       "    .dataframe tbody tr th:only-of-type {\n",
       "        vertical-align: middle;\n",
       "    }\n",
       "\n",
       "    .dataframe tbody tr th {\n",
       "        vertical-align: top;\n",
       "    }\n",
       "\n",
       "    .dataframe thead th {\n",
       "        text-align: right;\n",
       "    }\n",
       "</style>\n",
       "<table border=\"1\" class=\"dataframe\">\n",
       "  <thead>\n",
       "    <tr style=\"text-align: right;\">\n",
       "      <th></th>\n",
       "      <th>Abrir</th>\n",
       "      <th>Alto</th>\n",
       "      <th>Bajo</th>\n",
       "      <th>Cierre*</th>\n",
       "      <th>Cierre ajustado**</th>\n",
       "      <th>Volumen</th>\n",
       "    </tr>\n",
       "    <tr>\n",
       "      <th>Fecha</th>\n",
       "      <th></th>\n",
       "      <th></th>\n",
       "      <th></th>\n",
       "      <th></th>\n",
       "      <th></th>\n",
       "      <th></th>\n",
       "    </tr>\n",
       "  </thead>\n",
       "  <tbody>\n",
       "    <tr>\n",
       "      <th>2024-05-17</th>\n",
       "      <td>65241.33</td>\n",
       "      <td>66940.84</td>\n",
       "      <td>65179.25</td>\n",
       "      <td>66940.84</td>\n",
       "      <td>66940.84</td>\n",
       "      <td>29180190720</td>\n",
       "    </tr>\n",
       "    <tr>\n",
       "      <th>2024-05-16</th>\n",
       "      <td>66256.11</td>\n",
       "      <td>66712.43</td>\n",
       "      <td>64613.05</td>\n",
       "      <td>65231.58</td>\n",
       "      <td>65231.58</td>\n",
       "      <td>31573077994</td>\n",
       "    </tr>\n",
       "    <tr>\n",
       "      <th>2024-05-15</th>\n",
       "      <td>61553.99</td>\n",
       "      <td>66454.45</td>\n",
       "      <td>61330.41</td>\n",
       "      <td>66267.49</td>\n",
       "      <td>66267.49</td>\n",
       "      <td>39815167074</td>\n",
       "    </tr>\n",
       "    <tr>\n",
       "      <th>2024-05-14</th>\n",
       "      <td>62900.77</td>\n",
       "      <td>63092.13</td>\n",
       "      <td>61123.77</td>\n",
       "      <td>61552.79</td>\n",
       "      <td>61552.79</td>\n",
       "      <td>28186271527</td>\n",
       "    </tr>\n",
       "    <tr>\n",
       "      <th>2024-05-13</th>\n",
       "      <td>61451.22</td>\n",
       "      <td>63422.66</td>\n",
       "      <td>60769.84</td>\n",
       "      <td>62901.45</td>\n",
       "      <td>62901.45</td>\n",
       "      <td>27889181179</td>\n",
       "    </tr>\n",
       "  </tbody>\n",
       "</table>\n",
       "</div>"
      ],
      "text/plain": [
       "               Abrir      Alto      Bajo   Cierre* Cierre ajustado**  \\\n",
       "Fecha                                                                  \n",
       "2024-05-17  65241.33  66940.84  65179.25  66940.84          66940.84   \n",
       "2024-05-16  66256.11  66712.43  64613.05  65231.58          65231.58   \n",
       "2024-05-15  61553.99  66454.45  61330.41  66267.49          66267.49   \n",
       "2024-05-14  62900.77  63092.13  61123.77  61552.79          61552.79   \n",
       "2024-05-13  61451.22  63422.66  60769.84  62901.45          62901.45   \n",
       "\n",
       "                Volumen  \n",
       "Fecha                    \n",
       "2024-05-17  29180190720  \n",
       "2024-05-16  31573077994  \n",
       "2024-05-15  39815167074  \n",
       "2024-05-14  28186271527  \n",
       "2024-05-13  27889181179  "
      ]
     },
     "execution_count": 104,
     "metadata": {},
     "output_type": "execute_result"
    }
   ],
   "source": [
    "df.head()"
   ]
  },
  {
   "cell_type": "code",
   "execution_count": 105,
   "id": "2e24ce69-aa3b-4c52-8f68-70a855267afb",
   "metadata": {
    "tags": []
   },
   "outputs": [],
   "source": [
    "columns = ['Abrir', 'Alto', 'Bajo', 'Cierre*', 'Cierre ajustado**']\n",
    "for column in columns:\n",
    "    df[column] = df[column].apply(lambda x: float(x))\n",
    "else:\n",
    "    df['Volumen'] = df['Volumen'].apply(lambda x: int(x))"
   ]
  },
  {
   "cell_type": "code",
   "execution_count": 106,
   "id": "e93cfaac-a52e-41e2-a6e6-f9d1acd7acb7",
   "metadata": {
    "tags": []
   },
   "outputs": [
    {
     "name": "stdout",
     "output_type": "stream",
     "text": [
      "<class 'pandas.core.frame.DataFrame'>\n",
      "DatetimeIndex: 100 entries, 2024-05-17 to 2024-02-08\n",
      "Data columns (total 6 columns):\n",
      " #   Column             Non-Null Count  Dtype  \n",
      "---  ------             --------------  -----  \n",
      " 0   Abrir              100 non-null    float64\n",
      " 1   Alto               100 non-null    float64\n",
      " 2   Bajo               100 non-null    float64\n",
      " 3   Cierre*            100 non-null    float64\n",
      " 4   Cierre ajustado**  100 non-null    float64\n",
      " 5   Volumen            100 non-null    int64  \n",
      "dtypes: float64(5), int64(1)\n",
      "memory usage: 5.5 KB\n"
     ]
    }
   ],
   "source": [
    "df.info()"
   ]
  },
  {
   "cell_type": "code",
   "execution_count": 107,
   "id": "f7e6fd7d-49bb-4c5a-b2f9-f0bca4534429",
   "metadata": {
    "tags": []
   },
   "outputs": [
    {
     "data": {
      "text/html": [
       "<div>\n",
       "<style scoped>\n",
       "    .dataframe tbody tr th:only-of-type {\n",
       "        vertical-align: middle;\n",
       "    }\n",
       "\n",
       "    .dataframe tbody tr th {\n",
       "        vertical-align: top;\n",
       "    }\n",
       "\n",
       "    .dataframe thead th {\n",
       "        text-align: right;\n",
       "    }\n",
       "</style>\n",
       "<table border=\"1\" class=\"dataframe\">\n",
       "  <thead>\n",
       "    <tr style=\"text-align: right;\">\n",
       "      <th></th>\n",
       "      <th>Abrir</th>\n",
       "      <th>Alto</th>\n",
       "      <th>Bajo</th>\n",
       "      <th>Cierre*</th>\n",
       "      <th>Cierre ajustado**</th>\n",
       "      <th>Volumen</th>\n",
       "    </tr>\n",
       "    <tr>\n",
       "      <th>Fecha</th>\n",
       "      <th></th>\n",
       "      <th></th>\n",
       "      <th></th>\n",
       "      <th></th>\n",
       "      <th></th>\n",
       "      <th></th>\n",
       "    </tr>\n",
       "  </thead>\n",
       "  <tbody>\n",
       "    <tr>\n",
       "      <th>2024-05-17</th>\n",
       "      <td>65241.33</td>\n",
       "      <td>66940.84</td>\n",
       "      <td>65179.25</td>\n",
       "      <td>66940.84</td>\n",
       "      <td>66940.84</td>\n",
       "      <td>29180190720</td>\n",
       "    </tr>\n",
       "    <tr>\n",
       "      <th>2024-05-16</th>\n",
       "      <td>66256.11</td>\n",
       "      <td>66712.43</td>\n",
       "      <td>64613.05</td>\n",
       "      <td>65231.58</td>\n",
       "      <td>65231.58</td>\n",
       "      <td>31573077994</td>\n",
       "    </tr>\n",
       "    <tr>\n",
       "      <th>2024-05-15</th>\n",
       "      <td>61553.99</td>\n",
       "      <td>66454.45</td>\n",
       "      <td>61330.41</td>\n",
       "      <td>66267.49</td>\n",
       "      <td>66267.49</td>\n",
       "      <td>39815167074</td>\n",
       "    </tr>\n",
       "    <tr>\n",
       "      <th>2024-05-14</th>\n",
       "      <td>62900.77</td>\n",
       "      <td>63092.13</td>\n",
       "      <td>61123.77</td>\n",
       "      <td>61552.79</td>\n",
       "      <td>61552.79</td>\n",
       "      <td>28186271527</td>\n",
       "    </tr>\n",
       "    <tr>\n",
       "      <th>2024-05-13</th>\n",
       "      <td>61451.22</td>\n",
       "      <td>63422.66</td>\n",
       "      <td>60769.84</td>\n",
       "      <td>62901.45</td>\n",
       "      <td>62901.45</td>\n",
       "      <td>27889181179</td>\n",
       "    </tr>\n",
       "  </tbody>\n",
       "</table>\n",
       "</div>"
      ],
      "text/plain": [
       "               Abrir      Alto      Bajo   Cierre*  Cierre ajustado**  \\\n",
       "Fecha                                                                   \n",
       "2024-05-17  65241.33  66940.84  65179.25  66940.84           66940.84   \n",
       "2024-05-16  66256.11  66712.43  64613.05  65231.58           65231.58   \n",
       "2024-05-15  61553.99  66454.45  61330.41  66267.49           66267.49   \n",
       "2024-05-14  62900.77  63092.13  61123.77  61552.79           61552.79   \n",
       "2024-05-13  61451.22  63422.66  60769.84  62901.45           62901.45   \n",
       "\n",
       "                Volumen  \n",
       "Fecha                    \n",
       "2024-05-17  29180190720  \n",
       "2024-05-16  31573077994  \n",
       "2024-05-15  39815167074  \n",
       "2024-05-14  28186271527  \n",
       "2024-05-13  27889181179  "
      ]
     },
     "execution_count": 107,
     "metadata": {},
     "output_type": "execute_result"
    }
   ],
   "source": [
    "df.head()"
   ]
  },
  {
   "cell_type": "code",
   "execution_count": null,
   "id": "00105158-572a-472d-bfb8-72d6ab3a9646",
   "metadata": {},
   "outputs": [],
   "source": []
  }
 ],
 "metadata": {
  "kernelspec": {
   "display_name": "Python 3 (ipykernel)",
   "language": "python",
   "name": "python3"
  },
  "language_info": {
   "codemirror_mode": {
    "name": "ipython",
    "version": 3
   },
   "file_extension": ".py",
   "mimetype": "text/x-python",
   "name": "python",
   "nbconvert_exporter": "python",
   "pygments_lexer": "ipython3",
   "version": "3.11.7"
  }
 },
 "nbformat": 4,
 "nbformat_minor": 5
}
