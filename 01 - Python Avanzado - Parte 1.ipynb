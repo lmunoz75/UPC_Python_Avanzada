{
 "cells": [
  {
   "cell_type": "markdown",
   "id": "00b22f6c-ae09-4516-863b-96c19a4f97dc",
   "metadata": {
    "user_expressions": []
   },
   "source": [
    "# Introducción a Python Avanzado - Parte 1\n",
    "<img src=\"https://files.realpython.com/media/Introduction-to-Python_Watermarked.48eeee4e1109.jpg\" alt=\"Hello Python!\" style=\"width:600px;height:300px;\">\n",
    "\n",
    "Fuente: [RealPython](https://realpython.com/python-first-steps/)\n",
    "\n",
    "<div style=\"text-align: right\"> Luis A. Muñoz (2024)</div>\n",
    "\n",
    "---"
   ]
  },
  {
   "cell_type": "markdown",
   "id": "35ed2ac7-ec29-4f73-b623-7ef2659df492",
   "metadata": {
    "tags": [],
    "user_expressions": []
   },
   "source": [
    "## Funciones definidas por el usuario\n",
    "Las funciones son codigos autónomos que implementan soluciones puntuales. Son parte del rompecabezas que puede ser un proyecto de programación final. Consisten en un bloque de codigo que toma valores de entrada (parametros) para ser parte del proceso y retornar un valor o varios como resultado."
   ]
  },
  {
   "cell_type": "code",
   "execution_count": null,
   "id": "824103b1-6a5d-461d-b24c-e9c40c43f058",
   "metadata": {},
   "outputs": [],
   "source": [
    "def factores_primos(n):\n",
    "    '''factores primos(n)   Funcion que retorna los factores primos de un numero\n",
    "    \n",
    "    Parametros:\n",
    "        - n: int\n",
    "        \n",
    "    Uso:\n",
    "        factores_primos(12)  -> [2, 2, 3]'''\n",
    "    if n < 1 or not isinstance(n, int):\n",
    "        return []\n",
    "    \n",
    "    div = 2\n",
    "    factores = []\n",
    "    # Lazo que encuentra los divisores del numero (factores)\n",
    "    while n != 1:    # is not\n",
    "        # Si se tiene un factor, se guarda en la lista de salida\n",
    "        if n % div == 0:\n",
    "            factores.append(div)\n",
    "            n //=  div   # n = n // div\n",
    "        else:\n",
    "            # ...de lo contrario se pasa a considerar el siguiente posible divisor\n",
    "            div += 1     # div = div + 1\n",
    "            \n",
    "    return factores"
   ]
  },
  {
   "cell_type": "code",
   "execution_count": null,
   "id": "075dda55-26ce-4731-9265-906bba6db080",
   "metadata": {},
   "outputs": [],
   "source": [
    "print(factores_primos(360))"
   ]
  },
  {
   "cell_type": "code",
   "execution_count": null,
   "id": "0cc7585f-2034-4020-8d66-b3ee0f282579",
   "metadata": {},
   "outputs": [],
   "source": [
    "help(factores_primos)"
   ]
  },
  {
   "cell_type": "markdown",
   "id": "c1c61d8c-c082-4ae4-b2eb-587b98b79f06",
   "metadata": {
    "tags": [],
    "user_expressions": []
   },
   "source": [
    "## Type Hints\n",
    "Python es un lenguaje de tipado dinámico, esto es que los tipos de datos se asignan de forma dinámica al momento de asignar un valor a una variable. Esto convierte a Python en un lenguaje de prototipado rápido. Sin embargo, cuando se trabaja en equipos de trabajo o cuando se quiere documentar correctamente un script, tener alfun mecanismo de control de tipos de datos es útil.\n",
    "\n",
    "Considere el siguiente ejemplo:\n",
    "\n",
    "    def circunferencia(radio, point):\n",
    "        pass\n",
    "        \n",
    "        \n",
    "¿El parámetro `point` es un valor, es un string, es una tupla o una lista, y en caso de ser estos últimos, cual es su formato?\n",
    "\n",
    "Esta es la razón por la que Python introdujo el Type Hinting (anotación de tipos) en la versión 3.5 y ha ido agregando más facilidades. Al mismo tiempo, librerías como `pydantic` y `FastAPI` utilizan el Type Hinting para el control de tipos de datos de forma nativa, por lo que utilizar el Type Hinting no solo resulta útil sino cada vez más necesario."
   ]
  },
  {
   "cell_type": "code",
   "execution_count": null,
   "id": "175d1e7a-602b-4c83-86bc-8c85e0b9c1eb",
   "metadata": {},
   "outputs": [],
   "source": [
    "nombre: str = \"Elvio Lado\"\n",
    "altura: float = 1.75\n",
    "peso: int = 56\n",
    "\n",
    "print(\"Nombre:\", nombre)\n",
    "print(\"Altura:\", altura, \"m\")\n",
    "print(\"Peso:\", peso, \"kg\")"
   ]
  },
  {
   "cell_type": "code",
   "execution_count": null,
   "id": "e7cdb8ce-1989-4c42-b055-6ffc6aa7d7a7",
   "metadata": {},
   "outputs": [],
   "source": [
    "pares: list[num] = [num for num in range(20) if num % 2 == 0]\n",
    "meses: dict[num, str] = dict(zip([1, 2, 3, 4, 5, 6], ['ene', 'feb', 'mar', 'abr', 'may', 'jun']))\n",
    "nombres: set[str] = {\"Elvio\", \"Dina\", \"Elmer\", \"Elvio\"}\n",
    "\n",
    "print(pares)\n",
    "print(meses)\n",
    "print(nombres)"
   ]
  },
  {
   "cell_type": "markdown",
   "id": "4c063e76-8a43-4a33-aa7c-81fa13789030",
   "metadata": {
    "user_expressions": []
   },
   "source": [
    "Aunque en términos generales es una buena práctica, donde se recomienda su uso es en la definición de las funciones y clases:"
   ]
  },
  {
   "cell_type": "code",
   "execution_count": null,
   "id": "53a6f481-475e-4309-81ff-cca811ca42ba",
   "metadata": {},
   "outputs": [],
   "source": [
    "def factorial(n: int) -> int:\n",
    "    '''factorial(n)     Retorna el factorial de n (forma recursiva)\n",
    "    '''\n",
    "    if not isinstance(n, int):\n",
    "        raise TypeError(\"El valor 'n' debe ser un 'int'\")\n",
    "    \n",
    "    if n < 0:\n",
    "        raise ValueError(\"El valor 'n' debe ser un 'int' >= 0\")\n",
    "        \n",
    "    if n == 0:\n",
    "        return 1\n",
    "    else:\n",
    "        return n * factorial(n-1)"
   ]
  },
  {
   "cell_type": "code",
   "execution_count": null,
   "id": "80b089ac-402a-498f-98a5-5348f5d7f0d5",
   "metadata": {},
   "outputs": [],
   "source": [
    "factorial?"
   ]
  },
  {
   "cell_type": "code",
   "execution_count": null,
   "id": "9b468c7a-3a1d-4298-875e-3501bb6f2fe7",
   "metadata": {},
   "outputs": [],
   "source": [
    "factorial(5)"
   ]
  },
  {
   "cell_type": "markdown",
   "id": "f2550e19-56ce-4c89-b32a-f283bfdce9e8",
   "metadata": {
    "user_expressions": []
   },
   "source": [
    "Se pueden definir colecciones de diferentes tipos de datos:"
   ]
  },
  {
   "cell_type": "code",
   "execution_count": null,
   "id": "8b47850b-0aef-46f9-ae0c-bcdfa7b2eadc",
   "metadata": {},
   "outputs": [],
   "source": [
    "def promedio_notas(notas: list[int, float]) -> float:\n",
    "    return sum(notas) / len(notas)"
   ]
  },
  {
   "cell_type": "code",
   "execution_count": null,
   "id": "4a11d383-8459-41da-a798-cb98b3ffc651",
   "metadata": {},
   "outputs": [],
   "source": [
    "print(f\"Promedio: {promedio_notas([14, 12.5, 13, 16.8]):.2f}\")"
   ]
  },
  {
   "cell_type": "markdown",
   "id": "77274b83-64cb-4d2e-b00a-7450fe57df39",
   "metadata": {
    "user_expressions": []
   },
   "source": [
    "También se puede especificar el tipo `Optional` para indicar que puede ser de tipo `None` (será necesario importar la clase de la librería `typing`):"
   ]
  },
  {
   "cell_type": "code",
   "execution_count": null,
   "id": "2a338053-7627-4d36-91c9-69d186abdb22",
   "metadata": {},
   "outputs": [],
   "source": [
    "from typing import Optional\n",
    "\n",
    "def valores_comun(fila: list[int], columna: list[int]) -> Optional[set]:\n",
    "    if len(set(fila) & set(columna)) > 0:\n",
    "        return set(fila) & set(columna)\n",
    "    else:\n",
    "        return None"
   ]
  },
  {
   "cell_type": "code",
   "execution_count": null,
   "id": "409a9b29-d4ee-4192-b6fe-1a0b2b994063",
   "metadata": {},
   "outputs": [],
   "source": [
    "print(valores_comun([1, 2, 3, 4], [3, 6, 9]))"
   ]
  },
  {
   "cell_type": "code",
   "execution_count": null,
   "id": "95aa3ea6-9ae9-4c13-bc52-e29037204528",
   "metadata": {},
   "outputs": [],
   "source": [
    "print(valores_comun([1, 2, 3, 4], [8, 6, 9]))"
   ]
  },
  {
   "cell_type": "markdown",
   "id": "b0c45ca1-bb93-430f-abb8-42f3b94f7d0a",
   "metadata": {
    "user_expressions": []
   },
   "source": [
    "También se puede especificar si un parámetro puede ser de diferentes tipos con `Union` o a partir de Python 3.10, con el operador `|`:"
   ]
  },
  {
   "cell_type": "code",
   "execution_count": null,
   "id": "5a094988-d648-4e85-b1f2-0e5dcaaf2576",
   "metadata": {},
   "outputs": [],
   "source": [
    "from typing import Union\n",
    "\n",
    "def IMC(peso: Union[int, float], altura:Union[int, float]) -> float:\n",
    "    return peso / altura ** 2"
   ]
  },
  {
   "cell_type": "code",
   "execution_count": null,
   "id": "86eaa079-3b01-45b8-bc75-2ac2a0d3a0eb",
   "metadata": {},
   "outputs": [],
   "source": [
    "print(f\"IMC: {IMC(80, 1.76):.2f}\")"
   ]
  },
  {
   "cell_type": "code",
   "execution_count": null,
   "id": "902519d5",
   "metadata": {},
   "outputs": [],
   "source": [
    "def IMC(peso: int | float, altura: int | float) -> float:\n",
    "    return peso / altura ** 2"
   ]
  },
  {
   "cell_type": "code",
   "execution_count": null,
   "id": "6d222e2e",
   "metadata": {},
   "outputs": [],
   "source": [
    "print(f\"IMC: {IMC(80, 1.76):.2f}\")"
   ]
  },
  {
   "cell_type": "markdown",
   "id": "5bd4b189-ea9d-4fcf-9129-7ec52d986cc4",
   "metadata": {
    "user_expressions": []
   },
   "source": [
    "---\n",
    "### Bloque try... except\n",
    "Cuando un script llame a la función `factorial` puede hacer un \"intento\" con la instrucción `try` y si es que esta función genera una excepción, esta es capturada con la instrucción `except` y se puede mostrar un error propio del script."
   ]
  },
  {
   "cell_type": "code",
   "execution_count": null,
   "id": "024d0de1-f114-4e75-8307-a4f3437c85af",
   "metadata": {},
   "outputs": [],
   "source": [
    "num = 1.5        # Prueba float\n",
    "# num = -5       # Prueba negativo\n",
    "\n",
    "try:\n",
    "    factorial(num)\n",
    "except TypeError:\n",
    "    print(\"Error: 'num' debe ser entero\")\n",
    "except ValueError:\n",
    "    print(\"Error: 'num' debe ser mayor o igual a 0\")\n"
   ]
  },
  {
   "cell_type": "markdown",
   "id": "95b5d423-a43c-4c94-a8b8-1647c63cc90a",
   "metadata": {},
   "source": [
    "Los mensajes de error de la función original se pueden mantener extrayendolos con `except Exception as e`, que captura el mensaje de la excepción generada."
   ]
  },
  {
   "cell_type": "code",
   "execution_count": null,
   "id": "103a12e8-f6e0-406f-a4ad-634eff3bced2",
   "metadata": {},
   "outputs": [],
   "source": [
    "num = 1.5        # Prueba float\n",
    "# num = -5       # Prueba negativo\n",
    "\n",
    "try:\n",
    "    factorial(num)\n",
    "except Exception as e:\n",
    "    print(e)"
   ]
  },
  {
   "cell_type": "markdown",
   "id": "c169673e-c813-4e8a-8533-e1a143c9bf90",
   "metadata": {},
   "source": [
    "### \\*args y \\*\\*kwargs\n",
    "En algunas ocasiones se requiere que una función tenga un número de parametros aleatorios, ya sea en forma de argumentos posicionales o por `keywords`. Esto se logra con los symbolos especiales `*` (desempaquetado en tuplas) y `**` (desempaquetado en diccionarios) y normalmente se especifican de la forma `*args` y `**kwargs`."
   ]
  },
  {
   "cell_type": "code",
   "execution_count": null,
   "id": "36a59171-664d-4ead-9e70-2f0d19c1d33b",
   "metadata": {},
   "outputs": [],
   "source": [
    "from typing import Any\n",
    "\n",
    "def foo(*args: Any, **kwargs: Any) -> Any:\n",
    "    for arg in args:\n",
    "        print(arg)\n",
    "        \n",
    "    for k, v in kwargs.items():\n",
    "        print(k, '->', v)"
   ]
  },
  {
   "cell_type": "code",
   "execution_count": null,
   "id": "3eda92ab-0200-4f7b-bcad-214233818301",
   "metadata": {},
   "outputs": [],
   "source": [
    "foo('A')"
   ]
  },
  {
   "cell_type": "code",
   "execution_count": null,
   "id": "c18d8d2e-a622-4e41-b8b2-43f7828cdaf0",
   "metadata": {},
   "outputs": [],
   "source": [
    "foo('A', 'B', 'C')"
   ]
  },
  {
   "cell_type": "code",
   "execution_count": null,
   "id": "99164fd7-4eee-4fe5-80ab-82db7f45b66d",
   "metadata": {
    "tags": []
   },
   "outputs": [],
   "source": [
    "foo(num1=1)"
   ]
  },
  {
   "cell_type": "code",
   "execution_count": null,
   "id": "a77bf344-cfed-48bc-a156-002f8d0c373b",
   "metadata": {},
   "outputs": [],
   "source": [
    "foo(num1=1, num2=2, num3=3)"
   ]
  },
  {
   "cell_type": "code",
   "execution_count": null,
   "id": "21fc378b-8004-4308-8c44-ae2e13d3e268",
   "metadata": {},
   "outputs": [],
   "source": [
    "foo('A', 'B', 'C', num1=1, num2=2, num3=30)"
   ]
  },
  {
   "cell_type": "markdown",
   "id": "b69cc0ab-4a3a-481c-bf36-b79c7e92d6aa",
   "metadata": {
    "user_expressions": []
   },
   "source": [
    "Esta especificación permite reducir la definición de los argumentos de una función y se utiliza mucha en la documentación de Python. Un buen ejemplo es el método `format` de la clase `str` que soporta diferentes argumentos y keywords: "
   ]
  },
  {
   "cell_type": "code",
   "execution_count": null,
   "id": "c8da623d-8771-451a-84aa-455870dd59fe",
   "metadata": {},
   "outputs": [],
   "source": [
    "help(str.format)"
   ]
  },
  {
   "cell_type": "markdown",
   "id": "9caa9d7a-956d-49f3-8a01-3411e493cd2e",
   "metadata": {
    "user_expressions": []
   },
   "source": [
    "### Generadores con yield\n",
    "Una función puede ser un *generador*, esto es un objeto que no retorna una secuencia de elementos sino un *motor* que genere valores según la regla de la función y que será controlado por un iterador como un lazo `for`. Para esto, en lugar de retornar una lista o una tupla, la función retorna los valores por separado utilizando la instrucción `yield` en lugar de `return`:"
   ]
  },
  {
   "cell_type": "code",
   "execution_count": null,
   "id": "50ccd2c2-f183-447c-bece-5ab7c962b23b",
   "metadata": {},
   "outputs": [],
   "source": [
    "def range_letters(ini: str='A', end: str='Z', case: str='upper', reverse: bool=False):\n",
    "    if not isinstance(ini, str) or not isinstance(end, str):\n",
    "        raise TypeError\n",
    "    \n",
    "    if all([ini.isalpha(), end.isalpha()]):     # all: True si [True, True]\n",
    "        if ini.upper() < end.upper():\n",
    "            if not reverse:\n",
    "                letter = ord(ini.upper()) - 1\n",
    "                while letter < ord(end.upper()):\n",
    "                    letter += 1\n",
    "                    if case == 'upper':\n",
    "                        yield chr(letter).upper()\n",
    "                    elif case == 'lower':\n",
    "                        yield chr(letter).lower()\n",
    "                    else:\n",
    "                        raise AttributeError\n",
    "            else:\n",
    "                letter = ord(end.upper()) + 1\n",
    "                while letter > ord(ini.upper()):\n",
    "                    letter -= 1\n",
    "                    if case == 'upper':\n",
    "                        yield chr(letter).upper()\n",
    "                    elif case == 'lower':\n",
    "                        yield chr(letter).lower()\n",
    "                    else:\n",
    "                        raise AttributeError\n",
    "        else:\n",
    "            raise ValueError\n",
    "    else:\n",
    "        raise ValueError"
   ]
  },
  {
   "cell_type": "markdown",
   "id": "76d9053d-d5ed-451b-a519-ba021120e8c3",
   "metadata": {
    "user_expressions": []
   },
   "source": [
    "Si se llama a la función lo que retornará es un objeto generador:"
   ]
  },
  {
   "cell_type": "code",
   "execution_count": null,
   "id": "b6596620-669b-4baa-9337-4d461dcb3094",
   "metadata": {},
   "outputs": [],
   "source": [
    "print(range_letters('A', 'C'))"
   ]
  },
  {
   "cell_type": "markdown",
   "id": "2b9ff5c7-032b-46d2-9c8d-a17db5410764",
   "metadata": {
    "user_expressions": []
   },
   "source": [
    "Se puede utilizar la función `next` para que retorne el siguiente valor del generador. `next` ira retornando los valores del generador hasta que genere una excepción por haber agotado los valores de salida."
   ]
  },
  {
   "cell_type": "code",
   "execution_count": null,
   "id": "dc9e896a-6db5-45de-ac3e-1d24a7398667",
   "metadata": {},
   "outputs": [],
   "source": [
    "gen = range_letters('A', 'C')\n",
    "print(next(gen))\n",
    "print(next(gen))\n",
    "print(next(gen))\n",
    "print(next(gen))   # Esta linea genera un Excepcion StopIteration"
   ]
  },
  {
   "cell_type": "markdown",
   "id": "5495ebb4-c23b-4b49-a2e4-700a80b2f675",
   "metadata": {
    "user_expressions": []
   },
   "source": [
    "¿Ahora entiende porque la función `range` al ser impresa no retorna el rango de números sino la especificación del rango a generar? Esto es porque `range` es un generador y si se especifica que se quieren generar 10, 100 o 1000 números, el uso de los recursos es el mismo pues la función solo retorna un número por vez y no una lista de números."
   ]
  },
  {
   "cell_type": "code",
   "execution_count": null,
   "id": "b0c2766e-ea97-49b9-8e24-272b52a9c714",
   "metadata": {},
   "outputs": [],
   "source": [
    "print(range(1, 11))"
   ]
  },
  {
   "cell_type": "code",
   "execution_count": null,
   "id": "317da2f2-26b7-4386-9467-57ac1e307011",
   "metadata": {},
   "outputs": [],
   "source": [
    "import sys\n",
    "\n",
    "rango = range(1, 1000)\n",
    "print(\"Bytes:\", sys.getsizeof(rango))\n",
    "\n",
    "rango = range(1, 10000000)\n",
    "print(\"Bytes:\", sys.getsizeof(rango))"
   ]
  },
  {
   "cell_type": "markdown",
   "id": "26931c3b-18ee-4921-b50e-d1435a8cd668",
   "metadata": {
    "user_expressions": []
   },
   "source": [
    "### Iterables con iter\n",
    "¿Se entiende ahora por qué el lazo `for` en Python es tan extraño por no utilizar indices o controles de fin de iteración? Se puede entender como un lazo `while` con la instrucción `next` en el interior, y la extracción de datos se mantiene hasta que se genera la exception `StopIteration` (siempre y cuando el elemento a iterar sea un generador)."
   ]
  },
  {
   "cell_type": "code",
   "execution_count": null,
   "id": "52a57b8b-fa3c-4a06-b76e-558443be85a2",
   "metadata": {},
   "outputs": [],
   "source": [
    "for letter in range_letters('C', 'H', reverse=True):\n",
    "    print(letter)"
   ]
  },
  {
   "cell_type": "markdown",
   "id": "7f07ab75-e52f-407d-a42d-6c0f3bc6246b",
   "metadata": {
    "user_expressions": []
   },
   "source": [
    "Esto es gracias a que la instrucción `for` es un _iterador_ y lo que hace es barrer los elementos de un objeto _iterable_. Como se ve en el ejemplo anterior, un generador es un iterable, pero no al reves: un iterador es un concepto más general asociado a los objetos de Python. La instrucción `for` convierte un objeto en un iterador para luego barrer los elementos. Esto también se puede conseguir con la función `iter()`:"
   ]
  },
  {
   "cell_type": "code",
   "execution_count": null,
   "id": "0efb935a-0dae-4bcd-9547-301220bcc23c",
   "metadata": {},
   "outputs": [],
   "source": [
    "texto = \"hola mundo\"\n",
    "iterable = iter(texto)\n",
    "print(next(iterable))\n",
    "print(next(iterable))\n",
    "print(next(iterable))\n",
    "print(next(iterable))"
   ]
  },
  {
   "cell_type": "markdown",
   "id": "49c67be2-0251-41e1-9d6f-50c1c32cf32d",
   "metadata": {
    "tags": [],
    "user_expressions": []
   },
   "source": [
    "---\n",
    "## La librería collections\n",
    "La libreria `collections` viene a complementar las colecciones de datos estandar de Python (tuplas, listas, diccionarios, conjuntos) por objetos con mayor versatilidad o que permiten realizar tareas más especializadas. Se exponen algunos elemetos útiles de la librería `collections`:"
   ]
  },
  {
   "cell_type": "markdown",
   "id": "e91fb1cc-ed2e-4be9-9ec3-48a3a2d517fa",
   "metadata": {
    "user_expressions": []
   },
   "source": [
    "### Counter\n",
    "La clase `Counter` permite contar elementos dentro de una colección de una forma sencilla sin recurrir a lazos de repetición:"
   ]
  },
  {
   "cell_type": "code",
   "execution_count": null,
   "id": "282c7d02-cef7-418c-9834-17a76f0e55ae",
   "metadata": {},
   "outputs": [],
   "source": [
    "from collections import Counter\n",
    "from random import randint\n",
    "\n",
    "chars = [chr(randint(ord('a'), ord('z'))) for _ in range(100)]\n",
    "count = Counter(chars)\n",
    "print(count)"
   ]
  },
  {
   "cell_type": "code",
   "execution_count": null,
   "id": "b6644f57-d8c5-46fb-8151-7f4d1dac7581",
   "metadata": {},
   "outputs": [],
   "source": [
    "count['a']"
   ]
  },
  {
   "cell_type": "code",
   "execution_count": null,
   "id": "137bb0c3-c040-47e5-a918-6d08a1e968b8",
   "metadata": {},
   "outputs": [],
   "source": [
    "count.most_common(3)"
   ]
  },
  {
   "cell_type": "markdown",
   "id": "9a03023c-4b7d-41ab-bd68-963ac8f8be34",
   "metadata": {
    "user_expressions": []
   },
   "source": [
    "### deque\n",
    "La clase `deque` permite construir una cola, la sea LIFO (Last In First Out) o FIFO (First In First Out):"
   ]
  },
  {
   "cell_type": "code",
   "execution_count": null,
   "id": "384f1e16-b310-4f01-87e9-8f960f7c2025",
   "metadata": {},
   "outputs": [],
   "source": [
    "from collections import deque\n",
    "\n",
    "buffer = deque(['b', 'c', 'd', 'e', 'f', 'g'])\n",
    "print(buffer)"
   ]
  },
  {
   "cell_type": "code",
   "execution_count": null,
   "id": "ed1b9077-cbc8-46f5-84a3-383887154adc",
   "metadata": {},
   "outputs": [],
   "source": [
    "buffer.append('h')\n",
    "print(buffer)"
   ]
  },
  {
   "cell_type": "code",
   "execution_count": null,
   "id": "fa09c12c-c97e-47fe-b77f-36c60e63ea28",
   "metadata": {},
   "outputs": [],
   "source": [
    "buffer.appendleft('a')\n",
    "print(buffer)"
   ]
  },
  {
   "cell_type": "code",
   "execution_count": null,
   "id": "49d59e2b-ccfe-4534-b0c7-aeee19930449",
   "metadata": {},
   "outputs": [],
   "source": [
    "val = buffer.pop()\n",
    "print(buffer, val, sep=' -> ')"
   ]
  },
  {
   "cell_type": "code",
   "execution_count": null,
   "id": "e3462bc0-8c2e-4bef-b3da-61fc1d1f5412",
   "metadata": {},
   "outputs": [],
   "source": [
    "val = buffer.popleft()\n",
    "print(buffer, val, sep=' -> ')"
   ]
  },
  {
   "cell_type": "markdown",
   "id": "8a50deec-e607-40fc-ab28-1be6c3ff97b8",
   "metadata": {
    "user_expressions": []
   },
   "source": [
    "Se puede definir el tamaño de una cola para que actue de forma automática con la gestión de los elementos:"
   ]
  },
  {
   "cell_type": "code",
   "execution_count": null,
   "id": "e0e04711-f40c-4271-9e19-a454123b33d9",
   "metadata": {},
   "outputs": [],
   "source": [
    "buffer = deque(maxlen=10)\n",
    "buffer.extend([1, 2, 3, 4, 5, 6, 7, 8, 9, 10])\n",
    "print(buffer)"
   ]
  },
  {
   "cell_type": "code",
   "execution_count": null,
   "id": "55aedd57-e207-42c5-a3dc-8156242debd1",
   "metadata": {},
   "outputs": [],
   "source": [
    "buffer.append(11)\n",
    "print(buffer)"
   ]
  },
  {
   "cell_type": "code",
   "execution_count": null,
   "id": "3f1b1be0-43f7-40c1-8288-d60b19a745c7",
   "metadata": {},
   "outputs": [],
   "source": [
    "buffer.appendleft(0)\n",
    "print(buffer)"
   ]
  },
  {
   "cell_type": "markdown",
   "id": "680b7f70-5847-4189-a431-d7c3599a6ade",
   "metadata": {
    "user_expressions": []
   },
   "source": [
    "### namedtuples\n",
    "Se puede construir una clase sencilla que solo contemple propiedades utilizando `namedtuples` (pero ojo, es una construcción inmutable)."
   ]
  },
  {
   "cell_type": "code",
   "execution_count": null,
   "id": "439d929c-34c5-4c97-b40c-6ca4d174fc5a",
   "metadata": {},
   "outputs": [],
   "source": [
    "from collections import namedtuple\n",
    "\n",
    "Alumno = namedtuple('Alumno', ['nombre', 'apellido', 'codigo'])"
   ]
  },
  {
   "cell_type": "code",
   "execution_count": null,
   "id": "2598d8ef-1191-4f08-81eb-f793388b5a98",
   "metadata": {},
   "outputs": [],
   "source": [
    "alumno1 = Alumno('Elvio', 'Lado', 'a81277222')\n",
    "print(alumno1.nombre)\n",
    "print(alumno1.codigo)\n",
    "print(alumno1)"
   ]
  },
  {
   "cell_type": "markdown",
   "id": "6eb3730c-9d04-4c94-942a-b48c21d695ac",
   "metadata": {
    "user_expressions": []
   },
   "source": [
    "¡Y tiene su propio `__repr__`!"
   ]
  },
  {
   "cell_type": "markdown",
   "id": "a6779a18-d1d9-41c8-a240-6984489e13c4",
   "metadata": {
    "tags": [],
    "user_expressions": []
   },
   "source": [
    "---\n",
    "## time y datetime\n",
    "La gestión del tiempo en Python es un dolor de cabeza. Esto porque hay diferentes maneras de hacer los mismo con diferentes módulos. Asi que para encontrar un orden, se puede tomar la siguiente guia de referencia:\n",
    "\n",
    "* `time`: información del tiempo (horas, minuto segundo)\n",
    "* `datetime`: manipulacion de fechas(operaciones con el tiempo)\n",
    "\n",
    "### time\n",
    "El módulo `time` permite obtener información del tiempo. Por ejemplo, se puede obtener una *estructura* del tiempo con `time.localtime` de tal forma que los diferentes campos se puede extraer con el operador `.`: "
   ]
  },
  {
   "cell_type": "code",
   "execution_count": null,
   "id": "f09013b2-8c51-45fe-8a44-2c1bc11d9166",
   "metadata": {},
   "outputs": [],
   "source": [
    "import time\n",
    "\n",
    "time_now = time.localtime()\n",
    "print(time_now)\n",
    "\n",
    "print(f\"{time_now.tm_hour}:{time_now.tm_min}\")\n",
    "print(f\"Han pasado {time_now.tm_yday} dias desde el 1 de Enero de {time_now.tm_year}\")"
   ]
  },
  {
   "cell_type": "markdown",
   "id": "a02bc4b9-73d0-46d4-8df3-bd14b7a8eeda",
   "metadata": {
    "user_expressions": []
   },
   "source": [
    "La información del tiempo se puede obtener (en inglés) como una cadena de impresión con `time.asctime` (\"asc\" de ASCII):"
   ]
  },
  {
   "cell_type": "code",
   "execution_count": null,
   "id": "d062369a-42b9-4825-a277-916b5863e353",
   "metadata": {},
   "outputs": [],
   "source": [
    "time.asctime()    # Por defecto es el tiempo actual. Prueba como argumento time_now"
   ]
  },
  {
   "cell_type": "markdown",
   "id": "0917af58-b9d6-4ca3-99d9-58ae06bd6ba7",
   "metadata": {
    "user_expressions": []
   },
   "source": [
    "Sin embargo, una buena practica de programación no es usar el tiempo local sino el tiempo universal (UTC). Esto es, información de tiempo referenciado a un meridiano terreste (UTC-0). Esto permite generar un valor de tiempo que será reconocido y convertido a tiempo local en la zona de consulta. Para esto se necesita un tiempo de referencia donde todos los husos horarios consideren \"el inicio del tiempo\". Eso existe, es el \"UNIX Time\" referenciado a un \"epoch\": 1 de enero de 1970."
   ]
  },
  {
   "cell_type": "code",
   "execution_count": null,
   "id": "09f07b71-c6a0-4a66-bb00-e2a4d5fb5391",
   "metadata": {},
   "outputs": [],
   "source": [
    "time_now = time.time()\n",
    "print(f\"{time_now:,}\")"
   ]
  },
  {
   "cell_type": "markdown",
   "id": "dc3d5e6f-61bc-40ba-9edd-c6657bf65c61",
   "metadata": {
    "user_expressions": []
   },
   "source": [
    "Ese es el número de segundos que han transcurrido desde el 1 de enero de 1970. Si queremos retornar esto a una estructura de tiempos debemos llamar al método `time.gmtime()` (\"gm\" de \"Greenwich Mean Time\" o \"GMT\"):"
   ]
  },
  {
   "cell_type": "code",
   "execution_count": null,
   "id": "5722f1f4-1613-4ac9-bf65-34437904748b",
   "metadata": {},
   "outputs": [],
   "source": [
    "time.gmtime(time_now)"
   ]
  },
  {
   "cell_type": "markdown",
   "id": "70785904-cc30-4cfe-bf55-bd2e58968758",
   "metadata": {
    "user_expressions": []
   },
   "source": [
    "Estas estructuras de tiempo se pueden mostrar con un formato personalizado (ya que al usar `asctime` obtendremos una respuesta en inglés y con un formato fijo) gracias al método `time.strftime()`, donde `f` especifica _format_, es decir que retorna un `str` con la información de tiempo con las siguientes especificaciones de formato:\n",
    "\n",
    "(Extraido de la ayuda del método `time.strftime`)\n",
    "\n",
    "    strftime(...)\n",
    "        strftime(format[, tuple]) -> string\n",
    "\n",
    "        Convert a time tuple to a string according to a format specification.\n",
    "        See the library reference manual for formatting codes. When the time tuple\n",
    "        is not present, current time as returned by localtime() is used.\n",
    "\n",
    "        Commonly used format codes:\n",
    "\n",
    "        %Y  Year with century as a decimal number.\n",
    "        %m  Month as a decimal number [01,12].\n",
    "        %d  Day of the month as a decimal number [01,31].\n",
    "        %H  Hour (24-hour clock) as a decimal number [00,23].\n",
    "        %M  Minute as a decimal number [00,59].\n",
    "        %S  Second as a decimal number [00,61].\n",
    "        %z  Time zone offset from UTC.\n",
    "        %a  Locale's abbreviated weekday name.\n",
    "        %A  Locale's full weekday name.\n",
    "        %b  Locale's abbreviated month name.\n",
    "        %B  Locale's full month name.\n",
    "        %c  Locale's appropriate date and time representation.\n",
    "        %I  Hour (12-hour clock) as a decimal number [01,12].\n",
    "        %p  Locale's equivalent of either AM or PM.\n",
    "\n",
    "        Other codes may be available on your platform.  See documentation for\n",
    "        the C library strftime function."
   ]
  },
  {
   "cell_type": "code",
   "execution_count": null,
   "id": "81ec867f-a536-448c-9445-037141148232",
   "metadata": {},
   "outputs": [],
   "source": [
    "time.strftime(\"%I:%M:%S %p\", time.localtime())"
   ]
  },
  {
   "cell_type": "markdown",
   "id": "3a6b174c-929c-412a-b31a-d04811e9ebb0",
   "metadata": {
    "user_expressions": []
   },
   "source": [
    "Lo contrario se puede obtener con `time.strptime()`, donde `p` especifica `parse`, por lo que identifica una cadena y corta las secciones según la especificación del formato para convertirlo en una estructura de tiempo:"
   ]
  },
  {
   "cell_type": "code",
   "execution_count": null,
   "id": "8a07528c-5543-4cb6-94bc-c03f1916666e",
   "metadata": {},
   "outputs": [],
   "source": [
    "time.strptime(\"10:20:15\", \"%H:%M:%S\")"
   ]
  },
  {
   "cell_type": "markdown",
   "id": "f26ff1eb-6512-4c33-a968-74fb9fa3727f",
   "metadata": {
    "user_expressions": []
   },
   "source": [
    "Otro uso típico de la librería `time` es la inclusión de la función `sleep` para hacer pausas en la ejecución de un script:"
   ]
  },
  {
   "cell_type": "code",
   "execution_count": null,
   "id": "7234b258-3831-4edd-9170-2cd2d56483a5",
   "metadata": {},
   "outputs": [],
   "source": [
    "import os\n",
    "from IPython.display import clear_output\n",
    "\n",
    "num = 10\n",
    "while num >= 0:\n",
    "    time.sleep(0.5)\n",
    "    print(num)\n",
    "    num -= 1\n",
    "    \n",
    "    clear_output(wait=True)\n",
    "    #os.system('cls')\n",
    "    \n",
    "print(\"--- BOOM! ---\")"
   ]
  },
  {
   "cell_type": "markdown",
   "id": "04111633-f1f7-4300-8d4e-ab08ffc545fb",
   "metadata": {
    "user_expressions": []
   },
   "source": [
    "### datetime\n",
    "El módulo `datetime` se utiliza para hacer operaciones con las fechas. Esto resulta muy útil pues evita tener que hacer calculos complejos para calcular una fecha en el futuro o en el pasado, tomando en consideración los años bisiestos, los meses de 30 o 31 dias, etc.\n",
    "\n",
    "Para obtener la fecha de hoy como un objeto DateTime llamamos al método `datetime.datetime.now`:"
   ]
  },
  {
   "cell_type": "code",
   "execution_count": null,
   "id": "a645ecc7-3453-4627-beb3-c88ae32079bc",
   "metadata": {},
   "outputs": [],
   "source": [
    "import datetime\n",
    "\n",
    "time_now = datetime.datetime.now()\n",
    "print(time_now)"
   ]
  },
  {
   "cell_type": "markdown",
   "id": "2e6774d4-9e3b-45ee-9b0c-d9b7822e28c0",
   "metadata": {
    "user_expressions": []
   },
   "source": [
    "Podemos definir una fecha cualquiera cargando los valores de año, mes, dia, hora, minuto y segundo (los datos de hora que falten se cargan con los valores 0):"
   ]
  },
  {
   "cell_type": "code",
   "execution_count": null,
   "id": "4bb1df83-5054-4f89-b44a-889ec0e35d01",
   "metadata": {},
   "outputs": [],
   "source": [
    "time_past = datetime.datetime(2001, 1, 1, 13, 30)    # 1 de Enero 2001, 00:00 horas\n",
    "print(time_past)"
   ]
  },
  {
   "cell_type": "markdown",
   "id": "8b6ab3d9-d29d-4145-87f6-bd9c39d9bdec",
   "metadata": {
    "user_expressions": []
   },
   "source": [
    "También se puede definir un objeto `datetime` a partir de un `str` utilizando el método `strptime` con el formato de correcto:"
   ]
  },
  {
   "cell_type": "code",
   "execution_count": null,
   "id": "f22793f1-ef2a-4dae-b446-f90f5cecf1fb",
   "metadata": {},
   "outputs": [],
   "source": [
    "time_from_str = datetime.strptime(\"3/2/2024 10:45\", \"%d/%m/%Y %H:%M\")\n",
    "print(time_from_str)"
   ]
  },
  {
   "cell_type": "markdown",
   "id": "953d656b-3816-4011-b066-71c22e01fd34",
   "metadata": {
    "user_expressions": []
   },
   "source": [
    "Si hacemos operaciones de suma o resta con los objetos `datetime`, obtendremos un nuevo objeto: `timedelta`, una diferencia de tiempo:"
   ]
  },
  {
   "cell_type": "code",
   "execution_count": null,
   "id": "d6446454-a0d4-4d64-8fdb-307f42db41e2",
   "metadata": {},
   "outputs": [],
   "source": [
    "time_delta = time_now - time_past     # Cuanto tiempo ha transcurido del siglo XXI?\n",
    "print(time_delta)"
   ]
  },
  {
   "cell_type": "markdown",
   "id": "64ba142f-bcbd-4603-898a-8d1e4bbf2f36",
   "metadata": {
    "user_expressions": []
   },
   "source": [
    "Se puede definir un `timedelta` para calcular una fecha (se define con información de segundos, minutos, horas o dias). Por ejemplo, que fecha tendremos 100 días en el futuro:"
   ]
  },
  {
   "cell_type": "code",
   "execution_count": null,
   "id": "5a17db23-6e23-4be8-8667-a18d39fec402",
   "metadata": {},
   "outputs": [],
   "source": [
    "time_delta = datetime.timedelta(days=100)\n",
    "time_future = datetime.datetime.now() + time_delta\n",
    "print(time_future)"
   ]
  },
  {
   "cell_type": "markdown",
   "id": "de1e2130-55c9-4c28-9d22-188f86b82743",
   "metadata": {
    "tags": [],
    "user_expressions": []
   },
   "source": [
    "## f-strings\n",
    "Un _f-string_ es una cadena de texto con formato incluido y es la forma preferida de generar cadenas de texto con formato desde la version 3.6 de Python. Se utiliza el caracter `f` antes de definir una cadena con comodines de formato `{}` y en el interior se colocan los valores a ser asignados."
   ]
  },
  {
   "cell_type": "code",
   "execution_count": null,
   "id": "ad284483-723a-437c-b22f-a975fd68effd",
   "metadata": {},
   "outputs": [],
   "source": [
    "peso = 80\n",
    "altura  = 1.60\n",
    "imc = peso / altura**2\n",
    "\n",
    "# Uso del método format de los strings\n",
    "print(\"Para una persona de {:.2f} m y {} kg, el IMC es de {:.1f}\".format(altura, peso, imc))"
   ]
  },
  {
   "cell_type": "code",
   "execution_count": null,
   "id": "cede399a-bdbc-40e7-baed-1bd65230989d",
   "metadata": {},
   "outputs": [],
   "source": [
    "# Uso de un f-string\n",
    "print(f\"Para una persona de {altura:.2f} m y {peso} kg, el IMC es de {imc:.1f}\")"
   ]
  },
  {
   "cell_type": "markdown",
   "id": "fa099ccf-8848-4d80-99d3-83f389b1467a",
   "metadata": {
    "user_expressions": []
   },
   "source": [
    "Los f-strings son muy versatiles. Por ejemplo, si se incluye el caracter `=` se pueden incluir el nombre de las variables. Esto puede ser muy util para un código de depuración:"
   ]
  },
  {
   "cell_type": "code",
   "execution_count": null,
   "id": "8c4bd6f8-06be-4782-a388-a1e41d473b89",
   "metadata": {},
   "outputs": [],
   "source": [
    "from random import randint\n",
    "\n",
    "for i in range(5):\n",
    "    num = randint(1, 100)\n",
    "    print(f\"{i=:2} | {num=}\")"
   ]
  },
  {
   "cell_type": "markdown",
   "id": "0d608395-d27e-4ddd-b3c5-68744563e96b",
   "metadata": {
    "user_expressions": []
   },
   "source": [
    "Así también, se puede hacer conversiones de tipos de datos:"
   ]
  },
  {
   "cell_type": "code",
   "execution_count": null,
   "id": "c56c2f61-2901-4c7c-a19a-e158843e0305",
   "metadata": {},
   "outputs": [],
   "source": [
    "for i in range(16):\n",
    "    print(f\"{i:2} = 0x{i:0x}\")"
   ]
  },
  {
   "cell_type": "code",
   "execution_count": null,
   "id": "75e02b04-f6ac-469e-87f1-49d42ac459c7",
   "metadata": {},
   "outputs": [],
   "source": [
    "for i in range(16):\n",
    "    print(f\"{i:2} = b{i:0b}\")\n",
    "    #print(f\"{i:2} = b{f'{i:0b}':0>4}\")"
   ]
  },
  {
   "cell_type": "markdown",
   "id": "c59059db-5cb8-4430-b1c0-b749e391f5f4",
   "metadata": {
    "user_expressions": []
   },
   "source": [
    "Se pueden formatear los números para que contengan separadores de miles:"
   ]
  },
  {
   "cell_type": "code",
   "execution_count": null,
   "id": "3b970451-34a3-4cb3-a220-6a23c2a158dc",
   "metadata": {},
   "outputs": [],
   "source": [
    "num = 3200000   # 3_200_000\n",
    "print(f\"Monto: {num:,.2f} PEN\")"
   ]
  },
  {
   "cell_type": "markdown",
   "id": "1d4f566b-b1e1-4220-98b4-492e488af12b",
   "metadata": {
    "user_expressions": []
   },
   "source": [
    "También permite formatear la impresión de objetos `datetime`:"
   ]
  },
  {
   "cell_type": "code",
   "execution_count": null,
   "id": "b8fcda3e-1406-423b-874d-f3cba690aad2",
   "metadata": {},
   "outputs": [],
   "source": [
    "from datetime import datetime\n",
    "\n",
    "now = datetime.now()\n",
    "print(f\"Fecha: {now:%d/%m/%Y} | Hora: {now:%H:%M:%S}\")"
   ]
  },
  {
   "cell_type": "markdown",
   "id": "81da33f6-87bc-4c64-a4c3-601e1023afc9",
   "metadata": {
    "tags": [],
    "user_expressions": []
   },
   "source": [
    "---\n",
    "## Decoradores\n",
    "Los decoradores son funciones que toman una función como parametro de entrada y modifica su funcionamiento. Para entender los decoradores, hay que tener claro que las funciones son objetos de primera clase (_first classs objects_). Esto significa que se pueden tratar como un objeto o una variable y se pueden asignar de la misma forma:"
   ]
  },
  {
   "cell_type": "code",
   "execution_count": null,
   "id": "0ccd5e76-4206-4dbb-8272-df76b4fc8545",
   "metadata": {},
   "outputs": [],
   "source": [
    "def suma(a, b):\n",
    "    return a  + b"
   ]
  },
  {
   "cell_type": "code",
   "execution_count": null,
   "id": "ccf55320-477d-45bf-8742-9ef60d757923",
   "metadata": {},
   "outputs": [],
   "source": [
    "S = suma"
   ]
  },
  {
   "cell_type": "code",
   "execution_count": null,
   "id": "763a4bda-928d-47fc-b579-135111f83d66",
   "metadata": {},
   "outputs": [],
   "source": [
    "print(type(S))"
   ]
  },
  {
   "cell_type": "code",
   "execution_count": null,
   "id": "454c9f65-391a-4346-b78d-69ecff28281c",
   "metadata": {},
   "outputs": [],
   "source": [
    "print(S(10, 3))"
   ]
  },
  {
   "cell_type": "markdown",
   "id": "20e91491-6e73-4ddf-8c0a-5c92265cb8d0",
   "metadata": {
    "user_expressions": []
   },
   "source": [
    "Teniendo este concepto claro, primero definamos una función genérica que permite medir el tiempo de ejecución de la función `factores_primos`, utilizando una función de la librería time: `perf_counter`:"
   ]
  },
  {
   "cell_type": "code",
   "execution_count": null,
   "id": "49f4bebc-06ea-4100-90fb-c43f412cf463",
   "metadata": {},
   "outputs": [],
   "source": [
    "from time import perf_counter\n",
    "\n",
    "def test_performance(num: int) -> int:\n",
    "    start_time = perf_counter()\n",
    "    result = factores_primos(num)\n",
    "    end_time = perf_counter()\n",
    "    print(f\"Tiempo requerido: {end_time - start_time} seg\")\n",
    "    return result"
   ]
  },
  {
   "cell_type": "code",
   "execution_count": null,
   "id": "99f4f3c5-dab0-49a8-abb2-9df5c2c54afa",
   "metadata": {},
   "outputs": [],
   "source": [
    "test_performance(1928272636352)"
   ]
  },
  {
   "cell_type": "markdown",
   "id": "e38e6fe6-5fe3-4cb4-8f5e-ce77f7bcf0e7",
   "metadata": {
    "user_expressions": []
   },
   "source": [
    "Ahora, quisiera hace una versión genérica de la función anterior, esto es que le pueda pasar la función `factores_primos` como un parámetro. En este caso, la función `test_performance` va a tomar una función como parámetro de entrada y va a retornar a su vez una función como salida, que será una versión modificada de la función de entrada que llamaremos `wrapper`:"
   ]
  },
  {
   "cell_type": "code",
   "execution_count": null,
   "id": "d1fab86e-410b-4b34-a9a7-37876b9dc31d",
   "metadata": {},
   "outputs": [],
   "source": [
    "def test_performance(func:Callable[..., Any]) -> Callable[..., Any]:\n",
    "    def wrapper(*args: Any, **kwargs: Any) -> Any:\n",
    "        start_time = perf_counter()\n",
    "        result = func(*args, **kwargs)\n",
    "        end_time = perf_counter()\n",
    "        print(f\"Tiempo requerido: {end_time - start_time} seg\")\n",
    "        return result\n",
    "    \n",
    "    return wrapper"
   ]
  },
  {
   "cell_type": "code",
   "execution_count": null,
   "id": "740ae589-e7bc-4218-a895-f9593e1525ff",
   "metadata": {},
   "outputs": [],
   "source": [
    "wrapper = test_performance(factores_primos)\n",
    "value = wrapper(18272672562)\n",
    "print(value)"
   ]
  },
  {
   "cell_type": "markdown",
   "id": "5cbc4223-c544-487f-9501-b4ba74f5a54c",
   "metadata": {
    "user_expressions": []
   },
   "source": [
    "Como se observa, ahora tenemos una función, `test_performance` que puede probar la performance en el tiempo de cualquier función. En Python, existe una notación que permite ahorrar la celda de código anterior, que es la notación _at_ (@) de los decoradores, esto es que \"decora\" la función original con una nueva funcionalidad:"
   ]
  },
  {
   "cell_type": "code",
   "execution_count": null,
   "id": "3caf11b7-d631-46b1-83cf-a81d8414d242",
   "metadata": {},
   "outputs": [],
   "source": [
    "@test_performance\n",
    "def factores_primos(n: int) -> list[int]:\n",
    "    '''factores primos(n)   Funcion que retorna los factores primos de un numero\n",
    "    \n",
    "    Parametros:\n",
    "        - n: int\n",
    "        \n",
    "    Uso:\n",
    "        factores_primos(12)  -> [2, 2, 3]'''\n",
    "    if n < 1 or not isinstance(n, int):\n",
    "        return []\n",
    "    \n",
    "    div = 2\n",
    "    factores = []\n",
    "    # Lazo que encuentra los divisores del numero (factores)\n",
    "    while n != 1:    # is not\n",
    "        # Si se tiene un factor, se guarda en la lista de salida\n",
    "        if n % div == 0:\n",
    "            factores.append(div)\n",
    "            n //=  div   # n = n // div\n",
    "        else:\n",
    "            # ...de lo contrario se pasa a considerar el siguiente posible divisor\n",
    "            div += 1     # div = div + 1\n",
    "            \n",
    "    return factores"
   ]
  },
  {
   "cell_type": "code",
   "execution_count": null,
   "id": "a24bea42-8114-4207-8c40-eb75cd897031",
   "metadata": {},
   "outputs": [],
   "source": [
    "factores = factores_primos(187828272)\n",
    "print(factores)"
   ]
  },
  {
   "cell_type": "markdown",
   "id": "e75d754e-a6b4-4486-a765-1eea0470ed45",
   "metadata": {
    "user_expressions": []
   },
   "source": [
    "¿Qué tan útiles pueden ser los decoradores? Depende de la complejidad del código. En general, no se recomienda su uso para agregar funcionalidades complejas a funciones existentes, pues la facilidad en la sintaxis (colocar @ y el nombre de la función que agrega funcionalidades nuevas) oculta lo que esta haciendo este a función, lo que hace que el código pierda legibilidad.\n",
    "\n",
    "Quiza su uso más popular es como modificador de funciones a partir de otras librerías (como en el caso de las Frameworks Web como Flask o Django) o como control de atributos en las clases (como @property).\n",
    "\n",
    "La idea principal en la definición de un decorador es la capacidad de agregar una funcionalidad nueva a una función sin tener que cambiar el código de la función original. Por ejemplo, si se tiene una función `get_mean_voltages` que retorna el valor promedio de una cadena de caracteres con un formato especifico que esta siendo recibido por el puerto serial (por ejemplo, de un sensor conectado a un Arduino), un decorador le puede agregar la funcionalidad de ver la data recibida para depuración."
   ]
  },
  {
   "cell_type": "code",
   "execution_count": null,
   "id": "07e5158b-fa5e-4b02-b3aa-8e1dd4d96fa3",
   "metadata": {},
   "outputs": [],
   "source": [
    "from typing import Callable\n",
    "\n",
    "def show_voltages(func: Callable[[str], float]) -> Callable:\n",
    "    def wrapper(str_data: str):\n",
    "        print(f\"Data In: {str_data}\")\n",
    "        result = func(str_data)\n",
    "        return result\n",
    "    \n",
    "    return wrapper"
   ]
  },
  {
   "cell_type": "code",
   "execution_count": null,
   "id": "d9041be0-7272-4396-b935-33f2c8a7151d",
   "metadata": {},
   "outputs": [],
   "source": [
    "@show_voltages\n",
    "def get_mean_voltage(values: str) -> float:\n",
    "    voltages = tuple(map(lambda x: float(x), values.split(\",\")))\n",
    "    return sum(voltages) / len(voltages)"
   ]
  },
  {
   "cell_type": "code",
   "execution_count": null,
   "id": "ceb23aa6-7335-4bd1-82ef-ecb48f345bdc",
   "metadata": {},
   "outputs": [],
   "source": [
    "get_mean_voltage(\"12.4,14.2,14.3,13.4\")"
   ]
  },
  {
   "cell_type": "markdown",
   "id": "e52972db",
   "metadata": {},
   "source": [
    "## logging\n",
    "Indicar eventos y errores con una impresión en el terminal es una costumbre usual y útil, aunque no necesariamente práctica. Esto es una forma de registro (_logging_ en inglés) para depurar código. La forma recomendada de realiza esta tarea es utilizando el módulo `logging`. "
   ]
  },
  {
   "cell_type": "code",
   "execution_count": null,
   "id": "dc016c8d",
   "metadata": {},
   "outputs": [],
   "source": [
    "import logging\n",
    "\n",
    "logging.basicConfig(level=logging.DEBUG, format='%(asctime)s - %(levelname)s - %(message)s')"
   ]
  },
  {
   "cell_type": "markdown",
   "id": "22d28ed0",
   "metadata": {},
   "source": [
    "El estilo de formato es bastante antiguo aunque no hay que preocuparse mucho al respecto. Es solo la definición inicial del formato del registro. Lo importante a recordar es que cuando sucede un evento y esta se registra, se crea un objeto `LogRecord` que contiene información sobre el evento. La función `basicConfig()` permite especificaar que detalles sobre el objeto `LogRecord` serán visibles."
   ]
  },
  {
   "cell_type": "code",
   "execution_count": null,
   "id": "15f51210",
   "metadata": {},
   "outputs": [],
   "source": [
    "def factorial(n: int) -> int:\n",
    "    '''factorial(n)     Retorna el factorial de n (forma recursiva)\n",
    "    '''\n",
    "    logging.debug(\"Inicio de la funcion\")\n",
    "    \n",
    "    if not isinstance(n, int):\n",
    "        raise TypeError(\"El valor 'n' debe ser un 'int'\")\n",
    "    \n",
    "    if n < 0:\n",
    "        raise ValueError(\"El valor 'n' debe ser un 'int' >= 0\")\n",
    "        \n",
    "    if n == 0:\n",
    "        logging.debug(\"Recursividad: Caso Base factorial(0) = 1\")\n",
    "        return 1\n",
    "    else:\n",
    "        logging.debug(f\"Recursividad: factorial({n}) * factorial({n-1})\")\n",
    "        return n * factorial(n-1)"
   ]
  },
  {
   "cell_type": "code",
   "execution_count": null,
   "id": "59f0f23d",
   "metadata": {},
   "outputs": [],
   "source": [
    "factorial(5)"
   ]
  },
  {
   "cell_type": "markdown",
   "id": "25e2668e",
   "metadata": {},
   "source": [
    "Los detalles mostrados en los mensajes de logging son mucho más detallados que un print personalizado. Además, se puede llenar un programa de lineas `logging.debug` sin preocupaciones ya que luego se pueden desahabilitar todas con una simple instrucción (mientras que por otro lado se tendría que eliminar todas las funciones print que muestran mensajes de depuración). El print debe de reservarse para los mensajes a los usuarios; los logging para los programadores.\n",
    "\n",
    "Los niveles de logging funcionan de manera jerárquica: \n",
    "\n",
    "    - DEBUG\n",
    "    - INFO\n",
    "    - WARNING\n",
    "    - ERROR\n",
    "    - CRITICAL\n",
    "    \n",
    "Si se especifica en el formato de registro `logging.basicConfig(level=logging.ERROR)` solo se mostrarán los eventos de novel ERROR y CRITIAL, más no los de nivel inferior. La instrucción `logging.disable()` permite deshabilitar los registros a partir de un nivel, asi que para deshabilitar todos los mensajes de logging se puede llamar a la operación anterior con el nivel más bajo:"
   ]
  },
  {
   "cell_type": "code",
   "execution_count": null,
   "id": "0bd71400",
   "metadata": {},
   "outputs": [],
   "source": [
    "logging.disable(logging.DEBUG)"
   ]
  },
  {
   "cell_type": "code",
   "execution_count": null,
   "id": "6b3abe3d",
   "metadata": {},
   "outputs": [],
   "source": [
    "factorial(5)"
   ]
  },
  {
   "cell_type": "markdown",
   "id": "57026bbf",
   "metadata": {},
   "source": [
    "Uno de los usos más útiles del módulo `logging` es el registro sobre un archivo. Para esto será necesaria la siguiente especificación en la definición del registro:\n",
    "\n",
    "    logging.basicConfig(filename='events.log', level=logging.DEBUG, format='%(asctime)s - %(levelname)s - %(message)s')"
   ]
  },
  {
   "cell_type": "markdown",
   "id": "8f6962e6",
   "metadata": {},
   "source": [
    "* NOTA: El registro de eventos está asociado a la sesión son el kernel, por lo que su uso en un ambiente como Jupyter Notebook no esta recomendado ya que en todo momento se mantiene la sesión del kernel activa, a diferencia de un script que se ejecuta en un terminal."
   ]
  },
  {
   "cell_type": "code",
   "execution_count": null,
   "id": "72c4bdf2",
   "metadata": {},
   "outputs": [],
   "source": []
  }
 ],
 "metadata": {
  "kernelspec": {
   "display_name": "Python 3 (ipykernel)",
   "language": "python",
   "name": "python3"
  },
  "language_info": {
   "codemirror_mode": {
    "name": "ipython",
    "version": 3
   },
   "file_extension": ".py",
   "mimetype": "text/x-python",
   "name": "python",
   "nbconvert_exporter": "python",
   "pygments_lexer": "ipython3",
   "version": "3.11.5"
  }
 },
 "nbformat": 4,
 "nbformat_minor": 5
}
