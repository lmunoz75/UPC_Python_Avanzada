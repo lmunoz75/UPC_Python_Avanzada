{
 "cells": [
  {
   "cell_type": "markdown",
   "metadata": {},
   "source": [
    "# Visualización de datos en Pandas\n",
    "\n",
    "![](https://miro.medium.com/max/1400/1*YguvfLum39leABj-kt0hMw.png)\n",
    "La combinación de las librerías Pandas y Matplotlib permiten obtener gráficos a partir de los DataFrames. Aunque es posible utilzar los datos de un DataFrame como argumentos de las instrucciones para construír gráficos de Matplotlib, Pandas accede al Matplotlib API (esto es, a utilizar directamente las funciones gráficas de Matplotlib) de forma tal que puede utilizar sus propios métodos para generar los graficos resultantes.\n",
    "\n",
    "Luis A.Muñoz (2022)\n",
    "\n",
    "---"
   ]
  },
  {
   "cell_type": "code",
   "execution_count": null,
   "metadata": {},
   "outputs": [],
   "source": [
    "import pandas as pd\n",
    "import numpy as np\n",
    "import matplotlib.pyplot as plt\n",
    "import pandas_datareader as pdr\n",
    "from datetime import datetime\n",
    "plt.style.use('ggplot')      # Modificamos el formato del estilo para obtener gráficos más atractivos. Default:('classic')"
   ]
  },
  {
   "cell_type": "markdown",
   "metadata": {},
   "source": [
    "## Pandas plot\n",
    "El método df.plot() permite gráficar un DataFrame en una figura con varias opciones. Vamos a crear un DataFrame TimeSeries con datos aleatorios. El rango de fechas se genera con la propiedad `pd.date_range` de `pd.DataFrame`:"
   ]
  },
  {
   "cell_type": "code",
   "execution_count": null,
   "metadata": {},
   "outputs": [],
   "source": [
    "df = pd.DataFrame(data=np.random.randn(365), \n",
    "                 index=pd.date_range('2021/1/1', periods=365), \n",
    "                 columns=['Stock Price'])\n",
    "df.head()"
   ]
  },
  {
   "cell_type": "code",
   "execution_count": null,
   "metadata": {},
   "outputs": [],
   "source": [
    "df = df.cumsum()\n",
    "df.plot(figsize=(8, 6))\n",
    "plt.show()"
   ]
  },
  {
   "cell_type": "code",
   "execution_count": null,
   "metadata": {},
   "outputs": [],
   "source": [
    "df = pd.DataFrame(data=np.random.randn(365, 4), \n",
    "                 index=pd.date_range('2021/1/1', periods=365), \n",
    "                 columns=['Stock 1', 'Stock 2', 'Stock 3', 'Stock 4'])\n",
    "df.head()"
   ]
  },
  {
   "cell_type": "code",
   "execution_count": null,
   "metadata": {},
   "outputs": [],
   "source": [
    "df = df.cumsum()\n",
    "df.plot(figsize=(8, 6))\n",
    "plt.show()"
   ]
  },
  {
   "cell_type": "markdown",
   "metadata": {},
   "source": [
    "Leamos datos reales disponibles en algun recurso web:"
   ]
  },
  {
   "cell_type": "code",
   "execution_count": null,
   "metadata": {},
   "outputs": [],
   "source": [
    "end = datetime.now()\n",
    "start = datetime(end.year, 1, 1)\n",
    "\n",
    "BTC = pdr.DataReader('BTC-USD', 'yahoo', start, end)"
   ]
  },
  {
   "cell_type": "code",
   "execution_count": null,
   "metadata": {},
   "outputs": [],
   "source": [
    "BTC.head()"
   ]
  },
  {
   "cell_type": "code",
   "execution_count": null,
   "metadata": {},
   "outputs": [],
   "source": [
    "BTC.plot(y='Close', figsize=(8, 6), label=\"BTC Close\", title=\"BTC Price [USD]\", marker='o', color='b')\n",
    "plt.show()"
   ]
  },
  {
   "cell_type": "markdown",
   "metadata": {},
   "source": [
    "Si se quiere graficar sobre un axes previamente habilitado, se puede especificar con la propiedad `ax`:"
   ]
  },
  {
   "cell_type": "code",
   "execution_count": null,
   "metadata": {},
   "outputs": [],
   "source": [
    "fig, ax = plt.subplots(figsize=(8, 6))\n",
    "BTC.plot(y='Close', figsize=(8, 6), label=\"BTC Close\", title=\"BTC Price [USD]\", marker='o', ax=ax)\n",
    "plt.show()"
   ]
  },
  {
   "cell_type": "markdown",
   "metadata": {},
   "source": [
    "## Otros gráficos\n",
    "\n",
    "Adicionalmente, se pueden obtener estos gráficos adicionales en Pandas:\n",
    "\n",
    "* df.plot.area     \n",
    "* df.plot.barh     \n",
    "* df.plot.density  \n",
    "* df.plot.hist         \n",
    "* df.plot.scatter\n",
    "* df.plot.bar      \n",
    "* df.plot.box      \n",
    "* df.plot.hexbin   \n",
    "* df.plot.kde      \n",
    "* df.plot.pie\n",
    "\n",
    "También se puede llamar a `df.plot(kind='hist')` y reemplazar el argunento `kind` con cualquier termino mostrado en la lista anterior e.g. 'box','barh', etc..)"
   ]
  },
  {
   "cell_type": "markdown",
   "metadata": {},
   "source": [
    "### Bar plot"
   ]
  },
  {
   "cell_type": "code",
   "execution_count": null,
   "metadata": {},
   "outputs": [],
   "source": [
    "df = pd.DataFrame(data=np.random.randint(10, 100, (10, 4)))\n",
    "df.rename(columns=lambda x: \"Data\" + str(x), inplace=True)\n",
    "df"
   ]
  },
  {
   "cell_type": "code",
   "execution_count": null,
   "metadata": {},
   "outputs": [],
   "source": [
    "df.plot.bar(y='Data0', figsize=(12, 6))\n",
    "plt.show()"
   ]
  },
  {
   "cell_type": "code",
   "execution_count": null,
   "metadata": {},
   "outputs": [],
   "source": [
    "df.plot.bar(figsize=(12, 6))\n",
    "plt.show()"
   ]
  },
  {
   "cell_type": "code",
   "execution_count": null,
   "metadata": {},
   "outputs": [],
   "source": [
    "df.plot.bar(figsize=(12, 6), stacked=True)   # color=['b', 'r', 'g', 'k']\n",
    "plt.show()"
   ]
  },
  {
   "cell_type": "code",
   "execution_count": null,
   "metadata": {},
   "outputs": [],
   "source": [
    "df.plot.bar(subplots=True, layout=(2, 2), figsize=(12, 6))\n",
    "plt.tight_layout()\n",
    "plt.show()"
   ]
  },
  {
   "cell_type": "markdown",
   "metadata": {},
   "source": [
    "### Pie plot"
   ]
  },
  {
   "cell_type": "code",
   "execution_count": null,
   "metadata": {},
   "outputs": [],
   "source": [
    "df.plot.pie(y='Data0', figsize=(12, 6), autopct=\"%.1f%%\")\n",
    "plt.show()"
   ]
  },
  {
   "cell_type": "code",
   "execution_count": null,
   "metadata": {},
   "outputs": [],
   "source": [
    "df.plot.pie(y='Data0', figsize=(12, 6), autopct=\"%.1f%%\")\n",
    "plt.legend(loc='lower left')\n",
    "plt.show()"
   ]
  },
  {
   "cell_type": "code",
   "execution_count": null,
   "metadata": {},
   "outputs": [],
   "source": [
    "df.plot.pie(y='Data0', figsize=(12, 6), autopct=\"%.1f%%\")\n",
    "plt.legend(bbox_to_anchor=(1.2, 1))   # Pos de la leyenda ref 1x1 (x, y, width, height)\n",
    "plt.show()"
   ]
  },
  {
   "cell_type": "code",
   "execution_count": null,
   "metadata": {},
   "outputs": [],
   "source": [
    "df[['Data0', 'Data1']].plot.pie(figsize=(12, 6), autopct=\"%.1f%%\", subplots=True)\n",
    "plt.show()"
   ]
  },
  {
   "cell_type": "markdown",
   "metadata": {},
   "source": [
    "### Histograma"
   ]
  },
  {
   "cell_type": "code",
   "execution_count": null,
   "metadata": {},
   "outputs": [],
   "source": [
    "df = pd.DataFrame(data=np.random.randn(1000, 3))\n",
    "df.plot.hist(y=0, bins=100, color='g', figsize=(8, 6))\n",
    "plt.show()"
   ]
  },
  {
   "cell_type": "code",
   "execution_count": null,
   "metadata": {},
   "outputs": [],
   "source": [
    "df = pd.DataFrame(data=np.random.randn(1000, 3))\n",
    "df.plot.hist(alpha=0.5, bins=100, figsize=(8, 6))\n",
    "plt.show()"
   ]
  },
  {
   "cell_type": "code",
   "execution_count": null,
   "metadata": {},
   "outputs": [],
   "source": [
    "df = pd.DataFrame(data=np.random.randn(1000, 3))\n",
    "df.plot.hist(alpha=0.5, bins=100, subplots=True, figsize=(8, 10))\n",
    "plt.show()"
   ]
  },
  {
   "cell_type": "markdown",
   "metadata": {},
   "source": [
    "### Scatter plot"
   ]
  },
  {
   "cell_type": "code",
   "execution_count": null,
   "metadata": {},
   "outputs": [],
   "source": [
    "df = pd.DataFrame(data=np.random.uniform(0, 2, (500, 3)),\n",
    "                 columns=['C0', 'C1', 'C2'])\n",
    "df.plot.scatter(x='C0', y='C1', figsize=(8, 6))\n",
    "plt.show()"
   ]
  },
  {
   "cell_type": "code",
   "execution_count": null,
   "metadata": {},
   "outputs": [],
   "source": [
    "df.plot.scatter(x='C0', y='C1', c='C2', cmap='coolwarm', figsize=(8, 6))    # c = informacion de color\n",
    "plt.show()"
   ]
  },
  {
   "cell_type": "code",
   "execution_count": null,
   "metadata": {},
   "outputs": [],
   "source": [
    "df.plot.scatter(x='C0', y='C1', s=df['C2']*200, alpha=0.5, figsize=(8, 6))   # s debe ser entero\n",
    "plt.show()"
   ]
  },
  {
   "cell_type": "markdown",
   "metadata": {},
   "source": [
    "## Seaborn: Otra librería gráfica\n",
    "Seaborn es una librería gráfica muy utilizada en el ambiente de ciencia de datos, pues entrega resultados gráficos más estéticos y cuenta con más herramentas de visualización. Existen dos formas de utilizar `seaborn`: como soporte de `matplotlib` o como una librería independiente.\n",
    "\n",
    "Vamos a reiniciar el estilo de `matpotlib` para verificar el estilo que `seaborn` agrega:"
   ]
  },
  {
   "cell_type": "code",
   "execution_count": null,
   "metadata": {},
   "outputs": [],
   "source": [
    "import matplotlib.pyplot as plt\n",
    "plt.style.use('default')"
   ]
  },
  {
   "cell_type": "code",
   "execution_count": null,
   "metadata": {},
   "outputs": [],
   "source": [
    "df = pd.DataFrame(data=np.random.randn(365), \n",
    "                 index=pd.date_range('2021/1/1', periods=365), \n",
    "                 columns=['Stock Price'])\n",
    "df = df.cumsum()\n",
    "df.plot()\n",
    "plt.show()"
   ]
  },
  {
   "cell_type": "markdown",
   "metadata": {},
   "source": [
    "Seaborn agrega un API con instrucciones de alto-nivel sobre matplotlib, por lo que es posible seguir utilizando las instrucciones anteriores sin ningun cambio, ya que muchas funciones gráficas son reinterpretadas por seaborn:"
   ]
  },
  {
   "cell_type": "code",
   "execution_count": null,
   "metadata": {},
   "outputs": [],
   "source": [
    "import seaborn as sns\n",
    "sns.set()"
   ]
  },
  {
   "cell_type": "code",
   "execution_count": null,
   "metadata": {},
   "outputs": [],
   "source": [
    "df = pd.DataFrame(data=np.random.randn(365), \n",
    "                 index=pd.date_range('2021/1/1', periods=365), \n",
    "                 columns=['Stock Price'])\n",
    "df = df.cumsum()\n",
    "df.plot()\n",
    "plt.show()"
   ]
  },
  {
   "cell_type": "markdown",
   "metadata": {},
   "source": [
    "Se obtienen resultados muy parecidos a el estilo `ggplot` de matplotlib. Por otro lado, se pueden utilizar las herramientas gráficas de seaborn directamente, con lo que se obtienen resultados gráficos más estéticos. Los detalles del uso de la librería de esta forma escapan del alcance de este curso, pero se muestra un péqueño código de referencia."
   ]
  },
  {
   "cell_type": "code",
   "execution_count": null,
   "metadata": {},
   "outputs": [],
   "source": [
    "df = pd.DataFrame(data=np.random.randn(1000, 3))\n",
    "\n",
    "g = sns.displot(data=df, alpha=0.5, kde=True)\n",
    "g.fig.set_size_inches(6, 4)\n",
    "plt.show()"
   ]
  },
  {
   "cell_type": "markdown",
   "metadata": {},
   "source": [
    "## Streamlit: Web Dashboard con Python - Pandas\n",
    "Existen algunas librerías que permite construir un sitio web utilizando Python (Flask, Django, FastAPI), pero una orintada especificamente a la ciencia de datos y a la creación de dashboards es Streamlit. La ventaja de esta librería es que, además de contar con un ambiente de prueba local, se puede alojar las aplicaciones en una nube gestionada por Streamlit.\n",
    "\n",
    "Para hacer uso de la librería es necesaria instalarla:\n",
    "\n",
    "    pip install streamlit\n",
    "\n",
    "Nota: Como parte de las actualizaciones de Python, en el momento de las pruebas realizadas a la fecha (2024) presenta un conflicto con la versión 5 de la librería _altair_. Por eso se requiere asegurar que se cuenta con la versión anterior a la libreria:\n",
    "\n",
    "    pip install altair==4\n",
    "\n",
    "Una vez instalada la librería, esta necesita habilitarse desde el terminal para levantar un ambiente web con el código definido en un script. Por lo tanto, se debe de ejecutar con la instrucción:\n",
    "\n",
    "    streamlit run <web_app_script>\n",
    "\n",
    "Donde _web_app_script_ será la aplicación de python escrita donde se define el contenido de Web Dashboard. Se muestra un ejemplo simple de una aplicación:"
   ]
  },
  {
   "cell_type": "code",
   "execution_count": null,
   "metadata": {},
   "outputs": [],
   "source": [
    "import numpy as np\n",
    "import matplotlib.pyplot as plt\n",
    "import streamlit as st\n",
    "import pandas as pd\n",
    "\n",
    "def plot_sine(amp, freq, color, grid_on):\n",
    "    t = np.linspace(0, 1, 50 * round(freq))\n",
    "    y = amp * np.sin(2 * np.pi * freq * t)\n",
    "    \n",
    "    fig, ax = plt.subplots(figsize=(6, 4))\n",
    "    ax.plot(t, y, color=color)\n",
    "    ax.grid(grid_on)\n",
    "    ax.set_ylim(-13, 13)\n",
    "    \n",
    "    return fig\n",
    "\n",
    "\n",
    "df = pd.DataFrame(np.random.uniform(1, 100, (20, 10)))\n",
    "\n",
    "st.title(\"Onda Senoidal :sunglasses:\")\n",
    "col1, col2 = st.columns([1, 2])\n",
    "    \n",
    "with col1:\n",
    "    amp = st.slider('Amplitud', 1, 12, )\n",
    "    freq = st.slider('Frecuencia', 1, 10)\n",
    "    color = st.selectbox(\"Color\", ['red', 'blue', 'green'])\n",
    "    chk = st.checkbox(\"Grilla\", True)\n",
    "\n",
    "with col2:\n",
    "    st.pyplot(plot_sine(amp, freq, color, chk))    # fig\n",
    "    st.data_editor(df)"
   ]
  }
 ],
 "metadata": {
  "kernelspec": {
   "display_name": "Python 3 (ipykernel)",
   "language": "python",
   "name": "python3"
  },
  "language_info": {
   "codemirror_mode": {
    "name": "ipython",
    "version": 3
   },
   "file_extension": ".py",
   "mimetype": "text/x-python",
   "name": "python",
   "nbconvert_exporter": "python",
   "pygments_lexer": "ipython3",
   "version": "3.11.7"
  }
 },
 "nbformat": 4,
 "nbformat_minor": 4
}
