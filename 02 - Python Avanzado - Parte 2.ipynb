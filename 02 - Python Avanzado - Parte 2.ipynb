{
 "cells": [
  {
   "cell_type": "markdown",
   "id": "6b957505-6505-42fd-8c5a-21a39a80210f",
   "metadata": {
    "user_expressions": []
   },
   "source": [
    "# Introducción a Python Avanzado - Parte 2\n",
    "![](https://cdn.computerhoy.com/sites/navi.axelspringer.es/public/media/image/2022/01/python-lenguaje-programacion-2587785.jpg?tf=1200x)\n",
    "<div style=\"text-align: right\"> Luis A. Muñoz (2024)</div>"
   ]
  },
  {
   "cell_type": "markdown",
   "id": "9f027cfe-b805-4afd-b872-73494a879e7a",
   "metadata": {
    "tags": [],
    "user_expressions": []
   },
   "source": [
    "---\n",
    "## Filesystem y archivos\n",
    "El *filesystem* es la organización de los datos en el medio de almacenamiento por parte del sistema operativo. Para trabajar con soltura con archivos hay manejarse tambien así con el *filesystem*. En Windows, Linux y OS X, los archivos se organizan en un árbol de directorios que cuelgan de un nodo principal o archivo *root* (C:\\ en Windows en caso del disco con esta etiqueta, o *./* en el caso de OSX o Linux). Todos los archivos estan ubicados en un sitio especifico dentro del *filesystem* y la forma de especificar esta dirección es con una ruta o *path*.\n",
    "\n",
    "Por ejemplo, el archivo *proyecto1.py* puede estar alojado (en Windows) en la ruta *C:\\Usuarios\\elvio\\Documentos*\n",
    "\n",
    "![](https://www.december.com/unix/tutor/tree1.gif)\n"
   ]
  },
  {
   "cell_type": "markdown",
   "id": "0caf8d3a-4a8f-404f-b7d7-abb1e62ed0f4",
   "metadata": {
    "tags": [],
    "user_expressions": []
   },
   "source": [
    "### La librería pathlib\n",
    "Tradicionalmente, la gestión de las rutas en Python se hace utilizando las herramentas disponibles en la librería `os` para el control de las operaciones del sistema operativo. Por ejemplo, para definir la ruta anterior, sin importar el sistema operativo donde se este ejecutando el script, se puede definir el siguiente script:"
   ]
  },
  {
   "cell_type": "code",
   "execution_count": 9,
   "id": "104d0d42-42cb-47c5-84bf-70e5360a8e56",
   "metadata": {},
   "outputs": [
    {
     "name": "stdout",
     "output_type": "stream",
     "text": [
      "C:\\Usuarios\\elvio\\Documentos\\proyecto1.py\n",
      "<class 'str'>\n"
     ]
    }
   ],
   "source": [
    "import os\n",
    "\n",
    "# Definicion de una ruta absoluta\n",
    "PATH = os.path.join(\"C:\", os.sep, \"Usuarios\", \"elvio\", \"Documentos\", \"proyecto1.py\")\n",
    "print(PATH)\n",
    "print(type(PATH))"
   ]
  },
  {
   "cell_type": "markdown",
   "id": "3fd19b1d-9f01-4e16-af93-2b49fadf480d",
   "metadata": {
    "user_expressions": []
   },
   "source": [
    "Sin embargo, cuando se trata de manejar muchas rutas, o rutas muy extensas, el código puede volverse complejo. Esta es la razón por la que a partir de Python 3.5 esta disponible la libreria `pathlib` para la gestión de rutas de una forma más sencilla, en una aproximación orientada a objetos:"
   ]
  },
  {
   "cell_type": "code",
   "execution_count": 10,
   "id": "60baec9d-330d-49b3-ac0d-21af2d8b586f",
   "metadata": {},
   "outputs": [
    {
     "name": "stdout",
     "output_type": "stream",
     "text": [
      "C:\\Usuarios\\elvio\\Documentos\\proyecto1.py\n",
      "<class 'pathlib.WindowsPath'>\n"
     ]
    }
   ],
   "source": [
    "from pathlib import Path\n",
    "\n",
    "# Definicion de una ruta absoluta\n",
    "PATH = Path(\"C:\", os.sep, \"Usuarios\", \"elvio\", \"Documentos\", \"proyecto1.py\")\n",
    "print(PATH)\n",
    "print(type(PATH))"
   ]
  },
  {
   "cell_type": "markdown",
   "id": "4f86f399-3c80-40ab-90b1-37711743e91e",
   "metadata": {
    "user_expressions": []
   },
   "source": [
    "Comparando ambos resultados, se observa que en el caso de `os.path.join` lo que se obtiene es un `str` que representa la ruta. En en caso de `pathlib.Path` se obtiene un _objeto ruta_. Esto quiere decir que muchas de las acciones que en el caso de la librería `os` son funciones de la librería, en el caso de `Path` son métodos de la clase o del objeto. Se puede obtener la ruta raíz de la sesión de usuario y la ruta actual:"
   ]
  },
  {
   "cell_type": "code",
   "execution_count": 18,
   "id": "1461206f-19f6-4080-8c96-8a9230d2cbd4",
   "metadata": {},
   "outputs": [
    {
     "name": "stdout",
     "output_type": "stream",
     "text": [
      "C:\\Users\\Asus\\OneDrive\\Escritorio\\ProgAvanz2024_0\\Material de clase\\Sesion 02\n",
      "True\n",
      "False\n",
      "True\n"
     ]
    }
   ],
   "source": [
    "current = Path.cwd()        # os.getcwd()\n",
    "print(Path(current))\n",
    "\n",
    "print(current.is_dir())     # os.isdir(str_path)\n",
    "print(current.is_file())    # os.isfile(str_path)\n",
    "print(current.exists())     # os.path.exists(str_path)"
   ]
  },
  {
   "cell_type": "markdown",
   "id": "1af46d29-748b-4780-8301-338b19ee52f3",
   "metadata": {
    "user_expressions": []
   },
   "source": [
    "Si, por ejemplo, se quiere definir la ruta de un nuevo directorio en el directorio actual:"
   ]
  },
  {
   "cell_type": "code",
   "execution_count": 20,
   "id": "504d7899-d999-4409-9ee1-16e04338085c",
   "metadata": {},
   "outputs": [
    {
     "name": "stdout",
     "output_type": "stream",
     "text": [
      "C:\\Users\\Asus\\OneDrive\\Escritorio\\ProgAvanz2024_0\\Material de clase\\Sesion 02\\NuevoDir\n"
     ]
    }
   ],
   "source": [
    "PATH = Path(Path(current), Path(\"NuevoDir\"))\n",
    "print(PATH)"
   ]
  },
  {
   "cell_type": "markdown",
   "id": "a3692573-3bd5-48ed-a247-4b92549d4627",
   "metadata": {
    "user_expressions": []
   },
   "source": [
    "Y podemos definir un archivo en esta ruta, del que podríamos obtener algunos atributos:"
   ]
  },
  {
   "cell_type": "code",
   "execution_count": 23,
   "id": "cf0d00de-70c1-4d37-8b50-0bfde0d18609",
   "metadata": {},
   "outputs": [
    {
     "name": "stdout",
     "output_type": "stream",
     "text": [
      "C:\\Users\\Asus\\OneDrive\\Escritorio\\ProgAvanz2024_0\\Material de clase\\Sesion 02\\NuevoDir\\archivo.txt\n",
      "archivo.txt\n",
      ".txt\n",
      "C:\n",
      "archivo\n"
     ]
    }
   ],
   "source": [
    "FILEPATH = Path(Path(current), Path(\"NuevoDir\", \"archivo.txt\"))\n",
    "print(FILEPATH)\n",
    "print(FILEPATH.name)\n",
    "print(FILEPATH.suffix)\n",
    "print(FILEPATH.drive)\n",
    "print(FILEPATH.stem)"
   ]
  },
  {
   "cell_type": "markdown",
   "id": "2c8315dc-82a9-480e-9bde-645916145a11",
   "metadata": {
    "user_expressions": []
   },
   "source": [
    "También se puede acceder a los directorios padre:"
   ]
  },
  {
   "cell_type": "code",
   "execution_count": 24,
   "id": "70a0b601-394c-4760-8bef-5aa46a6098da",
   "metadata": {},
   "outputs": [
    {
     "name": "stdout",
     "output_type": "stream",
     "text": [
      "C:\\Users\\Asus\\OneDrive\\Escritorio\\ProgAvanz2024_0\\Material de clase\\Sesion 02\\NuevoDir\\archivo.txt\n",
      "C:\\Users\\Asus\\OneDrive\\Escritorio\\ProgAvanz2024_0\\Material de clase\\Sesion 02\\NuevoDir\n",
      "C:\\Users\\Asus\\OneDrive\\Escritorio\\ProgAvanz2024_0\\Material de clase\\Sesion 02\n"
     ]
    }
   ],
   "source": [
    "print(FILEPATH)\n",
    "print(FILEPATH.parent)\n",
    "print(FILEPATH.parent.parent)"
   ]
  },
  {
   "cell_type": "markdown",
   "id": "7ccd5c6e-14a2-4db4-bc5a-ad7009fe75da",
   "metadata": {
    "user_expressions": []
   },
   "source": [
    "Para la creación de archivos puede ser muy util utilizar el método `with_name`, que cambia el nombre del ultimo elemento de la ruta (el archivo):"
   ]
  },
  {
   "cell_type": "code",
   "execution_count": 81,
   "id": "e566f036-1368-43fa-bcbf-8ad3c7845f26",
   "metadata": {},
   "outputs": [
    {
     "name": "stdout",
     "output_type": "stream",
     "text": [
      "C:\\Users\\Asus\\OneDrive\\Escritorio\\ProgAvanz2024_0\\Material de clase\\Sesion 02\\NuevoDir\\archivo1.txt\n",
      "C:\\Users\\Asus\\OneDrive\\Escritorio\\ProgAvanz2024_0\\Material de clase\\Sesion 02\\NuevoDir\\archivo2.txt\n",
      "C:\\Users\\Asus\\OneDrive\\Escritorio\\ProgAvanz2024_0\\Material de clase\\Sesion 02\\NuevoDir\\archivo3.txt\n",
      "C:\\Users\\Asus\\OneDrive\\Escritorio\\ProgAvanz2024_0\\Material de clase\\Sesion 02\\NuevoDir\\archivo4.txt\n",
      "C:\\Users\\Asus\\OneDrive\\Escritorio\\ProgAvanz2024_0\\Material de clase\\Sesion 02\\NuevoDir\\archivo5.txt\n"
     ]
    }
   ],
   "source": [
    "FILEPATH = Path(Path(current), Path(\"NuevoDir\", \" \"))\n",
    "\n",
    "for i in range(1, 6):\n",
    "    print(FILEPATH.with_name(f\"archivo{i}.txt\"))"
   ]
  },
  {
   "cell_type": "markdown",
   "id": "6bb0e2ee-e8be-4b2d-96a7-bdf94d299ba6",
   "metadata": {
    "tags": [],
    "user_expressions": []
   },
   "source": [
    "### Uso de Path con la gestión de archivos\n",
    "El uso de la clase `Path` esta orientado a la creación de rutas para la gestión de los archivos en el filesystem. Si se quiere crear un directorio y definir un archivo dentro del nuevo directorio, será necesario crear el nuevo directorio previamente. Por ejemplo, el código siguiente generará un error si el directorio \"NuevoDir\" no existe:"
   ]
  },
  {
   "cell_type": "code",
   "execution_count": 341,
   "id": "9bfae881-92be-459a-b60b-56e1ef7661ee",
   "metadata": {},
   "outputs": [
    {
     "ename": "FileNotFoundError",
     "evalue": "[Errno 2] No such file or directory: 'C:\\\\Users\\\\Asus\\\\OneDrive\\\\Escritorio\\\\ProgAvanz2024_0\\\\Material de clase\\\\Sesion 01\\\\Nuevo Dir\\\\texto.txt'",
     "output_type": "error",
     "traceback": [
      "\u001b[1;31m---------------------------------------------------------------------------\u001b[0m",
      "\u001b[1;31mFileNotFoundError\u001b[0m                         Traceback (most recent call last)",
      "Cell \u001b[1;32mIn[341], line 3\u001b[0m\n\u001b[0;32m      1\u001b[0m PATH \u001b[38;5;241m=\u001b[39m Path(Path\u001b[38;5;241m.\u001b[39mcwd(), \u001b[38;5;124m\"\u001b[39m\u001b[38;5;124mNuevo Dir\u001b[39m\u001b[38;5;124m\"\u001b[39m, \u001b[38;5;124m\"\u001b[39m\u001b[38;5;124mtexto.txt\u001b[39m\u001b[38;5;124m\"\u001b[39m)\n\u001b[1;32m----> 3\u001b[0m \u001b[38;5;28;01mwith\u001b[39;00m \u001b[38;5;28;43mopen\u001b[39;49m\u001b[43m(\u001b[49m\u001b[43mPATH\u001b[49m\u001b[43m,\u001b[49m\u001b[43m \u001b[49m\u001b[43mmode\u001b[49m\u001b[38;5;241;43m=\u001b[39;49m\u001b[38;5;124;43m'\u001b[39;49m\u001b[38;5;124;43mw\u001b[39;49m\u001b[38;5;124;43m'\u001b[39;49m\u001b[43m,\u001b[49m\u001b[43m \u001b[49m\u001b[43mencoding\u001b[49m\u001b[38;5;241;43m=\u001b[39;49m\u001b[38;5;124;43m\"\u001b[39;49m\u001b[38;5;124;43mutf-8\u001b[39;49m\u001b[38;5;124;43m\"\u001b[39;49m\u001b[43m)\u001b[49m \u001b[38;5;28;01mas\u001b[39;00m f:\n\u001b[0;32m      4\u001b[0m     f\u001b[38;5;241m.\u001b[39mwrite(\u001b[38;5;124m\"\u001b[39m\u001b[38;5;124mEste es un texto de prueba\u001b[39m\u001b[38;5;124m\"\u001b[39m)\n",
      "File \u001b[1;32m~\\anaconda3\\lib\\site-packages\\IPython\\core\\interactiveshell.py:282\u001b[0m, in \u001b[0;36m_modified_open\u001b[1;34m(file, *args, **kwargs)\u001b[0m\n\u001b[0;32m    275\u001b[0m \u001b[38;5;28;01mif\u001b[39;00m file \u001b[38;5;129;01min\u001b[39;00m {\u001b[38;5;241m0\u001b[39m, \u001b[38;5;241m1\u001b[39m, \u001b[38;5;241m2\u001b[39m}:\n\u001b[0;32m    276\u001b[0m     \u001b[38;5;28;01mraise\u001b[39;00m \u001b[38;5;167;01mValueError\u001b[39;00m(\n\u001b[0;32m    277\u001b[0m         \u001b[38;5;124mf\u001b[39m\u001b[38;5;124m\"\u001b[39m\u001b[38;5;124mIPython won\u001b[39m\u001b[38;5;124m'\u001b[39m\u001b[38;5;124mt let you open fd=\u001b[39m\u001b[38;5;132;01m{\u001b[39;00mfile\u001b[38;5;132;01m}\u001b[39;00m\u001b[38;5;124m by default \u001b[39m\u001b[38;5;124m\"\u001b[39m\n\u001b[0;32m    278\u001b[0m         \u001b[38;5;124m\"\u001b[39m\u001b[38;5;124mas it is likely to crash IPython. If you know what you are doing, \u001b[39m\u001b[38;5;124m\"\u001b[39m\n\u001b[0;32m    279\u001b[0m         \u001b[38;5;124m\"\u001b[39m\u001b[38;5;124myou can use builtins\u001b[39m\u001b[38;5;124m'\u001b[39m\u001b[38;5;124m open.\u001b[39m\u001b[38;5;124m\"\u001b[39m\n\u001b[0;32m    280\u001b[0m     )\n\u001b[1;32m--> 282\u001b[0m \u001b[38;5;28;01mreturn\u001b[39;00m io_open(file, \u001b[38;5;241m*\u001b[39margs, \u001b[38;5;241m*\u001b[39m\u001b[38;5;241m*\u001b[39mkwargs)\n",
      "\u001b[1;31mFileNotFoundError\u001b[0m: [Errno 2] No such file or directory: 'C:\\\\Users\\\\Asus\\\\OneDrive\\\\Escritorio\\\\ProgAvanz2024_0\\\\Material de clase\\\\Sesion 01\\\\Nuevo Dir\\\\texto.txt'"
     ]
    }
   ],
   "source": [
    "PATH = Path(Path.cwd(), \"NuevoDir\", \"texto.txt\")\n",
    "\n",
    "with open(PATH, mode='w', encoding=\"utf-8\") as f:\n",
    "    f.write(\"Este es un texto de prueba\")"
   ]
  },
  {
   "cell_type": "markdown",
   "id": "f5ac4474-73c5-49f3-98b6-8c9c0fd7c161",
   "metadata": {
    "user_expressions": []
   },
   "source": [
    "Para crear un nuevo directorio se puede utilizar el método `mkdir` del objeto `Path`:"
   ]
  },
  {
   "cell_type": "code",
   "execution_count": 88,
   "id": "abfa3452-ec55-497a-88ec-28e67e45db16",
   "metadata": {},
   "outputs": [],
   "source": [
    "import os\n",
    "\n",
    "# Se crea el directorio \"NuevoDir\"\n",
    "PATH = Path(Path.cwd(), \"NuevoDir\")\n",
    "PATH.mkdir(exist_ok=True)    # \"exist_ok=True\" evita la excepción \"FileExistsError\"\n",
    "\n",
    "# Se crea un archivo en la ruta que contiene el nuevo directorio\n",
    "for idx in range(1, 11):\n",
    "    filename = Path(PATH, f\"texto{idx}.txt\")\n",
    "    with open(filename, mode='w', encoding=\"utf-8\") as f:\n",
    "        f.write(f\"Este es un texto de prueba en el archivo '{filename.name}'\")"
   ]
  },
  {
   "cell_type": "markdown",
   "id": "eab6bc39-94a6-4dd2-8749-ebe191179c69",
   "metadata": {
    "user_expressions": []
   },
   "source": [
    "Se puede acceder a las rutas de los recursos de un directorio con el método `iterdir()` que retorna un objeto iterable (que es más eficiente en memoria que `os.listdir(str_path)` que retorna una lista:"
   ]
  },
  {
   "cell_type": "code",
   "execution_count": 91,
   "id": "edc4ed86-0e8f-4b84-b07a-ae7085084dff",
   "metadata": {},
   "outputs": [
    {
     "name": "stdout",
     "output_type": "stream",
     "text": [
      "C:\\Users\\Asus\\OneDrive\\Escritorio\\ProgAvanz2024_0\\Material de clase\\Sesion 02\\NuevoDir\\texto1.txt\n",
      "C:\\Users\\Asus\\OneDrive\\Escritorio\\ProgAvanz2024_0\\Material de clase\\Sesion 02\\NuevoDir\\texto10.txt\n",
      "C:\\Users\\Asus\\OneDrive\\Escritorio\\ProgAvanz2024_0\\Material de clase\\Sesion 02\\NuevoDir\\texto2.txt\n",
      "C:\\Users\\Asus\\OneDrive\\Escritorio\\ProgAvanz2024_0\\Material de clase\\Sesion 02\\NuevoDir\\texto3.txt\n",
      "C:\\Users\\Asus\\OneDrive\\Escritorio\\ProgAvanz2024_0\\Material de clase\\Sesion 02\\NuevoDir\\texto4.txt\n",
      "C:\\Users\\Asus\\OneDrive\\Escritorio\\ProgAvanz2024_0\\Material de clase\\Sesion 02\\NuevoDir\\texto5.txt\n",
      "C:\\Users\\Asus\\OneDrive\\Escritorio\\ProgAvanz2024_0\\Material de clase\\Sesion 02\\NuevoDir\\texto6.txt\n",
      "C:\\Users\\Asus\\OneDrive\\Escritorio\\ProgAvanz2024_0\\Material de clase\\Sesion 02\\NuevoDir\\texto7.txt\n",
      "C:\\Users\\Asus\\OneDrive\\Escritorio\\ProgAvanz2024_0\\Material de clase\\Sesion 02\\NuevoDir\\texto8.txt\n",
      "C:\\Users\\Asus\\OneDrive\\Escritorio\\ProgAvanz2024_0\\Material de clase\\Sesion 02\\NuevoDir\\texto9.txt\n"
     ]
    }
   ],
   "source": [
    "for item in PATH.iterdir():\n",
    "    print(item)"
   ]
  },
  {
   "cell_type": "markdown",
   "id": "9cea4ce8-04f2-4d00-82a2-d703cc1d17dc",
   "metadata": {
    "user_expressions": []
   },
   "source": [
    "---\n",
    "### La librería os\n",
    "Todo esto no quiere decir que las funciones de la librería `os` hayan sido desplazadas. `pathlib` solamente esta asociado a la gestión de las rutas. Para las operaciones con el filesystem las funciones de `os` son necesarias. Aqui algunos ejemplos:"
   ]
  },
  {
   "cell_type": "code",
   "execution_count": 144,
   "id": "300126d5-7b0d-44de-98b9-eade24e9612e",
   "metadata": {},
   "outputs": [
    {
     "name": "stdout",
     "output_type": "stream",
     "text": [
      "  Directorio de C:\\Users\\Asus\\OneDrive\\Escritorio\\ProgAvanz2024_0\\Material de clase\\Sesion 02\n",
      "\n",
      "21/12/2023 22:29:20   <DIR>          0 bytes   .ipynb_checkpoints\n",
      "21/12/2023 22:29:20             25,925 bytes   02 - Python Avanzado - Parte 2.ipynb\n",
      "21/12/2023 22:29:20   <DIR>      4,096 bytes   NuevoDir\n"
     ]
    }
   ],
   "source": [
    "from datetime import datetime\n",
    "\n",
    "#os.path.getmtime()  -> Fecha de modificacion de un archivo (timestamp)\n",
    "#os.path.getsize()   -> Tamaño del archivo (bytes)\n",
    "\n",
    "PATH = Path.cwd()\n",
    "\n",
    "print(f\"  Directorio de {PATH}\\n\")\n",
    "for dir_or_file in PATH.iterdir():\n",
    "    str_out = \"\"\n",
    "    str_out += f\"{datetime.fromtimestamp(os.path.getmtime(dir_file)):%d/%m/%Y %H:%M:%S}\" \n",
    "    \n",
    "    if Path(dir_or_file).is_dir():\n",
    "        str_out += \"   <DIR>   \"\n",
    "    elif Path(dir_or_file).is_file():\n",
    "        str_out += \"           \"\n",
    "    \n",
    "    str_out += f\"{os.path.getsize(dir_or_file):8,} bytes   {dir_or_file.name}\"\n",
    "    print(str_out)\n",
    "    "
   ]
  },
  {
   "cell_type": "markdown",
   "id": "dcaab6af-131f-436e-90da-669b0412c769",
   "metadata": {
    "user_expressions": []
   },
   "source": [
    "Otro ejemplo es la función `os.walk()`"
   ]
  },
  {
   "cell_type": "code",
   "execution_count": 145,
   "id": "5be5bef2-c54f-4ce3-a636-64064fe20cdb",
   "metadata": {},
   "outputs": [
    {
     "data": {
      "text/plain": [
       "<generator object _walk at 0x000001F5C2421EE0>"
      ]
     },
     "execution_count": 145,
     "metadata": {},
     "output_type": "execute_result"
    }
   ],
   "source": [
    "os.walk(PATH)"
   ]
  },
  {
   "cell_type": "markdown",
   "id": "436a4bef-7b62-4f62-84ae-495a01e1e3f9",
   "metadata": {
    "user_expressions": []
   },
   "source": [
    "Esto retorrna un generador, por lo que podemos inspeccionar los retornos con `next`:"
   ]
  },
  {
   "cell_type": "code",
   "execution_count": 146,
   "id": "a35d8051-002e-4003-a7cd-3afaa5cfc6fe",
   "metadata": {},
   "outputs": [
    {
     "data": {
      "text/plain": [
       "('C:\\\\Users\\\\Asus\\\\OneDrive\\\\Escritorio\\\\ProgAvanz2024_0\\\\Material de clase\\\\Sesion 02',\n",
       " ['.ipynb_checkpoints', 'NuevoDir'],\n",
       " ['02 - Python Avanzado - Parte 2.ipynb'])"
      ]
     },
     "execution_count": 146,
     "metadata": {},
     "output_type": "execute_result"
    }
   ],
   "source": [
    "next(os.walk(PATH))"
   ]
  },
  {
   "cell_type": "markdown",
   "id": "3370367e-c42c-4995-9ab5-1949c3094c0f",
   "metadata": {
    "user_expressions": []
   },
   "source": [
    "Se observa que devuelve una tupla que contiene tres elementos: \n",
    "\n",
    "    (ruta, [directorios en la ruta], [archivos en la ruta])\n",
    "\n",
    "Se puede iterar el generador para hacer una caminata de todas las rutas:"
   ]
  },
  {
   "cell_type": "code",
   "execution_count": 147,
   "id": "d55bdf10-5af0-4272-948a-51747a2384b8",
   "metadata": {},
   "outputs": [
    {
     "name": "stdout",
     "output_type": "stream",
     "text": [
      "C:\\Users\\Asus\\OneDrive\\Escritorio\\ProgAvanz2024_0\\Material de clase\\Sesion 02\n",
      "C:\\Users\\Asus\\OneDrive\\Escritorio\\ProgAvanz2024_0\\Material de clase\\Sesion 02\\.ipynb_checkpoints\n",
      "C:\\Users\\Asus\\OneDrive\\Escritorio\\ProgAvanz2024_0\\Material de clase\\Sesion 02\\NuevoDir\n",
      "C:\\Users\\Asus\\OneDrive\\Escritorio\\ProgAvanz2024_0\\Material de clase\\Sesion 02\\NuevoDir\\.ipynb_checkpoints\n"
     ]
    }
   ],
   "source": [
    "for root, dirs, files in os.walk(PATH):\n",
    "    print(root)    "
   ]
  },
  {
   "cell_type": "markdown",
   "id": "d6509a64-bf0f-4237-b763-7329efa36128",
   "metadata": {
    "user_expressions": []
   },
   "source": [
    "O inclusve, retornar un árbol con todos los archivos presentes en la ruta base:"
   ]
  },
  {
   "cell_type": "code",
   "execution_count": 160,
   "id": "3cd55951-8eee-4681-a609-15afb8081dde",
   "metadata": {},
   "outputs": [
    {
     "name": "stdout",
     "output_type": "stream",
     "text": [
      " + Sesion 02\n",
      "     - 02 - Python Avanzado - Parte 2.ipynb\n",
      "     + .ipynb_checkpoints\n",
      "         - 02 - Python Avanzado - Parte 2-checkpoint.ipynb\n",
      "     + NuevoDir\n",
      "         - texto1.txt\n",
      "         - texto10.txt\n",
      "         - texto2.txt\n",
      "         - texto3.txt\n",
      "         - texto4.txt\n",
      "         - texto5.txt\n",
      "         - texto6.txt\n",
      "         - texto7.txt\n",
      "         - texto8.txt\n",
      "         - texto9.txt\n",
      "         + .ipynb_checkpoints\n",
      "             - texto4-checkpoint.txt\n"
     ]
    }
   ],
   "source": [
    "for root, dirs, files in os.walk(PATH):\n",
    "    level = root.replace(str(PATH), '').count(os.sep)     # Cuenta cuantos \"/\" hay luego de la ruta inicial\n",
    "    indent = ' ' * 4 * level                              # para definir el nivel de indentacion\n",
    "    print(f\"{indent} + {Path(root).name}\")                # e imprimir el nombre del directorio por niveles\n",
    "    \n",
    "    subindent = ' ' * 4 * (level + 1)                     # Lo mismo pero con archivos en la ruta\n",
    "    for file in files:\n",
    "        print(f\"{subindent} - {file}\")"
   ]
  },
  {
   "cell_type": "markdown",
   "id": "4cf07b34-58d3-4d0e-842f-7c5cd5ba1696",
   "metadata": {
    "tags": [],
    "user_expressions": []
   },
   "source": [
    "### Archivos CSV\n",
    "Un archivo CSV es un archivo de texto con un formato estándar. En este, los valores se guardan como valores de texto, separados por algun delimitador, usualmente una coma (\",\") de donde viene el nombre Comma Separated Value, aunque puede ser un espacio en blanco, un tabulador (\"\\t\") o un punto y coma (\";\").\n",
    "\n",
    "Los archivos CSV son reconocidos por las Hojas de Cálculo como Excel y ordena los datos por columnas a partir del delimitador. Hay que tomar en consideración que en los países donde se utiliza la \",\" como separador de miles, se debe de utilizar el \";\" para que un archivo CSV sea reconocido por Excel. Al final, un archivo CSV es una Hoja de Cálculo simplificada, sin pestañas ni fórmulas.\n",
    "\n",
    "Hay otro detalle a considerar: un CSV no se puede manipular como un archivo de texto al que lo podemos seprar utilizando `split(',')` ya que no todas las comas son separadores. Un CSV también tiene sus propios caracteres de escape, lo que permite que una coma pueda ser parte de los valores (como en el caso de un número escrito con la forma 1,200). Esa es la razón por la que siempre hay que usar la librería `csv` para escribir un archivo CSV.\n",
    "\n",
    "Los marcadores de personal suelen generar archivos CSV diarios. Vamos a generar una simulación de esto:"
   ]
  },
  {
   "cell_type": "code",
   "execution_count": 161,
   "id": "1ec047e7-52d8-4425-800e-f9611aa5b5d2",
   "metadata": {},
   "outputs": [],
   "source": [
    "empleados = [[\"2/3/2024 07:20\", \"Elvio Lado\"], \n",
    "             [\"2/3/2024 07:22\", \"Elmer Curio\"], \n",
    "             [\"2/3/2024 07:30\", \"Elba Lazo\"], \n",
    "             [\"2/3/2024 07:36\", \"Susana Oria\"], \n",
    "             [\"2/3/2024 07:49\", \"Armando Paredes\"]]"
   ]
  },
  {
   "cell_type": "markdown",
   "id": "d9caaff5-1a3e-48c2-ae67-30e8bafdb023",
   "metadata": {
    "user_expressions": []
   },
   "source": [
    "Para almacenar estos datos como un archivo CSV en Windows (y solo en Windows) hay un recordar establecer el parametro `newline=''` para evitar que se generen líneas en blanco entre los registros (esto por razones técnicas que estan detalladas [aqui](https://docs.python.org/3/library/csv.html#id3))."
   ]
  },
  {
   "cell_type": "code",
   "execution_count": 162,
   "id": "589a1bff-24e3-4f28-935d-a40367184890",
   "metadata": {},
   "outputs": [
    {
     "name": "stdout",
     "output_type": "stream",
     "text": [
      "Archivo generado: C:\\Users\\Asus\\OneDrive\\Escritorio\\ProgAvanz2024_0\\Material de clase\\Sesion 02\\entrada.csv\n"
     ]
    }
   ],
   "source": [
    "import csv\n",
    "\n",
    "with open(\"entrada.csv\", mode='w', newline='') as csv_file:\n",
    "    writer = csv.writer(csv_file, delimiter=';')\n",
    "    writer.writerow([\"HORA\", \"EMPLEADO\"])\n",
    "    \n",
    "    for registro in empleados:\n",
    "        writer.writerow(registro)\n",
    "        \n",
    "print(\"Archivo generado:\", os.path.abspath(\"entrada.csv\"))"
   ]
  },
  {
   "cell_type": "markdown",
   "id": "6716ca71-6f4d-4789-914b-a593b231785d",
   "metadata": {
    "user_expressions": []
   },
   "source": [
    "En el código anterior hay algunos detalles a considerar:\n",
    "    \n",
    "* Se utiliza el parametro `newline=''` por ser Windows. En otro sistema operativo esta opción no se coloca\n",
    "* Se establece un objeto `csv.writer` sobre el archivo abierto para escribir sobre este.\n",
    "* En el writer se define el tipo de separador como \";\" para que sea compatible con Excel (por defecto es \",\")\n",
    "* Se esta utilizando el método `writerow(registro)` para escribir los registros. También se pudo haber llamado al método `writerows(empleados)`\n",
    "* Se escribe una lista con los nombres de las columnas de los datos. Esto es el encabezado\n",
    "* Se esta obteniendo la ruta absoluta del archivo generado con `os.path.abspath` para saber donde esta ubicado el archivo generado\n",
    "\n",
    "Si todo esta bien, podrá abrir el archivo desde Excel."
   ]
  },
  {
   "cell_type": "markdown",
   "id": "6e643e05-db63-4b0d-bd06-230c77726c64",
   "metadata": {
    "user_expressions": []
   },
   "source": [
    "JupyterLab tiene un visor de archivos CSV. Pruebe abrir el archivo desde el navegador de archivos a la izquierda para ver la información tabulada y podrá seleccionar el tipo de delimitador."
   ]
  },
  {
   "cell_type": "markdown",
   "id": "6466c46e-71ab-4983-955d-0f11e3eb813c",
   "metadata": {
    "user_expressions": []
   },
   "source": [
    "Ahora, leamos el archivo:"
   ]
  },
  {
   "cell_type": "code",
   "execution_count": 164,
   "id": "a9d51f66-5519-46b7-9bdb-95683b086dfc",
   "metadata": {},
   "outputs": [
    {
     "name": "stdout",
     "output_type": "stream",
     "text": [
      "* Nombre: Elvio Lado           Hora de ingreso: 2/3/2024 07:20\n",
      "* Nombre: Elmer Curio          Hora de ingreso: 2/3/2024 07:22\n",
      "* Nombre: Elba Lazo            Hora de ingreso: 2/3/2024 07:30\n",
      "* Nombre: Susana Oria          Hora de ingreso: 2/3/2024 07:36\n",
      "* Nombre: Armando Paredes      Hora de ingreso: 2/3/2024 07:49\n"
     ]
    }
   ],
   "source": [
    "import csv\n",
    "\n",
    "with open(\"entrada.csv\") as file:\n",
    "    reader = csv.reader(file, delimiter=';')\n",
    "    next(reader)      # Con esto pasamos a la siguiente linea: eliminamos el encabezado\n",
    "    \n",
    "    for line in reader:\n",
    "        print(f\"* Nombre: {line[1]:20} Hora de ingreso: {line[0]}\")"
   ]
  },
  {
   "cell_type": "markdown",
   "id": "95d22aed-d325-403f-89ec-bca0da161533",
   "metadata": {
    "user_expressions": []
   },
   "source": [
    "Detalles a considerar del código anterior:\n",
    "\n",
    "* No es necesario especificar `newline=''`. Esto es solo para escirbir un archivo CSV\n",
    "* No se especifica el modo al momento de abrir el archivo. El modo por defecto es lectura\n",
    "* Se especifica un `csv.reader` para retornar una lista de datos a partir de cada línea de texto\n",
    "* Se especifica el tipo de separador en el reader.\n",
    "* Se estan utilizando los indices de la lista (en este caso, `line`) para mostrar los resultados.\n",
    "\n",
    "También se puede utilizar la clase `DictReader` si se quiere retornar un diccionario a partir del CSV, donde las llaves del diccionario por filas se obtendrá de la información de la cabecera del CSV. Esto puede retornar un código más limpio ya que no será necesario descartar el encabezado y se accede a los campos con mayor claridad."
   ]
  },
  {
   "cell_type": "code",
   "execution_count": 165,
   "id": "f38ecaa2-cc85-4979-962c-1cc664ee9a79",
   "metadata": {},
   "outputs": [
    {
     "name": "stdout",
     "output_type": "stream",
     "text": [
      "* Nombre: Elvio Lado           Hora de ingreso: 2/3/2024 07:20\n",
      "* Nombre: Elmer Curio          Hora de ingreso: 2/3/2024 07:22\n",
      "* Nombre: Elba Lazo            Hora de ingreso: 2/3/2024 07:30\n",
      "* Nombre: Susana Oria          Hora de ingreso: 2/3/2024 07:36\n",
      "* Nombre: Armando Paredes      Hora de ingreso: 2/3/2024 07:49\n"
     ]
    }
   ],
   "source": [
    "import csv\n",
    "\n",
    "with open(\"entrada.csv\") as file:\n",
    "    reader = csv.DictReader(file, delimiter=';')\n",
    "\n",
    "    for line in reader:\n",
    "        print(f\"* Nombre: {line['EMPLEADO']:20} Hora de ingreso: {line['HORA']}\")"
   ]
  },
  {
   "cell_type": "markdown",
   "id": "a7febcea-4fb3-472d-9894-2340e1a46f97",
   "metadata": {
    "user_expressions": []
   },
   "source": [
    "## Archivos JSON\n",
    "Un archivo JSON es un archivo con un formato más complejo. Es, al final, un diccionario almacenado. Para gestionar este tipo de archivos utilizaremos el módulo `json`. \n",
    "\n",
    "Ampliemos el caso del registro de entrada con más datos, esta vez estructurados como un diccionario:"
   ]
  },
  {
   "cell_type": "code",
   "execution_count": 170,
   "id": "2ac1f5d1-beae-4218-b0ec-45d921ed14eb",
   "metadata": {},
   "outputs": [],
   "source": [
    "empleados = [{\"ingreso\": \"6/6/2024 07:20\", \"salida\": \"6/6/2024 19:30\", \"nombre\": \"Elvio Lado\"}, \n",
    "             {\"ingreso\": \"6/6/2024 07:22\", \"salida\": \"6/6/2024 18:50\", \"nombre\": \"Elmer Curio\"}, \n",
    "             {\"ingreso\": \"6/6/2024 07:30\", \"salida\": \"6/6/2024 19:10\", \"nombre\": \"Elba Lazo\"}, \n",
    "             {\"ingreso\": \"6/6/2024 07:36\", \"salida\": \"6/6/2024 20:10\", \"nombre\": \"Susana Oria\"}, \n",
    "             {\"ingreso\": \"6/6/2024 07:49\", \"salida\": \"6/6/2024 17:59\", \"nombre\": \"Armando Paredes\"}]"
   ]
  },
  {
   "cell_type": "markdown",
   "id": "1a0e4ff6-2531-467e-8705-bbe21bd61ecc",
   "metadata": {
    "user_expressions": []
   },
   "source": [
    "Esta vez tenemos una lista de registros, donde cada registro es un diccionario. Esta estructura la podemos almacenar tal cual en formato JSON. Para volcar los datos a un archivo JSON se utiliza el método `json.dump(data, file)`:"
   ]
  },
  {
   "cell_type": "code",
   "execution_count": 171,
   "id": "3ea1e63e-6de8-4acc-ad3c-f281cac6c99e",
   "metadata": {},
   "outputs": [],
   "source": [
    "import json\n",
    "\n",
    "with open(\"marca_dia.json\", mode='w') as json_file:\n",
    "    json.dump(empleados, json_file)"
   ]
  },
  {
   "cell_type": "markdown",
   "id": "4af9b971-bc13-4d18-9be1-4fa7d53b3a0b",
   "metadata": {
    "user_expressions": []
   },
   "source": [
    "Si se abre un archvio JSON en un Bloc de Notas verá una lista con diccionarios escrita como un texto. Pero un visualizador de archvios JSON mostrará un resultado diferente. Pruebe abriendo el archivo en JupyterLab y verá la estructura de la información."
   ]
  },
  {
   "cell_type": "markdown",
   "id": "eb4461f9-be9c-402a-8dad-7d71c3b36b07",
   "metadata": {
    "user_expressions": []
   },
   "source": [
    "La lectura de un archivo JSON utiliza el método `json.load(file)`:"
   ]
  },
  {
   "cell_type": "code",
   "execution_count": 172,
   "id": "26ef7955-f7c0-4da4-aefa-dd268f88ebfa",
   "metadata": {},
   "outputs": [
    {
     "name": "stdout",
     "output_type": "stream",
     "text": [
      "[{'ingreso': '6/6/2024 07:20', 'salida': '6/6/2024 19:30', 'nombre': 'Elvio Lado'}, {'ingreso': '6/6/2024 07:22', 'salida': '6/6/2024 18:50', 'nombre': 'Elmer Curio'}, {'ingreso': '6/6/2024 07:30', 'salida': '6/6/2024 19:10', 'nombre': 'Elba Lazo'}, {'ingreso': '6/6/2024 07:36', 'salida': '6/6/2024 20:10', 'nombre': 'Susana Oria'}, {'ingreso': '6/6/2024 07:49', 'salida': '6/6/2024 17:59', 'nombre': 'Armando Paredes'}]\n"
     ]
    }
   ],
   "source": [
    "with open(\"marca_dia.json\") as json_file:\n",
    "    data = json.load(json_file)\n",
    "    \n",
    "print(data)"
   ]
  },
  {
   "cell_type": "markdown",
   "id": "87a3808b-c895-46b3-a03c-a3b2a1dfe9ae",
   "metadata": {
    "user_expressions": []
   },
   "source": [
    "### Tip: Como imprimir un diccionario bien\n",
    "El resultado anterior es, por decir algo, bastante feo. Hay una forma de imprimir un diccionario de forma estética valiéndose del módulo `json`, en este caso del método `json.dumps(data)` (la 's' en dump*s* es por 'string'), que toma un diccionario (o una estructura JSON que viene a ser lo mismo) y hace un volcado sobre un string que puede tener un fomato:"
   ]
  },
  {
   "cell_type": "code",
   "execution_count": 173,
   "id": "e26c0504-7587-4e1f-8f92-bc5a47407f39",
   "metadata": {},
   "outputs": [
    {
     "name": "stdout",
     "output_type": "stream",
     "text": [
      "[\n",
      "    {\n",
      "        \"ingreso\": \"6/6/2024 07:20\",\n",
      "        \"salida\": \"6/6/2024 19:30\",\n",
      "        \"nombre\": \"Elvio Lado\"\n",
      "    },\n",
      "    {\n",
      "        \"ingreso\": \"6/6/2024 07:22\",\n",
      "        \"salida\": \"6/6/2024 18:50\",\n",
      "        \"nombre\": \"Elmer Curio\"\n",
      "    },\n",
      "    {\n",
      "        \"ingreso\": \"6/6/2024 07:30\",\n",
      "        \"salida\": \"6/6/2024 19:10\",\n",
      "        \"nombre\": \"Elba Lazo\"\n",
      "    },\n",
      "    {\n",
      "        \"ingreso\": \"6/6/2024 07:36\",\n",
      "        \"salida\": \"6/6/2024 20:10\",\n",
      "        \"nombre\": \"Susana Oria\"\n",
      "    },\n",
      "    {\n",
      "        \"ingreso\": \"6/6/2024 07:49\",\n",
      "        \"salida\": \"6/6/2024 17:59\",\n",
      "        \"nombre\": \"Armando Paredes\"\n",
      "    }\n",
      "]\n"
     ]
    }
   ],
   "source": [
    "print(json.dumps(data, indent=4))    # indent es el número de espacios para la sangría de niveles"
   ]
  },
  {
   "cell_type": "markdown",
   "id": "7498b060-ec9d-4447-a4fa-87e3619e7e6f",
   "metadata": {
    "user_expressions": []
   },
   "source": [
    "---\n",
    "## Programación Orientada a Objetos (OOP)\n",
    "Es un paradigma de programacion en el que se crea una entidad llamada \"clase\"  que encapsula en una sola estructura variables (propiedades) y funciones (métodos)  asociados a lo que sería un \"objeto\". Estos objetos son \"instanciados\" a partir de la clase que sirve como plantilla.\n",
    "\n",
    "En el siguiente código se crea una clase Alumno en términos de nombre, apellido, código y estado de matricula. Se definen los *setters* y *getters* para el control de atributos (a excepción de *presente* ya que es un atributo que se define internamente). Tambien se define el método *esta_matriculado* para conocer el estado de la matricula (el *getter* de self.matricula) asi como el método *mágico* `__repr__` que retorna una cadena que describe el objeto.\n",
    "\n",
    "`__repr__` y `__str__` son ligeramente diferentes: el primero es invocado cuando se consulta por un objeto y el segundo cuando se imprime un objeto. Sin embargo, si `__str__` no está definido, se utiliza de forma automática `__repr__` por lo que es preferible definir este que `__str__`."
   ]
  },
  {
   "cell_type": "code",
   "execution_count": 174,
   "id": "e58ce0f4-3085-4a6f-8e5d-3e3dd354b55f",
   "metadata": {},
   "outputs": [],
   "source": [
    "class Alumno:\n",
    "    def __init__(self, nombre='', apellido='', codigo=''):\n",
    "        self.nombre = nombre\n",
    "        self.apellido = apellido\n",
    "        self.codigo = codigo\n",
    "        self.matricula = False\n",
    "        \n",
    "    @property\n",
    "    def nombre(self):\n",
    "        return self.__nombre\n",
    "    \n",
    "    @property\n",
    "    def apellido(self):\n",
    "        return self.__apellido\n",
    "    \n",
    "    @property\n",
    "    def codigo(self):\n",
    "        return self.__codigo\n",
    "    \n",
    "    @nombre.setter\n",
    "    def nombre(self, val):\n",
    "        if isinstance(val, str):\n",
    "            self.__nombre = val\n",
    "        else:\n",
    "            raise TypeError(\"El campo 'nombre' debe ser tipo 'str'\")\n",
    "   \n",
    "    @apellido.setter\n",
    "    def apellido(self, val):\n",
    "        if isinstance(val, str):\n",
    "            self.__apellido = val\n",
    "        else:\n",
    "            raise TypeError(\"El campo 'apellido' debe ser tipo 'str'\")\n",
    "    \n",
    "    @codigo.setter\n",
    "    def codigo(self, val):\n",
    "        if isinstance(val, str):\n",
    "            self.__codigo = val\n",
    "        else:\n",
    "            raise TypeError(\"El campo 'codigo' debe ser tipo 'str'\")\n",
    "            \n",
    "    def esta_matriculado(self):\n",
    "        return self.matricula\n",
    "            \n",
    "    def __repr__(self):\n",
    "        return f\"Alumno(nombre={self.nombre}, apellido={self.apellido}, codigo={self.codigo})\"\n",
    "        "
   ]
  },
  {
   "cell_type": "code",
   "execution_count": 175,
   "id": "e62bb4b1-9265-4a5d-8ea3-36a8df63fb17",
   "metadata": {},
   "outputs": [
    {
     "name": "stdout",
     "output_type": "stream",
     "text": [
      "Alumno(nombre=Elvio, apellido=Lado, codigo=a81277222)\n",
      "False\n",
      "False\n",
      "True\n"
     ]
    }
   ],
   "source": [
    "alumno1 = Alumno('Elvio', 'Lado', 'a81277222')\n",
    "print(alumno1)\n",
    "print(alumno1.esta_matriculado())\n",
    "print(alumno1.matricula)\n",
    "alumno1.matricula = True\n",
    "print(alumno1.matricula)"
   ]
  },
  {
   "cell_type": "markdown",
   "id": "213397d6-2559-4fee-ac97-df9a16aa3286",
   "metadata": {},
   "source": [
    "### Herencia\n",
    "Se puede crear una clase a partir de otra, colocando la clase *padre* entre `()` al momento de definirla. Esta clase heredará todas las propiedades y métodos de la clase padre."
   ]
  },
  {
   "cell_type": "code",
   "execution_count": 176,
   "id": "ff26913c-4db3-439e-a646-21817271a63d",
   "metadata": {},
   "outputs": [],
   "source": [
    "# Clase Delegado es hija de Clase Alumno\n",
    "class Delegado(Alumno):\n",
    "    def __init__(self, nombre, apellido, codigo, curso):\n",
    "        super().__init__(nombre, apellido, codigo)\n",
    "        self.curso = curso\n",
    "        \n",
    "    def __repr__(self):\n",
    "        return f\"Delegado(nombre={self.nombre}, apellido={self.apellido}, codigo={self.codigo}, curso={self.curso})\""
   ]
  },
  {
   "cell_type": "code",
   "execution_count": 177,
   "id": "fd458c12-9614-4aac-a16f-e72545ca1890",
   "metadata": {},
   "outputs": [
    {
     "name": "stdout",
     "output_type": "stream",
     "text": [
      "Delegado(nombre=Dina, apellido=Mita, codigo=u20181811, curso=Programacion)\n",
      "False\n",
      "True\n"
     ]
    }
   ],
   "source": [
    "delegada = Delegado('Dina', 'Mita', 'u20181811', 'Programacion')\n",
    "print(delegada)\n",
    "print(delegada.esta_matriculado())\n",
    "\n",
    "delegada.matricula = True\n",
    "print(delegada.esta_matriculado())"
   ]
  },
  {
   "cell_type": "markdown",
   "id": "87585464-0ff6-4711-8076-1edf362a4bd7",
   "metadata": {
    "user_expressions": []
   },
   "source": [
    "Observe que la clase `Delegado` no define la propiedad `self.matricula` ni el método `self.esta_matriculado`; sin embargo estan disponiibles para ser utilizados por el objeto `Delegado` instanciado."
   ]
  },
  {
   "cell_type": "markdown",
   "id": "a75ed7ae-7596-4a68-bd3e-76e8cff4cb18",
   "metadata": {
    "tags": [],
    "user_expressions": []
   },
   "source": [
    "## @staticmethod y @classmethod\n",
    "Existen algunos decoradores que permiten definir dos casos especiales dentro de la definición de una clase: \n",
    "\n",
    "- Cuando se quiere definir una función utilitaria dentro de una clase: @staticmethod\n",
    "- Cuando se quiere definir un método de la clase y no del objeto: @classmethod\n",
    "\n",
    "Un _staticmethod_ es un método que funge como una función interna de la clase y que opera como una utilidad de la clase. Por ejemplo, se quiere cambiar la clase `Alumno` para que genere un código de forma aleatoria al momento de instanciar la clase, considerando el año de matrícula. Para esto, se puede crear una función que retorne este código para utilizarlo dentro de la definición de las propiedades de la clase:"
   ]
  },
  {
   "cell_type": "code",
   "execution_count": 200,
   "id": "5fcebe60-f3c4-499d-99bd-c0ac682dca6f",
   "metadata": {},
   "outputs": [],
   "source": [
    "from datetime import datetime\n",
    "from random import randint\n",
    "\n",
    "class Alumno:\n",
    "    def __init__(self, nombre='', apellido='', codigo=''):\n",
    "        self.nombre = nombre\n",
    "        self.apellido = apellido\n",
    "        self.matricula = False\n",
    "        \n",
    "        if not codigo:\n",
    "            self.codigo = Alumno.genera_codigo()\n",
    "        else:\n",
    "            self.codigo = codigo\n",
    "        \n",
    "    @staticmethod\n",
    "    def genera_codigo():\n",
    "        return f\"u{datetime.now():%Y}{randint(10000, 99999)}\"\n",
    "            \n",
    "    def esta_matriculado(self):\n",
    "        return self.matricula\n",
    "            \n",
    "    def __repr__(self):\n",
    "        return f\"Alumno(nombre={self.nombre}, apellido={self.apellido}, codigo={self.codigo})\"\n",
    "        "
   ]
  },
  {
   "cell_type": "code",
   "execution_count": 202,
   "id": "3ea80c3d-d496-462b-9080-922b262136ac",
   "metadata": {},
   "outputs": [
    {
     "name": "stdout",
     "output_type": "stream",
     "text": [
      "Alumno(nombre=Elvio, apellido=Lado, codigo=u202330935)\n"
     ]
    }
   ],
   "source": [
    "alumno1 = Alumno('Elvio', 'Lado')\n",
    "print(alumno1)"
   ]
  },
  {
   "cell_type": "markdown",
   "id": "b8a8805d-cc3e-487b-afe6-a8bda4d0e199",
   "metadata": {
    "user_expressions": []
   },
   "source": [
    "Un _classmethod_ es un método que esta asociado a la clase y no a los objetos. Se utiliza principalmente para generar nuevos constructores. Por ejemplo, digamos que se quiere generar alumnos a partir de cadenas de texto de la forma \"_nombre apellido codigo_\" que se extraen de un archivo. Entonces podemos definir un _classmethod_ que afecte la forma como funciona el instanciamiento del objeto en la clase:"
   ]
  },
  {
   "cell_type": "code",
   "execution_count": 203,
   "id": "55dd16bb-90e6-4fce-8abf-2ab861f1c9fb",
   "metadata": {},
   "outputs": [],
   "source": [
    "class Alumno:\n",
    "    def __init__(self, nombre='', apellido='', codigo=''):\n",
    "        self.nombre = nombre\n",
    "        self.apellido = apellido\n",
    "        self.matricula = False\n",
    "        \n",
    "        if not codigo:\n",
    "            self.codigo = Alumno.genera_codigo()\n",
    "        else:\n",
    "            self.codigo = codigo\n",
    "        \n",
    "    @staticmethod\n",
    "    def genera_codigo():\n",
    "        return f\"u{datetime.now():%Y}{randint(10000, 99999)}\"\n",
    "           \n",
    "    @classmethod\n",
    "    def from_string(cls, string):\n",
    "        nombre, apellido, codigo = string.split()\n",
    "        return cls(nombre, apellido, codigo)      # cls: Equivalente a Alumno(nombre, apellido, codigo)\n",
    "    \n",
    "    def __repr__(self):\n",
    "        return f\"Alumno(nombre={self.nombre}, apellido={self.apellido}, codigo={self.codigo})\""
   ]
  },
  {
   "cell_type": "code",
   "execution_count": 204,
   "id": "111afe97-4e5f-4b2b-861a-c0e2c02060d7",
   "metadata": {},
   "outputs": [
    {
     "name": "stdout",
     "output_type": "stream",
     "text": [
      "Alumno(nombre=Elvio, apellido=Lado, codigo=a81277222)\n"
     ]
    }
   ],
   "source": [
    "alumno_str = \"Elvio Lado a81277222\"\n",
    "alumno1 = Alumno.from_string(alumno_str)    # equivalente a: alumno1 = Alumno(\"Elvio\", \"Lado\", \"a81277222\")\n",
    "print(alumno1)"
   ]
  },
  {
   "cell_type": "markdown",
   "id": "c4161156-43c8-4120-89ba-b080e5acf47f",
   "metadata": {
    "user_expressions": []
   },
   "source": [
    "---\n",
    "### Métodos mágicos o \"dunder methods\"\n",
    "Los métodos que inician y terminan con \"__\" de denominan \"under-under\" o \"doble-under\" o \"dunder\" o simplemente métodos mágicos. Estos son la columna vertebral del Modelo de Datos de Python. El estudio de esto escapa el alcance de este curso, pero conocer la idea general de esto ayuda a entender la forma como Python funciona como lenguaje de programación.\n",
    "\n",
    "Los métodos mágicos son heredados de una *superclase* que es la clase Padre de todas las clases que se definen en Python. Muchas instrucciones y operaciones estan asociadas a estos métodos. Por ejemplo, cuando se suman dos variables tipo `int` como:\n",
    "\n",
    "    a, b = 3, 5\n",
    "    print(a + b)\n",
    "    \n",
    "Lo que realmente sucede es lo siguiente:\n",
    "\n",
    "    print(a.__add__(b))\n",
    "    \n",
    "Se esta invocando el método estático `__add__` sobre el objeto `a` con el parametro de entrada `b`. Esto es muy útil pues permite definir la operación suma en un objeto. Por ejemplo, si definimos una clase llamada Grupo:"
   ]
  },
  {
   "cell_type": "code",
   "execution_count": 205,
   "id": "032f1f4d-fe4f-4b67-ba43-c0e2dc2935b3",
   "metadata": {},
   "outputs": [],
   "source": [
    "class Grupo:\n",
    "    def __init__(self, *args):\n",
    "        self.miembros = [arg for arg in args]\n",
    "        \n",
    "    def __repr__(self):\n",
    "        str_out = \"Miembros del grupo:\\n\"\n",
    "        for idx, miembro in enumerate(self.miembros, start=1):\n",
    "            str_out += f'{idx} - {miembro}\\n'\n",
    "            \n",
    "        return str_out"
   ]
  },
  {
   "cell_type": "markdown",
   "id": "98bbf5c3-ed23-460e-af5d-9e4d4fe5849c",
   "metadata": {
    "user_expressions": []
   },
   "source": [
    "Luego, podemos modificar nuestra clase Alumnos para hacer algo bastante natural:"
   ]
  },
  {
   "cell_type": "code",
   "execution_count": 208,
   "id": "6f1dd060-f293-453e-b838-87f0ac1f257c",
   "metadata": {},
   "outputs": [],
   "source": [
    "class Alumno:\n",
    "    def __init__(self, nombre='', apellido='', codigo=''):\n",
    "        self.nombre = nombre\n",
    "        self.apellido = apellido\n",
    "        self.codigo = codigo\n",
    "\n",
    "    def __add__(self, other):\n",
    "        return Grupo(self, other)\n",
    "\n",
    "    def __repr__(self):\n",
    "        return f\"Alumno(nombre={self.nombre}, apellido={self.apellido}, codigo={self.codigo})\""
   ]
  },
  {
   "cell_type": "code",
   "execution_count": 209,
   "id": "ee44ebcf-c322-4c46-b486-3abdb2a019df",
   "metadata": {},
   "outputs": [
    {
     "name": "stdout",
     "output_type": "stream",
     "text": [
      "Miembros del grupo:\n",
      "1 - Alumno(nombre=Elvio, apellido=Lado, codigo=a81277222)\n",
      "2 - Alumno(nombre=Dina, apellido=Mita, codigo=u20181811)\n",
      "\n"
     ]
    }
   ],
   "source": [
    "alumno1 = Alumno('Elvio', 'Lado', 'a81277222')\n",
    "alumno2 = Alumno('Dina', 'Mita', 'u20181811')\n",
    "grupo = alumno1 + alumno2\n",
    "print(grupo)"
   ]
  },
  {
   "cell_type": "markdown",
   "id": "b4644d12-3e8c-4e65-baf1-dea006639d09",
   "metadata": {
    "user_expressions": []
   },
   "source": [
    "Hemos utilizado el operador `+` para sumar estudiantes y meterlos en un grupo de trabajo. Esto resulta mejor que tratar de crear un método en la clase `Grupo` que permita agregar alumnos a una clase, ¿no?. Sin embargo, que pasa si queremos sumar a tres alumnos en un grupo: "
   ]
  },
  {
   "cell_type": "code",
   "execution_count": 210,
   "id": "ebb68456-2ff9-4404-8c31-813e45e8b159",
   "metadata": {},
   "outputs": [
    {
     "ename": "TypeError",
     "evalue": "unsupported operand type(s) for +: 'Grupo' and 'Alumno'",
     "output_type": "error",
     "traceback": [
      "\u001b[1;31m---------------------------------------------------------------------------\u001b[0m",
      "\u001b[1;31mTypeError\u001b[0m                                 Traceback (most recent call last)",
      "Cell \u001b[1;32mIn[210], line 4\u001b[0m\n\u001b[0;32m      2\u001b[0m alumno2 \u001b[38;5;241m=\u001b[39m Alumno(\u001b[38;5;124m'\u001b[39m\u001b[38;5;124mDina\u001b[39m\u001b[38;5;124m'\u001b[39m, \u001b[38;5;124m'\u001b[39m\u001b[38;5;124mMita\u001b[39m\u001b[38;5;124m'\u001b[39m, \u001b[38;5;124m'\u001b[39m\u001b[38;5;124mu20181811\u001b[39m\u001b[38;5;124m'\u001b[39m)\n\u001b[0;32m      3\u001b[0m alumno3 \u001b[38;5;241m=\u001b[39m Alumno(\u001b[38;5;124m\"\u001b[39m\u001b[38;5;124mElmer\u001b[39m\u001b[38;5;124m\"\u001b[39m, \u001b[38;5;124m\"\u001b[39m\u001b[38;5;124mCurio\u001b[39m\u001b[38;5;124m\"\u001b[39m, \u001b[38;5;124m'\u001b[39m\u001b[38;5;124mu20148282\u001b[39m\u001b[38;5;124m'\u001b[39m)\n\u001b[1;32m----> 4\u001b[0m grupo \u001b[38;5;241m=\u001b[39m \u001b[43malumno1\u001b[49m\u001b[43m \u001b[49m\u001b[38;5;241;43m+\u001b[39;49m\u001b[43m \u001b[49m\u001b[43malumno2\u001b[49m\u001b[43m \u001b[49m\u001b[38;5;241;43m+\u001b[39;49m\u001b[43m \u001b[49m\u001b[43malumno3\u001b[49m\n",
      "\u001b[1;31mTypeError\u001b[0m: unsupported operand type(s) for +: 'Grupo' and 'Alumno'"
     ]
    }
   ],
   "source": [
    "alumno1 = Alumno('Elvio', 'Lado', 'a81277222')\n",
    "alumno2 = Alumno('Dina', 'Mita', 'u20181811')\n",
    "alumno3 = Alumno(\"Elmer\", \"Curio\", 'u20148282')\n",
    "grupo = alumno1 + alumno2 + alumno3"
   ]
  },
  {
   "cell_type": "markdown",
   "id": "5bb81daa-6fb3-4883-a6c3-5c1517c57784",
   "metadata": {
    "user_expressions": []
   },
   "source": [
    "Estamos sumando un objeto Grupo con un objeto Alumno, por lo que debemos definir el método `__add__` en la clase `Grupo`:"
   ]
  },
  {
   "cell_type": "code",
   "execution_count": 212,
   "id": "b2123176-8bb1-4349-91bd-ba48c0f5289d",
   "metadata": {},
   "outputs": [],
   "source": [
    "class Grupo:\n",
    "    def __init__(self, *args):\n",
    "        self.miembros = [arg for arg in args]\n",
    "        \n",
    "    def __add__(self, other):\n",
    "        if isinstance(other, Alumno):\n",
    "            return Grupo(*self.miembros, other)\n",
    "        \n",
    "    def __repr__(self):\n",
    "        str_out = \"Miembros del grupo:\\n\"\n",
    "        for idx, miembro in enumerate(self.miembros, start=1):\n",
    "            str_out += f'{idx} - {miembro}\\n'\n",
    "            \n",
    "        return str_out"
   ]
  },
  {
   "cell_type": "code",
   "execution_count": 214,
   "id": "f00aa4ff-e310-4f70-9688-ba38b328ed10",
   "metadata": {},
   "outputs": [
    {
     "name": "stdout",
     "output_type": "stream",
     "text": [
      "Miembros del grupo:\n",
      "1 - Alumno(nombre=Elvio, apellido=Lado, codigo=a81277222)\n",
      "2 - Alumno(nombre=Dina, apellido=Mita, codigo=u20181811)\n",
      "3 - Alumno(nombre=Elmer, apellido=Curio, codigo=u20148282)\n",
      "\n"
     ]
    }
   ],
   "source": [
    "alumno1 = Alumno('Elvio', 'Lado', 'a81277222')\n",
    "alumno2 = Alumno('Dina', 'Mita', 'u20181811')\n",
    "alumno3 = Alumno(\"Elmer\", \"Curio\", 'u20148282')\n",
    "grupo = alumno1 + alumno2 + alumno3\n",
    "print(grupo)"
   ]
  },
  {
   "cell_type": "markdown",
   "id": "043cab30-3b5b-4a44-b07e-a29db1a56d92",
   "metadata": {
    "user_expressions": []
   },
   "source": [
    "Pero esto puede ponerse mejor. Modifiquemos la clase `Grupo` con dos métodos mágicos adicionales:"
   ]
  },
  {
   "cell_type": "code",
   "execution_count": 215,
   "id": "572ca8bc-d1e6-4abd-bc0e-9e3aa262baad",
   "metadata": {},
   "outputs": [],
   "source": [
    "class Grupo:\n",
    "    def __init__(self, *args):\n",
    "        self.miembros = [arg for arg in args]\n",
    "        \n",
    "    def __add__(self, other):\n",
    "        if isinstance(other, Alumno):\n",
    "            return Grupo(*self.miembros, other)\n",
    "        \n",
    "    def __len__(self):\n",
    "        return len(self.miembros)\n",
    "               \n",
    "    def __getitem__(self, idx):\n",
    "        return self.miembros[idx]\n",
    "        \n",
    "    def __repr__(self):\n",
    "        str_out = \"Miembros del grupo:\\n\"\n",
    "        for idx, miembro in enumerate(self.miembros, start=1):\n",
    "            str_out += f'{idx} - {miembro}\\n'\n",
    "            \n",
    "        return str_out"
   ]
  },
  {
   "cell_type": "markdown",
   "id": "3b1fa375-c478-4100-bfd4-b7a270fb07e5",
   "metadata": {
    "user_expressions": []
   },
   "source": [
    "Parece poco pero ahora podemos hacer muchas cosas con un objeto clase `Grupo`. Primero, creemos un Grupo de cinco alumnos:"
   ]
  },
  {
   "cell_type": "code",
   "execution_count": 216,
   "id": "f8221e5d-e670-4f19-8b3f-bdde6bba03de",
   "metadata": {},
   "outputs": [
    {
     "name": "stdout",
     "output_type": "stream",
     "text": [
      "Miembros del grupo:\n",
      "1 - Alumno(nombre=Elvio, apellido=Lado, codigo=a81277222)\n",
      "2 - Alumno(nombre=Dina, apellido=Mita, codigo=u20181811)\n",
      "3 - Alumno(nombre=Elmer, apellido=Curio, codigo=u2019122)\n",
      "4 - Alumno(nombre=Alan, apellido=Brito, codigo=u20192816)\n",
      "5 - Alumno(nombre=Susana, apellido=Oria, codigo=u20162722)\n",
      "\n"
     ]
    }
   ],
   "source": [
    "alum1 = Alumno('Elvio', 'Lado', 'a81277222')\n",
    "alum2 = Alumno('Dina', 'Mita', 'u20181811')\n",
    "alum3 = Alumno('Elmer', 'Curio', 'u2019122')\n",
    "alum4 = Alumno('Alan', 'Brito', 'u20192816')\n",
    "alum5 = Alumno('Susana', 'Oria', 'u20162722')\n",
    "\n",
    "grupo = alum1 + alum2 + alum3 + alum4 + alum5\n",
    "print(grupo)"
   ]
  },
  {
   "cell_type": "markdown",
   "id": "ff6fd11d-97b3-4040-948c-90f64cca620c",
   "metadata": {
    "user_expressions": []
   },
   "source": [
    "Ahora podemos calcular cuantos miembros hay en el grupo:"
   ]
  },
  {
   "cell_type": "code",
   "execution_count": 217,
   "id": "a21597aa-daf6-41ec-b4b5-5d006d89f475",
   "metadata": {},
   "outputs": [
    {
     "name": "stdout",
     "output_type": "stream",
     "text": [
      "5\n"
     ]
    }
   ],
   "source": [
    "print(len(grupo))"
   ]
  },
  {
   "cell_type": "markdown",
   "id": "a98144a7-9c1e-4a39-9dca-9ab44ff0f946",
   "metadata": {
    "user_expressions": []
   },
   "source": [
    "Ademas, gracias al método `__getitem__` tenemos indices:"
   ]
  },
  {
   "cell_type": "code",
   "execution_count": 218,
   "id": "ca06ccf4-f222-4a16-8780-9a35509f7c98",
   "metadata": {},
   "outputs": [
    {
     "name": "stdout",
     "output_type": "stream",
     "text": [
      "Alumno(nombre=Elvio, apellido=Lado, codigo=a81277222)\n",
      "Alumno(nombre=Susana, apellido=Oria, codigo=u20162722)\n"
     ]
    }
   ],
   "source": [
    "print(grupo[0])     # grupo.__getitem__(0)\n",
    "print(grupo[-1])"
   ]
  },
  {
   "cell_type": "markdown",
   "id": "3fe31429-6095-47ef-97c5-ac2214cac19f",
   "metadata": {
    "user_expressions": []
   },
   "source": [
    "Inclusive index slicing:"
   ]
  },
  {
   "cell_type": "code",
   "execution_count": 219,
   "id": "c4b7926b-62c4-489f-a1fe-c00ac64a4545",
   "metadata": {},
   "outputs": [
    {
     "name": "stdout",
     "output_type": "stream",
     "text": [
      "[Alumno(nombre=Elvio, apellido=Lado, codigo=a81277222), Alumno(nombre=Elmer, apellido=Curio, codigo=u2019122), Alumno(nombre=Susana, apellido=Oria, codigo=u20162722)]\n"
     ]
    }
   ],
   "source": [
    "print(grupo[::2])"
   ]
  },
  {
   "cell_type": "markdown",
   "id": "34989e75-dce1-4c1a-94b2-cabf86c2512a",
   "metadata": {
    "user_expressions": []
   },
   "source": [
    "Y nuestro grupo es iterable!:"
   ]
  },
  {
   "cell_type": "code",
   "execution_count": 221,
   "id": "7ab48faa-32b6-4ded-800f-2b6bf0dd4c70",
   "metadata": {},
   "outputs": [
    {
     "name": "stdout",
     "output_type": "stream",
     "text": [
      "- Elvio\n",
      "- Dina\n",
      "- Elmer\n",
      "- Alan\n",
      "- Susana\n"
     ]
    }
   ],
   "source": [
    "for alumno in grupo:\n",
    "    print(\"-\", alumno.nombre)"
   ]
  },
  {
   "cell_type": "markdown",
   "id": "1547530e-307d-417b-a535-f5a49af72c9c",
   "metadata": {
    "user_expressions": []
   },
   "source": [
    "¿Y si queremos elegir un alumno al azar como delegado del grupo? No necesitamos definir un método en la clase `Grupo`. Podemos utilizar el método `choice` de la librería `random`:"
   ]
  },
  {
   "cell_type": "code",
   "execution_count": 222,
   "id": "4785ea8b-8d0e-4bc4-99c6-209d12d093e0",
   "metadata": {},
   "outputs": [
    {
     "name": "stdout",
     "output_type": "stream",
     "text": [
      "Delegado: Dina Mita\n"
     ]
    }
   ],
   "source": [
    "from random import choice\n",
    "\n",
    "delegado = choice(grupo)\n",
    "print(f\"Delegado: {delegado.nombre} {delegado.apellido}\")"
   ]
  },
  {
   "cell_type": "markdown",
   "id": "e64eaa4e-8cc8-4c38-a9cf-bfa685242b5c",
   "metadata": {
    "user_expressions": []
   },
   "source": [
    "¿Y si queremos la lista de los alumnos del grupo ordenados por orden alfabetico en función del nombre?..."
   ]
  },
  {
   "cell_type": "code",
   "execution_count": 223,
   "id": "b0a6ecf1-b2d4-48a8-a2a7-a6132c6389ef",
   "metadata": {},
   "outputs": [
    {
     "name": "stdout",
     "output_type": "stream",
     "text": [
      "Alumno(nombre=Alan, apellido=Brito, codigo=u20192816)\n",
      "Alumno(nombre=Dina, apellido=Mita, codigo=u20181811)\n",
      "Alumno(nombre=Elmer, apellido=Curio, codigo=u2019122)\n",
      "Alumno(nombre=Elvio, apellido=Lado, codigo=a81277222)\n",
      "Alumno(nombre=Susana, apellido=Oria, codigo=u20162722)\n"
     ]
    }
   ],
   "source": [
    "for alumno in sorted(grupo, key=lambda x: x.nombre):    # key: funcion que retorna el elemento de referencia para el ordenamiento\n",
    "    print(alumno)"
   ]
  },
  {
   "cell_type": "markdown",
   "id": "e7fe2d50-7561-45cf-93e0-988c517b4bae",
   "metadata": {},
   "source": [
    "La simple definición de los métodos `__len__` y `__getitem__` permiten que nuestra clase pueda interactuar con el Modelo de Datos de Python."
   ]
  },
  {
   "cell_type": "markdown",
   "id": "a5fc315b-4899-49b9-b056-66a0ee127006",
   "metadata": {
    "tags": [],
    "user_expressions": []
   },
   "source": [
    "---\n",
    "## Dataclasses\n",
    "El uso de las clases, muchas veces (y sobre todo en Ciencia de Datos) tiene como propósito único servir como un repositorio de datos; es decir, una clase que no tenga métodos. Esto en parte porque en Python, al ser las propiedades de una clase accesible de forma pública, no se necesitan métodos para acceder a esta información. En Python 3.7 se introdujo el concepto de _dataclasses_ que es básicamente un decorador que construye una clase a partir de una definición más simple."
   ]
  },
  {
   "cell_type": "code",
   "execution_count": 232,
   "id": "b737e827-6a02-4338-ab90-21a506f88bb2",
   "metadata": {},
   "outputs": [],
   "source": [
    "from dataclasses import dataclass\n",
    "\n",
    "@dataclass\n",
    "class Alumno:\n",
    "    nombre: str\n",
    "    apellido: str\n",
    "    codigo: str"
   ]
  },
  {
   "cell_type": "code",
   "execution_count": 233,
   "id": "bc2a5006-eb23-4690-ab12-1e8c0a492085",
   "metadata": {},
   "outputs": [
    {
     "name": "stdout",
     "output_type": "stream",
     "text": [
      "Alumno(nombre='Elvio', apellido='Lado', codigo='a89789737')\n"
     ]
    }
   ],
   "source": [
    "alumno1 = Alumno(\"Elvio\", \"Lado\", \"a89789737\")\n",
    "print(alumno1)"
   ]
  },
  {
   "cell_type": "code",
   "execution_count": 234,
   "id": "33314b2b-6f51-4770-855f-55dcb5be0e17",
   "metadata": {},
   "outputs": [
    {
     "name": "stdout",
     "output_type": "stream",
     "text": [
      "Alumno(nombre='Ernesto', apellido='Lado', codigo='a89789737')\n"
     ]
    }
   ],
   "source": [
    "alumno1.nombre = \"Ernesto\"\n",
    "print(alumno1)"
   ]
  },
  {
   "cell_type": "markdown",
   "id": "6ccbadaf-4e28-40be-93af-7e27b21eb099",
   "metadata": {
    "user_expressions": []
   },
   "source": [
    "Como se puede observar, es un objeto mutable. Por otro lado, implementa algunos métodos (como `__repr__`) en la propia definición y algunos tienen un funcionamiento orientados a los datos. Por ejemplo:"
   ]
  },
  {
   "cell_type": "code",
   "execution_count": 235,
   "id": "1813924c-fd0f-4256-af81-e3fe5aee6bb0",
   "metadata": {},
   "outputs": [
    {
     "name": "stdout",
     "output_type": "stream",
     "text": [
      "False\n"
     ]
    }
   ],
   "source": [
    "class Alumno:\n",
    "    def __init__(self, nombre, apellido):\n",
    "        self.nombre = nombre\n",
    "        self.apellido = apellido\n",
    "        \n",
    "alumno1 = Alumno(\"Elvio\", \"Lado\")\n",
    "alumno2 = Alumno(\"Elvio\", \"Lado\")\n",
    "\n",
    "print(alumno1 == alumno2)"
   ]
  },
  {
   "cell_type": "markdown",
   "id": "229221a9-0b3f-42ad-8157-5bcb9b4c93cd",
   "metadata": {
    "user_expressions": []
   },
   "source": [
    "Esta operación indica que los dos objetos son diferentes ya que el método `__eq__` (defindo como parte del modelo de datos en Python en la clase) verifica si ambos objetos estan registrados en la misma ubicación física (en memoria) y por lo tanto no son lo mismo. Se puede recargar el método `__eq__` para variar su acción. Sin embargo, la implementación del método `__eq__` es las `dataclasses` considera los datos como elemento de comparación:"
   ]
  },
  {
   "cell_type": "code",
   "execution_count": 236,
   "id": "1abab857-ae16-4c0b-9f8e-c170545f0e32",
   "metadata": {},
   "outputs": [
    {
     "name": "stdout",
     "output_type": "stream",
     "text": [
      "True\n"
     ]
    }
   ],
   "source": [
    "@dataclass\n",
    "class Alumno:\n",
    "    nombre: str\n",
    "    apellido: str\n",
    "        \n",
    "alumno1 = Alumno(\"Elvio\", \"Lado\")\n",
    "alumno2 = Alumno(\"Elvio\", \"Lado\")\n",
    "\n",
    "print(alumno1 == alumno2)"
   ]
  },
  {
   "cell_type": "markdown",
   "id": "16671314-5276-453e-a8e8-af33aecf0e45",
   "metadata": {
    "user_expressions": []
   },
   "source": [
    "Hay más elementos interesantes en un `dataclass` como para considerar la forma más eficiente de definir una clase en Python sin métodos. Por ejemplo, se puede considerar valores por defecto:"
   ]
  },
  {
   "cell_type": "code",
   "execution_count": 251,
   "id": "c8a74f88-1c82-4333-98de-880eb9db0fff",
   "metadata": {},
   "outputs": [],
   "source": [
    "from dataclasses import dataclass, field\n",
    "\n",
    "def genera_codigo():\n",
    "        return f\"u{datetime.now():%Y}{randint(10000, 99999)}\"\n",
    "\n",
    "@dataclass\n",
    "class Alumno:\n",
    "    nombre: str\n",
    "    apellido: str\n",
    "    edad: int = 18\n",
    "    codigo: str = field(default_factory=genera_codigo)\n"
   ]
  },
  {
   "cell_type": "code",
   "execution_count": 252,
   "id": "054bda5e-789e-4abe-91ce-0407d534893b",
   "metadata": {},
   "outputs": [
    {
     "name": "stdout",
     "output_type": "stream",
     "text": [
      "Alumno(nombre='Elvio', apellido='Lado', edad=18, codigo='u202351742')\n"
     ]
    }
   ],
   "source": [
    "alumno = Alumno(\"Elvio\", \"Lado\")\n",
    "print(alumno)"
   ]
  },
  {
   "cell_type": "markdown",
   "id": "0f6172aa-9817-44d9-a235-53e601b116ba",
   "metadata": {
    "user_expressions": []
   },
   "source": [
    "Inclusive, se pueden validar algunos datos con el método `__post_init__`:"
   ]
  },
  {
   "cell_type": "code",
   "execution_count": 258,
   "id": "b97fe7ef-c94d-4efb-b9a0-b6025388cf61",
   "metadata": {},
   "outputs": [],
   "source": [
    "from dataclasses import dataclass, field\n",
    "\n",
    "def genera_codigo():\n",
    "        return f\"u{datetime.now():%Y}{randint(10000, 99999)}\"\n",
    "\n",
    "@dataclass\n",
    "class Alumno:\n",
    "    nombre: str\n",
    "    apellido: str\n",
    "    edad: int = 18\n",
    "    codigo: str = field(default_factory=genera_codigo)\n",
    "    \n",
    "    def __post_init__(self):\n",
    "        if not isinstance(self.codigo, str):\n",
    "            raise TypeError(\"El código del alumno debe ser un 'str'\")\n"
   ]
  },
  {
   "cell_type": "code",
   "execution_count": 259,
   "id": "413480e7-dfa1-429c-9cd7-4b616f36f346",
   "metadata": {},
   "outputs": [
    {
     "ename": "TypeError",
     "evalue": "El código del alumno debe ser un 'str'",
     "output_type": "error",
     "traceback": [
      "\u001b[1;31m---------------------------------------------------------------------------\u001b[0m",
      "\u001b[1;31mTypeError\u001b[0m                                 Traceback (most recent call last)",
      "Cell \u001b[1;32mIn[259], line 1\u001b[0m\n\u001b[1;32m----> 1\u001b[0m alumno \u001b[38;5;241m=\u001b[39m \u001b[43mAlumno\u001b[49m\u001b[43m(\u001b[49m\u001b[38;5;124;43m\"\u001b[39;49m\u001b[38;5;124;43mElmer\u001b[39;49m\u001b[38;5;124;43m\"\u001b[39;49m\u001b[43m,\u001b[49m\u001b[43m \u001b[49m\u001b[38;5;124;43m\"\u001b[39;49m\u001b[38;5;124;43mCurio\u001b[39;49m\u001b[38;5;124;43m\"\u001b[39;49m\u001b[43m,\u001b[49m\u001b[43m \u001b[49m\u001b[38;5;241;43m20\u001b[39;49m\u001b[43m,\u001b[49m\u001b[43m \u001b[49m\u001b[38;5;241;43m87727272\u001b[39;49m\u001b[43m)\u001b[49m\n",
      "File \u001b[1;32m<string>:7\u001b[0m, in \u001b[0;36m__init__\u001b[1;34m(self, nombre, apellido, edad, codigo)\u001b[0m\n",
      "Cell \u001b[1;32mIn[258], line 15\u001b[0m, in \u001b[0;36mAlumno.__post_init__\u001b[1;34m(self)\u001b[0m\n\u001b[0;32m     13\u001b[0m \u001b[38;5;28;01mdef\u001b[39;00m \u001b[38;5;21m__post_init__\u001b[39m(\u001b[38;5;28mself\u001b[39m):\n\u001b[0;32m     14\u001b[0m     \u001b[38;5;28;01mif\u001b[39;00m \u001b[38;5;129;01mnot\u001b[39;00m \u001b[38;5;28misinstance\u001b[39m(\u001b[38;5;28mself\u001b[39m\u001b[38;5;241m.\u001b[39mcodigo, \u001b[38;5;28mstr\u001b[39m):\n\u001b[1;32m---> 15\u001b[0m         \u001b[38;5;28;01mraise\u001b[39;00m \u001b[38;5;167;01mTypeError\u001b[39;00m(\u001b[38;5;124m\"\u001b[39m\u001b[38;5;124mEl código del alumno debe ser un \u001b[39m\u001b[38;5;124m'\u001b[39m\u001b[38;5;124mstr\u001b[39m\u001b[38;5;124m'\u001b[39m\u001b[38;5;124m\"\u001b[39m)\n",
      "\u001b[1;31mTypeError\u001b[0m: El código del alumno debe ser un 'str'"
     ]
    }
   ],
   "source": [
    "alumno = Alumno(\"Elmer\", \"Curio\", 20, 87727272)"
   ]
  },
  {
   "cell_type": "markdown",
   "id": "9c7dfb9e-70d6-4af1-9334-e94611cdf287",
   "metadata": {
    "user_expressions": []
   },
   "source": [
    "Los _dataclasses_ implementan los métodos `__init__`, `__repr__` y `__eq__`. Sin embargo, tambien soportan los métodos mágicos `__lt_`_, `__le__`, `__gt__` y `__ge__`, solo que no por defecto. Para esto se debe de especificar la propiedad `order`:"
   ]
  },
  {
   "cell_type": "code",
   "execution_count": 282,
   "id": "ba421eb3-af19-4fd6-a2d7-880944662d90",
   "metadata": {},
   "outputs": [],
   "source": [
    "from dataclasses import dataclass, field\n",
    "\n",
    "def genera_codigo():\n",
    "        return f\"u{datetime.now():%Y}{randint(10000, 99999)}\"\n",
    "\n",
    "@dataclass(order=True)\n",
    "class Alumno:\n",
    "    nombre: str\n",
    "    apellido: str\n",
    "    edad: int = 18\n",
    "    codigo: str = field(default_factory=genera_codigo)\n",
    "    \n",
    "    def __post_init__(self):\n",
    "        if not isinstance(self.codigo, str):\n",
    "            raise TypeError(\"El código del alumno debe ser un 'str'\")\n"
   ]
  },
  {
   "cell_type": "code",
   "execution_count": 285,
   "id": "783cd414-7887-4418-ada0-c6bfea9c2a7e",
   "metadata": {},
   "outputs": [
    {
     "data": {
      "text/plain": [
       "True"
      ]
     },
     "execution_count": 285,
     "metadata": {},
     "output_type": "execute_result"
    }
   ],
   "source": [
    "alumno1 = Alumno(\"Elmer\", \"Curio\", 18)\n",
    "alumno2 = Alumno(\"Dina\", \"Mita\", 20)\n",
    "alumno1 > alumno2"
   ]
  },
  {
   "cell_type": "markdown",
   "id": "f801390c-c311-46b1-8238-2bead6a2e53b",
   "metadata": {
    "user_expressions": []
   },
   "source": [
    "Al habilitar la opción `order=True` como parametro del decorador `@dataclass` se habilitan las métodos anteriores. El criterio de ordenamiento estará en función de las propiedades del objeto. En este caso la \"E\" de \"Elmer\" esta despues que la \"D\" de \"Dina\" en el alfabeto y por lo tanto es mayor. Sin embargo, se puede cambiar el criterio de ordenamiento la propiedad `sort_index`, indicando que no es parte del instanciamiento (`init=False`) y que no se mostrará al momento de imprimir el objeto (`repr=False`):"
   ]
  },
  {
   "cell_type": "code",
   "execution_count": 286,
   "id": "ff568eb7-a939-49cf-8054-e96725f3e49c",
   "metadata": {},
   "outputs": [],
   "source": [
    "from dataclasses import dataclass, field\n",
    "\n",
    "def genera_codigo():\n",
    "        return f\"u{datetime.now():%Y}{randint(10000, 99999)}\"\n",
    "\n",
    "@dataclass(order=True)\n",
    "class Alumno:\n",
    "    sort_index : int = field(init=False, repr=False)\n",
    "    nombre: str\n",
    "    apellido: str\n",
    "    edad: int = 18\n",
    "    codigo: str = field(default_factory=genera_codigo)\n",
    "    \n",
    "    def __post_init__(self):\n",
    "        if not isinstance(self.codigo, str):\n",
    "            raise TypeError(\"El código del alumno debe ser un 'str'\")\n",
    "            \n",
    "        self.sort_index = self.edad\n"
   ]
  },
  {
   "cell_type": "code",
   "execution_count": 287,
   "id": "8c656645-9696-4263-b115-bd8249b8e882",
   "metadata": {},
   "outputs": [
    {
     "data": {
      "text/plain": [
       "False"
      ]
     },
     "execution_count": 287,
     "metadata": {},
     "output_type": "execute_result"
    }
   ],
   "source": [
    "alumno1 = Alumno(\"Elmer\", \"Curio\", 18)\n",
    "alumno2 = Alumno(\"Dina\", \"Mita\", 20)\n",
    "alumno1 > alumno2"
   ]
  },
  {
   "cell_type": "markdown",
   "id": "3245c06a-8589-4e39-87d6-b77ee5d16252",
   "metadata": {
    "user_expressions": []
   },
   "source": [
    "Ahora, se esta evaluando si \"Elmer\" es mayor que \"Dina\" y esta vez la respuesta es Falsa.\n",
    "\n",
    "Otro parametro interesante es `kw_only=True` que define que los atributos en el instanciamiento no utilizaran la definición posicional sino solamente el uso de los nombres de los parametros (keywords):"
   ]
  },
  {
   "cell_type": "code",
   "execution_count": 288,
   "id": "84c3d1fc-72e9-4603-a945-7dc7fcf84464",
   "metadata": {},
   "outputs": [],
   "source": [
    "from dataclasses import dataclass, field\n",
    "\n",
    "def genera_codigo():\n",
    "        return f\"u{datetime.now():%Y}{randint(10000, 99999)}\"\n",
    "\n",
    "@dataclass(order=True, kw_only=True)\n",
    "class Alumno:\n",
    "    sort_index : int = field(init=False, repr=False)\n",
    "    nombre: str\n",
    "    apellido: str\n",
    "    edad: int = 18\n",
    "    codigo: str = field(default_factory=genera_codigo)\n",
    "    \n",
    "    def __post_init__(self):\n",
    "        if not isinstance(self.codigo, str):\n",
    "            raise TypeError(\"El código del alumno debe ser un 'str'\")\n",
    "            \n",
    "        self.sort_index = self.edad"
   ]
  },
  {
   "cell_type": "code",
   "execution_count": 291,
   "id": "a2878e00-4872-44cc-812a-fd01170aa132",
   "metadata": {},
   "outputs": [
    {
     "ename": "TypeError",
     "evalue": "Alumno.__init__() takes 1 positional argument but 3 were given",
     "output_type": "error",
     "traceback": [
      "\u001b[1;31m---------------------------------------------------------------------------\u001b[0m",
      "\u001b[1;31mTypeError\u001b[0m                                 Traceback (most recent call last)",
      "Cell \u001b[1;32mIn[291], line 1\u001b[0m\n\u001b[1;32m----> 1\u001b[0m alumno1 \u001b[38;5;241m=\u001b[39m \u001b[43mAlumno\u001b[49m\u001b[43m(\u001b[49m\u001b[38;5;124;43m\"\u001b[39;49m\u001b[38;5;124;43mElmer\u001b[39;49m\u001b[38;5;124;43m\"\u001b[39;49m\u001b[43m,\u001b[49m\u001b[43m \u001b[49m\u001b[38;5;124;43m\"\u001b[39;49m\u001b[38;5;124;43mCurio\u001b[39;49m\u001b[38;5;124;43m\"\u001b[39;49m\u001b[43m)\u001b[49m\n",
      "\u001b[1;31mTypeError\u001b[0m: Alumno.__init__() takes 1 positional argument but 3 were given"
     ]
    }
   ],
   "source": [
    "alumno1 = Alumno(\"Elmer\", \"Curio\")"
   ]
  },
  {
   "cell_type": "code",
   "execution_count": 292,
   "id": "a5df862b-6aad-42db-96ff-b4bf9ae7c2cf",
   "metadata": {},
   "outputs": [],
   "source": [
    "alumno1 = Alumno(nombre=\"Elmer\", apellido=\"Curio\")"
   ]
  },
  {
   "cell_type": "markdown",
   "id": "45d68cdb-91bf-463a-a2a8-4e4d63b6c401",
   "metadata": {
    "user_expressions": []
   },
   "source": [
    "Por último, los _dataclasses_ también soportan herencia:"
   ]
  },
  {
   "cell_type": "code",
   "execution_count": 293,
   "id": "ad546028-7849-4c45-aa06-c88872a9dc3a",
   "metadata": {},
   "outputs": [],
   "source": [
    "@dataclass\n",
    "class Delegado(Alumno):\n",
    "    curso: str\n"
   ]
  },
  {
   "cell_type": "code",
   "execution_count": 296,
   "id": "309cc32f-04ab-44d9-bd07-18e930d70384",
   "metadata": {},
   "outputs": [
    {
     "name": "stdout",
     "output_type": "stream",
     "text": [
      "Delegado(nombre='Elvio', apellido='Lado', edad=18, codigo='u202312368', curso='Python')\n"
     ]
    }
   ],
   "source": [
    "delegado = Delegado(nombre=\"Elvio\", apellido=\"Lado\", curso=\"Python\")\n",
    "print(delegado)"
   ]
  },
  {
   "cell_type": "markdown",
   "id": "cdfbe94a-46ce-4358-ab3f-050d311909cf",
   "metadata": {
    "user_expressions": []
   },
   "source": [
    "## Bonus Track:\n",
    "## Pydantic: dataclasses con validación\n",
    "En el uso de dataclasses se considera que se cuenta con un ambiente controlado, es decir en donde las propiedades de una clase tienen los tipos de datos correctos. El uso de anotaciones de tipos sirve para para eso, solo anotación de tipos, y aunque se pueden validar los datos utilizando alguna construcción en el método `__post_int__`, la validación de datos no es una funcionalidad automática.\n",
    "\n",
    "Aqui es donde esta _pydantic_. Esta es una librería que permirte construír clases heredadas de un objeto `BaseModel` que tiene todas las funcionalidades de los _dataclasses_ pero que agrega validación de datos (ademas de serializacion en JSON para la integración con otras apliacionaciones). Si existe la necesidad de validar los datos, entonces se recomienda el uso de `pydantic` (esto porque al validar los tipos de las propiedades de una clase en instanciamiento de objetos es un proceso mucho más lento).\n",
    "\n",
    "Volvamos a definir la clase `Alumno` con los mismos criterios pero con `pydantic`:"
   ]
  },
  {
   "cell_type": "code",
   "execution_count": 331,
   "id": "c898225d-cad1-49de-8c05-ae886ecf9cbf",
   "metadata": {},
   "outputs": [],
   "source": [
    "from pydantic import BaseModel\n",
    "\n",
    "class Alumno(BaseModel):\n",
    "    nombre: str\n",
    "    apellido: str\n",
    "    edad: int = 18\n",
    "    codigo: str = field(default_factory=genera_codigo)\n",
    "    \n",
    "    def __post_init__(self):\n",
    "        if not isinstance(self.codigo, str):\n",
    "            raise TypeError(\"El código del alumno debe ser un 'str'\")"
   ]
  },
  {
   "cell_type": "code",
   "execution_count": 332,
   "id": "e3060856-9714-44c5-9640-ff319422244b",
   "metadata": {},
   "outputs": [
    {
     "data": {
      "text/plain": [
       "Alumno(nombre='Elvio', apellido='Lado', edad=18, codigo='u202318547')"
      ]
     },
     "execution_count": 332,
     "metadata": {},
     "output_type": "execute_result"
    }
   ],
   "source": [
    "Alumno(nombre=\"Elvio\", apellido=\"Lado\")"
   ]
  },
  {
   "cell_type": "markdown",
   "id": "6a7c7b81-c8c6-4af0-8b90-60c87eeaba5e",
   "metadata": {
    "user_expressions": []
   },
   "source": [
    "Si intenta instanciar el objeto sin utilizar _keywords_ retornará una excepción (como en el caso de `kw_only=True` en los _dataclasses). Si ingresa una edad con un tipo de dato incorrecto también lanzará una excepción:"
   ]
  },
  {
   "cell_type": "code",
   "execution_count": 315,
   "id": "cd7f81ff-b6a4-4fea-895d-eeac1fe2225a",
   "metadata": {},
   "outputs": [
    {
     "ename": "ValidationError",
     "evalue": "1 validation error for Alumno\nedad\n  Input should be a valid integer, unable to parse string as an integer [type=int_parsing, input_value='dieciocho', input_type=str]\n    For further information visit https://errors.pydantic.dev/2.4/v/int_parsing",
     "output_type": "error",
     "traceback": [
      "\u001b[1;31m---------------------------------------------------------------------------\u001b[0m",
      "\u001b[1;31mValidationError\u001b[0m                           Traceback (most recent call last)",
      "Cell \u001b[1;32mIn[315], line 1\u001b[0m\n\u001b[1;32m----> 1\u001b[0m alumno1 \u001b[38;5;241m=\u001b[39m \u001b[43mAlumno\u001b[49m\u001b[43m(\u001b[49m\u001b[43mnombre\u001b[49m\u001b[38;5;241;43m=\u001b[39;49m\u001b[38;5;124;43m\"\u001b[39;49m\u001b[38;5;124;43mElvio\u001b[39;49m\u001b[38;5;124;43m\"\u001b[39;49m\u001b[43m,\u001b[49m\u001b[43m \u001b[49m\u001b[43mapellido\u001b[49m\u001b[38;5;241;43m=\u001b[39;49m\u001b[38;5;124;43m\"\u001b[39;49m\u001b[38;5;124;43mLado\u001b[39;49m\u001b[38;5;124;43m\"\u001b[39;49m\u001b[43m,\u001b[49m\u001b[43m \u001b[49m\u001b[43medad\u001b[49m\u001b[38;5;241;43m=\u001b[39;49m\u001b[38;5;124;43m'\u001b[39;49m\u001b[38;5;124;43mdieciocho\u001b[39;49m\u001b[38;5;124;43m'\u001b[39;49m\u001b[43m)\u001b[49m\n\u001b[0;32m      2\u001b[0m \u001b[38;5;28mprint\u001b[39m(alumno1)\n",
      "File \u001b[1;32m~\\anaconda3\\lib\\site-packages\\pydantic\\main.py:164\u001b[0m, in \u001b[0;36mBaseModel.__init__\u001b[1;34m(__pydantic_self__, **data)\u001b[0m\n\u001b[0;32m    162\u001b[0m \u001b[38;5;66;03m# `__tracebackhide__` tells pytest and some other tools to omit this function from tracebacks\u001b[39;00m\n\u001b[0;32m    163\u001b[0m __tracebackhide__ \u001b[38;5;241m=\u001b[39m \u001b[38;5;28;01mTrue\u001b[39;00m\n\u001b[1;32m--> 164\u001b[0m \u001b[43m__pydantic_self__\u001b[49m\u001b[38;5;241;43m.\u001b[39;49m\u001b[43m__pydantic_validator__\u001b[49m\u001b[38;5;241;43m.\u001b[39;49m\u001b[43mvalidate_python\u001b[49m\u001b[43m(\u001b[49m\u001b[43mdata\u001b[49m\u001b[43m,\u001b[49m\u001b[43m \u001b[49m\u001b[43mself_instance\u001b[49m\u001b[38;5;241;43m=\u001b[39;49m\u001b[43m__pydantic_self__\u001b[49m\u001b[43m)\u001b[49m\n",
      "\u001b[1;31mValidationError\u001b[0m: 1 validation error for Alumno\nedad\n  Input should be a valid integer, unable to parse string as an integer [type=int_parsing, input_value='dieciocho', input_type=str]\n    For further information visit https://errors.pydantic.dev/2.4/v/int_parsing"
     ]
    }
   ],
   "source": [
    "alumno1 = Alumno(nombre=\"Elvio\", apellido=\"Lado\", edad='dieciocho')\n",
    "print(alumno1)"
   ]
  },
  {
   "cell_type": "markdown",
   "id": "ce505fc9-4182-462c-bce5-b12b557fc7ef",
   "metadata": {
    "user_expressions": []
   },
   "source": [
    "Aunque `pydantic` intenta ajustar el dato (en este caso, intenta converír el dato de edad en un campo tipo `int`) lo que puede ser conveniente:"
   ]
  },
  {
   "cell_type": "code",
   "execution_count": 333,
   "id": "9ea18e73-aa52-4593-a9f5-18eb3d1f4b96",
   "metadata": {},
   "outputs": [
    {
     "data": {
      "text/plain": [
       "Alumno(nombre='Elvio', apellido='Lado', edad=18, codigo='u202333565')"
      ]
     },
     "execution_count": 333,
     "metadata": {},
     "output_type": "execute_result"
    }
   ],
   "source": [
    "Alumno(nombre=\"Elvio\", apellido=\"Lado\", edad='18')"
   ]
  },
  {
   "cell_type": "markdown",
   "id": "01dbc5bb-31fa-4e0e-be79-2c9bb2b6d31b",
   "metadata": {
    "user_expressions": []
   },
   "source": [
    "Las validaciones pueden ser más específicas utilizando clases de validación definidas en la librería:"
   ]
  },
  {
   "cell_type": "code",
   "execution_count": 336,
   "id": "4e4d67ca-03bd-4f6f-95c3-6b4ccc372419",
   "metadata": {},
   "outputs": [],
   "source": [
    "# Instalar el paquete de validación para emails: \"pip install pydantic[email]\"\n",
    "from pydantic import BaseModel, EmailStr\n",
    "\n",
    "class Alumno(BaseModel):\n",
    "    nombre: str\n",
    "    apellido: str\n",
    "    edad: int = 18\n",
    "    codigo: str = field(default_factory=genera_codigo)\n",
    "    email: EmailStr\n",
    "    \n",
    "    def __post_init__(self):\n",
    "        if not isinstance(self.codigo, str):\n",
    "            raise TypeError(\"El código del alumno debe ser un 'str'\")"
   ]
  },
  {
   "cell_type": "code",
   "execution_count": 337,
   "id": "a31b1b11-38a3-451a-9faf-9409ec49f32c",
   "metadata": {},
   "outputs": [
    {
     "data": {
      "text/plain": [
       "Alumno(nombre='Elvio', apellido='Lado', edad=18, codigo='u202393512', email='elado@mail.com.pe')"
      ]
     },
     "execution_count": 337,
     "metadata": {},
     "output_type": "execute_result"
    }
   ],
   "source": [
    "Alumno(nombre=\"Elvio\", apellido=\"Lado\", edad=18, email='elado@mail.com.pe')"
   ]
  },
  {
   "cell_type": "markdown",
   "id": "3c49b245-6ce6-4262-ac06-8473e5a11c85",
   "metadata": {
    "user_expressions": []
   },
   "source": [
    "Se pueden insertar validaciones personalizadas con la función `field_validator` como decorador de la función de validación, por ejemplo, para controlar que la edad no sea negativa:"
   ]
  },
  {
   "cell_type": "code",
   "execution_count": 338,
   "id": "6955d7b0-c24b-483f-82fe-d74958c59b0d",
   "metadata": {},
   "outputs": [],
   "source": [
    "from pydantic import BaseModel, EmailStr, field_validator, Str\n",
    "\n",
    "class Alumno(BaseModel):\n",
    "    nombre: str\n",
    "    apellido: str\n",
    "    edad: int = 18\n",
    "    codigo: str = field(default_factory=genera_codigo)\n",
    "    email: EmailStr\n",
    "    \n",
    "    def __post_init__(self):\n",
    "        if not isinstance(self.codigo, str):\n",
    "            raise TypeError(\"El código del alumno debe ser un 'str'\")\n",
    "            \n",
    "    @field_validator('edad')\n",
    "    def validar_edad(cls, value):\n",
    "        if value <= 0:\n",
    "            raise ValueError(\"El campo 'edad' debe ser un 'str' mayor que 0\")\n",
    "        return value"
   ]
  },
  {
   "cell_type": "code",
   "execution_count": 341,
   "id": "18f01792-2d9f-417e-a177-cb6e05a53fde",
   "metadata": {},
   "outputs": [
    {
     "data": {
      "text/plain": [
       "Alumno(nombre='Elvio', apellido='Lado', edad=18, codigo='u202363151', email='elado@mail.com.pe')"
      ]
     },
     "execution_count": 341,
     "metadata": {},
     "output_type": "execute_result"
    }
   ],
   "source": [
    "Alumno(nombre=\"Elvio\", apellido=\"Lado\", edad=18, email='elado@mail.com.pe')"
   ]
  },
  {
   "cell_type": "markdown",
   "id": "80449809-f7a5-4804-bc7c-8dbfebb3d014",
   "metadata": {
    "user_expressions": []
   },
   "source": [
    "Una de las razones por las que `pydantic` es muy utilizado en algunas librerías externas para el intercambio de información, es funcionalidad de serialización a JSON (o inclusive a un diccionario). Esto significa que puede convertir una clase a un objeto JSON para poder intercambiar información entre sistemas."
   ]
  },
  {
   "cell_type": "code",
   "execution_count": 350,
   "id": "2c673fc0-86a0-470d-addf-1ebc3902716f",
   "metadata": {},
   "outputs": [
    {
     "data": {
      "text/plain": [
       "'{\"nombre\":\"Elvio\",\"apellido\":\"Lado\",\"edad\":18,\"codigo\":\"u202370890\",\"email\":\"elado@mail.com.pe\"}'"
      ]
     },
     "execution_count": 350,
     "metadata": {},
     "output_type": "execute_result"
    }
   ],
   "source": [
    "alumno1 = Alumno(nombre=\"Elvio\", apellido=\"Lado\", edad=18, email='elado@mail.com.pe')\n",
    "alumno1.model_dump_json()    # JSON Object"
   ]
  },
  {
   "cell_type": "code",
   "execution_count": 351,
   "id": "8f3e5423-97af-4262-94eb-6b5edeea8182",
   "metadata": {},
   "outputs": [
    {
     "data": {
      "text/plain": [
       "{'nombre': 'Elvio',\n",
       " 'apellido': 'Lado',\n",
       " 'edad': 18,\n",
       " 'codigo': 'u202370890',\n",
       " 'email': 'elado@mail.com.pe'}"
      ]
     },
     "execution_count": 351,
     "metadata": {},
     "output_type": "execute_result"
    }
   ],
   "source": [
    "alumno1.model_dump()     # Dict object"
   ]
  },
  {
   "cell_type": "markdown",
   "id": "85412582-720d-4775-addb-b0ea895c4a8b",
   "metadata": {
    "user_expressions": []
   },
   "source": [
    "Se puede realizar el proceso inverso: a partir de un objeto JSON construír una clase o a partir de un diccionario:"
   ]
  },
  {
   "cell_type": "code",
   "execution_count": 358,
   "id": "5835257a-9e34-439e-bef3-1fe5a88d2073",
   "metadata": {},
   "outputs": [
    {
     "data": {
      "text/plain": [
       "Alumno(nombre='Elvio', apellido='Lado', edad=18, codigo='u202370890', email='elado@mail.com.pe')"
      ]
     },
     "execution_count": 358,
     "metadata": {},
     "output_type": "execute_result"
    }
   ],
   "source": [
    "json_str = '{\"nombre\":\"Elvio\",\"apellido\":\"Lado\",\"edad\":18,\"codigo\":\"u202370890\",\"email\":\"elado@mail.com.pe\"}'\n",
    "\n",
    "Alumno.model_validate_json(json_str)     # A partir de un JSON Object"
   ]
  },
  {
   "cell_type": "code",
   "execution_count": 356,
   "id": "4984239c-934d-4fde-a018-ffa18a7d3856",
   "metadata": {},
   "outputs": [
    {
     "data": {
      "text/plain": [
       "Alumno(nombre='Elvio', apellido='Lado', edad=18, codigo='u202370890', email='elado@mail.com.pe')"
      ]
     },
     "execution_count": 356,
     "metadata": {},
     "output_type": "execute_result"
    }
   ],
   "source": [
    "data = {'nombre': 'Elvio',\n",
    "         'apellido': 'Lado',\n",
    "         'edad': 18,\n",
    "         'codigo': 'u202370890',\n",
    "         'email': 'elado@mail.com.pe'}\n",
    "\n",
    "Alumno.model_validate(data)           # A partir de un diccionario"
   ]
  },
  {
   "cell_type": "markdown",
   "id": "6d59fa5e-0213-4296-b56c-0cfcc0a0b7de",
   "metadata": {
    "user_expressions": []
   },
   "source": [
    "El número de tipos de datos que se pueden incluir es las validaciones de forma nativa es bastante amplio (https://docs.pydantic.dev/latest/api/types/). Por ejemplo, en el ejemplo de validación de edad positiva, se pudo utilizar la clase validadora de tipos `PositiveInt`. Tambíén hay validadores de rutas (`FilePath`, `DirectoryPath`). Solo consulte la documentación para ajustar el diseño de su clase a los tipos correctos."
   ]
  }
 ],
 "metadata": {
  "kernelspec": {
   "display_name": "Python 3 (ipykernel)",
   "language": "python",
   "name": "python3"
  },
  "language_info": {
   "codemirror_mode": {
    "name": "ipython",
    "version": 3
   },
   "file_extension": ".py",
   "mimetype": "text/x-python",
   "name": "python",
   "nbconvert_exporter": "python",
   "pygments_lexer": "ipython3",
   "version": "3.11.7"
  }
 },
 "nbformat": 4,
 "nbformat_minor": 5
}
