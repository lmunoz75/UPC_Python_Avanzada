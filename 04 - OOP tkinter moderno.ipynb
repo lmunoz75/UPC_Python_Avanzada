{
 "cells": [
  {
   "cell_type": "markdown",
   "id": "a7c740af-61f7-4df9-9468-09238af59273",
   "metadata": {},
   "source": [
    "# tkinter: Paquete ttk y Aplicaciones Modernas\n",
    "\n",
    "![](https://labdeck.com/wp-content/uploads/2023/01/dark-mode-modern-log-in-gui.png)\n",
    "\n",
    "<div style=\"text-align: right\"> Luis A. Muñoz (2024)</div>\n",
    "\n",
    "---"
   ]
  },
  {
   "cell_type": "markdown",
   "id": "3634467b-cd35-49e7-b3ce-9b997281454e",
   "metadata": {
    "user_expressions": []
   },
   "source": [
    "## Widgets ttk\n",
    "El paquete `ttk` de tkinter presenta widgets mejorados y nuevos que permiten crear interfaces más modernas, ajustadas al sistema operativo. En términos generales, tienen una mejor presentación."
   ]
  },
  {
   "cell_type": "code",
   "execution_count": 2,
   "id": "5968114c-529f-49a0-a416-cbb510e164c2",
   "metadata": {},
   "outputs": [],
   "source": [
    "import tkinter as tk\n",
    "from tkinter import ttk"
   ]
  },
  {
   "cell_type": "code",
   "execution_count": 2,
   "id": "c80960c5-8723-4b48-b23c-5df42456e883",
   "metadata": {},
   "outputs": [],
   "source": [
    "class App(tk.Tk):\n",
    "    def __init__(self):\n",
    "        super().__init__()\n",
    "\n",
    "        # Las clases contenedoras de valores no tienen contraparte en ttk\n",
    "        var_entry = tk.StringVar()\n",
    "        var_radio = tk.IntVar()\n",
    "        var_check = tk.BooleanVar()\n",
    "        \n",
    "        frm = ttk.Frame(self)\n",
    "        frm.pack(padx=10, pady=10)\n",
    "        \n",
    "        frm1 = ttk.LabelFrame(frm, text=\"  Frame tk  \")\n",
    "        frm2 = ttk.LabelFrame(frm, text=\"  Frame ttk  \")\n",
    "        frm1.pack(side='left', padx=10, pady=10)\n",
    "        frm2.pack(side='left', padx=10, pady=10)\n",
    "        \n",
    "        # ---------------------- frm1 -----------------------\n",
    "        tk.Label(frm1, text=\"Campo:\").grid(row=0, column=0, padx=5, pady=5, sticky='w')\n",
    "        tk.Entry(frm1, textvariable=var_entry).grid(row=1, column=0, padx=5, pady=5, sticky='w')\n",
    "        tk.Button(frm1, text=\"Aceptar\").grid(row=2, column=0, padx=5, pady=5, sticky='w')\n",
    "        tk.Radiobutton(frm1, text=\"Opcion1\", variable=var_radio, value=0).grid(row=3, column=0, padx=5, pady=5, sticky='w')\n",
    "        tk.Radiobutton(frm1, text=\"Opcion2\", variable=var_radio, value=1).grid(row=4, column=0, padx=5, pady=5, sticky='w')\n",
    "        tk.Checkbutton(frm1, text=\"Check\", variable=var_check).grid(row=5, column=0, padx=5, pady=5, sticky='w')\n",
    "        tk.Spinbox(frm1, from_=0, to=10).grid(row=6, column=0, padx=5, pady=5, sticky='w')\n",
    "        \n",
    "        # ---------------------- frm2 -----------------------\n",
    "        ttk.Label(frm2, text=\"Campo:\").grid(row=0, column=0, padx=5, pady=5, sticky='w')\n",
    "        ttk.Entry(frm2, textvariable=var_entry).grid(row=1, column=0, padx=5, pady=5, sticky='w')\n",
    "        ttk.Button(frm2, text=\"Aceptar\").grid(row=2, column=0, padx=5, pady=5, sticky='w')\n",
    "        ttk.Radiobutton(frm2, text=\"Opcion1\", variable=var_radio, value=0).grid(row=3, column=0, padx=5, pady=5, sticky='w')\n",
    "        ttk.Radiobutton(frm2, text=\"Opcion2\", variable=var_radio, value=1).grid(row=4, column=0, padx=5, pady=5, sticky='w')\n",
    "        ttk.Checkbutton(frm2, text=\"Check\", variable=var_check).grid(row=5, column=0, padx=5, pady=5, sticky='w')\n",
    "        ttk.Spinbox(frm2, from_=0, to=10).grid(row=6, column=0, padx=5, pady=5, sticky='w')\n",
    "    \n",
    "        \n",
    "App().mainloop()"
   ]
  },
  {
   "cell_type": "markdown",
   "id": "b09d680c-0e0a-46f6-aed6-53a5ae5013ae",
   "metadata": {
    "user_expressions": []
   },
   "source": [
    "Adicionalmente, presenta widgets que no están disponibles en `tk`. Se muestran algunos a continuación:\n",
    "\n",
    "### ttk.Scale"
   ]
  },
  {
   "cell_type": "code",
   "execution_count": 6,
   "id": "0011d93c-44fe-44ff-a7ea-34bbcb9820d4",
   "metadata": {},
   "outputs": [],
   "source": [
    "class App(tk.Tk):\n",
    "    def __init__(self):\n",
    "        super().__init__()\n",
    "        \n",
    "        self.var_scale = tk.DoubleVar()\n",
    "            \n",
    "        frm = ttk.Frame(self)\n",
    "        frm.pack(padx=10, pady=10)\n",
    "        \n",
    "        self.sclVal = ttk.Scale(frm, from_=0, to=10, variable=self.var_scale, command=self.update_label)\n",
    "        self.lblVal = ttk.Label(frm, text=f\"{self.var_scale.get():2}\")\n",
    "        \n",
    "        self.sclVal.grid(row=0, column=0, padx=5, pady=5)\n",
    "        self.lblVal.grid(row=0, column=1, padx=5, pady=5)\n",
    "        \n",
    "    def update_label(self, value):\n",
    "        self.lblVal.configure(text=f\"{self.var_scale.get():.2f}\")\n",
    "        \n",
    "\n",
    "App().mainloop()"
   ]
  },
  {
   "cell_type": "markdown",
   "id": "7bdbd0bc-6ebf-4bc7-b0b0-7ae9abeb003c",
   "metadata": {
    "user_expressions": []
   },
   "source": [
    "### ttk.Combobox"
   ]
  },
  {
   "cell_type": "code",
   "execution_count": 7,
   "id": "eb7b8b61-d5b9-452a-9dad-ba58d4c3a142",
   "metadata": {},
   "outputs": [
    {
     "name": "stdout",
     "output_type": "stream",
     "text": [
      "Opcion 2\n"
     ]
    }
   ],
   "source": [
    "class App(tk.Tk):\n",
    "    def __init__(self):\n",
    "        super().__init__()\n",
    "        \n",
    "        self.var_scale = tk.IntVar()\n",
    "            \n",
    "        frm = ttk.Frame(self)\n",
    "        frm.pack(padx=10, pady=10)\n",
    "        \n",
    "        self.cbo = ttk.Combobox(frm, state='readonly', values=['Opcion 1', 'Opcion 2', 'Opcion 3'])\n",
    "        self.cbo.grid(row=0, column=0, padx=5, pady=5)\n",
    "        self.cbo.bind(\"<<ComboboxSelected>>\", self.print_selected)\n",
    "        \n",
    "        \n",
    "    def print_selected(self, event):\n",
    "        print(self.cbo.get())\n",
    "        \n",
    "\n",
    "App().mainloop()"
   ]
  },
  {
   "cell_type": "markdown",
   "id": "23db5b8e-30f3-4844-8edd-ed02947ba6ac",
   "metadata": {
    "user_expressions": []
   },
   "source": [
    "### ttk.Progressbar"
   ]
  },
  {
   "cell_type": "code",
   "execution_count": 9,
   "id": "93ef5da8-a63f-46e7-9798-41fc3cee67d2",
   "metadata": {},
   "outputs": [],
   "source": [
    "class App(tk.Tk):\n",
    "    def __init__(self):\n",
    "        super().__init__()\n",
    "\n",
    "        self.pct = 0\n",
    "        \n",
    "        frm = ttk.Frame(self)\n",
    "        frm.pack(padx=10, pady=10)\n",
    "        \n",
    "        self.lbl = tk.Label(frm, text=f\"Loading, please wait... [{self.pct}%]\")\n",
    "        self.prg = ttk.Progressbar(frm, length=160)\n",
    "        \n",
    "        self.lbl.grid(row=0, column=0, padx=5, pady=5)\n",
    "        self.prg.grid(row=1, column=0, padx=5, pady=5)\n",
    "        \n",
    "        self.update_progrees_bar()\n",
    "        \n",
    "        \n",
    "    def update_progrees_bar(self):\n",
    "        self.lbl.configure(text=f\"Loading, please wait [{self.pct}%]\")\n",
    "        self.prg.configure(value=self.pct)\n",
    "        self.pct += 1\n",
    "        \n",
    "        if self.pct <= 100:\n",
    "            self.after(50, self.update_progrees_bar)\n",
    "\n",
    "App().mainloop()"
   ]
  },
  {
   "cell_type": "code",
   "execution_count": 10,
   "id": "6008a96d-da95-426a-82a1-92f6bb2d24fa",
   "metadata": {},
   "outputs": [],
   "source": [
    "class App(tk.Tk):\n",
    "    def __init__(self):\n",
    "        super().__init__()\n",
    "\n",
    "        self.pct = 0\n",
    "        \n",
    "        frm = ttk.Frame(self)\n",
    "        frm.pack(padx=10, pady=10)\n",
    "        \n",
    "        self.lbl = tk.Label(frm, text=f\"Loading, please wait...\")\n",
    "        self.prg = ttk.Progressbar(frm, length=160, mode='indeterminate')\n",
    "        \n",
    "        self.lbl.grid(row=0, column=0, padx=5, pady=5)\n",
    "        self.prg.grid(row=1, column=0, padx=5, pady=5)\n",
    "        \n",
    "        self.prg.start()\n",
    "        self.update_progrees_bar()\n",
    "        \n",
    "        \n",
    "    def update_progrees_bar(self):\n",
    "        self.pct += 1\n",
    "        \n",
    "        self.prg.step(3)\n",
    "        \n",
    "        if self.pct <= 100:\n",
    "            self.after(50, self.update_progrees_bar)\n",
    "        else:\n",
    "            self.prg.stop()\n",
    "            self.lbl.configure(text=\"Done!\")\n",
    "            \n",
    "\n",
    "App().mainloop()"
   ]
  },
  {
   "cell_type": "markdown",
   "id": "0bb72f9d-de78-4012-a460-8054df037fbc",
   "metadata": {
    "user_expressions": []
   },
   "source": [
    "### ttk.Treeview\n",
    "El windget `Treeview` tiene una doble forma de operación: una vista de árbol y una vista de tabla.\n",
    "\n",
    "Una vista de árbol, sin recurrir a ramas de nivel, puede reemplazar al widget `Listbox` de `tk` en `ttk`:"
   ]
  },
  {
   "cell_type": "code",
   "execution_count": 11,
   "id": "82b5923a-b1db-4207-a103-257c5f85ec8a",
   "metadata": {},
   "outputs": [
    {
     "name": "stdout",
     "output_type": "stream",
     "text": [
      "{'text': 'Brazil', 'image': '', 'values': '', 'open': 0, 'tags': ''}\n",
      "\n",
      "{'text': 'Brazil', 'image': '', 'values': '', 'open': 0, 'tags': ''}\n",
      "{'text': 'Ecuador', 'image': '', 'values': '', 'open': 0, 'tags': ''}\n",
      "\n",
      "{'text': 'Brazil', 'image': '', 'values': '', 'open': 0, 'tags': ''}\n",
      "{'text': 'Bolivia', 'image': '', 'values': '', 'open': 0, 'tags': ''}\n",
      "{'text': 'Ecuador', 'image': '', 'values': '', 'open': 0, 'tags': ''}\n",
      "{'text': 'Peru', 'image': '', 'values': '', 'open': 0, 'tags': ''}\n",
      "{'text': 'Venezuela', 'image': '', 'values': '', 'open': 0, 'tags': ''}\n",
      "{'text': 'Chile', 'image': '', 'values': '', 'open': 0, 'tags': ''}\n",
      "\n",
      "{'text': 'Chile', 'image': '', 'values': '', 'open': 0, 'tags': ''}\n",
      "\n"
     ]
    }
   ],
   "source": [
    "class App(tk.Tk):\n",
    "    def __init__(self):\n",
    "        super().__init__()\n",
    "        \n",
    "        frm = ttk.Frame(self)\n",
    "        frm.pack(padx=10, pady=10)\n",
    "        \n",
    "        self.scrY = ttk.Scrollbar(frm, orient='vertical')\n",
    "        self.lstPaises = ttk.Treeview(frm, yscrollcommand=self.scrY.set, show='tree')\n",
    "        self.scrY.config(command=self.lstPaises.yview)\n",
    "        \n",
    "        self.lstPaises.pack(side=tk.LEFT)\n",
    "        self.scrY.pack(side='left', expand=True, fill='y')\n",
    "        \n",
    "        paises=['Argentina', 'Colombia', 'Brazil', 'Bolivia', 'Ecuador', 'Peru', 'Venezuela',\n",
    "                'Chile', 'Surinam', 'Guayana', 'Uruguay', 'Paraguay']\n",
    "        for pais in paises:\n",
    "            self.lstPaises.insert('', 'end', text=pais)\n",
    "\n",
    "        self.lstPaises.bind(\"<<TreeviewSelect>>\", self.print_selected)\n",
    "\n",
    "\n",
    "    def print_selected(self, event):\n",
    "        indices = self.lstPaises.selection()  # Seleccion múltiple con Ctrl + Click\n",
    "        for idx in indices:\n",
    "            print(self.lstPaises.item(idx))   # Completar con keys de dict\n",
    "        else:\n",
    "            print()\n",
    "\n",
    "\n",
    "App().mainloop()"
   ]
  },
  {
   "cell_type": "markdown",
   "id": "e05582f9-c4e0-42e3-a982-4748f9ada6e2",
   "metadata": {},
   "source": [
    "Una vista de tabla se puede utilizar para mostrar información en una tabla de datos:"
   ]
  },
  {
   "cell_type": "code",
   "execution_count": 12,
   "id": "36f02af9-5c52-43f8-ab7e-1b791a573180",
   "metadata": {},
   "outputs": [
    {
     "name": "stdout",
     "output_type": "stream",
     "text": [
      "{'text': '', 'image': '', 'values': ['Alan Brito', 67, '1.72'], 'open': 0, 'tags': ['par']}\n",
      "\n"
     ]
    }
   ],
   "source": [
    "class App(tk.Tk):\n",
    "    def __init__(self):\n",
    "        super().__init__()\n",
    "        self.title(\"Tabla de Datos\")\n",
    "        \n",
    "        frm = ttk.Frame(self)\n",
    "        frm.pack(padx=10, pady=10)\n",
    "        \n",
    "        self.scrY = ttk.Scrollbar(frm, orient='vertical')\n",
    "        self.table = ttk.Treeview(frm, columns=(1, 2, 3), height=10, show='headings', yscrollcommand=self.scrY.set)\n",
    "        self.scrY.config(command=self.table.yview)\n",
    "        \n",
    "        self.table.pack(side='left')\n",
    "        self.scrY.pack(side='left', expand=True, fill='y')\n",
    "        \n",
    "        # Configuración del encabezado de la tabla\n",
    "        self.table.heading(\"#1\", text=\"Nombre\")\n",
    "        self.table.heading(\"#2\", text=\"Peso [kg]\")\n",
    "        self.table.heading(\"#3\", text=\"Altura [m]\")\n",
    "        \n",
    "        # Configuración de las dimensiones de las columnas\n",
    "        self.table.column(\"#1\", width=120, minwidth=120)\n",
    "        self.table.column(\"#2\", width=80, minwidth=80)\n",
    "        self.table.column(\"#3\", width=80, minwidth=80)\n",
    "        \n",
    "        # Configuración de etiquetas por configuración basada en etiquetas\n",
    "        self.table.tag_configure('par', background='lightgray')\n",
    "        \n",
    "        # Carga de datos en la tabla\n",
    "        data = [(\"Elvio Lado\", 80, 1.70), \n",
    "                (\"Dina Mita\", 90, 1.55), \n",
    "                (\"Alan Brito\", 67, 1.72), \n",
    "                (\"Susana Oria\", 56, 1.65), \n",
    "                (\"Elsa Payo\", 77, 1.70), \n",
    "                (\"Elba Lazo\", 79, 1.68), \n",
    "                (\"Elmer Curio\", 82, 1.73), \n",
    "                (\"Aquiles Caigo\", 91, 1.55), \n",
    "                (\"Elvis Tec\", 101, 1.59), \n",
    "                (\"Zoyla Baca\", 54, 1.62), \n",
    "                (\"Armando Paredes\", 79, 1.63), \n",
    "                (\"Norma Lazo\", 46, 1.75), \n",
    "                (\"Elsa Naoria\", 49, 1.81), \n",
    "                (\"Elba Feliz\", 66, 1.76), \n",
    "                (\"Elton Tito\", 98, 1.69), ]\n",
    "        \n",
    "        for idx, item in enumerate(data):\n",
    "            if idx % 2 == 0:\n",
    "                self.table.insert(\"\", tk.END, values=item, tag=('par',))\n",
    "            else:\n",
    "                self.table.insert(\"\", tk.END, values=item)\n",
    "        \n",
    "        self.table.bind(\"<<TreeviewSelect>>\", self.print_selected)\n",
    "        \n",
    "        \n",
    "    def print_selected(self, event):\n",
    "        indices = self.table.selection()  # Seleccion múltiple con Ctrl + Click\n",
    "        for idx in indices:\n",
    "            print(self.table.item(idx))   # Completar con keys de dict\n",
    "        else:\n",
    "            print()\n",
    "        \n",
    "        \n",
    "App().mainloop()"
   ]
  },
  {
   "cell_type": "markdown",
   "id": "36f3d8e5-ef6c-434d-a749-4b43622bff8a",
   "metadata": {
    "user_expressions": []
   },
   "source": [
    "### ttk.Notebook"
   ]
  },
  {
   "cell_type": "code",
   "execution_count": 13,
   "id": "c6d1d60a-be05-4197-819a-0c9ee5aba495",
   "metadata": {},
   "outputs": [],
   "source": [
    "class App(tk.Tk):\n",
    "    def __init__(self):\n",
    "        super().__init__()\n",
    "        \n",
    "        frm = ttk.Frame(self)\n",
    "        frm.pack(padx=10, pady=10)\n",
    "        \n",
    "        notebook = ttk.Notebook(frm)\n",
    "        notebook.pack(padx=10, pady=10)\n",
    "\n",
    "        lbl1 = tk.Label(notebook, text=\"Label en Pestaña 1\")\n",
    "        lbl2 = tk.Label(notebook, text=\"Label en Pestaña 2\")\n",
    "        \n",
    "        notebook.add(lbl1, text=\"Pestaña 1\", padding=50)\n",
    "        notebook.add(lbl2, text=\"Pestaña 2\", padding=50)\n",
    "\n",
    "App().mainloop()"
   ]
  },
  {
   "cell_type": "markdown",
   "id": "7a5e4e56-f371-4f5d-950b-b59ef9ea34f4",
   "metadata": {},
   "source": [
    "---\n",
    "## ttk Styles\n",
    "En el paquete ttk, la configuración de muchos atributos de los widgets se ha trasladado a la definición de estilos en ttk. Esto permite la configuración de muchos atributos en los widgets de ttk, utilizando la definición del estilo de un widget. Por ejemplo, el widget ttk.Button no tiene el atributo `width` en la definición del widget, por lo que el tamaño de los botones no se puede ajustar utilizando este atributo:"
   ]
  },
  {
   "cell_type": "code",
   "execution_count": 15,
   "id": "9ae53e66-0ded-480e-bc9e-c08c40417608",
   "metadata": {},
   "outputs": [],
   "source": [
    "class App(tk.Tk):\n",
    "    def __init__(self):\n",
    "        super().__init__()\n",
    "        \n",
    "        frm = ttk.Frame(self)\n",
    "        frm.pack(padx=10, pady=10)\n",
    "        \n",
    "        ttk.Button(frm, text=\"Abrir Configuración\").grid(row=0, column=0, padx=5, pady=5)\n",
    "        ttk.Button(frm, text=\"Abrir Archivo\").grid(row=1, column=0, padx=5, pady=5)\n",
    "        ttk.Button(frm, text=\"Cancelar\").grid(row=2, column=0, padx=5, pady=5)\n",
    "\n",
    "App().mainloop()"
   ]
  },
  {
   "cell_type": "markdown",
   "id": "17b1b620-5d8e-4b79-bcdb-c1e87e223999",
   "metadata": {},
   "source": [
    "Para ajustar estas propiedades de los botones, hay que recurrir a los estilos. En la definición de los estilos, se utiliza la nomenclatura de nombre \"TButton\" para un boton, \"TEntry\" para un Entry, etc."
   ]
  },
  {
   "cell_type": "code",
   "execution_count": 16,
   "id": "8a0b1640-b470-49e5-855c-abc7c63a20f6",
   "metadata": {},
   "outputs": [],
   "source": [
    "class App(tk.Tk):\n",
    "    def __init__(self):\n",
    "        super().__init__()\n",
    "\n",
    "        ttk.Style().configure(\"TButton\", width=24)\n",
    "        \n",
    "        frm = ttk.Frame(self)\n",
    "        frm.pack(padx=10, pady=10)\n",
    "        \n",
    "        ttk.Button(frm, text=\"Abrir Configuración\").grid(row=0, column=0, padx=5, pady=5)\n",
    "        ttk.Button(frm, text=\"Abrir Archivo\").grid(row=1, column=0, padx=5, pady=5)\n",
    "        ttk.Button(frm, text=\"Cancelar\").grid(row=2, column=0, padx=5, pady=5)\n",
    "\n",
    "App().mainloop()"
   ]
  },
  {
   "cell_type": "markdown",
   "id": "6d5f27ff-b5f3-498a-8c72-f992fdbfb1b7",
   "metadata": {},
   "source": [
    "Se puede especificar un estilo específico para un widget con el formato \"nombre.TButton\" por ejemplo para un botón, y luego aplicar este nombre en la asignación de la propiedad `style` del widget:"
   ]
  },
  {
   "cell_type": "code",
   "execution_count": 17,
   "id": "179167b7-73fc-4964-8923-f332f2cbfba8",
   "metadata": {},
   "outputs": [],
   "source": [
    "class App(tk.Tk):\n",
    "    def __init__(self):\n",
    "        super().__init__()\n",
    "\n",
    "        ttk.Style().configure(\"TButton\", width=24)\n",
    "        ttk.Style().configure(\"Cancel.TButton\", font=('Arial', 11, 'bold'), width=24)\n",
    "        \n",
    "        frm = ttk.Frame(self)\n",
    "        frm.pack(padx=10, pady=10)\n",
    "        \n",
    "        ttk.Button(frm, text=\"Abrir Configuración\").grid(row=0, column=0, padx=5, pady=5)\n",
    "        ttk.Button(frm, text=\"Abrir Archivo\").grid(row=1, column=0, padx=5, pady=5)\n",
    "        ttk.Button(frm, text=\"Cancelar\", style='Cancel.TButton').grid(row=2, column=0, padx=5, pady=5)\n",
    "\n",
    "App().mainloop()"
   ]
  },
  {
   "cell_type": "markdown",
   "id": "cdc992f9-0b62-4f22-b217-75c2badc8687",
   "metadata": {},
   "source": [
    "Se puede modificar el estilo de toda la aplicación utilizando un estilo general con `ttk.Style().theme_use()` donde se especifica un conjunto de estilos. Esto afecta, por ejemplo, a la forma como se muestra un Treeview:"
   ]
  },
  {
   "cell_type": "code",
   "execution_count": 19,
   "id": "ae9138ee-a690-404a-815b-2cbe7d6a008c",
   "metadata": {},
   "outputs": [],
   "source": [
    "class App(tk.Tk):\n",
    "    def __init__(self):\n",
    "        super().__init__()\n",
    "        self.title(\"Tabla de Datos\")\n",
    "\n",
    "        style = ttk.Style()\n",
    "        style.theme_use('clam')\n",
    "        style.configure('Treeview.Heading', background=\"PowderBlue\")\n",
    "        \n",
    "        frm = ttk.Frame(self)\n",
    "        frm.pack(padx=10, pady=10)\n",
    "        \n",
    "        self.scrY = ttk.Scrollbar(frm, orient='vertical')\n",
    "        self.table = ttk.Treeview(frm, columns=(1, 2, 3), height=10, show='headings', yscrollcommand=self.scrY.set)\n",
    "        self.scrY.config(command=self.table.yview)\n",
    "        \n",
    "        self.table.pack(side='left')\n",
    "        self.scrY.pack(side='left', expand=True, fill='y')\n",
    "        \n",
    "        # Configuración del encabezado de la tabla\n",
    "        self.table.heading(\"#1\", text=\"Nombre\")\n",
    "        self.table.heading(\"#2\", text=\"Peso [kg]\")\n",
    "        self.table.heading(\"#3\", text=\"Altura [m]\")\n",
    "        \n",
    "        # Configuración de las dimensiones de las columnas\n",
    "        self.table.column(\"#1\", width=120, minwidth=120)\n",
    "        self.table.column(\"#2\", width=80, minwidth=80)\n",
    "        self.table.column(\"#3\", width=80, minwidth=80)\n",
    "        \n",
    "        # Configuración de etiquetas por configuración basada en etiquetas\n",
    "        self.table.tag_configure('par', background='lightgray')\n",
    "        \n",
    "        # Carga de datos en la tabla\n",
    "        data = [(\"Elvio Lado\", 80, 1.70), \n",
    "                (\"Dina Mita\", 90, 1.55), \n",
    "                (\"Alan Brito\", 67, 1.72),]\n",
    "        \n",
    "        for idx, item in enumerate(data):\n",
    "            if idx % 2 == 0:\n",
    "                self.table.insert(\"\", tk.END, values=item, tag=('par',))\n",
    "            else:\n",
    "                self.table.insert(\"\", tk.END, values=item)\n",
    "        \n",
    "        \n",
    "App().mainloop()"
   ]
  },
  {
   "cell_type": "markdown",
   "id": "9fa41db2-cf21-40f6-8ecc-c4e0d0f7572c",
   "metadata": {
    "user_expressions": []
   },
   "source": [
    "---\n",
    "## Widgets adicionales\n",
    "Hay algunos widgets que complementan una aplicación para darle funcionalidades especiales que suelen ser importantes en el producto final."
   ]
  },
  {
   "cell_type": "markdown",
   "id": "d221600f-644a-42dd-83ea-23b44b2ac0fb",
   "metadata": {
    "user_expressions": []
   },
   "source": [
    "### tkinter.scrolledText.ScrolledText"
   ]
  },
  {
   "cell_type": "code",
   "execution_count": 14,
   "id": "0f7087d7-55e4-4907-916e-b96aa42e7935",
   "metadata": {},
   "outputs": [],
   "source": [
    "from tkinter.scrolledtext import ScrolledText\n",
    "\n",
    "class App(tk.Tk):\n",
    "    def __init__(self):\n",
    "        super().__init__()\n",
    "        self.title(\"Editor de Texto\")\n",
    "\n",
    "        frm = ttk.Frame(self)\n",
    "        frm.pack(padx=10, pady=10)\n",
    "        \n",
    "        self.txtBox = ScrolledText(frm, width=30, height=10, wrap=tk.WORD)\n",
    "        self.txtBox.grid(row=0, column=0, columnspan=3, padx=5, pady=5)\n",
    "        \n",
    "        \n",
    "App().mainloop()"
   ]
  },
  {
   "cell_type": "markdown",
   "id": "a304bda3-9599-4b0d-bbb7-17019a865b14",
   "metadata": {
    "user_expressions": []
   },
   "source": [
    "### statusbar\n",
    "Un _statusbar_ es un elemento especial que existe en la parte inferior de una ventana gráfica y que sirve para mostrar eventos especiales que pueden ser mostrados en tiempo real. Esta barra de estados suele colocarse en la ventana tk.Tk directamente (un de las razón por las que se utiliza un Frame principal sobre la ventana tk.Tk, para poder insertar debajo del Frame principal el _statusbar_).\n",
    "\n",
    "El _statatusbar_ no es un widget, es un `tk.Label` con una configuración especial."
   ]
  },
  {
   "cell_type": "code",
   "execution_count": 3,
   "id": "98c7c333-041f-4f01-b3b6-25c86d5a358e",
   "metadata": {},
   "outputs": [],
   "source": [
    "class App(tk.Tk):\n",
    "    def __init__(self):\n",
    "        super().__init__()\n",
    "        self.title(\"Status Bar\")\n",
    "        self.geometry(\"350x150+100+100\")\n",
    "        \n",
    "        # El Frame se coloca sobre self.master con pack\n",
    "        frm = ttk.Frame(self)\n",
    "        frm.pack(padx=10, pady=10)\n",
    "        \n",
    "        self.lblLabel = tk.Label(frm, text=\"Pasa por aqui...\", font=\"Arial 25 bold\", bd=5, relief=tk.GROOVE)\n",
    "        self.lblLabel.grid(row=0, column=0, padx=25, pady=25)\n",
    "        \n",
    "        # La barra de status va sobre self.master con pack (soporte de side y fill)\n",
    "        self.statusbar = tk.Label(self, text=\"Listo…\", bd=1, relief=tk.SUNKEN, anchor=tk.W)\n",
    "        self.statusbar.pack(side=tk.BOTTOM, fill=tk.X)\n",
    "        \n",
    "        # Definicion de eventos con bind asociados al statusbar\n",
    "        self.lblLabel.bind(\"<Enter>\", lambda x: self.update_statusbar(\"Estoy por aqui...\"))\n",
    "        self.lblLabel.bind(\"<Leave>\", lambda x: self.update_statusbar(\"Ya no estoy por aqui\"))\n",
    "        \n",
    "    def update_statusbar(self, message):\n",
    "        self.statusbar.config(text=message)\n",
    "        \n",
    "        \n",
    "App().mainloop()"
   ]
  },
  {
   "cell_type": "markdown",
   "id": "a804ceef-149c-46fd-8d91-650d47ebab1b",
   "metadata": {
    "user_expressions": []
   },
   "source": [
    "### tk.Menu\n",
    "El Menu es un widget especial que esta asociado a la ventana `tk.Tk`. Es un artributo configurable de la ventana `tk.Tk` y ya tiene una ubicación especial, por lo que no se coloca con un Geometry Manager."
   ]
  },
  {
   "cell_type": "code",
   "execution_count": 7,
   "id": "6de9264b-eb7d-48a7-ac20-5c591ebc0213",
   "metadata": {},
   "outputs": [],
   "source": [
    "class App(tk.Tk):\n",
    "    def __init__(self):\n",
    "        super().__init__()\n",
    "        self.title(\"Menu\")\n",
    "        self.geometry(\"300x300+100+100\")\n",
    "        \n",
    "        frm = tk.Frame(self)\n",
    "        frm.pack(padx=10, pady=10)\n",
    "        \n",
    "        # Se define el menu principal y se le asigna el widget a la ventana self.master\n",
    "        main_menu = tk.Menu(self)\n",
    "        self.config(menu=main_menu)\n",
    "        \n",
    "        # Se definen los menus (submenus) del menu principal\n",
    "        menu_archivo = tk.Menu(main_menu, tearoff=False)\n",
    "        menu_acerca_de = tk.Menu(main_menu, tearoff=False)\n",
    "        \n",
    "        # Se define la organizacion de los menus (command, separator, cascade)\n",
    "        menu_archivo.add_command(label=\"Abrir\")\n",
    "        menu_archivo.add_separator()\n",
    "        menu_archivo.add_command(label=\"Salir\", command=self.destroy)\n",
    "        \n",
    "        menu_acerca_de.add_command(label=\"Acerca de...\")\n",
    "        \n",
    "        main_menu.add_cascade(label=\"Archivo\", menu=menu_archivo)\n",
    "        main_menu.add_cascade(label=\"Ayuda\", menu=menu_acerca_de)\n",
    "        \n",
    "    \n",
    "App().mainloop()"
   ]
  },
  {
   "cell_type": "markdown",
   "id": "ae6f92ce-d920-4905-b422-e8b4270d92c9",
   "metadata": {
    "user_expressions": []
   },
   "source": [
    "### tkinter.messagebox\n",
    "Los MessageBox son cajas de mensajes que permite notificar eventos al usuario. Se encuentra en el paquete `messagebox` en el tkinter y esta agrupados por ventanas de consulta (ask...) y por ventanas de información (show...)"
   ]
  },
  {
   "cell_type": "code",
   "execution_count": 12,
   "id": "63c05bd0-2dbf-4b5d-a3d5-700a86aa581e",
   "metadata": {},
   "outputs": [],
   "source": [
    "from tkinter.messagebox import showinfo, askokcancel, WARNING\n",
    "\n",
    "class App(tk.Tk):\n",
    "    def __init__(self):\n",
    "        super().__init__()\n",
    "        self.title(\"Menu\")\n",
    "        self.geometry(\"300x300+100+100\")\n",
    "        self.protocol(\"WM_DELETE_WINDOW\", self.quit_app)\n",
    "        \n",
    "        frm = ttk.Frame(self)\n",
    "        frm.pack(padx=10, pady=10)\n",
    "        \n",
    "        # Se define el menu principal y se le asigna el widget a la ventana self.master\n",
    "        main_menu = tk.Menu(self)\n",
    "        self.config(menu=main_menu)\n",
    "        \n",
    "        # Se definen los menus (submenus) del menu principal\n",
    "        menu_archivo = tk.Menu(main_menu, tearoff=False)\n",
    "        menu_acerca_de = tk.Menu(main_menu, tearoff=False)\n",
    "        \n",
    "        # Se define la organizacion de los menus (command, separator, cascade)\n",
    "        menu_archivo.add_command(label=\"Abrir\")\n",
    "        menu_archivo.add_separator()\n",
    "        menu_archivo.add_command(label=\"Salir\", command=self.quit_app)\n",
    "        \n",
    "        menu_acerca_de.add_command(label=\"Acerca de...\", command=self.acerca_de)\n",
    "        \n",
    "        main_menu.add_cascade(label=\"Archivo\", menu=menu_archivo)\n",
    "        main_menu.add_cascade(label=\"Ayuda\", menu=menu_acerca_de)\n",
    "        \n",
    "        \n",
    "    def acerca_de(self):\n",
    "        showinfo(title=\"Acerca de...\", message=\"Tkinter App\\nVer. 1.0\", parent=self)\n",
    "        \n",
    "    def quit_app(self):\n",
    "        if askokcancel(title=\"Salir\", message=\"¿Desea salir de la aplicación?\", icon=WARNING):\n",
    "            self.destroy()\n",
    "\n",
    "        \n",
    "App().mainloop()"
   ]
  },
  {
   "cell_type": "markdown",
   "id": "00f189f2-f091-411d-a483-e4ae8d32e5be",
   "metadata": {
    "user_expressions": []
   },
   "source": [
    "### tkinter.colorchooser.askcolor"
   ]
  },
  {
   "cell_type": "code",
   "execution_count": 13,
   "id": "64d5be38-75d1-4a0a-a1db-f796c607c9cf",
   "metadata": {},
   "outputs": [
    {
     "name": "stdout",
     "output_type": "stream",
     "text": [
      "((39, 216, 198), '#27d8c6')\n"
     ]
    }
   ],
   "source": [
    "from tkinter.colorchooser import askcolor\n",
    "\n",
    "class App(tk.Tk):\n",
    "    def __init__(self):\n",
    "        super().__init__()\n",
    "        self.title(\"Menu\")\n",
    "        \n",
    "        btn = ttk.Button(self, text=\"Abrir Color Chooser\", command=self.open_chooser)\n",
    "        btn.pack(padx=20, pady=20)\n",
    "        \n",
    "        \n",
    "    def open_chooser(self):\n",
    "        color_selected = askcolor()\n",
    "        print(color_selected)\n",
    "        \n",
    "\n",
    "App().mainloop()"
   ]
  },
  {
   "cell_type": "markdown",
   "id": "465842d0-2d0f-4921-9b30-b277f70e6d96",
   "metadata": {
    "user_expressions": []
   },
   "source": [
    "### tkinter.filedialog\n",
    "El paquete `tkinter.filedialog` tiene varias ventanas especiales para abrir una ruta (`askopenfile`) o para especificar un nombre de ruta para guardar un archivo (`asksaveasfile`), etc. En la documentación de `tkinter` se puede profundizar sobre los parametros y las diferentes ventanas de diálogo de gestion de rutas."
   ]
  },
  {
   "cell_type": "code",
   "execution_count": 14,
   "id": "453242eb-9df8-4027-adbe-21c53b00ad0c",
   "metadata": {},
   "outputs": [
    {
     "name": "stdout",
     "output_type": "stream",
     "text": [
      "C:/Users/Asus/OneDrive/Imágenes/Saved Pictures/incognito_logo.jpg\n"
     ]
    }
   ],
   "source": [
    "from tkinter.filedialog import askopenfilename, \n",
    "\n",
    "class App(tk.Tk):\n",
    "    def __init__(self):\n",
    "        super().__init__()\n",
    "        self.title(\"Menu\")\n",
    "        \n",
    "        btn = ttk.Button(self, text=\"Seleccionar archivo\", command=self.open_path)\n",
    "        btn.pack(padx=20, pady=20)\n",
    "        \n",
    "        \n",
    "    def open_path(self):\n",
    "        path = askopenfilename()\n",
    "        print(path)\n",
    "        \n",
    "\n",
    "App().mainloop()"
   ]
  },
  {
   "cell_type": "markdown",
   "id": "7d9f6508-68ca-45c3-ab6f-364d58744204",
   "metadata": {},
   "source": [
    "---\n",
    "## Múltiples ventanas\n",
    "Se puede establecer múltiples ventanas en una aplicación. Las ventanas adicionales se llaman `tk.TopLevel` (las ventanas que estan \"encima\" de una ventana Tk. La aproximación por clases es la más sencilla para implementar este tipo de soluciones."
   ]
  },
  {
   "cell_type": "code",
   "execution_count": 21,
   "id": "603b5acd-233c-41cc-856b-88ed01e32d56",
   "metadata": {},
   "outputs": [],
   "source": [
    "class MainWindow(tk.Tk):\n",
    "    def __init__(self):\n",
    "        super().__init__()\n",
    "        self.title(\"Main Window\")\n",
    "        self.geometry(\"260x80+100+100\")\n",
    "\n",
    "        btn = ttk.Button(self, text=\"Ventana Secundaria\", command=self.open_window)\n",
    "        btn.pack(padx=25, pady=25)\n",
    "\n",
    "\n",
    "    def open_window(self):\n",
    "        # Se le adjunta la posicion relativa a la ventana principal\n",
    "        _, shift_x, shift_y = self.geometry().split(\"+\")\n",
    "        shift_x = int(shift_x) + 50\n",
    "        shift_y = int(shift_y) + 50\n",
    "        AnotherWindow(shift_x, shift_y)\n",
    "\n",
    "\n",
    "class AnotherWindow(tk.Toplevel):\n",
    "    def __init__(self, shift_x, shift_y):\n",
    "        super().__init__()\n",
    "        self.title(\"Another Window\")\n",
    "        self.geometry(f\"260x80+{shift_x}+{shift_y}\")\n",
    "        self.focus()\n",
    "        self.grab_set()\n",
    "        \n",
    "        btn = ttk.Button(self, text=\"Cerrar Ventana\", command=self.destroy)\n",
    "        btn.pack(padx=25, pady=25)\n",
    "\n",
    "\n",
    "MainWindow().mainloop()"
   ]
  },
  {
   "cell_type": "markdown",
   "id": "b8a869e8-357c-47d4-aab0-2ad16cc606fe",
   "metadata": {},
   "source": [
    "---\n",
    "## Creación de Widgets\n",
    "Se pueden crear Widgets a partir de widgets existentes. Para esto existe el widget tt.Widget, aunque esto requiere de un conocimiento avanzado de la librería `tkinter`. Sin embargo, se puede utilizar un `ttk.Frame` para definir un nuevo widget y asi instanciar un objeto basado en un Frame. Como estas clases no suelen tener métodos, se puede utilizar un `dataclass` para definir un widget.\n",
    "\n",
    "Por ejemplo, los Entrys suelen estar asociados a un Label que indica la información que deben contener. Así que se puede definir un widget que contenga ambos widgets en un solo bloque:"
   ]
  },
  {
   "cell_type": "code",
   "execution_count": null,
   "id": "b57cec80-b27d-4e23-8a62-97170e649099",
   "metadata": {},
   "outputs": [],
   "source": [
    "from dataclasses import dataclass, InitVar\n",
    "\n",
    "@dataclass\n",
    "class LabelEntry(ttk.Frame):\n",
    "    master: InitVar[tk.Frame]\n",
    "    config: InitVar[dict[str, int | tk.StringVar]]\n",
    "    \n",
    "    # InitVar: Permite especificar que una variable se va a utilizar en el método __post_init__\n",
    "    def __post_init__(self, master, config):\n",
    "        super().__init__(master)\n",
    "        ttk.Label(self, text=config['text']).grid(row=0, column=0, padx=5, sticky='w')\n",
    "        ttk.Entry(self, textvariable=config['textvariable']).grid(row=1, column=0, padx=5, sticky='w')\n",
    "\n",
    "\n",
    "class App(tk.Tk):\n",
    "    def __init__(self):\n",
    "        super().__init__()\n",
    "\n",
    "        self.var_nombre = tk.StringVar()\n",
    "        self.var_edad = tk.StringVar()\n",
    "\n",
    "        frm = tk.Frame(self)\n",
    "        frm.pack(padx=10, pady=10)\n",
    "\n",
    "        LabelEntry(frm, config={'text':'Nombre:', 'textvariable':self.var_nombre}).grid(row=0, column=0, padx=5, pady=5)\n",
    "        LabelEntry(frm, config={'text':'Edad:', 'textvariable':self.var_edad}).grid(row=1, column=0, padx=5, pady=5)\n",
    "\n",
    "\n",
    "App().mainloop()"
   ]
  },
  {
   "cell_type": "markdown",
   "id": "51fbf861-d859-4df7-b66e-06b36f0b35ef",
   "metadata": {
    "user_expressions": []
   },
   "source": [
    "---\n",
    "## Aplicaciones modernas con tkinter: customtkinter\n",
    "Una de las desventajas de `tkinter` es que el formato de sus widgets tiene un estilo que no se ha modernizado. El paquete `ttk` de la librería presenta una versión mejorada en estilo en los widgets, sin embargo tampoco contiene elementos de estilo modernos (como por ejemplo, los bordes redondeados de los elementos tipicos del diseño moderno).\n",
    "\n",
    "Los estilos de una aplicación se pueden controlar de muchas formas, como ajustar los estilos con la carga de un archivo de estilo sobre una GUI definido con `ttk`. Sin embargo, la librería `customtkinter` permite gestionar widgets de forma nativa con estilo propios más modernos. Esta librería esta en actualización en inclusión de nuevos widgets en nuevas versiones. Sin embargo, actualmente, ya tiene una base de usuarios lo suficientemente amplia como para considerarla en nuevos proyectos."
   ]
  },
  {
   "cell_type": "code",
   "execution_count": 22,
   "id": "4764a6d6-ee1c-4338-b25e-6306c9c17a58",
   "metadata": {},
   "outputs": [
    {
     "name": "stdout",
     "output_type": "stream",
     "text": [
      "Requirement already satisfied: customtkinter in c:\\users\\asus\\anaconda3\\lib\\site-packages (5.2.2)\n",
      "Requirement already satisfied: darkdetect in c:\\users\\asus\\anaconda3\\lib\\site-packages (from customtkinter) (0.8.0)\n",
      "Requirement already satisfied: packaging in c:\\users\\asus\\anaconda3\\lib\\site-packages (from customtkinter) (23.1)\n"
     ]
    }
   ],
   "source": [
    "!pip install customtkinter"
   ]
  },
  {
   "cell_type": "code",
   "execution_count": 23,
   "id": "ca010e27-2c98-44ab-a5e9-c2fc2e1fc35f",
   "metadata": {},
   "outputs": [],
   "source": [
    "import customtkinter as ctk"
   ]
  },
  {
   "cell_type": "code",
   "execution_count": 26,
   "id": "e697d828-3be8-4dce-b7f5-f7e2c1ec2d41",
   "metadata": {},
   "outputs": [],
   "source": [
    "class App(ctk.CTk):\n",
    "    def __init__(self):\n",
    "        super().__init__()\n",
    "        self.title(\"CTk App\")\n",
    "        self.resizable(0, 0)\n",
    "        ctk.set_appearance_mode(\"dark\")\n",
    "        \n",
    "        frm = ctk.CTkFrame(self)\n",
    "        frm.pack(padx=10, pady=10)\n",
    "        \n",
    "        ctk.CTkLabel(frm, text=\"Nombre\").grid(row=0, column=0, padx=5, pady=(5, 0), sticky='w')\n",
    "        ctk.CTkEntry(frm, width=200).grid(row=1, column=0, padx=5, pady=5)\n",
    "        ctk.CTkButton(frm, text=\"Aceptar\", corner_radius=12).grid(row=2, column=0, padx=5, pady=5, sticky='w')\n",
    "        \n",
    "        \n",
    "App().mainloop()"
   ]
  },
  {
   "cell_type": "markdown",
   "id": "6db1b8c7-0abf-4418-9507-db51070feb61",
   "metadata": {},
   "source": [
    "## customtkinter: Ejemplo de aplicación"
   ]
  },
  {
   "cell_type": "code",
   "execution_count": 27,
   "id": "9ebe6546-c710-4252-ab77-464624121ec7",
   "metadata": {},
   "outputs": [],
   "source": [
    "import tkinter as tk\n",
    "import customtkinter as ctk\n",
    "\n",
    "class App(ctk.CTk):\n",
    "    def __init__(self):\n",
    "        super().__init__()\n",
    "        self.title(\"User Registration\")\n",
    "        self.resizable(0, 0)\n",
    "\n",
    "        self.var_nombre = tk.StringVar()\n",
    "        self.var_apellido = tk.StringVar()\n",
    "        self.var_codigo = tk.StringVar()\n",
    "        \n",
    "        frm = ctk.CTkFrame(self)\n",
    "        frm.pack(padx=10, pady=10)\n",
    "\n",
    "        ctk.CTkLabel(frm, text=\"Nombre:\").grid(row=0, column=0, padx=5, pady=5, sticky='e')\n",
    "        ctk.CTkLabel(frm, text=\"Apellido:\").grid(row=1, column=0, padx=5, pady=5, sticky='e')\n",
    "        ctk.CTkLabel(frm, text=\"Código:\").grid(row=2, column=0, padx=5, pady=5, sticky='e')\n",
    "        \n",
    "        ctk.CTkEntry(frm, textvariable=self.var_nombre).grid(row=0, column=1, padx=5, pady=5)\n",
    "        ctk.CTkEntry(frm, textvariable=self.var_apellido).grid(row=1, column=1, padx=5, pady=5)\n",
    "        ctk.CTkEntry(frm, textvariable=self.var_codigo).grid(row=2, column=1, padx=5, pady=5)\n",
    "\n",
    "        ctk.CTkButton(frm, text=\"Registrar\", command=self.register).grid(row=0, column=2, padx=5, pady=5, sticky='e')\n",
    "        ctk.CTkButton(frm, text=\"Salir\", command=self.destroy).grid(row=1, column=2, padx=5, pady=5, sticky='e')\n",
    "        \n",
    "    def register(self):\n",
    "        print(f\"{self.var_nombre.get()},{self.var_apellido.get()},{self.var_codigo.get()}\")\n",
    "\n",
    "\n",
    "App().mainloop()"
   ]
  },
  {
   "cell_type": "code",
   "execution_count": null,
   "id": "626f4818-2202-4521-b675-8ef108c4ff6c",
   "metadata": {},
   "outputs": [],
   "source": []
  }
 ],
 "metadata": {
  "kernelspec": {
   "display_name": "Python 3 (ipykernel)",
   "language": "python",
   "name": "python3"
  },
  "language_info": {
   "codemirror_mode": {
    "name": "ipython",
    "version": 3
   },
   "file_extension": ".py",
   "mimetype": "text/x-python",
   "name": "python",
   "nbconvert_exporter": "python",
   "pygments_lexer": "ipython3",
   "version": "3.11.7"
  }
 },
 "nbformat": 4,
 "nbformat_minor": 5
}
