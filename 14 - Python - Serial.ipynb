{
 "cells": [
  {
   "cell_type": "markdown",
   "metadata": {},
   "source": [
    "# Comunicacion de datos\n",
    "\n",
    "**NOTA: El ambiente de Jupyter Notebook no es el espacio ideal de programación donde codificar programas de comunicación. Esta guía es más un documento de referencia con los códigos a ser probados en un ambiente como Spyder o la consola de comandos.**\n",
    "\n",
    "Se puede establecer comunicación de datos entre perifericos utilizando diferentes medios y tecnologías. Python tiene diferentes librerias para poder intercambiar datos con otros elementos, utilizando dos tecnologías de transmisión de datos:\n",
    "\n",
    "* Serial (COM, UART, USB)\n",
    "* Sockets (Ethernet, WiFi)"
   ]
  },
  {
   "cell_type": "markdown",
   "metadata": {},
   "source": [
    "## Serial\n",
    "La coumunicación serial de datos (COM) utiliza un modo de transmisión bit a bit de forma asíncrona, full-duplex. Es muy utilizada en entornos industriales (bajo estandar RS-232 o RS-485) y en camaras y dispositivos externos de aplicaciones especiales. También como puertos de servicio y monitoreo en equipos de comunicaciones.\n",
    "\n",
    "![](https://www.technologyuk.net/telecommunications/communication-technologies/images/rs-232_03.gif)\n",
    "\n",
    "Los equipos que se conectan por medio de una interface serial requieren puertos fisicos que son conectados por medio de un cable y equipos de interconexión. Originalmente, utilizaban la red telefonica para establecer comunicación entre nodos remotos, por lo que la comunicación requerian de MODEMs (MOdulator/DEModulator) en ambos extremos. Si se unes dos puertos fisicos por un cable, suprimiendo los MODEMs, se tendrá un NULL MODEM.\n",
    "\n",
    "![](https://panamahitek.com/wp-content/uploads/2016/01/device5.gif)\n",
    "\n",
    "Una forma de poder simular una comunicación entre equipos utilizando interfases seriales es estableciendo una infraestructura virtual, en donde se tendrán dos puertos seriales conectados por un cable NULL MODEM a los que se podrá acceder para intercambiar información. Se puede utilizar un software para habilitar puertos seriales virtuales. En Windows, se puede utilizar la aplicacion [Free Virtual Serial Ports](https://freevirtualserialports.com/) para simular la infraestructura.\n",
    "\n",
    "![](https://freevirtualserialports.com/images/products/screenshots/index-free-virtual-serial-ports.png)\n",
    "\n",
    "En Python se necesita instalar una libreria que pueda gestionar el protocolo serial: `PySerial`. La [documentación de PySerial](https://pythonhosted.org/pyserial/) es breve e indica que un objeto Serial tiene los siguientes metodos básicos:\n",
    "\n",
    "* open()\n",
    "* close()\n",
    "* readline()\n",
    "* read(buffer)\n",
    "* write(data)\n",
    "\n",
    "Adicionalmente tiene los getters:\n",
    "\n",
    "* in_waiting\n",
    "* is_open\n",
    "\n",
    "La libreria `PySerial` incluye un monitor serial para poder realizar pruebas, disponible desde terminal con la instrucción `python -m serial.tools.miniterm <port name>`, por ejemplo:\n",
    "\n",
    "    python -m serial.tools.miniterm COM2"
   ]
  },
  {
   "cell_type": "markdown",
   "metadata": {},
   "source": [
    "## Instalacion (pip / conda)\n",
    "    python -m pip install pyserial\n",
    "    conda install -c conda-forge pyserial\n",
    "    \n",
    "    The following packages will be downloaded:\n",
    "\n",
    "    package                    |            build\n",
    "    ---------------------------|-----------------\n",
    "    pyserial-3.4               |             py_2          61 KB  conda-forge\n",
    "    ------------------------------------------------------------\n",
    "                                           Total:          61 KB\n"
   ]
  },
  {
   "cell_type": "code",
   "execution_count": null,
   "metadata": {},
   "outputs": [],
   "source": [
    "# Las siguientes pruebas se basan en la habilitación de una infraestructura serial virtual\n",
    "# utilizando un puerto serial espcificado en PORT. Debe de modificar esta variable para\n",
    "# que se ajuste a su ambiente virtual (Crear un Bridge COM - COM)\n",
    "import serial.tools.list_ports\n",
    "\n",
    "ports = serial.tools.list_ports.comports()\n",
    "\n",
    "for port in ports:\n",
    "    print(port)"
   ]
  },
  {
   "cell_type": "markdown",
   "metadata": {},
   "source": [
    "## Recepcion de datos (El script recibe datos de un dispositivo conectado al COM)"
   ]
  },
  {
   "cell_type": "code",
   "execution_count": null,
   "metadata": {},
   "outputs": [],
   "source": [
    "# Asi tambien, debe de instalar pip install PySerial\n",
    "import serial\n",
    "\n",
    "PORT = \"COM1\"\n",
    "\n",
    "try:\n",
    "    print(f\"Estableciendo comunicación con puerto serial {PORT}...\")\n",
    "    ser = serial.Serial(port=PORT, \n",
    "                        baudrate=9600, \n",
    "                        bytesize=8, \n",
    "                        timeout=2, \n",
    "                        stopbits=serial.STOPBITS_ONE)\n",
    "    print(\"Conexión extablecida\")\n",
    "\n",
    "    while True:\n",
    "        try:\n",
    "            # Si hay datos en el butffer de entrada... \n",
    "            if ser.in_waiting > 0:\n",
    "                # Se leen los datos y se espera el caracter EOL\n",
    "                data = ser.readline()\n",
    "                # Los datos recibidos son bytes. Para verlos es necesarios decodificarlos\n",
    "                string = data.decode('utf-8')\n",
    "                print(f\"Rx: {string}\")\n",
    "        # Se calcela el programa con CTRL-C desde el terminal\n",
    "        except KeyboardInterrupt:\n",
    "            print(\"Conexion cerrada\")\n",
    "            ser.close()\n",
    "            break\n",
    "except:\n",
    "    print(f\"Puerto {PORT} no disponible\")\n"
   ]
  },
  {
   "cell_type": "code",
   "execution_count": null,
   "metadata": {},
   "outputs": [],
   "source": [
    "# Cierra el puerto en caso se quede abierto en las pruebas\n",
    "ser.close()"
   ]
  },
  {
   "cell_type": "markdown",
   "metadata": {},
   "source": [
    "## Envío de datos (El script envia datos al dispositivo conectado al COM)"
   ]
  },
  {
   "cell_type": "code",
   "execution_count": null,
   "metadata": {},
   "outputs": [],
   "source": [
    "# La siguiente prueba se basa en la habilitación de una infraestructura serial virtual\n",
    "# utilizando un puerto serial espcificado en PORT. Debe de modificar esta variable para\n",
    "# que se ajuste a su ambiente virtual (Crear un Bridge COM - COM)\n",
    "\n",
    "# Asi tambien, debe de instalar pip install PySerial\n",
    "import serial\n",
    "\n",
    "PORT = \"COM1\"\n",
    "\n",
    "try:\n",
    "    print(f\"Estableciendo comunicación con puerto serial {PORT}...\")\n",
    "    ser = serial.Serial(port=PORT, \n",
    "                        baudrate=9600, \n",
    "                        bytesize=8, \n",
    "                        timeout=2, \n",
    "                        stopbits=serial.STOPBITS_ONE)\n",
    "    print(\"Conexión extablecida\")\n",
    "\n",
    "    while True:\n",
    "        # Se ingresa el texto a enviar por el puerto\n",
    "        string = input(\"Datos a enviar:\")\n",
    "        # Se define una palabra para cerrar el puerto\n",
    "        if string == \"END\":\n",
    "            break\n",
    "        else:\n",
    "            # Se codifica como bytes el texto a enviar y se envia por el puerto\n",
    "            data = string.encode(\"utf-8\")\n",
    "            ser.write(data)\n",
    "    \n",
    "    print(\"Conexion cerrada\")\n",
    "    ser.close()\n",
    "except:\n",
    "    print(f\"Puerto {PORT} no disponible\")\n"
   ]
  },
  {
   "cell_type": "code",
   "execution_count": null,
   "metadata": {},
   "outputs": [],
   "source": [
    "# Cierra el puerto en caso se quede abierto en las pruebas\n",
    "ser.close()"
   ]
  },
  {
   "cell_type": "markdown",
   "metadata": {},
   "source": [
    "## Projecto Final - Parte 1\n",
    "Escriba un programa en customtkinter de Chat Serial. Este debe de permitir establecer comunicación entre dos equipos utilizando un NULL MODEM, o con dos aplicaciones ejeuctadas de forma simultanea y conectadas a un Serial Bridge habilitado con emulador de puerto serial Virtual Serial Ports.\n",
    "\n",
    "### CONDICIONES DE OPERACION:\n",
    "* Al escribir o recibir se debe de mostar justificados a la izquierda con el formato ajustado al ancho de la ventana:\n",
    "    \n",
    "        {PORT}: {MENSAJE}\n",
    "      \n",
    "* Adicionalmente, los mensaje enviados y recibidos deben de tener colores diferentes.\n",
    "   \n",
    "* Si se realiza la conexion debe de bloquearse el OptionsMenu y el boton de \"Conectar\" debe pasar a mostrar \"Desconectar\" y en caso se le haga click liberará la conexión y los controles retornaran a sus estado normal.\n",
    "* Si la App esta conectada al puerto serial, los controles del frm3 deben de habilitarse. De lo contrario, estarán deshabilitados.\n",
    "* El OptionsMenu debe de mostrar los puertos COM instalados en el sistema\n",
    "\n",
    "Se muestra un prototipo de aplicación que deberá completar con todas las funcionalidades requeridas."
   ]
  },
  {
   "cell_type": "code",
   "execution_count": 6,
   "metadata": {},
   "outputs": [],
   "source": [
    "from datetime import datetime\n",
    "import customtkinter as ctk\n",
    "import serial\n",
    "\n",
    "class SerialChat(ctk.CTk):\n",
    "    def __init__(self):\n",
    "        super().__init__()\n",
    "        self.PORT = \"COM1\"\n",
    "        \n",
    "        self.title(f\"Serial Chat App\")\n",
    "        self.geometry(\"+50+50\")\n",
    "        self.resizable(0, 0)\n",
    "        \n",
    "        ctk.set_appearance_mode(\"dark\")\n",
    "        # ---------------------- SERIAL PORT --------------------------\n",
    "        self.serial = None\n",
    "        \n",
    "        # ------------------------ FRAMES -----------------------------\n",
    "        frm1 = ctk.CTkFrame(self)\n",
    "        frm2 = ctk.CTkFrame(self)\n",
    "        frm3 = ctk.CTkFrame(self)\n",
    "        frm1.pack(padx=5, pady=5, anchor='w', fill='x')\n",
    "        frm2.pack(padx=5, pady=5, fill='both', expand=True)\n",
    "        frm3.pack(padx=5, pady=5, fill='x')\n",
    "        \n",
    "        # ------------------------ FRAME 1 ----------------------------\n",
    "        self.lblCOM = ctk.CTkLabel(frm1, text=\"Puerto COM:\") \n",
    "        self.cboPort = ctk.CTkOptionMenu(frm1, values=['COM1', 'COM2'])\n",
    "        self.lblSpace = ctk.CTkLabel(frm1, text=\"\")\n",
    "        self.btnConnect = ctk.CTkButton(frm1, text=\"Conectar\")\n",
    "        self.lblCOM.grid(row=0, column=0, padx=5, pady=5)\n",
    "        self.cboPort.grid(row=0, column=1, padx=5, pady=5)\n",
    "        self.lblSpace.grid(row=0,column=2, padx=30, pady=5)\n",
    "        self.btnConnect.grid(row=0, column=3, padx=5, pady=5)\n",
    "        \n",
    "        # ------------------------ FRAME 2 ---------------------------\n",
    "        self.txtChat = ctk.CTkTextbox(frm2, width=440, height=420, wrap='word', state='disable')\n",
    "        self.txtChat.grid(row=0, column=0, columnspan=3, padx=5, pady=5)\n",
    "                \n",
    "        # ------------------------ FRAME 3 --------------------------\n",
    "        self.lblText = ctk.CTkLabel(frm3, text=\"Texto:\")\n",
    "        self.inText = ctk.CTkEntry(frm3, width=240, state='disable')\n",
    "        self.btnSend = ctk.CTkButton(frm3, text=\"Enviar\", state='disable')\n",
    "        self.lblText.grid(row=0, column=0, padx=5, pady=5)\n",
    "        self.inText.grid(row=0, column=1, padx=5, pady=5)\n",
    "        self.btnSend.grid(row=0, column=2, padx=5, pady=5)\n",
    "            \n",
    "        # ------------- Control del boton \"X\" de la ventana -----------\n",
    "        self.protocol(\"WM_DELETE_WINDOW\", self.cerrar_puertos)\n",
    "\n",
    "        # --- ElIMINAR: LINEAS DE PRUEBA DE INSERCION DE TEXTO ---\n",
    "        self.txtChat.configure(state='normal', text_color='green')\n",
    "        self.txtChat.insert(0.0, f'COM1 [{datetime.now():%H:%S}]: Hola')\n",
    "    \n",
    "    \n",
    "    def cerrar_puertos(self):\n",
    "        # Se cierran los puertos COM y la ventana de tkinter\n",
    "        try:\n",
    "            pass\n",
    "            #self.serial.close()\n",
    "        except:\n",
    "            pass\n",
    "\n",
    "        self.destroy()\n",
    "    \n",
    "    \n",
    "SerialChat().mainloop()"
   ]
  },
  {
   "cell_type": "markdown",
   "metadata": {},
   "source": [
    "### Nota: threading\n",
    "`threading` hace referencia a la capacidad de poder ejecutar códigos de forma concurrente, esto es de forma simultánea (pero no al mismo tiempo). De esta forma, podemos tener una operacion corriendo en paralelo a alguna otra.\n",
    "\n",
    "Advertencia: Dependiendo del proceso que realice una función en un hilo, es posible que tenga problemas con la librería tkinter. Esto, sobretodo, si es que la función modifica los widgets del GUI."
   ]
  },
  {
   "cell_type": "code",
   "execution_count": 23,
   "metadata": {},
   "outputs": [
    {
     "name": "stdout",
     "output_type": "stream",
     "text": [
      "*+"
     ]
    }
   ],
   "source": [
    "import threading\n",
    "import time\n",
    "\n",
    "def func1(delay):\n",
    "    for _ in range(25):\n",
    "        print(\"*\", end='')\n",
    "        time.sleep(delay)\n",
    "\n",
    "def func2(delay):\n",
    "    for _ in range(25):\n",
    "        print(\"+\", end='')\n",
    "        time.sleep(delay)      \n",
    "        \n",
    "# El keyword daemon=True permite eliminar el thread si es que el programa principal se cierra.        \n",
    "th1 = threading.Thread(target=func1, args=(0.25,), daemon=True)\n",
    "th1.start()\n",
    "\n",
    "th2 = threading.Thread(target=func2, args=(0.25,), daemon=True)\n",
    "th2.start()"
   ]
  }
 ],
 "metadata": {
  "kernelspec": {
   "display_name": "Python 3 (ipykernel)",
   "language": "python",
   "name": "python3"
  },
  "language_info": {
   "codemirror_mode": {
    "name": "ipython",
    "version": 3
   },
   "file_extension": ".py",
   "mimetype": "text/x-python",
   "name": "python",
   "nbconvert_exporter": "python",
   "pygments_lexer": "ipython3",
   "version": "3.11.7"
  }
 },
 "nbformat": 4,
 "nbformat_minor": 4
}
