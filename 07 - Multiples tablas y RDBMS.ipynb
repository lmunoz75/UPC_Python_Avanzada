{
 "cells": [
  {
   "cell_type": "markdown",
   "metadata": {
    "tags": []
   },
   "source": [
    "# SQLite: Multiples Tablas y relaciones entre estas\n",
    "![](http://2.bp.blogspot.com/-oi9q5jYCT0c/VntfDWxK7UI/AAAAAAAAACI/Y9ZrEbzxj_U/s1600/br1.gif)\n",
    "\n",
    "Una de las caracteristicas clave de los sistemas de base de datos relacionales (RDBMS) es la relacion que existe entre los registros de diferentes tablas; esto es, que las columnas de las diferentes tablas estan relacionadas entre si. Esto con la intención de evitar la duplicación de información en la base de datos.\n",
    "\n",
    "Esto se lográ estableciendo \"llaves foraneas\" en ciertas columnas, que se comportan como llaves importadas privadas importadas de otras tablas. En el siguiente esquema se tienen tres tablas (login_history, web_user, site_post) en la organización de un sitio web, relacionados entre si.\n",
    "\n",
    "![schema](https://www.databasestar.com/wp-content/uploads/2019/07/ERD-Website.png)\n",
    "\n",
    "La tabla \"web_user\" registra a los usuarios de un servicio web, con los campos de nombre, correo, si es un usuario activo, etc, y un user_id unico para distingir este registro de los demas: esto es la llave primaria (PK).\n",
    "\n",
    "Cada vez que un usuario se registra en el servicio web, se guarda este evento en la tabla \"login_history\". Como el usuario se va a registrar en múltiples oportunidades, no tiene sentido (desde el punto de vista de la economía del registro de datos) registrar todos los campos de usuario en la tabla \"login_history\"; solamente basta con registrar el tiempo del registro (login_datetime) y la identificación única del usuario (user_id).\n",
    "\n",
    "Para mantener la integridad de los datos es necesario establecer una relación entre el campo user_id de la tabla \"web_user\" y el campo user_id de la tabla \"login_history\". Esto quiere decir que no exista un registro en la tabla \"login_history\" de un usuario que no exista en la tabla \"web_user\": solo se pueden registrar en el servicio web usuarios que esten dados de alta en la página web. Para esto se define que el campo user_id de la tabla \"login_history\" es la llave foranea o foreign key (FK), esto significa que es una llave primaria que pertenece a otra tabla, insertada localmente. Como existe una relación entre ambos registros, cuando se intente guardar un registro en \"login_history\", el motor de la base de datos verificará que el campo user_id exista en \"web_user\" antes de modificar la tabla \"login_history\".\n",
    "\n",
    "Esta relación es del tipo de \"uno a muchos\", ya que un solo usuario (user_id) puede tener muchos ingresos en el sistema.\n",
    "\n",
    "Por otro lado, en la tabla \"site_post\", cada post (en este supuesto servicio web de blog) le pertence a un usuario. Cada post tiene un post_id (PK) y un user_id (FK). Esta relación que existe entre estos registros permite hacer consultas, considerando las conexiones que existan entre estas."
   ]
  },
  {
   "cell_type": "markdown",
   "metadata": {},
   "source": [
    "## Construyendo tablas con PK y FK\n",
    "Para construir tablas relacionadas entre si con sqlite3 se debe de definir las diferentes llaves y las referencias entre estas."
   ]
  },
  {
   "cell_type": "markdown",
   "metadata": {},
   "source": [
    "    # Para la tabla web_user:\n",
    "    CREATE TABLE web_user (\n",
    "            user_id INTEGER PRIMARY KEY, \n",
    "            first_name TEXT, \n",
    "            last_name TEXT,\n",
    "            email_address TEXT, \n",
    "            active INTEGER, \n",
    "            signup_datetime TEXT, \n",
    "            profile_image_name TEXT\n",
    "    )"
   ]
  },
  {
   "cell_type": "markdown",
   "metadata": {},
   "source": [
    "    # Para la tabla login_history\n",
    "    CREATE TABLE login_history (\n",
    "            login_datetime TEXT, \n",
    "            user_id INTEGER, \n",
    "            FOREIGN KEY(user_id)\n",
    "                REFERENCES web_user (user_id))"
   ]
  },
  {
   "cell_type": "markdown",
   "metadata": {},
   "source": [
    "    # Para la tabla site_post\n",
    "    CREATE TABLE site_post (\n",
    "            post_id INTEGER PRIMARY KEY, \n",
    "            user_id INTEGER, \n",
    "            post_datetime TEXT, \n",
    "            post_text TEXT, \n",
    "            FOREIGN KEY(user_id) \n",
    "                REFERENCES web_user (user_id))"
   ]
  },
  {
   "cell_type": "markdown",
   "metadata": {},
   "source": [
    "## SQL JOIN TABLE\n",
    "Las relaciones entre las tablas permite mantener la integridad de la información, de tal forma que las consultas retornen información correcta. Sin embargo, el establecimiento de llaves foraneas no incide sobre la capacidad de buscar información que se encuentre en diferentes tablas. Para esto necesitamos utilizar la instrucción SQL JOIN:"
   ]
  },
  {
   "cell_type": "markdown",
   "metadata": {},
   "source": [
    "    # Para buscar todos los post de un usuario considerando su cuenta de correo electronico\n",
    "    user_email_address = \"example@email.com\"\n",
    "\n",
    "    SELECT post_id, post_datetime, post_text  \n",
    "    FROM site_post JOIN web_user \n",
    "    ON site_post.user_id = web_user.user_id\n",
    "    WHERE web_user.email_address = user_email_address"
   ]
  },
  {
   "cell_type": "markdown",
   "metadata": {},
   "source": [
    "El código anterior realiza una \"intersección\" de dos tablas, extrayendo los registros tanto en \"site_post\" y en \"web_user\" que tengan la misma información en el campo user_id en las dos tablas. Esto retornará un subregistro de datos con todos los campos de ambas tablas (FROM site_post JOIN web_user) según el criterio de intersección (ON) sobre la que se podrá buscar datos según una condición (WHERE). Se puede utilizar la nomencatura *tabla.campo* en caso de que el subregistro considere dos campos con el mismo nombre en dos tablas diferentes (como el site_post.user_id y web_user.user_id).\n",
    "\n",
    "La potencia de JOIN se puede observar cuando se requiere conseguir registros de tablas diferentes:"
   ]
  },
  {
   "cell_type": "markdown",
   "metadata": {},
   "source": [
    "    # Para buscar todos los post y nombres de los usuarios que publicaron en una fecha determinada\n",
    "    fecha = \"2020/10/12\"\n",
    "\n",
    "    SELECT web_user.last_name, web_user.first_name, site_post.post_text\n",
    "    FROM web_user JOIN site_post \n",
    "    ON web_user.user_id == site_post.user_id\n",
    "    WHERE site_post.post_datetime = fecha"
   ]
  },
  {
   "cell_type": "markdown",
   "metadata": {},
   "source": [
    "Todos estos son ejemplos de INNER JOIN. Existen otros tipos de JOIN que escapan del alcance de este material, pero se resumen en la siguiente figura:\n",
    "\n",
    "![JOINS](https://ingenieriadesoftware.es/wp-content/uploads/2018/07/sqljoin.jpeg)"
   ]
  },
  {
   "cell_type": "markdown",
   "metadata": {},
   "source": [
    "## Funciones de agregación\n",
    "En sqlite3 también están presenten funciones de agregacion, que retornan el resultado de aplicar una operacion que colecciona todos los resultados de una operación en un solo valor, por ejemplo, en lugar de retornar todos los items de una consulta, se pueden agregar los resultados y sumar el total para obtener el número de resultados. Soporta el modificador DISTINCT para solo considera en el proceso de agregación valores diferentes."
   ]
  },
  {
   "cell_type": "markdown",
   "metadata": {},
   "source": [
    "    # Retorna el numero de usuarios registrados en una fecha determinada\n",
    "    SELECT COUNT(DISTINCT user_id) FROM login_history WHERE login_datetime = \"2020/10/1\""
   ]
  },
  {
   "cell_type": "markdown",
   "metadata": {},
   "source": [
    "    # Retorna el total facturado en el mes\n",
    "    SELECT SUM(monto) FROM facturas WHERE mes = 3"
   ]
  },
  {
   "cell_type": "markdown",
   "metadata": {},
   "source": [
    "    # Retorna los valores maximos y minimos de ventas en un mes\n",
    "    SELECT MAX(monto_factura), MIN(monto_factura) FROM facturas WHERE mes = 3"
   ]
  },
  {
   "cell_type": "markdown",
   "metadata": {},
   "source": [
    "    # Retorna el numero promedio de ventas en el mes\n",
    "    SELECT AVG(monto_factura) FROM facturas WHERE mes = 3"
   ]
  },
  {
   "cell_type": "markdown",
   "metadata": {},
   "source": [
    "## GROUP BY\n",
    "La instrucción GROUP BY permite agrupar los resultados obtenidos de una consulta en funcion de uno de los campos, donde se tenga un valor repetido"
   ]
  },
  {
   "cell_type": "markdown",
   "metadata": {},
   "source": [
    "    # Retorna el monto promedio facturado cada mes\n",
    "    SELECT mes, AVG(monto_factura) FROM facturas GROUP BY mes"
   ]
  },
  {
   "cell_type": "markdown",
   "metadata": {},
   "source": [
    "# Ejemplo: Analisis de la base de datos Chinook Database\n",
    "Database URL: https://cdn.sqlitetutorial.net/wp-content/uploads/2018/03/chinook.zip\n",
    "![Database Schema](https://cdn.sqlitetutorial.net/wp-content/uploads/2015/11/sqlite-sample-database-color.jpg)"
   ]
  },
  {
   "cell_type": "code",
   "execution_count": 6,
   "metadata": {},
   "outputs": [],
   "source": [
    "import sqlite3\n",
    "import requests\n",
    "import zipfile\n",
    "import os"
   ]
  },
  {
   "cell_type": "markdown",
   "metadata": {},
   "source": [
    "## Descargue la tabla chinook de la fuente Web"
   ]
  },
  {
   "cell_type": "code",
   "execution_count": 14,
   "metadata": {},
   "outputs": [],
   "source": [
    "URL = r\"https://cdn.sqlitetutorial.net/wp-content/uploads/2018/03/chinook.zip\"\n",
    "filename = URL.split(\"/\")[-1]\n",
    "r = requests.get(URL)"
   ]
  },
  {
   "cell_type": "code",
   "execution_count": 17,
   "metadata": {},
   "outputs": [
    {
     "name": "stdout",
     "output_type": "stream",
     "text": [
      "Descargando chinook.zip de https://cdn.sqlitetutorial.net/wp-content/uploads/2018/03/chinook.zip\n",
      "Descomprimiendo archivos en .\\datafile\n"
     ]
    }
   ],
   "source": [
    "try:\n",
    "    print(f\"Descargando {filename} de {URL}\")\n",
    "    with open(filename, mode='wb') as file:\n",
    "        file.write(r.content)\n",
    "    \n",
    "    print(f\"Descomprimiendo archivos en .\\\\datafile\")\n",
    "    with zipfile.ZipFile(filename, mode='r') as zip_ref:\n",
    "        zip_ref.extractall(\".\\\\datafile\")\n",
    "\n",
    "except Exception as e:\n",
    "    print(e)"
   ]
  },
  {
   "cell_type": "markdown",
   "metadata": {},
   "source": [
    "## Inspeccionar la base de datos"
   ]
  },
  {
   "cell_type": "code",
   "execution_count": 28,
   "metadata": {},
   "outputs": [],
   "source": [
    "database_file = \".\\\\datafile\\\\chinook.db\"\n",
    "conn = sqlite3.connect(database_file)"
   ]
  },
  {
   "cell_type": "code",
   "execution_count": 29,
   "metadata": {},
   "outputs": [
    {
     "name": "stdout",
     "output_type": "stream",
     "text": [
      "Tablas en .\\datafile\\chinook.db\n",
      "-------------------------------\n",
      "- albums\n",
      "- sqlite_sequence\n",
      "- artists\n",
      "- customers\n",
      "- employees\n",
      "- genres\n",
      "- invoices\n",
      "- invoice_items\n",
      "- media_types\n",
      "- playlists\n",
      "- playlist_track\n",
      "- tracks\n",
      "- sqlite_stat1\n"
     ]
    }
   ],
   "source": [
    "# CONSULTA DE TABLAS EN LA BASE DE DATOS (sqlite_master)\n",
    "with conn:\n",
    "    cur = conn.cursor()\n",
    "    results = cur.execute(\"SELECT name FROM sqlite_master WHERE type='table'\")\n",
    "    \n",
    "    print(f\"Tablas en {database_file}\")\n",
    "    print(\"----------\" + \"-\" * len(database_file))\n",
    "    for item in results:\n",
    "        print(\"-\", item[0])"
   ]
  },
  {
   "cell_type": "code",
   "execution_count": 30,
   "metadata": {},
   "outputs": [
    {
     "name": "stdout",
     "output_type": "stream",
     "text": [
      "Columnas en invoices\n",
      "-------------------\n",
      "- InvoiceId\n",
      "- CustomerId\n",
      "- InvoiceDate\n",
      "- BillingAddress\n",
      "- BillingCity\n",
      "- BillingState\n",
      "- BillingCountry\n",
      "- BillingPostalCode\n",
      "- Total\n"
     ]
    }
   ],
   "source": [
    "# INSPECCION DE UNA TABLA ESPECIFICA EN LA BASE DE DATOS\n",
    "with conn:\n",
    "    tabla = \"invoices\"\n",
    "    cur = conn.cursor()\n",
    "    results = cur.execute(f\"SELECT * FROM {tabla}\")\n",
    "    \n",
    "    print(f\"Columnas en {tabla}\")\n",
    "    print(\"-----------\" + \"-\" * len(tabla))\n",
    "    for item in results.description:\n",
    "        print(\"-\", item[0])"
   ]
  },
  {
   "cell_type": "code",
   "execution_count": 31,
   "metadata": {},
   "outputs": [
    {
     "name": "stdout",
     "output_type": "stream",
     "text": [
      "Tablas en .\\DATAFILE\\CHINOOK.DB\n",
      "-------------------------------\n",
      "[1]: ALBUMS\n",
      "[2]: SQLITE_SEQUENCE\n",
      "[3]: ARTISTS\n",
      "[4]: CUSTOMERS\n",
      "[5]: EMPLOYEES\n",
      "[6]: GENRES\n",
      "[7]: INVOICES\n",
      "[8]: INVOICE_ITEMS\n",
      "[9]: MEDIA_TYPES\n",
      "[10]: PLAYLISTS\n",
      "[11]: PLAYLIST_TRACK\n",
      "[12]: TRACKS\n",
      "[13]: SQLITE_STAT1\n",
      "Seleccione la tabla a inspeccionar: 4\n",
      "\n",
      "Columnas en CUSTOMERS\n",
      "--------------------\n",
      " - CustomerId: (INTEGER)\n",
      " - FirstName: (NVARCHAR(40))\n",
      " - LastName: (NVARCHAR(20))\n",
      " - Company: (NVARCHAR(80))\n",
      " - Address: (NVARCHAR(70))\n",
      " - City: (NVARCHAR(40))\n",
      " - State: (NVARCHAR(40))\n",
      " - Country: (NVARCHAR(40))\n",
      " - PostalCode: (NVARCHAR(10))\n",
      " - Phone: (NVARCHAR(24))\n",
      " - Fax: (NVARCHAR(24))\n",
      " - Email: (NVARCHAR(60))\n",
      " - SupportRepId: (INTEGER)\n"
     ]
    }
   ],
   "source": [
    "# SCRIPT DE INSPECCION DE UNA BASE DE DATOS (INSPECCION DE TABLA CON PRAGMA)\n",
    "database_file = \".\\\\datafile\\\\chinook.db\"\n",
    "conn = sqlite3.connect(database_file)\n",
    "\n",
    "with conn:\n",
    "    cur = conn.cursor()\n",
    "    results = cur.execute(\"SELECT name FROM sqlite_master WHERE type='table'\")\n",
    "    \n",
    "    tablas_dict = {}\n",
    "    \n",
    "    print(f\"Tablas en {database_file.upper()}\")\n",
    "    print(\"----------\" + \"-\" * len(database_file))\n",
    "    for idx, item in enumerate(results, start=1):\n",
    "        print(f\"[{idx}]: {item[0].upper()}\")\n",
    "        tablas_dict[idx] = item[0]\n",
    "    else:\n",
    "        tab_idx = int(input(\"Seleccione la tabla a inspeccionar: \"))\n",
    "        \n",
    "        if tab_idx in tablas_dict:\n",
    "            tabla = tablas_dict[tab_idx]\n",
    "            #results = cur.execute(f\"SELECT * FROM {tabla}\")   Utilizando: results.description\n",
    "            results = cur.execute(f\"PRAGMA table_info ({tabla})\")     # Utilizando PRAGMA\n",
    "             \n",
    "            print(f\"\\nColumnas en {tabla.upper()}\")\n",
    "            print(\"-----------\" + \"-\" * len(tabla))\n",
    "            for item in results:\n",
    "                #print(f\"  - {item[0]}\")\n",
    "                print(f\" - {item[1]}: ({item[2]})\")\n",
    "                \n",
    "        else:\n",
    "            print(\"Opcion invalida\")\n",
    "    \n",
    "        "
   ]
  },
  {
   "cell_type": "markdown",
   "metadata": {},
   "source": [
    "## Mineria de datos en la dB chinoook.db"
   ]
  },
  {
   "cell_type": "code",
   "execution_count": 32,
   "metadata": {},
   "outputs": [
    {
     "name": "stdout",
     "output_type": "stream",
     "text": [
      "50: Metallica\n"
     ]
    }
   ],
   "source": [
    "# METALLICA ESTA EN LA BASE DE DATOS?\n",
    "database_file = \".\\\\datafile\\\\chinook.db\"\n",
    "conn = sqlite3.connect(database_file)\n",
    "\n",
    "with conn:\n",
    "    cur = conn.cursor()\n",
    "    sql = \"\"\"SELECT ArtistId, name FROM artists WHERE name LIKE '%metallica%' ORDER BY name\"\"\"\n",
    "    results = cur.execute(sql)\n",
    "    \n",
    "    for item in results:\n",
    "        print(f\"{item[0]}: {item[1]}\")\n",
    "        "
   ]
  },
  {
   "cell_type": "code",
   "execution_count": 33,
   "metadata": {},
   "outputs": [
    {
     "name": "stdout",
     "output_type": "stream",
     "text": [
      "Albums Registrados de Metallica: 10\n",
      "  - Metallica: Garage Inc. (Disc 1)\n",
      "  - Metallica: Black Album\n",
      "  - Metallica: Garage Inc. (Disc 2)\n",
      "  - Metallica: Kill 'Em All\n",
      "  - Metallica: Load\n",
      "  - Metallica: Master Of Puppets\n",
      "  - Metallica: ReLoad\n",
      "  - Metallica: Ride The Lightning\n",
      "  - Metallica: St. Anger\n",
      "  - Metallica: ...And Justice For All\n"
     ]
    }
   ],
   "source": [
    "# QUE Y CUANTOS ALBUMS TIENE METALLICA EN LA TIENDA?\n",
    "database_file = \".\\\\datafile\\\\chinook.db\"\n",
    "conn = sqlite3.connect(database_file)\n",
    "\n",
    "with conn:\n",
    "    cur = conn.cursor()\n",
    "    parameters = \"Metallica\"\n",
    "    \n",
    "    sql = \"\"\"SELECT artists.name, COUNT(albums.title) \n",
    "             FROM artists JOIN albums \n",
    "             ON artists.ArtistId = albums.ArtistId \n",
    "             WHERE artists.name = ?\"\"\"\n",
    "    results = cur.execute(sql, (parameters,))\n",
    "    item = results.fetchone()\n",
    "    print(f\"Albums Registrados de {item[0]}: {item[1]}\")\n",
    "    \n",
    "    sql = \"\"\"SELECT artists.name, albums.title\n",
    "             FROM artists JOIN albums \n",
    "             ON artists.ArtistId = albums.ArtistId \n",
    "             WHERE artists.name = ?\"\"\"\n",
    "    results = cur.execute(sql, (parameters,))\n",
    "    \n",
    "    for item in results:\n",
    "        print(f\"  - {item[0]}: {item[1]}\")\n",
    "        "
   ]
  },
  {
   "cell_type": "code",
   "execution_count": 34,
   "metadata": {},
   "outputs": [
    {
     "name": "stdout",
     "output_type": "stream",
     "text": [
      "Garage Inc. (Disc 1)\n",
      "   1: Free Speech For The Dumb - ($0.99)\n",
      "   2: It's Electric - ($0.99)\n",
      "   3: Sabbra Cadabra - ($0.99)\n",
      "   4: Turn The Page - ($0.99)\n",
      "   5: Die Die My Darling - ($0.99)\n",
      "   6: Loverman - ($0.99)\n",
      "   7: Mercyful Fate - ($0.99)\n",
      "   8: Astronomy - ($0.99)\n",
      "   9: Whiskey In The Jar - ($0.99)\n",
      "  10: Tuesday's Gone - ($0.99)\n",
      "  11: The More I See - ($0.99)\n",
      "\n",
      "Black Album\n",
      "   1: Enter Sandman - ($0.99)\n",
      "   2: Sad But True - ($0.99)\n",
      "   3: Holier Than Thou - ($0.99)\n",
      "   4: The Unforgiven - ($0.99)\n",
      "   5: Wherever I May Roam - ($0.99)\n",
      "   6: Don't Tread On Me - ($0.99)\n",
      "   7: Through The Never - ($0.99)\n",
      "   8: Nothing Else Matters - ($0.99)\n",
      "   9: Of Wolf And Man - ($0.99)\n",
      "  10: The God That Failed - ($0.99)\n",
      "  11: My Friend Of Misery - ($0.99)\n",
      "  12: The Struggle Within - ($0.99)\n",
      "\n",
      "Garage Inc. (Disc 2)\n",
      "   1: Helpless - ($0.99)\n",
      "   2: The Small Hours - ($0.99)\n",
      "   3: The Wait - ($0.99)\n",
      "   4: Crash Course In Brain Surgery - ($0.99)\n",
      "   5: Last Caress/Green Hell - ($0.99)\n",
      "   6: Am I Evil? - ($0.99)\n",
      "   7: Blitzkrieg - ($0.99)\n",
      "   8: Breadfan - ($0.99)\n",
      "   9: The Prince - ($0.99)\n",
      "  10: Stone Cold Crazy - ($0.99)\n",
      "  11: So What - ($0.99)\n",
      "  12: Killing Time - ($0.99)\n",
      "  13: Overkill - ($0.99)\n",
      "  14: Damage Case - ($0.99)\n",
      "  15: Stone Dead Forever - ($0.99)\n",
      "  16: Too Late Too Late - ($0.99)\n",
      "\n",
      "Kill 'Em All\n",
      "   1: Hit The Lights - ($0.99)\n",
      "   2: The Four Horsemen - ($0.99)\n",
      "   3: Motorbreath - ($0.99)\n",
      "   4: Jump In The Fire - ($0.99)\n",
      "   5: (Anesthesia) Pulling Teeth - ($0.99)\n",
      "   6: Whiplash - ($0.99)\n",
      "   7: Phantom Lord - ($0.99)\n",
      "   8: No Remorse - ($0.99)\n",
      "   9: Seek & Destroy - ($0.99)\n",
      "  10: Metal Militia - ($0.99)\n",
      "\n",
      "Load\n",
      "   1: Ain't My Bitch - ($0.99)\n",
      "   2: 2 X 4 - ($0.99)\n",
      "   3: The House Jack Built - ($0.99)\n",
      "   4: Until It Sleeps - ($0.99)\n",
      "   5: King Nothing - ($0.99)\n",
      "   6: Hero Of The Day - ($0.99)\n",
      "   7: Bleeding Me - ($0.99)\n",
      "   8: Cure - ($0.99)\n",
      "   9: Poor Twisted Me - ($0.99)\n",
      "  10: Wasted My Hate - ($0.99)\n",
      "  11: Mama Said - ($0.99)\n",
      "  12: Thorn Within - ($0.99)\n",
      "  13: Ronnie - ($0.99)\n",
      "  14: The Outlaw Torn - ($0.99)\n",
      "\n",
      "Master Of Puppets\n",
      "   1: Battery - ($0.99)\n",
      "   2: Master Of Puppets - ($0.99)\n",
      "   3: The Thing That Should Not Be - ($0.99)\n",
      "   4: Welcome Home (Sanitarium) - ($0.99)\n",
      "   5: Disposable Heroes - ($0.99)\n",
      "   6: Leper Messiah - ($0.99)\n",
      "   7: Orion - ($0.99)\n",
      "   8: Damage Inc. - ($0.99)\n",
      "\n",
      "ReLoad\n",
      "   1: Fuel - ($0.99)\n",
      "   2: The Memory Remains - ($0.99)\n",
      "   3: Devil's Dance - ($0.99)\n",
      "   4: The Unforgiven II - ($0.99)\n",
      "   5: Better Than You - ($0.99)\n",
      "   6: Slither - ($0.99)\n",
      "   7: Carpe Diem Baby - ($0.99)\n",
      "   8: Bad Seed - ($0.99)\n",
      "   9: Where The Wild Things Are - ($0.99)\n",
      "  10: Prince Charming - ($0.99)\n",
      "  11: Low Man's Lyric - ($0.99)\n",
      "  12: Attitude - ($0.99)\n",
      "  13: Fixxxer - ($0.99)\n",
      "\n",
      "Ride The Lightning\n",
      "   1: Fight Fire With Fire - ($0.99)\n",
      "   2: Ride The Lightning - ($0.99)\n",
      "   3: For Whom The Bell Tolls - ($0.99)\n",
      "   4: Fade To Black - ($0.99)\n",
      "   5: Trapped Under Ice - ($0.99)\n",
      "   6: Escape - ($0.99)\n",
      "   7: Creeping Death - ($0.99)\n",
      "   8: The Call Of Ktulu - ($0.99)\n",
      "\n",
      "St. Anger\n",
      "   1: Frantic - ($0.99)\n",
      "   2: St. Anger - ($0.99)\n",
      "   3: Some Kind Of Monster - ($0.99)\n",
      "   4: Dirty Window - ($0.99)\n",
      "   5: Invisible Kid - ($0.99)\n",
      "   6: My World - ($0.99)\n",
      "   7: Shoot Me Again - ($0.99)\n",
      "   8: Sweet Amber - ($0.99)\n",
      "   9: The Unnamed Feeling - ($0.99)\n",
      "  10: Purify - ($0.99)\n",
      "  11: All Within My Hands - ($0.99)\n",
      "\n",
      "...And Justice For All\n",
      "   1: Blackened - ($0.99)\n",
      "   2: ...And Justice For All - ($0.99)\n",
      "   3: Eye Of The Beholder - ($0.99)\n",
      "   4: One - ($0.99)\n",
      "   5: The Shortest Straw - ($0.99)\n",
      "   6: Harvester Of Sorrow - ($0.99)\n",
      "   7: The Frayed Ends Of Sanity - ($0.99)\n",
      "   8: To Live Is To Die - ($0.99)\n",
      "   9: Dyers Eve - ($0.99)\n",
      "\n"
     ]
    }
   ],
   "source": [
    "# LISTADO DE ALBUMS Y TRACKS DE METALLICA\n",
    "database_file = \".\\\\datafile\\\\chinook.db\"\n",
    "conn = sqlite3.connect(database_file)\n",
    "\n",
    "with conn:\n",
    "    cur = conn.cursor()\n",
    "    parameters = \"Metallica\"\n",
    "    \n",
    "    sql = \"\"\"SELECT albums.AlbumId, albums.Title\n",
    "             FROM artists JOIN albums \n",
    "             ON artists.ArtistId = albums.ArtistId \n",
    "             WHERE artists.name = ?\"\"\"\n",
    "    results = cur.execute(sql, (parameters,))\n",
    "    albums_id = [(item[0], item[1]) for item in results]\n",
    "    \n",
    "    for title in albums_id:\n",
    "        parameters = title[0]\n",
    "        sql = \"SELECT Name, UnitPrice FROM tracks WHERE AlbumId = ?\"\n",
    "        results = cur.execute(sql, (parameters,))\n",
    "        \n",
    "        print(title[1])\n",
    "        for idx, track in enumerate(results, start=1):\n",
    "            print(f\"  {idx:2}: {track[0]} - (${track[1]:.2f})\")\n",
    "        else:\n",
    "            print()\n",
    " "
   ]
  },
  {
   "cell_type": "code",
   "execution_count": 35,
   "metadata": {},
   "outputs": [
    {
     "name": "stdout",
     "output_type": "stream",
     "text": [
      "Metallica :    Fact. Prom: 6.59USD    Total: 599.94USD\n"
     ]
    }
   ],
   "source": [
    "# CUAL ES LA FACTURACION DE METALLICA EN LA TIENDA?\n",
    "database_file = \".\\\\datafile\\\\chinook.db\"\n",
    "conn = sqlite3.connect(database_file)\n",
    "\n",
    "with conn:\n",
    "    cur = conn.cursor()\n",
    "    parameters = \"Metallica\"\n",
    "    sql = \"\"\"SELECT artists.Name, AVG(invoices.Total), SUM(invoices.Total)\n",
    "             FROM artists \n",
    "                 JOIN albums \n",
    "                 JOIN tracks\n",
    "                 JOIN invoice_items\n",
    "                 JOIN invoices\n",
    "             ON artists.ArtistId = albums.ArtistId \n",
    "                 AND albums.AlbumId = tracks.AlbumId\n",
    "                 AND tracks.TrackId = invoice_items.TrackId\n",
    "                 AND invoice_items.invoiceId = invoices.invoiceId\n",
    "             WHERE artists.name = ?\"\"\"\n",
    "    results = cur.execute(sql, (parameters,))\n",
    "    \n",
    "    for item in results:\n",
    "        print(f\"{item[0]} :    Fact. Prom: {item[1]:.2f}USD    Total: {item[2]:.2f}USD\")\n",
    "        "
   ]
  },
  {
   "cell_type": "code",
   "execution_count": 38,
   "metadata": {},
   "outputs": [
    {
     "name": "stdout",
     "output_type": "stream",
     "text": [
      "USA             :     177.21 USD         6.56 USD\n",
      "Canada          :     119.79 USD         7.99 USD\n",
      "France          :      94.05 USD         9.40 USD\n",
      "United Kingdom  :      85.14 USD         9.46 USD\n",
      "Germany         :      53.46 USD         5.94 USD\n"
     ]
    }
   ],
   "source": [
    "# QUE PAISES SON LOS QUE MAS CONSUMEN PRODUCTOS DE METALLICA?\n",
    "database_file = \".\\\\datafile\\\\chinook.db\"\n",
    "conn = sqlite3.connect(database_file)\n",
    "\n",
    "with conn:\n",
    "    cur = conn.cursor()\n",
    "    parameters = \"Metallica\"\n",
    "    sql = \"\"\"SELECT customers.Country, SUM(invoices.Total) , AVG(invoices.Total)\n",
    "             FROM artists \n",
    "                 JOIN albums \n",
    "                 JOIN tracks\n",
    "                 JOIN invoice_items\n",
    "                 JOIN invoices\n",
    "                 JOIN customers\n",
    "             ON artists.ArtistId = albums.ArtistId \n",
    "                 AND albums.AlbumId = tracks.AlbumId\n",
    "                 AND tracks.TrackId = invoice_items.TrackId\n",
    "                 AND invoice_items.invoiceId = invoices.invoiceId\n",
    "                 AND invoices.CustomerId = customers.CustomerId\n",
    "             WHERE artists.name = ?\n",
    "             GROUP BY customers.Country\n",
    "             ORDER BY SUM(invoices.Total) DESC\n",
    "             LIMIT 5\"\"\"\n",
    "    results = cur.execute(sql, (parameters,))\n",
    "    \n",
    "    for item in results:\n",
    "        print(f\"{item[0]:16}: {item[1]:10.2f} USD   {item[2]:10.2f} USD\")"
   ]
  },
  {
   "cell_type": "code",
   "execution_count": 39,
   "metadata": {},
   "outputs": [
    {
     "name": "stdout",
     "output_type": "stream",
     "text": [
      "Whiskey In The Jar: 2\n",
      "The Unforgiven II: 2\n",
      "The House Jack Built: 2\n",
      "Stone Cold Crazy: 2\n",
      "Shoot Me Again: 2\n",
      "Phantom Lord: 2\n",
      "Nothing Else Matters: 2\n",
      "Motorbreath: 2\n",
      "Leper Messiah: 2\n",
      "For Whom The Bell Tolls: 2\n"
     ]
    }
   ],
   "source": [
    "# CUALES SON LOS TRACKS MAS POPULARES DE METALLICA?\n",
    "database_file = \".\\\\datafile\\\\chinook.db\"\n",
    "conn = sqlite3.connect(database_file)\n",
    "\n",
    "with conn:\n",
    "    cur = conn.cursor()\n",
    "    parameters = \"Metallica\"\n",
    "    sql = \"\"\"SELECT tracks.name, SUM(invoice_items.Quantity)\n",
    "             FROM artists \n",
    "                 JOIN albums \n",
    "                 JOIN tracks\n",
    "                 JOIN invoice_items\n",
    "             ON artists.ArtistId = albums.ArtistId \n",
    "                 AND albums.AlbumId = tracks.AlbumId\n",
    "                 AND tracks.TrackId = invoice_items.TrackId\n",
    "             WHERE artists.name = ?\n",
    "             GROUP BY tracks.name \n",
    "             ORDER BY SUM(invoice_items.Quantity) DESC\n",
    "             LIMIT 10\"\"\"\n",
    "    results = cur.execute(sql, (parameters,))\n",
    "    \n",
    "    for item in results:\n",
    "        print(f\"{item[0]}: {item[1]}\")"
   ]
  }
 ],
 "metadata": {
  "kernelspec": {
   "display_name": "Python 3 (ipykernel)",
   "language": "python",
   "name": "python3"
  },
  "language_info": {
   "codemirror_mode": {
    "name": "ipython",
    "version": 3
   },
   "file_extension": ".py",
   "mimetype": "text/x-python",
   "name": "python",
   "nbconvert_exporter": "python",
   "pygments_lexer": "ipython3",
   "version": "3.11.7"
  }
 },
 "nbformat": 4,
 "nbformat_minor": 4
}
